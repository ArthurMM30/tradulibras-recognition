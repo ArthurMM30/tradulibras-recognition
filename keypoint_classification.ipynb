{
 "cells": [
  {
   "cell_type": "code",
<<<<<<< HEAD
   "execution_count": 160,
=======
   "execution_count": 23,
>>>>>>> 485b231fcf8a566362e3b0cd7d8b6a522edf4f37
   "metadata": {},
   "outputs": [],
   "source": [
    "import csv\n",
    "\n",
    "import os\n",
    "import numpy as np\n",
    "import tensorflow as tf\n",
    "from sklearn.model_selection import train_test_split\n",
    "\n",
    "RANDOM_SEED = 42\n"
   ]
  },
  {
   "cell_type": "code",
<<<<<<< HEAD
   "execution_count": null,
=======
   "execution_count": 24,
>>>>>>> 485b231fcf8a566362e3b0cd7d8b6a522edf4f37
   "metadata": {},
   "outputs": [],
   "source": [
    "is_spelling_training = True"
   ]
  },
  {
   "cell_type": "markdown",
   "metadata": {},
   "source": [
    "# Especificando cada caminho"
   ]
  },
  {
   "cell_type": "code",
<<<<<<< HEAD
   "execution_count": 162,
   "metadata": {},
   "outputs": [],
   "source": [
    "folder_name = \"spelling_keypoint_classifier\" if is_spelling_training else \"sign_keypoint_classifier\"\n",
    "\n",
    "dataset = f'model/{folder_name}/keypoint.csv'\n",
    "model_save_path = f'model/{folder_name}/keypoint_classifier.keras'"
=======
   "execution_count": 25,
   "metadata": {},
   "outputs": [],
   "source": [
    "NUM_CLASSES = 9"
>>>>>>> 485b231fcf8a566362e3b0cd7d8b6a522edf4f37
   ]
  },
  {
   "cell_type": "markdown",
   "metadata": {},
   "source": [
    "# Número de CM's Classificadas"
   ]
  },
  {
   "cell_type": "code",
<<<<<<< HEAD
   "execution_count": 163,
   "metadata": {},
   "outputs": [],
   "source": [
    "with open(f'model/{folder_name}/keypoint_classifier_label.csv',\n",
    "        encoding='utf-8-sig') as f:\n",
    "    NUM_CLASSES = sum(1 for row in csv.reader(f))"
   ]
  },
  {
   "cell_type": "markdown",
   "metadata": {},
   "source": [
    "# Carregar dados de aprendizagem"
   ]
  },
  {
   "cell_type": "code",
   "execution_count": 164,
=======
   "execution_count": 26,
>>>>>>> 485b231fcf8a566362e3b0cd7d8b6a522edf4f37
   "metadata": {},
   "outputs": [],
   "source": [
    "X_dataset = np.loadtxt(\n",
    "    dataset, delimiter=',', dtype='float32', usecols=list(range(1, (21 * 2) + 1)))"
   ]
  },
  {
   "cell_type": "code",
<<<<<<< HEAD
   "execution_count": 165,
=======
   "execution_count": 27,
>>>>>>> 485b231fcf8a566362e3b0cd7d8b6a522edf4f37
   "metadata": {},
   "outputs": [],
   "source": [
    "y_dataset = np.loadtxt(\n",
    "    dataset, delimiter=',', dtype='int32', usecols=(0))"
   ]
  },
  {
   "cell_type": "code",
<<<<<<< HEAD
   "execution_count": 166,
=======
   "execution_count": 28,
>>>>>>> 485b231fcf8a566362e3b0cd7d8b6a522edf4f37
   "metadata": {},
   "outputs": [],
   "source": [
    "X_train, X_test, y_train, y_test = train_test_split(\n",
    "    X_dataset, y_dataset, train_size=0.75, random_state=RANDOM_SEED)"
   ]
  },
  {
   "cell_type": "markdown",
   "metadata": {},
   "source": [
    "# Construindo modelo"
   ]
  },
  {
   "cell_type": "code",
<<<<<<< HEAD
   "execution_count": 167,
=======
   "execution_count": 29,
>>>>>>> 485b231fcf8a566362e3b0cd7d8b6a522edf4f37
   "metadata": {},
   "outputs": [],
   "source": [
    "model = tf.keras.models.Sequential([\n",
    "    tf.keras.layers.Input((21 * 2, )),\n",
    "    tf.keras.layers.Dropout(0.2),\n",
    "    tf.keras.layers.Dense(20, activation='relu'),\n",
    "    tf.keras.layers.Dropout(0.4),\n",
    "    tf.keras.layers.Dense(10, activation='relu'),\n",
    "    tf.keras.layers.Dense(NUM_CLASSES, activation='softmax')\n",
    "])"
   ]
  },
  {
   "cell_type": "code",
<<<<<<< HEAD
   "execution_count": 168,
=======
   "execution_count": 30,
>>>>>>> 485b231fcf8a566362e3b0cd7d8b6a522edf4f37
   "metadata": {},
   "outputs": [
    {
     "data": {
      "text/html": [
<<<<<<< HEAD
       "<pre style=\"white-space:pre;overflow-x:auto;line-height:normal;font-family:Menlo,'DejaVu Sans Mono',consolas,'Courier New',monospace\"><span style=\"font-weight: bold\">Model: \"sequential_7\"</span>\n",
       "</pre>\n"
      ],
      "text/plain": [
       "\u001b[1mModel: \"sequential_7\"\u001b[0m\n"
=======
       "<pre style=\"white-space:pre;overflow-x:auto;line-height:normal;font-family:Menlo,'DejaVu Sans Mono',consolas,'Courier New',monospace\"><span style=\"font-weight: bold\">Model: \"sequential_1\"</span>\n",
       "</pre>\n"
      ],
      "text/plain": [
       "\u001b[1mModel: \"sequential_1\"\u001b[0m\n"
>>>>>>> 485b231fcf8a566362e3b0cd7d8b6a522edf4f37
      ]
     },
     "metadata": {},
     "output_type": "display_data"
    },
    {
     "data": {
      "text/html": [
       "<pre style=\"white-space:pre;overflow-x:auto;line-height:normal;font-family:Menlo,'DejaVu Sans Mono',consolas,'Courier New',monospace\">┏━━━━━━━━━━━━━━━━━━━━━━━━━━━━━━━━━┳━━━━━━━━━━━━━━━━━━━━━━━━┳━━━━━━━━━━━━━━━┓\n",
       "┃<span style=\"font-weight: bold\"> Layer (type)                    </span>┃<span style=\"font-weight: bold\"> Output Shape           </span>┃<span style=\"font-weight: bold\">       Param # </span>┃\n",
       "┡━━━━━━━━━━━━━━━━━━━━━━━━━━━━━━━━━╇━━━━━━━━━━━━━━━━━━━━━━━━╇━━━━━━━━━━━━━━━┩\n",
<<<<<<< HEAD
       "│ dropout_14 (<span style=\"color: #0087ff; text-decoration-color: #0087ff\">Dropout</span>)            │ (<span style=\"color: #00d7ff; text-decoration-color: #00d7ff\">None</span>, <span style=\"color: #00af00; text-decoration-color: #00af00\">42</span>)             │             <span style=\"color: #00af00; text-decoration-color: #00af00\">0</span> │\n",
       "├─────────────────────────────────┼────────────────────────┼───────────────┤\n",
       "│ dense_21 (<span style=\"color: #0087ff; text-decoration-color: #0087ff\">Dense</span>)                │ (<span style=\"color: #00d7ff; text-decoration-color: #00d7ff\">None</span>, <span style=\"color: #00af00; text-decoration-color: #00af00\">20</span>)             │           <span style=\"color: #00af00; text-decoration-color: #00af00\">860</span> │\n",
       "├─────────────────────────────────┼────────────────────────┼───────────────┤\n",
       "│ dropout_15 (<span style=\"color: #0087ff; text-decoration-color: #0087ff\">Dropout</span>)            │ (<span style=\"color: #00d7ff; text-decoration-color: #00d7ff\">None</span>, <span style=\"color: #00af00; text-decoration-color: #00af00\">20</span>)             │             <span style=\"color: #00af00; text-decoration-color: #00af00\">0</span> │\n",
       "├─────────────────────────────────┼────────────────────────┼───────────────┤\n",
       "│ dense_22 (<span style=\"color: #0087ff; text-decoration-color: #0087ff\">Dense</span>)                │ (<span style=\"color: #00d7ff; text-decoration-color: #00d7ff\">None</span>, <span style=\"color: #00af00; text-decoration-color: #00af00\">10</span>)             │           <span style=\"color: #00af00; text-decoration-color: #00af00\">210</span> │\n",
       "├─────────────────────────────────┼────────────────────────┼───────────────┤\n",
       "│ dense_23 (<span style=\"color: #0087ff; text-decoration-color: #0087ff\">Dense</span>)                │ (<span style=\"color: #00d7ff; text-decoration-color: #00d7ff\">None</span>, <span style=\"color: #00af00; text-decoration-color: #00af00\">8</span>)              │            <span style=\"color: #00af00; text-decoration-color: #00af00\">88</span> │\n",
=======
       "│ dropout_2 (<span style=\"color: #0087ff; text-decoration-color: #0087ff\">Dropout</span>)             │ (<span style=\"color: #00d7ff; text-decoration-color: #00d7ff\">None</span>, <span style=\"color: #00af00; text-decoration-color: #00af00\">42</span>)             │             <span style=\"color: #00af00; text-decoration-color: #00af00\">0</span> │\n",
       "├─────────────────────────────────┼────────────────────────┼───────────────┤\n",
       "│ dense_3 (<span style=\"color: #0087ff; text-decoration-color: #0087ff\">Dense</span>)                 │ (<span style=\"color: #00d7ff; text-decoration-color: #00d7ff\">None</span>, <span style=\"color: #00af00; text-decoration-color: #00af00\">20</span>)             │           <span style=\"color: #00af00; text-decoration-color: #00af00\">860</span> │\n",
       "├─────────────────────────────────┼────────────────────────┼───────────────┤\n",
       "│ dropout_3 (<span style=\"color: #0087ff; text-decoration-color: #0087ff\">Dropout</span>)             │ (<span style=\"color: #00d7ff; text-decoration-color: #00d7ff\">None</span>, <span style=\"color: #00af00; text-decoration-color: #00af00\">20</span>)             │             <span style=\"color: #00af00; text-decoration-color: #00af00\">0</span> │\n",
       "├─────────────────────────────────┼────────────────────────┼───────────────┤\n",
       "│ dense_4 (<span style=\"color: #0087ff; text-decoration-color: #0087ff\">Dense</span>)                 │ (<span style=\"color: #00d7ff; text-decoration-color: #00d7ff\">None</span>, <span style=\"color: #00af00; text-decoration-color: #00af00\">10</span>)             │           <span style=\"color: #00af00; text-decoration-color: #00af00\">210</span> │\n",
       "├─────────────────────────────────┼────────────────────────┼───────────────┤\n",
       "│ dense_5 (<span style=\"color: #0087ff; text-decoration-color: #0087ff\">Dense</span>)                 │ (<span style=\"color: #00d7ff; text-decoration-color: #00d7ff\">None</span>, <span style=\"color: #00af00; text-decoration-color: #00af00\">9</span>)              │            <span style=\"color: #00af00; text-decoration-color: #00af00\">99</span> │\n",
>>>>>>> 485b231fcf8a566362e3b0cd7d8b6a522edf4f37
       "└─────────────────────────────────┴────────────────────────┴───────────────┘\n",
       "</pre>\n"
      ],
      "text/plain": [
       "┏━━━━━━━━━━━━━━━━━━━━━━━━━━━━━━━━━┳━━━━━━━━━━━━━━━━━━━━━━━━┳━━━━━━━━━━━━━━━┓\n",
       "┃\u001b[1m \u001b[0m\u001b[1mLayer (type)                   \u001b[0m\u001b[1m \u001b[0m┃\u001b[1m \u001b[0m\u001b[1mOutput Shape          \u001b[0m\u001b[1m \u001b[0m┃\u001b[1m \u001b[0m\u001b[1m      Param #\u001b[0m\u001b[1m \u001b[0m┃\n",
       "┡━━━━━━━━━━━━━━━━━━━━━━━━━━━━━━━━━╇━━━━━━━━━━━━━━━━━━━━━━━━╇━━━━━━━━━━━━━━━┩\n",
<<<<<<< HEAD
       "│ dropout_14 (\u001b[38;5;33mDropout\u001b[0m)            │ (\u001b[38;5;45mNone\u001b[0m, \u001b[38;5;34m42\u001b[0m)             │             \u001b[38;5;34m0\u001b[0m │\n",
       "├─────────────────────────────────┼────────────────────────┼───────────────┤\n",
       "│ dense_21 (\u001b[38;5;33mDense\u001b[0m)                │ (\u001b[38;5;45mNone\u001b[0m, \u001b[38;5;34m20\u001b[0m)             │           \u001b[38;5;34m860\u001b[0m │\n",
       "├─────────────────────────────────┼────────────────────────┼───────────────┤\n",
       "│ dropout_15 (\u001b[38;5;33mDropout\u001b[0m)            │ (\u001b[38;5;45mNone\u001b[0m, \u001b[38;5;34m20\u001b[0m)             │             \u001b[38;5;34m0\u001b[0m │\n",
       "├─────────────────────────────────┼────────────────────────┼───────────────┤\n",
       "│ dense_22 (\u001b[38;5;33mDense\u001b[0m)                │ (\u001b[38;5;45mNone\u001b[0m, \u001b[38;5;34m10\u001b[0m)             │           \u001b[38;5;34m210\u001b[0m │\n",
       "├─────────────────────────────────┼────────────────────────┼───────────────┤\n",
       "│ dense_23 (\u001b[38;5;33mDense\u001b[0m)                │ (\u001b[38;5;45mNone\u001b[0m, \u001b[38;5;34m8\u001b[0m)              │            \u001b[38;5;34m88\u001b[0m │\n",
=======
       "│ dropout_2 (\u001b[38;5;33mDropout\u001b[0m)             │ (\u001b[38;5;45mNone\u001b[0m, \u001b[38;5;34m42\u001b[0m)             │             \u001b[38;5;34m0\u001b[0m │\n",
       "├─────────────────────────────────┼────────────────────────┼───────────────┤\n",
       "│ dense_3 (\u001b[38;5;33mDense\u001b[0m)                 │ (\u001b[38;5;45mNone\u001b[0m, \u001b[38;5;34m20\u001b[0m)             │           \u001b[38;5;34m860\u001b[0m │\n",
       "├─────────────────────────────────┼────────────────────────┼───────────────┤\n",
       "│ dropout_3 (\u001b[38;5;33mDropout\u001b[0m)             │ (\u001b[38;5;45mNone\u001b[0m, \u001b[38;5;34m20\u001b[0m)             │             \u001b[38;5;34m0\u001b[0m │\n",
       "├─────────────────────────────────┼────────────────────────┼───────────────┤\n",
       "│ dense_4 (\u001b[38;5;33mDense\u001b[0m)                 │ (\u001b[38;5;45mNone\u001b[0m, \u001b[38;5;34m10\u001b[0m)             │           \u001b[38;5;34m210\u001b[0m │\n",
       "├─────────────────────────────────┼────────────────────────┼───────────────┤\n",
       "│ dense_5 (\u001b[38;5;33mDense\u001b[0m)                 │ (\u001b[38;5;45mNone\u001b[0m, \u001b[38;5;34m9\u001b[0m)              │            \u001b[38;5;34m99\u001b[0m │\n",
>>>>>>> 485b231fcf8a566362e3b0cd7d8b6a522edf4f37
       "└─────────────────────────────────┴────────────────────────┴───────────────┘\n"
      ]
     },
     "metadata": {},
     "output_type": "display_data"
    },
    {
     "data": {
      "text/html": [
<<<<<<< HEAD
       "<pre style=\"white-space:pre;overflow-x:auto;line-height:normal;font-family:Menlo,'DejaVu Sans Mono',consolas,'Courier New',monospace\"><span style=\"font-weight: bold\"> Total params: </span><span style=\"color: #00af00; text-decoration-color: #00af00\">1,158</span> (4.52 KB)\n",
       "</pre>\n"
      ],
      "text/plain": [
       "\u001b[1m Total params: \u001b[0m\u001b[38;5;34m1,158\u001b[0m (4.52 KB)\n"
=======
       "<pre style=\"white-space:pre;overflow-x:auto;line-height:normal;font-family:Menlo,'DejaVu Sans Mono',consolas,'Courier New',monospace\"><span style=\"font-weight: bold\"> Total params: </span><span style=\"color: #00af00; text-decoration-color: #00af00\">1,169</span> (4.57 KB)\n",
       "</pre>\n"
      ],
      "text/plain": [
       "\u001b[1m Total params: \u001b[0m\u001b[38;5;34m1,169\u001b[0m (4.57 KB)\n"
>>>>>>> 485b231fcf8a566362e3b0cd7d8b6a522edf4f37
      ]
     },
     "metadata": {},
     "output_type": "display_data"
    },
    {
     "data": {
      "text/html": [
<<<<<<< HEAD
       "<pre style=\"white-space:pre;overflow-x:auto;line-height:normal;font-family:Menlo,'DejaVu Sans Mono',consolas,'Courier New',monospace\"><span style=\"font-weight: bold\"> Trainable params: </span><span style=\"color: #00af00; text-decoration-color: #00af00\">1,158</span> (4.52 KB)\n",
       "</pre>\n"
      ],
      "text/plain": [
       "\u001b[1m Trainable params: \u001b[0m\u001b[38;5;34m1,158\u001b[0m (4.52 KB)\n"
=======
       "<pre style=\"white-space:pre;overflow-x:auto;line-height:normal;font-family:Menlo,'DejaVu Sans Mono',consolas,'Courier New',monospace\"><span style=\"font-weight: bold\"> Trainable params: </span><span style=\"color: #00af00; text-decoration-color: #00af00\">1,169</span> (4.57 KB)\n",
       "</pre>\n"
      ],
      "text/plain": [
       "\u001b[1m Trainable params: \u001b[0m\u001b[38;5;34m1,169\u001b[0m (4.57 KB)\n"
>>>>>>> 485b231fcf8a566362e3b0cd7d8b6a522edf4f37
      ]
     },
     "metadata": {},
     "output_type": "display_data"
    },
    {
     "data": {
      "text/html": [
       "<pre style=\"white-space:pre;overflow-x:auto;line-height:normal;font-family:Menlo,'DejaVu Sans Mono',consolas,'Courier New',monospace\"><span style=\"font-weight: bold\"> Non-trainable params: </span><span style=\"color: #00af00; text-decoration-color: #00af00\">0</span> (0.00 B)\n",
       "</pre>\n"
      ],
      "text/plain": [
       "\u001b[1m Non-trainable params: \u001b[0m\u001b[38;5;34m0\u001b[0m (0.00 B)\n"
      ]
     },
     "metadata": {},
     "output_type": "display_data"
    }
   ],
   "source": [
    "model.summary()  # tf.keras.utils.plot_model(model, show_shapes=True)"
   ]
  },
  {
   "cell_type": "code",
<<<<<<< HEAD
   "execution_count": 169,
=======
   "execution_count": 31,
>>>>>>> 485b231fcf8a566362e3b0cd7d8b6a522edf4f37
   "metadata": {},
   "outputs": [],
   "source": [
    "# Callback de ponto de verificação do modelo\n",
    "cp_callback = tf.keras.callbacks.ModelCheckpoint(\n",
    "    model_save_path, verbose=1, save_weights_only=False)\n",
    "# Callback para interrupção antecipada\n",
    "es_callback = tf.keras.callbacks.EarlyStopping(patience=20, verbose=1)"
   ]
  },
  {
   "cell_type": "code",
<<<<<<< HEAD
   "execution_count": 170,
=======
   "execution_count": 32,
>>>>>>> 485b231fcf8a566362e3b0cd7d8b6a522edf4f37
   "metadata": {},
   "outputs": [],
   "source": [
    "# Compilação do modelo\n",
    "model.compile(\n",
    "    optimizer='adam',\n",
    "    loss='sparse_categorical_crossentropy',\n",
    "    metrics=['accuracy']\n",
    ")"
   ]
  },
  {
   "cell_type": "markdown",
   "metadata": {},
   "source": [
    "# Treinamento do Modelo"
   ]
  },
  {
   "cell_type": "code",
<<<<<<< HEAD
   "execution_count": 171,
=======
   "execution_count": 33,
>>>>>>> 485b231fcf8a566362e3b0cd7d8b6a522edf4f37
   "metadata": {
    "scrolled": true
   },
   "outputs": [
    {
     "name": "stdout",
     "output_type": "stream",
     "text": [
      "Epoch 1/1000\n",
<<<<<<< HEAD
      "\u001b[1m156/176\u001b[0m \u001b[32m━━━━━━━━━━━━━━━━━\u001b[0m\u001b[37m━━━\u001b[0m \u001b[1m0s\u001b[0m 2ms/step - accuracy: 0.1620 - loss: 2.1085\n",
      "Epoch 1: saving model to model/sign_keypoint_classifier/keypoint_classifier.keras\n",
      "\u001b[1m176/176\u001b[0m \u001b[32m━━━━━━━━━━━━━━━━━━━━\u001b[0m\u001b[37m\u001b[0m \u001b[1m3s\u001b[0m 4ms/step - accuracy: 0.1713 - loss: 2.0935 - val_accuracy: 0.6006 - val_loss: 1.5545\n",
      "Epoch 2/1000\n",
      "\u001b[1m172/176\u001b[0m \u001b[32m━━━━━━━━━━━━━━━━━━━\u001b[0m\u001b[37m━\u001b[0m \u001b[1m0s\u001b[0m 1ms/step - accuracy: 0.4513 - loss: 1.5803\n",
      "Epoch 2: saving model to model/sign_keypoint_classifier/keypoint_classifier.keras\n",
      "\u001b[1m176/176\u001b[0m \u001b[32m━━━━━━━━━━━━━━━━━━━━\u001b[0m\u001b[37m\u001b[0m \u001b[1m1s\u001b[0m 3ms/step - accuracy: 0.4522 - loss: 1.5772 - val_accuracy: 0.8799 - val_loss: 0.9310\n",
      "Epoch 3/1000\n",
      "\u001b[1m164/176\u001b[0m \u001b[32m━━━━━━━━━━━━━━━━━━\u001b[0m\u001b[37m━━\u001b[0m \u001b[1m0s\u001b[0m 2ms/step - accuracy: 0.5660 - loss: 1.2215\n",
      "Epoch 3: saving model to model/sign_keypoint_classifier/keypoint_classifier.keras\n",
      "\u001b[1m176/176\u001b[0m \u001b[32m━━━━━━━━━━━━━━━━━━━━\u001b[0m\u001b[37m\u001b[0m \u001b[1m1s\u001b[0m 3ms/step - accuracy: 0.5674 - loss: 1.2179 - val_accuracy: 0.9526 - val_loss: 0.6528\n",
      "Epoch 4/1000\n",
      "\u001b[1m157/176\u001b[0m \u001b[32m━━━━━━━━━━━━━━━━━\u001b[0m\u001b[37m━━━\u001b[0m \u001b[1m0s\u001b[0m 1ms/step - accuracy: 0.6261 - loss: 1.0447\n",
      "Epoch 4: saving model to model/sign_keypoint_classifier/keypoint_classifier.keras\n",
      "\u001b[1m176/176\u001b[0m \u001b[32m━━━━━━━━━━━━━━━━━━━━\u001b[0m\u001b[37m\u001b[0m \u001b[1m0s\u001b[0m 2ms/step - accuracy: 0.6279 - loss: 1.0407 - val_accuracy: 0.9719 - val_loss: 0.4928\n",
      "Epoch 5/1000\n",
      "\u001b[1m149/176\u001b[0m \u001b[32m━━━━━━━━━━━━━━━━\u001b[0m\u001b[37m━━━━\u001b[0m \u001b[1m0s\u001b[0m 1ms/step - accuracy: 0.6731 - loss: 0.9349\n",
      "Epoch 5: saving model to model/sign_keypoint_classifier/keypoint_classifier.keras\n",
      "\u001b[1m176/176\u001b[0m \u001b[32m━━━━━━━━━━━━━━━━━━━━\u001b[0m\u001b[37m\u001b[0m \u001b[1m0s\u001b[0m 2ms/step - accuracy: 0.6742 - loss: 0.9321 - val_accuracy: 0.9823 - val_loss: 0.4106\n",
      "Epoch 6/1000\n",
      "\u001b[1m168/176\u001b[0m \u001b[32m━━━━━━━━━━━━━━━━━━━\u001b[0m\u001b[37m━\u001b[0m \u001b[1m0s\u001b[0m 2ms/step - accuracy: 0.7021 - loss: 0.8524\n",
      "Epoch 6: saving model to model/sign_keypoint_classifier/keypoint_classifier.keras\n",
      "\u001b[1m176/176\u001b[0m \u001b[32m━━━━━━━━━━━━━━━━━━━━\u001b[0m\u001b[37m\u001b[0m \u001b[1m0s\u001b[0m 3ms/step - accuracy: 0.7022 - loss: 0.8519 - val_accuracy: 0.9803 - val_loss: 0.3552\n",
      "Epoch 7/1000\n",
      "\u001b[1m149/176\u001b[0m \u001b[32m━━━━━━━━━━━━━━━━\u001b[0m\u001b[37m━━━━\u001b[0m \u001b[1m0s\u001b[0m 1ms/step - accuracy: 0.7152 - loss: 0.8091\n",
      "Epoch 7: saving model to model/sign_keypoint_classifier/keypoint_classifier.keras\n",
      "\u001b[1m176/176\u001b[0m \u001b[32m━━━━━━━━━━━━━━━━━━━━\u001b[0m\u001b[37m\u001b[0m \u001b[1m1s\u001b[0m 3ms/step - accuracy: 0.7173 - loss: 0.8057 - val_accuracy: 0.9816 - val_loss: 0.3075\n",
      "Epoch 8/1000\n",
      "\u001b[1m175/176\u001b[0m \u001b[32m━━━━━━━━━━━━━━━━━━━\u001b[0m\u001b[37m━\u001b[0m \u001b[1m0s\u001b[0m 2ms/step - accuracy: 0.7305 - loss: 0.7661\n",
      "Epoch 8: saving model to model/sign_keypoint_classifier/keypoint_classifier.keras\n",
      "\u001b[1m176/176\u001b[0m \u001b[32m━━━━━━━━━━━━━━━━━━━━\u001b[0m\u001b[37m\u001b[0m \u001b[1m1s\u001b[0m 3ms/step - accuracy: 0.7306 - loss: 0.7660 - val_accuracy: 0.9815 - val_loss: 0.2827\n",
      "Epoch 9/1000\n",
      "\u001b[1m149/176\u001b[0m \u001b[32m━━━━━━━━━━━━━━━━\u001b[0m\u001b[37m━━━━\u001b[0m \u001b[1m0s\u001b[0m 1ms/step - accuracy: 0.7430 - loss: 0.7412\n",
      "Epoch 9: saving model to model/sign_keypoint_classifier/keypoint_classifier.keras\n",
      "\u001b[1m176/176\u001b[0m \u001b[32m━━━━━━━━━━━━━━━━━━━━\u001b[0m\u001b[37m\u001b[0m \u001b[1m0s\u001b[0m 2ms/step - accuracy: 0.7437 - loss: 0.7392 - val_accuracy: 0.9841 - val_loss: 0.2518\n",
      "Epoch 10/1000\n",
      "\u001b[1m150/176\u001b[0m \u001b[32m━━━━━━━━━━━━━━━━━\u001b[0m\u001b[37m━━━\u001b[0m \u001b[1m0s\u001b[0m 2ms/step - accuracy: 0.7541 - loss: 0.7027\n",
      "Epoch 10: saving model to model/sign_keypoint_classifier/keypoint_classifier.keras\n",
      "\u001b[1m176/176\u001b[0m \u001b[32m━━━━━━━━━━━━━━━━━━━━\u001b[0m\u001b[37m\u001b[0m \u001b[1m1s\u001b[0m 3ms/step - accuracy: 0.7547 - loss: 0.7011 - val_accuracy: 0.9811 - val_loss: 0.2306\n",
      "Epoch 11/1000\n",
      "\u001b[1m173/176\u001b[0m \u001b[32m━━━━━━━━━━━━━━━━━━━\u001b[0m\u001b[37m━\u001b[0m \u001b[1m0s\u001b[0m 1ms/step - accuracy: 0.7601 - loss: 0.6918\n",
      "Epoch 11: saving model to model/sign_keypoint_classifier/keypoint_classifier.keras\n",
      "\u001b[1m176/176\u001b[0m \u001b[32m━━━━━━━━━━━━━━━━━━━━\u001b[0m\u001b[37m\u001b[0m \u001b[1m1s\u001b[0m 3ms/step - accuracy: 0.7601 - loss: 0.6917 - val_accuracy: 0.9819 - val_loss: 0.2283\n",
      "Epoch 12/1000\n",
      "\u001b[1m149/176\u001b[0m \u001b[32m━━━━━━━━━━━━━━━━\u001b[0m\u001b[37m━━━━\u001b[0m \u001b[1m0s\u001b[0m 2ms/step - accuracy: 0.7717 - loss: 0.6657\n",
      "Epoch 12: saving model to model/sign_keypoint_classifier/keypoint_classifier.keras\n",
      "\u001b[1m176/176\u001b[0m \u001b[32m━━━━━━━━━━━━━━━━━━━━\u001b[0m\u001b[37m\u001b[0m \u001b[1m1s\u001b[0m 3ms/step - accuracy: 0.7713 - loss: 0.6664 - val_accuracy: 0.9855 - val_loss: 0.2207\n",
      "Epoch 13/1000\n",
      "\u001b[1m170/176\u001b[0m \u001b[32m━━━━━━━━━━━━━━━━━━━\u001b[0m\u001b[37m━\u001b[0m \u001b[1m0s\u001b[0m 2ms/step - accuracy: 0.7716 - loss: 0.6509\n",
      "Epoch 13: saving model to model/sign_keypoint_classifier/keypoint_classifier.keras\n",
      "\u001b[1m176/176\u001b[0m \u001b[32m━━━━━━━━━━━━━━━━━━━━\u001b[0m\u001b[37m\u001b[0m \u001b[1m1s\u001b[0m 3ms/step - accuracy: 0.7716 - loss: 0.6509 - val_accuracy: 0.9876 - val_loss: 0.2096\n",
      "Epoch 14/1000\n",
      "\u001b[1m162/176\u001b[0m \u001b[32m━━━━━━━━━━━━━━━━━━\u001b[0m\u001b[37m━━\u001b[0m \u001b[1m0s\u001b[0m 2ms/step - accuracy: 0.7763 - loss: 0.6364\n",
      "Epoch 14: saving model to model/sign_keypoint_classifier/keypoint_classifier.keras\n",
      "\u001b[1m176/176\u001b[0m \u001b[32m━━━━━━━━━━━━━━━━━━━━\u001b[0m\u001b[37m\u001b[0m \u001b[1m1s\u001b[0m 3ms/step - accuracy: 0.7765 - loss: 0.6365 - val_accuracy: 0.9861 - val_loss: 0.2096\n",
      "Epoch 15/1000\n",
      "\u001b[1m160/176\u001b[0m \u001b[32m━━━━━━━━━━━━━━━━━━\u001b[0m\u001b[37m━━\u001b[0m \u001b[1m0s\u001b[0m 2ms/step - accuracy: 0.7867 - loss: 0.6144\n",
      "Epoch 15: saving model to model/sign_keypoint_classifier/keypoint_classifier.keras\n",
      "\u001b[1m176/176\u001b[0m \u001b[32m━━━━━━━━━━━━━━━━━━━━\u001b[0m\u001b[37m\u001b[0m \u001b[1m1s\u001b[0m 3ms/step - accuracy: 0.7866 - loss: 0.6149 - val_accuracy: 0.9856 - val_loss: 0.2012\n",
      "Epoch 16/1000\n",
      "\u001b[1m156/176\u001b[0m \u001b[32m━━━━━━━━━━━━━━━━━\u001b[0m\u001b[37m━━━\u001b[0m \u001b[1m0s\u001b[0m 2ms/step - accuracy: 0.7854 - loss: 0.6147\n",
      "Epoch 16: saving model to model/sign_keypoint_classifier/keypoint_classifier.keras\n",
      "\u001b[1m176/176\u001b[0m \u001b[32m━━━━━━━━━━━━━━━━━━━━\u001b[0m\u001b[37m\u001b[0m \u001b[1m1s\u001b[0m 4ms/step - accuracy: 0.7850 - loss: 0.6154 - val_accuracy: 0.9865 - val_loss: 0.1836\n",
      "Epoch 17/1000\n",
      "\u001b[1m166/176\u001b[0m \u001b[32m━━━━━━━━━━━━━━━━━━\u001b[0m\u001b[37m━━\u001b[0m \u001b[1m0s\u001b[0m 2ms/step - accuracy: 0.7893 - loss: 0.6026\n",
      "Epoch 17: saving model to model/sign_keypoint_classifier/keypoint_classifier.keras\n",
      "\u001b[1m176/176\u001b[0m \u001b[32m━━━━━━━━━━━━━━━━━━━━\u001b[0m\u001b[37m\u001b[0m \u001b[1m1s\u001b[0m 3ms/step - accuracy: 0.7896 - loss: 0.6023 - val_accuracy: 0.9841 - val_loss: 0.1872\n",
      "Epoch 18/1000\n",
      "\u001b[1m169/176\u001b[0m \u001b[32m━━━━━━━━━━━━━━━━━━━\u001b[0m\u001b[37m━\u001b[0m \u001b[1m0s\u001b[0m 2ms/step - accuracy: 0.7959 - loss: 0.5863\n",
      "Epoch 18: saving model to model/sign_keypoint_classifier/keypoint_classifier.keras\n",
      "\u001b[1m176/176\u001b[0m \u001b[32m━━━━━━━━━━━━━━━━━━━━\u001b[0m\u001b[37m\u001b[0m \u001b[1m1s\u001b[0m 3ms/step - accuracy: 0.7960 - loss: 0.5862 - val_accuracy: 0.9859 - val_loss: 0.1755\n",
      "Epoch 19/1000\n",
      "\u001b[1m160/176\u001b[0m \u001b[32m━━━━━━━━━━━━━━━━━━\u001b[0m\u001b[37m━━\u001b[0m \u001b[1m0s\u001b[0m 2ms/step - accuracy: 0.8042 - loss: 0.5847\n",
      "Epoch 19: saving model to model/sign_keypoint_classifier/keypoint_classifier.keras\n",
      "\u001b[1m176/176\u001b[0m \u001b[32m━━━━━━━━━━━━━━━━━━━━\u001b[0m\u001b[37m\u001b[0m \u001b[1m1s\u001b[0m 5ms/step - accuracy: 0.8041 - loss: 0.5841 - val_accuracy: 0.9863 - val_loss: 0.1797\n",
      "Epoch 20/1000\n",
      "\u001b[1m168/176\u001b[0m \u001b[32m━━━━━━━━━━━━━━━━━━━\u001b[0m\u001b[37m━\u001b[0m \u001b[1m0s\u001b[0m 2ms/step - accuracy: 0.8047 - loss: 0.5697\n",
      "Epoch 20: saving model to model/sign_keypoint_classifier/keypoint_classifier.keras\n",
      "\u001b[1m176/176\u001b[0m \u001b[32m━━━━━━━━━━━━━━━━━━━━\u001b[0m\u001b[37m\u001b[0m \u001b[1m1s\u001b[0m 3ms/step - accuracy: 0.8047 - loss: 0.5696 - val_accuracy: 0.9856 - val_loss: 0.1742\n",
      "Epoch 21/1000\n",
      "\u001b[1m153/176\u001b[0m \u001b[32m━━━━━━━━━━━━━━━━━\u001b[0m\u001b[37m━━━\u001b[0m \u001b[1m0s\u001b[0m 3ms/step - accuracy: 0.7997 - loss: 0.5819\n",
      "Epoch 21: saving model to model/sign_keypoint_classifier/keypoint_classifier.keras\n",
      "\u001b[1m176/176\u001b[0m \u001b[32m━━━━━━━━━━━━━━━━━━━━\u001b[0m\u001b[37m\u001b[0m \u001b[1m1s\u001b[0m 4ms/step - accuracy: 0.8004 - loss: 0.5795 - val_accuracy: 0.9875 - val_loss: 0.1766\n",
      "Epoch 22/1000\n",
      "\u001b[1m159/176\u001b[0m \u001b[32m━━━━━━━━━━━━━━━━━━\u001b[0m\u001b[37m━━\u001b[0m \u001b[1m0s\u001b[0m 2ms/step - accuracy: 0.8168 - loss: 0.5510\n",
      "Epoch 22: saving model to model/sign_keypoint_classifier/keypoint_classifier.keras\n",
      "\u001b[1m176/176\u001b[0m \u001b[32m━━━━━━━━━━━━━━━━━━━━\u001b[0m\u001b[37m\u001b[0m \u001b[1m1s\u001b[0m 3ms/step - accuracy: 0.8168 - loss: 0.5507 - val_accuracy: 0.9860 - val_loss: 0.1834\n",
      "Epoch 23/1000\n",
      "\u001b[1m145/176\u001b[0m \u001b[32m━━━━━━━━━━━━━━━━\u001b[0m\u001b[37m━━━━\u001b[0m \u001b[1m0s\u001b[0m 1ms/step - accuracy: 0.8154 - loss: 0.5458\n",
      "Epoch 23: saving model to model/sign_keypoint_classifier/keypoint_classifier.keras\n",
      "\u001b[1m176/176\u001b[0m \u001b[32m━━━━━━━━━━━━━━━━━━━━\u001b[0m\u001b[37m\u001b[0m \u001b[1m0s\u001b[0m 3ms/step - accuracy: 0.8155 - loss: 0.5450 - val_accuracy: 0.9848 - val_loss: 0.1781\n",
      "Epoch 24/1000\n",
      "\u001b[1m162/176\u001b[0m \u001b[32m━━━━━━━━━━━━━━━━━━\u001b[0m\u001b[37m━━\u001b[0m \u001b[1m0s\u001b[0m 2ms/step - accuracy: 0.8143 - loss: 0.5392\n",
      "Epoch 24: saving model to model/sign_keypoint_classifier/keypoint_classifier.keras\n",
      "\u001b[1m176/176\u001b[0m \u001b[32m━━━━━━━━━━━━━━━━━━━━\u001b[0m\u001b[37m\u001b[0m \u001b[1m1s\u001b[0m 3ms/step - accuracy: 0.8143 - loss: 0.5399 - val_accuracy: 0.9835 - val_loss: 0.1953\n",
      "Epoch 25/1000\n",
      "\u001b[1m176/176\u001b[0m \u001b[32m━━━━━━━━━━━━━━━━━━━━\u001b[0m\u001b[37m\u001b[0m \u001b[1m0s\u001b[0m 1ms/step - accuracy: 0.8226 - loss: 0.5290\n",
      "Epoch 25: saving model to model/sign_keypoint_classifier/keypoint_classifier.keras\n",
      "\u001b[1m176/176\u001b[0m \u001b[32m━━━━━━━━━━━━━━━━━━━━\u001b[0m\u001b[37m\u001b[0m \u001b[1m1s\u001b[0m 3ms/step - accuracy: 0.8226 - loss: 0.5290 - val_accuracy: 0.9823 - val_loss: 0.1937\n",
      "Epoch 26/1000\n",
      "\u001b[1m158/176\u001b[0m \u001b[32m━━━━━━━━━━━━━━━━━\u001b[0m\u001b[37m━━━\u001b[0m \u001b[1m0s\u001b[0m 2ms/step - accuracy: 0.8171 - loss: 0.5478\n",
      "Epoch 26: saving model to model/sign_keypoint_classifier/keypoint_classifier.keras\n",
      "\u001b[1m176/176\u001b[0m \u001b[32m━━━━━━━━━━━━━━━━━━━━\u001b[0m\u001b[37m\u001b[0m \u001b[1m1s\u001b[0m 3ms/step - accuracy: 0.8170 - loss: 0.5469 - val_accuracy: 0.9852 - val_loss: 0.1924\n",
      "Epoch 27/1000\n",
      "\u001b[1m172/176\u001b[0m \u001b[32m━━━━━━━━━━━━━━━━━━━\u001b[0m\u001b[37m━\u001b[0m \u001b[1m0s\u001b[0m 2ms/step - accuracy: 0.8273 - loss: 0.5140\n",
      "Epoch 27: saving model to model/sign_keypoint_classifier/keypoint_classifier.keras\n",
      "\u001b[1m176/176\u001b[0m \u001b[32m━━━━━━━━━━━━━━━━━━━━\u001b[0m\u001b[37m\u001b[0m \u001b[1m1s\u001b[0m 3ms/step - accuracy: 0.8271 - loss: 0.5142 - val_accuracy: 0.9840 - val_loss: 0.1805\n",
      "Epoch 28/1000\n",
      "\u001b[1m162/176\u001b[0m \u001b[32m━━━━━━━━━━━━━━━━━━\u001b[0m\u001b[37m━━\u001b[0m \u001b[1m0s\u001b[0m 2ms/step - accuracy: 0.8261 - loss: 0.5302\n",
      "Epoch 28: saving model to model/sign_keypoint_classifier/keypoint_classifier.keras\n",
      "\u001b[1m176/176\u001b[0m \u001b[32m━━━━━━━━━━━━━━━━━━━━\u001b[0m\u001b[37m\u001b[0m \u001b[1m1s\u001b[0m 3ms/step - accuracy: 0.8262 - loss: 0.5293 - val_accuracy: 0.9845 - val_loss: 0.1760\n",
      "Epoch 29/1000\n",
      "\u001b[1m162/176\u001b[0m \u001b[32m━━━━━━━━━━━━━━━━━━\u001b[0m\u001b[37m━━\u001b[0m \u001b[1m0s\u001b[0m 2ms/step - accuracy: 0.8264 - loss: 0.5251\n",
      "Epoch 29: saving model to model/sign_keypoint_classifier/keypoint_classifier.keras\n",
      "\u001b[1m176/176\u001b[0m \u001b[32m━━━━━━━━━━━━━━━━━━━━\u001b[0m\u001b[37m\u001b[0m \u001b[1m0s\u001b[0m 3ms/step - accuracy: 0.8266 - loss: 0.5240 - val_accuracy: 0.9819 - val_loss: 0.1908\n",
      "Epoch 30/1000\n",
      "\u001b[1m154/176\u001b[0m \u001b[32m━━━━━━━━━━━━━━━━━\u001b[0m\u001b[37m━━━\u001b[0m \u001b[1m0s\u001b[0m 2ms/step - accuracy: 0.8315 - loss: 0.4975\n",
      "Epoch 30: saving model to model/sign_keypoint_classifier/keypoint_classifier.keras\n",
      "\u001b[1m176/176\u001b[0m \u001b[32m━━━━━━━━━━━━━━━━━━━━\u001b[0m\u001b[37m\u001b[0m \u001b[1m0s\u001b[0m 3ms/step - accuracy: 0.8313 - loss: 0.4985 - val_accuracy: 0.9797 - val_loss: 0.1989\n",
      "Epoch 31/1000\n",
      "\u001b[1m153/176\u001b[0m \u001b[32m━━━━━━━━━━━━━━━━━\u001b[0m\u001b[37m━━━\u001b[0m \u001b[1m0s\u001b[0m 1ms/step - accuracy: 0.8261 - loss: 0.5128\n",
      "Epoch 31: saving model to model/sign_keypoint_classifier/keypoint_classifier.keras\n",
      "\u001b[1m176/176\u001b[0m \u001b[32m━━━━━━━━━━━━━━━━━━━━\u001b[0m\u001b[37m\u001b[0m \u001b[1m0s\u001b[0m 2ms/step - accuracy: 0.8265 - loss: 0.5124 - val_accuracy: 0.9893 - val_loss: 0.1701\n",
      "Epoch 32/1000\n",
      "\u001b[1m159/176\u001b[0m \u001b[32m━━━━━━━━━━━━━━━━━━\u001b[0m\u001b[37m━━\u001b[0m \u001b[1m0s\u001b[0m 1ms/step - accuracy: 0.8292 - loss: 0.4987\n",
      "Epoch 32: saving model to model/sign_keypoint_classifier/keypoint_classifier.keras\n",
      "\u001b[1m176/176\u001b[0m \u001b[32m━━━━━━━━━━━━━━━━━━━━\u001b[0m\u001b[37m\u001b[0m \u001b[1m0s\u001b[0m 2ms/step - accuracy: 0.8294 - loss: 0.4990 - val_accuracy: 0.9879 - val_loss: 0.1792\n",
      "Epoch 33/1000\n",
      "\u001b[1m159/176\u001b[0m \u001b[32m━━━━━━━━━━━━━━━━━━\u001b[0m\u001b[37m━━\u001b[0m \u001b[1m0s\u001b[0m 1ms/step - accuracy: 0.8362 - loss: 0.4850\n",
      "Epoch 33: saving model to model/sign_keypoint_classifier/keypoint_classifier.keras\n",
      "\u001b[1m176/176\u001b[0m \u001b[32m━━━━━━━━━━━━━━━━━━━━\u001b[0m\u001b[37m\u001b[0m \u001b[1m0s\u001b[0m 2ms/step - accuracy: 0.8361 - loss: 0.4855 - val_accuracy: 0.9813 - val_loss: 0.1878\n",
      "Epoch 34/1000\n",
      "\u001b[1m135/176\u001b[0m \u001b[32m━━━━━━━━━━━━━━━\u001b[0m\u001b[37m━━━━━\u001b[0m \u001b[1m0s\u001b[0m 2ms/step - accuracy: 0.8349 - loss: 0.5024\n",
      "Epoch 34: saving model to model/sign_keypoint_classifier/keypoint_classifier.keras\n",
      "\u001b[1m176/176\u001b[0m \u001b[32m━━━━━━━━━━━━━━━━━━━━\u001b[0m\u001b[37m\u001b[0m \u001b[1m0s\u001b[0m 2ms/step - accuracy: 0.8352 - loss: 0.5002 - val_accuracy: 0.9801 - val_loss: 0.1816\n",
      "Epoch 35/1000\n",
      "\u001b[1m162/176\u001b[0m \u001b[32m━━━━━━━━━━━━━━━━━━\u001b[0m\u001b[37m━━\u001b[0m \u001b[1m0s\u001b[0m 2ms/step - accuracy: 0.8324 - loss: 0.5001\n",
      "Epoch 35: saving model to model/sign_keypoint_classifier/keypoint_classifier.keras\n",
      "\u001b[1m176/176\u001b[0m \u001b[32m━━━━━━━━━━━━━━━━━━━━\u001b[0m\u001b[37m\u001b[0m \u001b[1m0s\u001b[0m 3ms/step - accuracy: 0.8328 - loss: 0.4991 - val_accuracy: 0.9827 - val_loss: 0.1987\n",
      "Epoch 36/1000\n",
      "\u001b[1m162/176\u001b[0m \u001b[32m━━━━━━━━━━━━━━━━━━\u001b[0m\u001b[37m━━\u001b[0m \u001b[1m0s\u001b[0m 1ms/step - accuracy: 0.8363 - loss: 0.4786\n",
      "Epoch 36: saving model to model/sign_keypoint_classifier/keypoint_classifier.keras\n",
      "\u001b[1m176/176\u001b[0m \u001b[32m━━━━━━━━━━━━━━━━━━━━\u001b[0m\u001b[37m\u001b[0m \u001b[1m0s\u001b[0m 2ms/step - accuracy: 0.8363 - loss: 0.4788 - val_accuracy: 0.9795 - val_loss: 0.1921\n",
      "Epoch 37/1000\n",
      "\u001b[1m165/176\u001b[0m \u001b[32m━━━━━━━━━━━━━━━━━━\u001b[0m\u001b[37m━━\u001b[0m \u001b[1m0s\u001b[0m 1ms/step - accuracy: 0.8335 - loss: 0.4913\n",
      "Epoch 37: saving model to model/sign_keypoint_classifier/keypoint_classifier.keras\n",
      "\u001b[1m176/176\u001b[0m \u001b[32m━━━━━━━━━━━━━━━━━━━━\u001b[0m\u001b[37m\u001b[0m \u001b[1m0s\u001b[0m 2ms/step - accuracy: 0.8337 - loss: 0.4906 - val_accuracy: 0.9856 - val_loss: 0.1878\n",
      "Epoch 38/1000\n",
      "\u001b[1m158/176\u001b[0m \u001b[32m━━━━━━━━━━━━━━━━━\u001b[0m\u001b[37m━━━\u001b[0m \u001b[1m0s\u001b[0m 2ms/step - accuracy: 0.8386 - loss: 0.4763\n",
      "Epoch 38: saving model to model/sign_keypoint_classifier/keypoint_classifier.keras\n",
      "\u001b[1m176/176\u001b[0m \u001b[32m━━━━━━━━━━━━━━━━━━━━\u001b[0m\u001b[37m\u001b[0m \u001b[1m0s\u001b[0m 2ms/step - accuracy: 0.8385 - loss: 0.4770 - val_accuracy: 0.9820 - val_loss: 0.1835\n",
      "Epoch 39/1000\n",
      "\u001b[1m141/176\u001b[0m \u001b[32m━━━━━━━━━━━━━━━━\u001b[0m\u001b[37m━━━━\u001b[0m \u001b[1m0s\u001b[0m 1ms/step - accuracy: 0.8432 - loss: 0.4686\n",
      "Epoch 39: saving model to model/sign_keypoint_classifier/keypoint_classifier.keras\n",
      "\u001b[1m176/176\u001b[0m \u001b[32m━━━━━━━━━━━━━━━━━━━━\u001b[0m\u001b[37m\u001b[0m \u001b[1m0s\u001b[0m 2ms/step - accuracy: 0.8431 - loss: 0.4688 - val_accuracy: 0.9832 - val_loss: 0.1747\n",
      "Epoch 40/1000\n",
      "\u001b[1m164/176\u001b[0m \u001b[32m━━━━━━━━━━━━━━━━━━\u001b[0m\u001b[37m━━\u001b[0m \u001b[1m0s\u001b[0m 1ms/step - accuracy: 0.8386 - loss: 0.4829\n",
      "Epoch 40: saving model to model/sign_keypoint_classifier/keypoint_classifier.keras\n",
      "\u001b[1m176/176\u001b[0m \u001b[32m━━━━━━━━━━━━━━━━━━━━\u001b[0m\u001b[37m\u001b[0m \u001b[1m0s\u001b[0m 2ms/step - accuracy: 0.8389 - loss: 0.4818 - val_accuracy: 0.9795 - val_loss: 0.1821\n",
      "Epoch 41/1000\n",
      "\u001b[1m166/176\u001b[0m \u001b[32m━━━━━━━━━━━━━━━━━━\u001b[0m\u001b[37m━━\u001b[0m \u001b[1m0s\u001b[0m 2ms/step - accuracy: 0.8464 - loss: 0.4664\n",
      "Epoch 41: saving model to model/sign_keypoint_classifier/keypoint_classifier.keras\n",
      "\u001b[1m176/176\u001b[0m \u001b[32m━━━━━━━━━━━━━━━━━━━━\u001b[0m\u001b[37m\u001b[0m \u001b[1m1s\u001b[0m 3ms/step - accuracy: 0.8463 - loss: 0.4665 - val_accuracy: 0.9825 - val_loss: 0.1730\n",
      "Epoch 42/1000\n",
      "\u001b[1m144/176\u001b[0m \u001b[32m━━━━━━━━━━━━━━━━\u001b[0m\u001b[37m━━━━\u001b[0m \u001b[1m0s\u001b[0m 2ms/step - accuracy: 0.8460 - loss: 0.4566\n",
      "Epoch 42: saving model to model/sign_keypoint_classifier/keypoint_classifier.keras\n",
      "\u001b[1m176/176\u001b[0m \u001b[32m━━━━━━━━━━━━━━━━━━━━\u001b[0m\u001b[37m\u001b[0m \u001b[1m0s\u001b[0m 3ms/step - accuracy: 0.8457 - loss: 0.4583 - val_accuracy: 0.9807 - val_loss: 0.1893\n",
      "Epoch 43/1000\n",
      "\u001b[1m145/176\u001b[0m \u001b[32m━━━━━━━━━━━━━━━━\u001b[0m\u001b[37m━━━━\u001b[0m \u001b[1m0s\u001b[0m 2ms/step - accuracy: 0.8415 - loss: 0.4635\n",
      "Epoch 43: saving model to model/sign_keypoint_classifier/keypoint_classifier.keras\n",
      "\u001b[1m176/176\u001b[0m \u001b[32m━━━━━━━━━━━━━━━━━━━━\u001b[0m\u001b[37m\u001b[0m \u001b[1m1s\u001b[0m 3ms/step - accuracy: 0.8420 - loss: 0.4638 - val_accuracy: 0.9893 - val_loss: 0.1731\n",
      "Epoch 44/1000\n",
      "\u001b[1m171/176\u001b[0m \u001b[32m━━━━━━━━━━━━━━━━━━━\u001b[0m\u001b[37m━\u001b[0m \u001b[1m0s\u001b[0m 2ms/step - accuracy: 0.8447 - loss: 0.4702\n",
      "Epoch 44: saving model to model/sign_keypoint_classifier/keypoint_classifier.keras\n",
      "\u001b[1m176/176\u001b[0m \u001b[32m━━━━━━━━━━━━━━━━━━━━\u001b[0m\u001b[37m\u001b[0m \u001b[1m1s\u001b[0m 3ms/step - accuracy: 0.8447 - loss: 0.4700 - val_accuracy: 0.9849 - val_loss: 0.2035\n",
      "Epoch 45/1000\n",
      "\u001b[1m169/176\u001b[0m \u001b[32m━━━━━━━━━━━━━━━━━━━\u001b[0m\u001b[37m━\u001b[0m \u001b[1m0s\u001b[0m 2ms/step - accuracy: 0.8460 - loss: 0.4567\n",
      "Epoch 45: saving model to model/sign_keypoint_classifier/keypoint_classifier.keras\n",
      "\u001b[1m176/176\u001b[0m \u001b[32m━━━━━━━━━━━━━━━━━━━━\u001b[0m\u001b[37m\u001b[0m \u001b[1m1s\u001b[0m 3ms/step - accuracy: 0.8460 - loss: 0.4567 - val_accuracy: 0.9780 - val_loss: 0.1971\n",
      "Epoch 46/1000\n",
      "\u001b[1m165/176\u001b[0m \u001b[32m━━━━━━━━━━━━━━━━━━\u001b[0m\u001b[37m━━\u001b[0m \u001b[1m0s\u001b[0m 2ms/step - accuracy: 0.8527 - loss: 0.4332\n",
      "Epoch 46: saving model to model/sign_keypoint_classifier/keypoint_classifier.keras\n",
      "\u001b[1m176/176\u001b[0m \u001b[32m━━━━━━━━━━━━━━━━━━━━\u001b[0m\u001b[37m\u001b[0m \u001b[1m1s\u001b[0m 3ms/step - accuracy: 0.8526 - loss: 0.4338 - val_accuracy: 0.9816 - val_loss: 0.1863\n",
      "Epoch 47/1000\n",
      "\u001b[1m163/176\u001b[0m \u001b[32m━━━━━━━━━━━━━━━━━━\u001b[0m\u001b[37m━━\u001b[0m \u001b[1m0s\u001b[0m 2ms/step - accuracy: 0.8507 - loss: 0.4583\n",
      "Epoch 47: saving model to model/sign_keypoint_classifier/keypoint_classifier.keras\n",
      "\u001b[1m176/176\u001b[0m \u001b[32m━━━━━━━━━━━━━━━━━━━━\u001b[0m\u001b[37m\u001b[0m \u001b[1m1s\u001b[0m 3ms/step - accuracy: 0.8508 - loss: 0.4573 - val_accuracy: 0.9865 - val_loss: 0.1773\n",
      "Epoch 48/1000\n",
      "\u001b[1m147/176\u001b[0m \u001b[32m━━━━━━━━━━━━━━━━\u001b[0m\u001b[37m━━━━\u001b[0m \u001b[1m0s\u001b[0m 1ms/step - accuracy: 0.8467 - loss: 0.4587\n",
      "Epoch 48: saving model to model/sign_keypoint_classifier/keypoint_classifier.keras\n",
      "\u001b[1m176/176\u001b[0m \u001b[32m━━━━━━━━━━━━━━━━━━━━\u001b[0m\u001b[37m\u001b[0m \u001b[1m0s\u001b[0m 2ms/step - accuracy: 0.8472 - loss: 0.4576 - val_accuracy: 0.9800 - val_loss: 0.1970\n",
      "Epoch 49/1000\n",
      "\u001b[1m170/176\u001b[0m \u001b[32m━━━━━━━━━━━━━━━━━━━\u001b[0m\u001b[37m━\u001b[0m \u001b[1m0s\u001b[0m 2ms/step - accuracy: 0.8563 - loss: 0.4361\n",
      "Epoch 49: saving model to model/sign_keypoint_classifier/keypoint_classifier.keras\n",
      "\u001b[1m176/176\u001b[0m \u001b[32m━━━━━━━━━━━━━━━━━━━━\u001b[0m\u001b[37m\u001b[0m \u001b[1m1s\u001b[0m 3ms/step - accuracy: 0.8563 - loss: 0.4361 - val_accuracy: 0.9843 - val_loss: 0.1821\n",
      "Epoch 50/1000\n",
      "\u001b[1m147/176\u001b[0m \u001b[32m━━━━━━━━━━━━━━━━\u001b[0m\u001b[37m━━━━\u001b[0m \u001b[1m0s\u001b[0m 1ms/step - accuracy: 0.8489 - loss: 0.4464\n",
      "Epoch 50: saving model to model/sign_keypoint_classifier/keypoint_classifier.keras\n",
      "\u001b[1m176/176\u001b[0m \u001b[32m━━━━━━━━━━━━━━━━━━━━\u001b[0m\u001b[37m\u001b[0m \u001b[1m1s\u001b[0m 3ms/step - accuracy: 0.8488 - loss: 0.4464 - val_accuracy: 0.9849 - val_loss: 0.1853\n",
      "Epoch 51/1000\n",
      "\u001b[1m159/176\u001b[0m \u001b[32m━━━━━━━━━━━━━━━━━━\u001b[0m\u001b[37m━━\u001b[0m \u001b[1m0s\u001b[0m 2ms/step - accuracy: 0.8474 - loss: 0.4559\n",
      "Epoch 51: saving model to model/sign_keypoint_classifier/keypoint_classifier.keras\n",
      "\u001b[1m176/176\u001b[0m \u001b[32m━━━━━━━━━━━━━━━━━━━━\u001b[0m\u001b[37m\u001b[0m \u001b[1m1s\u001b[0m 3ms/step - accuracy: 0.8476 - loss: 0.4555 - val_accuracy: 0.9769 - val_loss: 0.2026\n",
      "Epoch 51: early stopping\n"
=======
      "\u001b[1m191/191\u001b[0m \u001b[32m━━━━━━━━━━━━━━━━━━━━\u001b[0m\u001b[37m\u001b[0m \u001b[1m0s\u001b[0m 2ms/step - accuracy: 0.1996 - loss: 2.1212\n",
      "Epoch 1: saving model to model/keypoint_classifier/keypoint_classifier.keras\n",
      "\u001b[1m191/191\u001b[0m \u001b[32m━━━━━━━━━━━━━━━━━━━━\u001b[0m\u001b[37m\u001b[0m \u001b[1m1s\u001b[0m 3ms/step - accuracy: 0.2001 - loss: 2.1203 - val_accuracy: 0.6628 - val_loss: 1.4542\n",
      "Epoch 2/1000\n",
      "\u001b[1m180/191\u001b[0m \u001b[32m━━━━━━━━━━━━━━━━━━\u001b[0m\u001b[37m━━\u001b[0m \u001b[1m0s\u001b[0m 1ms/step - accuracy: 0.4516 - loss: 1.5215\n",
      "Epoch 2: saving model to model/keypoint_classifier/keypoint_classifier.keras\n",
      "\u001b[1m191/191\u001b[0m \u001b[32m━━━━━━━━━━━━━━━━━━━━\u001b[0m\u001b[37m\u001b[0m \u001b[1m0s\u001b[0m 2ms/step - accuracy: 0.4534 - loss: 1.5160 - val_accuracy: 0.8076 - val_loss: 0.9539\n",
      "Epoch 3/1000\n",
      "\u001b[1m168/191\u001b[0m \u001b[32m━━━━━━━━━━━━━━━━━\u001b[0m\u001b[37m━━━\u001b[0m \u001b[1m0s\u001b[0m 1ms/step - accuracy: 0.5583 - loss: 1.2061\n",
      "Epoch 3: saving model to model/keypoint_classifier/keypoint_classifier.keras\n",
      "\u001b[1m191/191\u001b[0m \u001b[32m━━━━━━━━━━━━━━━━━━━━\u001b[0m\u001b[37m\u001b[0m \u001b[1m0s\u001b[0m 2ms/step - accuracy: 0.5601 - loss: 1.2004 - val_accuracy: 0.8436 - val_loss: 0.7332\n",
      "Epoch 4/1000\n",
      "\u001b[1m190/191\u001b[0m \u001b[32m━━━━━━━━━━━━━━━━━━━\u001b[0m\u001b[37m━\u001b[0m \u001b[1m0s\u001b[0m 1ms/step - accuracy: 0.6232 - loss: 1.0354\n",
      "Epoch 4: saving model to model/keypoint_classifier/keypoint_classifier.keras\n",
      "\u001b[1m191/191\u001b[0m \u001b[32m━━━━━━━━━━━━━━━━━━━━\u001b[0m\u001b[37m\u001b[0m \u001b[1m0s\u001b[0m 2ms/step - accuracy: 0.6233 - loss: 1.0352 - val_accuracy: 0.8527 - val_loss: 0.6136\n",
      "Epoch 5/1000\n",
      "\u001b[1m168/191\u001b[0m \u001b[32m━━━━━━━━━━━━━━━━━\u001b[0m\u001b[37m━━━\u001b[0m \u001b[1m0s\u001b[0m 1ms/step - accuracy: 0.6513 - loss: 0.9628\n",
      "Epoch 5: saving model to model/keypoint_classifier/keypoint_classifier.keras\n",
      "\u001b[1m191/191\u001b[0m \u001b[32m━━━━━━━━━━━━━━━━━━━━\u001b[0m\u001b[37m\u001b[0m \u001b[1m0s\u001b[0m 2ms/step - accuracy: 0.6522 - loss: 0.9599 - val_accuracy: 0.9073 - val_loss: 0.5363\n",
      "Epoch 6/1000\n",
      "\u001b[1m173/191\u001b[0m \u001b[32m━━━━━━━━━━━━━━━━━━\u001b[0m\u001b[37m━━\u001b[0m \u001b[1m0s\u001b[0m 1ms/step - accuracy: 0.6827 - loss: 0.8763\n",
      "Epoch 6: saving model to model/keypoint_classifier/keypoint_classifier.keras\n",
      "\u001b[1m191/191\u001b[0m \u001b[32m━━━━━━━━━━━━━━━━━━━━\u001b[0m\u001b[37m\u001b[0m \u001b[1m0s\u001b[0m 2ms/step - accuracy: 0.6823 - loss: 0.8766 - val_accuracy: 0.9508 - val_loss: 0.4779\n",
      "Epoch 7/1000\n",
      "\u001b[1m167/191\u001b[0m \u001b[32m━━━━━━━━━━━━━━━━━\u001b[0m\u001b[37m━━━\u001b[0m \u001b[1m0s\u001b[0m 2ms/step - accuracy: 0.6952 - loss: 0.8483\n",
      "Epoch 7: saving model to model/keypoint_classifier/keypoint_classifier.keras\n",
      "\u001b[1m191/191\u001b[0m \u001b[32m━━━━━━━━━━━━━━━━━━━━\u001b[0m\u001b[37m\u001b[0m \u001b[1m0s\u001b[0m 2ms/step - accuracy: 0.6957 - loss: 0.8466 - val_accuracy: 0.9431 - val_loss: 0.4351\n",
      "Epoch 8/1000\n",
      "\u001b[1m163/191\u001b[0m \u001b[32m━━━━━━━━━━━━━━━━━\u001b[0m\u001b[37m━━━\u001b[0m \u001b[1m0s\u001b[0m 2ms/step - accuracy: 0.7055 - loss: 0.8085\n",
      "Epoch 8: saving model to model/keypoint_classifier/keypoint_classifier.keras\n",
      "\u001b[1m191/191\u001b[0m \u001b[32m━━━━━━━━━━━━━━━━━━━━\u001b[0m\u001b[37m\u001b[0m \u001b[1m0s\u001b[0m 2ms/step - accuracy: 0.7070 - loss: 0.8063 - val_accuracy: 0.9634 - val_loss: 0.3903\n",
      "Epoch 9/1000\n",
      "\u001b[1m141/191\u001b[0m \u001b[32m━━━━━━━━━━━━━━\u001b[0m\u001b[37m━━━━━━\u001b[0m \u001b[1m0s\u001b[0m 1ms/step - accuracy: 0.7210 - loss: 0.7702\n",
      "Epoch 9: saving model to model/keypoint_classifier/keypoint_classifier.keras\n",
      "\u001b[1m191/191\u001b[0m \u001b[32m━━━━━━━━━━━━━━━━━━━━\u001b[0m\u001b[37m\u001b[0m \u001b[1m0s\u001b[0m 2ms/step - accuracy: 0.7228 - loss: 0.7684 - val_accuracy: 0.9678 - val_loss: 0.3645\n",
      "Epoch 10/1000\n",
      "\u001b[1m189/191\u001b[0m \u001b[32m━━━━━━━━━━━━━━━━━━━\u001b[0m\u001b[37m━\u001b[0m \u001b[1m0s\u001b[0m 1ms/step - accuracy: 0.7450 - loss: 0.7370\n",
      "Epoch 10: saving model to model/keypoint_classifier/keypoint_classifier.keras\n",
      "\u001b[1m191/191\u001b[0m \u001b[32m━━━━━━━━━━━━━━━━━━━━\u001b[0m\u001b[37m\u001b[0m \u001b[1m0s\u001b[0m 2ms/step - accuracy: 0.7450 - loss: 0.7370 - val_accuracy: 0.9648 - val_loss: 0.3370\n",
      "Epoch 11/1000\n",
      "\u001b[1m163/191\u001b[0m \u001b[32m━━━━━━━━━━━━━━━━━\u001b[0m\u001b[37m━━━\u001b[0m \u001b[1m0s\u001b[0m 1ms/step - accuracy: 0.7495 - loss: 0.7198\n",
      "Epoch 11: saving model to model/keypoint_classifier/keypoint_classifier.keras\n",
      "\u001b[1m191/191\u001b[0m \u001b[32m━━━━━━━━━━━━━━━━━━━━\u001b[0m\u001b[37m\u001b[0m \u001b[1m0s\u001b[0m 2ms/step - accuracy: 0.7490 - loss: 0.7197 - val_accuracy: 0.9709 - val_loss: 0.3235\n",
      "Epoch 12/1000\n",
      "\u001b[1m176/191\u001b[0m \u001b[32m━━━━━━━━━━━━━━━━━━\u001b[0m\u001b[37m━━\u001b[0m \u001b[1m0s\u001b[0m 1ms/step - accuracy: 0.7476 - loss: 0.7158\n",
      "Epoch 12: saving model to model/keypoint_classifier/keypoint_classifier.keras\n",
      "\u001b[1m191/191\u001b[0m \u001b[32m━━━━━━━━━━━━━━━━━━━━\u001b[0m\u001b[37m\u001b[0m \u001b[1m0s\u001b[0m 2ms/step - accuracy: 0.7480 - loss: 0.7150 - val_accuracy: 0.9729 - val_loss: 0.3034\n",
      "Epoch 13/1000\n",
      "\u001b[1m179/191\u001b[0m \u001b[32m━━━━━━━━━━━━━━━━━━\u001b[0m\u001b[37m━━\u001b[0m \u001b[1m0s\u001b[0m 1ms/step - accuracy: 0.7578 - loss: 0.6925\n",
      "Epoch 13: saving model to model/keypoint_classifier/keypoint_classifier.keras\n",
      "\u001b[1m191/191\u001b[0m \u001b[32m━━━━━━━━━━━━━━━━━━━━\u001b[0m\u001b[37m\u001b[0m \u001b[1m0s\u001b[0m 2ms/step - accuracy: 0.7577 - loss: 0.6924 - val_accuracy: 0.9706 - val_loss: 0.3045\n",
      "Epoch 14/1000\n",
      "\u001b[1m167/191\u001b[0m \u001b[32m━━━━━━━━━━━━━━━━━\u001b[0m\u001b[37m━━━\u001b[0m \u001b[1m0s\u001b[0m 1ms/step - accuracy: 0.7636 - loss: 0.6820\n",
      "Epoch 14: saving model to model/keypoint_classifier/keypoint_classifier.keras\n",
      "\u001b[1m191/191\u001b[0m \u001b[32m━━━━━━━━━━━━━━━━━━━━\u001b[0m\u001b[37m\u001b[0m \u001b[1m0s\u001b[0m 2ms/step - accuracy: 0.7633 - loss: 0.6819 - val_accuracy: 0.9756 - val_loss: 0.2812\n",
      "Epoch 15/1000\n",
      "\u001b[1m147/191\u001b[0m \u001b[32m━━━━━━━━━━━━━━━\u001b[0m\u001b[37m━━━━━\u001b[0m \u001b[1m0s\u001b[0m 1ms/step - accuracy: 0.7645 - loss: 0.6734\n",
      "Epoch 15: saving model to model/keypoint_classifier/keypoint_classifier.keras\n",
      "\u001b[1m191/191\u001b[0m \u001b[32m━━━━━━━━━━━━━━━━━━━━\u001b[0m\u001b[37m\u001b[0m \u001b[1m0s\u001b[0m 2ms/step - accuracy: 0.7651 - loss: 0.6723 - val_accuracy: 0.9745 - val_loss: 0.2712\n",
      "Epoch 16/1000\n",
      "\u001b[1m187/191\u001b[0m \u001b[32m━━━━━━━━━━━━━━━━━━━\u001b[0m\u001b[37m━\u001b[0m \u001b[1m0s\u001b[0m 1ms/step - accuracy: 0.7680 - loss: 0.6552\n",
      "Epoch 16: saving model to model/keypoint_classifier/keypoint_classifier.keras\n",
      "\u001b[1m191/191\u001b[0m \u001b[32m━━━━━━━━━━━━━━━━━━━━\u001b[0m\u001b[37m\u001b[0m \u001b[1m0s\u001b[0m 2ms/step - accuracy: 0.7680 - loss: 0.6553 - val_accuracy: 0.9747 - val_loss: 0.2582\n",
      "Epoch 17/1000\n",
      "\u001b[1m169/191\u001b[0m \u001b[32m━━━━━━━━━━━━━━━━━\u001b[0m\u001b[37m━━━\u001b[0m \u001b[1m0s\u001b[0m 1ms/step - accuracy: 0.7728 - loss: 0.6519\n",
      "Epoch 17: saving model to model/keypoint_classifier/keypoint_classifier.keras\n",
      "\u001b[1m191/191\u001b[0m \u001b[32m━━━━━━━━━━━━━━━━━━━━\u001b[0m\u001b[37m\u001b[0m \u001b[1m0s\u001b[0m 2ms/step - accuracy: 0.7727 - loss: 0.6510 - val_accuracy: 0.9761 - val_loss: 0.2560\n",
      "Epoch 18/1000\n",
      "\u001b[1m190/191\u001b[0m \u001b[32m━━━━━━━━━━━━━━━━━━━\u001b[0m\u001b[37m━\u001b[0m \u001b[1m0s\u001b[0m 1ms/step - accuracy: 0.7736 - loss: 0.6411\n",
      "Epoch 18: saving model to model/keypoint_classifier/keypoint_classifier.keras\n",
      "\u001b[1m191/191\u001b[0m \u001b[32m━━━━━━━━━━━━━━━━━━━━\u001b[0m\u001b[37m\u001b[0m \u001b[1m0s\u001b[0m 2ms/step - accuracy: 0.7736 - loss: 0.6411 - val_accuracy: 0.9730 - val_loss: 0.2482\n",
      "Epoch 19/1000\n",
      "\u001b[1m148/191\u001b[0m \u001b[32m━━━━━━━━━━━━━━━\u001b[0m\u001b[37m━━━━━\u001b[0m \u001b[1m0s\u001b[0m 2ms/step - accuracy: 0.7799 - loss: 0.6366\n",
      "Epoch 19: saving model to model/keypoint_classifier/keypoint_classifier.keras\n",
      "\u001b[1m191/191\u001b[0m \u001b[32m━━━━━━━━━━━━━━━━━━━━\u001b[0m\u001b[37m\u001b[0m \u001b[1m0s\u001b[0m 2ms/step - accuracy: 0.7799 - loss: 0.6354 - val_accuracy: 0.9743 - val_loss: 0.2479\n",
      "Epoch 20/1000\n",
      "\u001b[1m144/191\u001b[0m \u001b[32m━━━━━━━━━━━━━━━\u001b[0m\u001b[37m━━━━━\u001b[0m \u001b[1m0s\u001b[0m 1ms/step - accuracy: 0.7801 - loss: 0.6188\n",
      "Epoch 20: saving model to model/keypoint_classifier/keypoint_classifier.keras\n",
      "\u001b[1m191/191\u001b[0m \u001b[32m━━━━━━━━━━━━━━━━━━━━\u001b[0m\u001b[37m\u001b[0m \u001b[1m0s\u001b[0m 2ms/step - accuracy: 0.7799 - loss: 0.6189 - val_accuracy: 0.9751 - val_loss: 0.2354\n",
      "Epoch 21/1000\n",
      "\u001b[1m174/191\u001b[0m \u001b[32m━━━━━━━━━━━━━━━━━━\u001b[0m\u001b[37m━━\u001b[0m \u001b[1m0s\u001b[0m 1ms/step - accuracy: 0.7821 - loss: 0.6115\n",
      "Epoch 21: saving model to model/keypoint_classifier/keypoint_classifier.keras\n",
      "\u001b[1m191/191\u001b[0m \u001b[32m━━━━━━━━━━━━━━━━━━━━\u001b[0m\u001b[37m\u001b[0m \u001b[1m0s\u001b[0m 2ms/step - accuracy: 0.7822 - loss: 0.6112 - val_accuracy: 0.9756 - val_loss: 0.2285\n",
      "Epoch 22/1000\n",
      "\u001b[1m191/191\u001b[0m \u001b[32m━━━━━━━━━━━━━━━━━━━━\u001b[0m\u001b[37m\u001b[0m \u001b[1m0s\u001b[0m 1ms/step - accuracy: 0.7875 - loss: 0.6064\n",
      "Epoch 22: saving model to model/keypoint_classifier/keypoint_classifier.keras\n",
      "\u001b[1m191/191\u001b[0m \u001b[32m━━━━━━━━━━━━━━━━━━━━\u001b[0m\u001b[37m\u001b[0m \u001b[1m0s\u001b[0m 2ms/step - accuracy: 0.7875 - loss: 0.6064 - val_accuracy: 0.9703 - val_loss: 0.2390\n",
      "Epoch 23/1000\n",
      "\u001b[1m175/191\u001b[0m \u001b[32m━━━━━━━━━━━━━━━━━━\u001b[0m\u001b[37m━━\u001b[0m \u001b[1m0s\u001b[0m 1ms/step - accuracy: 0.7891 - loss: 0.5953\n",
      "Epoch 23: saving model to model/keypoint_classifier/keypoint_classifier.keras\n",
      "\u001b[1m191/191\u001b[0m \u001b[32m━━━━━━━━━━━━━━━━━━━━\u001b[0m\u001b[37m\u001b[0m \u001b[1m0s\u001b[0m 2ms/step - accuracy: 0.7891 - loss: 0.5948 - val_accuracy: 0.9767 - val_loss: 0.2277\n",
      "Epoch 24/1000\n",
      "\u001b[1m182/191\u001b[0m \u001b[32m━━━━━━━━━━━━━━━━━━━\u001b[0m\u001b[37m━\u001b[0m \u001b[1m0s\u001b[0m 1ms/step - accuracy: 0.7862 - loss: 0.5996\n",
      "Epoch 24: saving model to model/keypoint_classifier/keypoint_classifier.keras\n",
      "\u001b[1m191/191\u001b[0m \u001b[32m━━━━━━━━━━━━━━━━━━━━\u001b[0m\u001b[37m\u001b[0m \u001b[1m0s\u001b[0m 2ms/step - accuracy: 0.7864 - loss: 0.5989 - val_accuracy: 0.9800 - val_loss: 0.2186\n",
      "Epoch 25/1000\n",
      "\u001b[1m184/191\u001b[0m \u001b[32m━━━━━━━━━━━━━━━━━━━\u001b[0m\u001b[37m━\u001b[0m \u001b[1m0s\u001b[0m 1ms/step - accuracy: 0.7984 - loss: 0.5795\n",
      "Epoch 25: saving model to model/keypoint_classifier/keypoint_classifier.keras\n",
      "\u001b[1m191/191\u001b[0m \u001b[32m━━━━━━━━━━━━━━━━━━━━\u001b[0m\u001b[37m\u001b[0m \u001b[1m0s\u001b[0m 2ms/step - accuracy: 0.7983 - loss: 0.5794 - val_accuracy: 0.9743 - val_loss: 0.2231\n",
      "Epoch 26/1000\n",
      "\u001b[1m175/191\u001b[0m \u001b[32m━━━━━━━━━━━━━━━━━━\u001b[0m\u001b[37m━━\u001b[0m \u001b[1m0s\u001b[0m 1ms/step - accuracy: 0.7906 - loss: 0.5851\n",
      "Epoch 26: saving model to model/keypoint_classifier/keypoint_classifier.keras\n",
      "\u001b[1m191/191\u001b[0m \u001b[32m━━━━━━━━━━━━━━━━━━━━\u001b[0m\u001b[37m\u001b[0m \u001b[1m0s\u001b[0m 2ms/step - accuracy: 0.7908 - loss: 0.5848 - val_accuracy: 0.9746 - val_loss: 0.2264\n",
      "Epoch 27/1000\n",
      "\u001b[1m164/191\u001b[0m \u001b[32m━━━━━━━━━━━━━━━━━\u001b[0m\u001b[37m━━━\u001b[0m \u001b[1m0s\u001b[0m 1ms/step - accuracy: 0.7953 - loss: 0.5788\n",
      "Epoch 27: saving model to model/keypoint_classifier/keypoint_classifier.keras\n",
      "\u001b[1m191/191\u001b[0m \u001b[32m━━━━━━━━━━━━━━━━━━━━\u001b[0m\u001b[37m\u001b[0m \u001b[1m0s\u001b[0m 2ms/step - accuracy: 0.7955 - loss: 0.5787 - val_accuracy: 0.9783 - val_loss: 0.2182\n",
      "Epoch 28/1000\n",
      "\u001b[1m156/191\u001b[0m \u001b[32m━━━━━━━━━━━━━━━━\u001b[0m\u001b[37m━━━━\u001b[0m \u001b[1m0s\u001b[0m 1ms/step - accuracy: 0.7940 - loss: 0.5709\n",
      "Epoch 28: saving model to model/keypoint_classifier/keypoint_classifier.keras\n",
      "\u001b[1m191/191\u001b[0m \u001b[32m━━━━━━━━━━━━━━━━━━━━\u001b[0m\u001b[37m\u001b[0m \u001b[1m0s\u001b[0m 2ms/step - accuracy: 0.7944 - loss: 0.5708 - val_accuracy: 0.9705 - val_loss: 0.2198\n",
      "Epoch 29/1000\n",
      "\u001b[1m147/191\u001b[0m \u001b[32m━━━━━━━━━━━━━━━\u001b[0m\u001b[37m━━━━━\u001b[0m \u001b[1m0s\u001b[0m 1ms/step - accuracy: 0.8049 - loss: 0.5504\n",
      "Epoch 29: saving model to model/keypoint_classifier/keypoint_classifier.keras\n",
      "\u001b[1m191/191\u001b[0m \u001b[32m━━━━━━━━━━━━━━━━━━━━\u001b[0m\u001b[37m\u001b[0m \u001b[1m0s\u001b[0m 2ms/step - accuracy: 0.8036 - loss: 0.5539 - val_accuracy: 0.9713 - val_loss: 0.2149\n",
      "Epoch 30/1000\n",
      "\u001b[1m184/191\u001b[0m \u001b[32m━━━━━━━━━━━━━━━━━━━\u001b[0m\u001b[37m━\u001b[0m \u001b[1m0s\u001b[0m 1ms/step - accuracy: 0.7983 - loss: 0.5775\n",
      "Epoch 30: saving model to model/keypoint_classifier/keypoint_classifier.keras\n",
      "\u001b[1m191/191\u001b[0m \u001b[32m━━━━━━━━━━━━━━━━━━━━\u001b[0m\u001b[37m\u001b[0m \u001b[1m0s\u001b[0m 2ms/step - accuracy: 0.7985 - loss: 0.5770 - val_accuracy: 0.9743 - val_loss: 0.2158\n",
      "Epoch 31/1000\n",
      "\u001b[1m161/191\u001b[0m \u001b[32m━━━━━━━━━━━━━━━━\u001b[0m\u001b[37m━━━━\u001b[0m \u001b[1m0s\u001b[0m 1ms/step - accuracy: 0.8043 - loss: 0.5556\n",
      "Epoch 31: saving model to model/keypoint_classifier/keypoint_classifier.keras\n",
      "\u001b[1m191/191\u001b[0m \u001b[32m━━━━━━━━━━━━━━━━━━━━\u001b[0m\u001b[37m\u001b[0m \u001b[1m0s\u001b[0m 2ms/step - accuracy: 0.8045 - loss: 0.5559 - val_accuracy: 0.9742 - val_loss: 0.2159\n",
      "Epoch 32/1000\n",
      "\u001b[1m172/191\u001b[0m \u001b[32m━━━━━━━━━━━━━━━━━━\u001b[0m\u001b[37m━━\u001b[0m \u001b[1m0s\u001b[0m 1ms/step - accuracy: 0.8004 - loss: 0.5631\n",
      "Epoch 32: saving model to model/keypoint_classifier/keypoint_classifier.keras\n",
      "\u001b[1m191/191\u001b[0m \u001b[32m━━━━━━━━━━━━━━━━━━━━\u001b[0m\u001b[37m\u001b[0m \u001b[1m0s\u001b[0m 2ms/step - accuracy: 0.8006 - loss: 0.5628 - val_accuracy: 0.9730 - val_loss: 0.2123\n",
      "Epoch 33/1000\n",
      "\u001b[1m161/191\u001b[0m \u001b[32m━━━━━━━━━━━━━━━━\u001b[0m\u001b[37m━━━━\u001b[0m \u001b[1m0s\u001b[0m 1ms/step - accuracy: 0.8062 - loss: 0.5541\n",
      "Epoch 33: saving model to model/keypoint_classifier/keypoint_classifier.keras\n",
      "\u001b[1m191/191\u001b[0m \u001b[32m━━━━━━━━━━━━━━━━━━━━\u001b[0m\u001b[37m\u001b[0m \u001b[1m0s\u001b[0m 2ms/step - accuracy: 0.8060 - loss: 0.5532 - val_accuracy: 0.9762 - val_loss: 0.2027\n",
      "Epoch 34/1000\n",
      "\u001b[1m151/191\u001b[0m \u001b[32m━━━━━━━━━━━━━━━\u001b[0m\u001b[37m━━━━━\u001b[0m \u001b[1m0s\u001b[0m 1ms/step - accuracy: 0.8043 - loss: 0.5348\n",
      "Epoch 34: saving model to model/keypoint_classifier/keypoint_classifier.keras\n",
      "\u001b[1m191/191\u001b[0m \u001b[32m━━━━━━━━━━━━━━━━━━━━\u001b[0m\u001b[37m\u001b[0m \u001b[1m0s\u001b[0m 2ms/step - accuracy: 0.8046 - loss: 0.5368 - val_accuracy: 0.9793 - val_loss: 0.2085\n",
      "Epoch 35/1000\n",
      "\u001b[1m162/191\u001b[0m \u001b[32m━━━━━━━━━━━━━━━━\u001b[0m\u001b[37m━━━━\u001b[0m \u001b[1m0s\u001b[0m 1ms/step - accuracy: 0.8094 - loss: 0.5420\n",
      "Epoch 35: saving model to model/keypoint_classifier/keypoint_classifier.keras\n",
      "\u001b[1m191/191\u001b[0m \u001b[32m━━━━━━━━━━━━━━━━━━━━\u001b[0m\u001b[37m\u001b[0m \u001b[1m0s\u001b[0m 2ms/step - accuracy: 0.8090 - loss: 0.5422 - val_accuracy: 0.9711 - val_loss: 0.2191\n",
      "Epoch 36/1000\n",
      "\u001b[1m171/191\u001b[0m \u001b[32m━━━━━━━━━━━━━━━━━\u001b[0m\u001b[37m━━━\u001b[0m \u001b[1m0s\u001b[0m 1ms/step - accuracy: 0.8049 - loss: 0.5574\n",
      "Epoch 36: saving model to model/keypoint_classifier/keypoint_classifier.keras\n",
      "\u001b[1m191/191\u001b[0m \u001b[32m━━━━━━━━━━━━━━━━━━━━\u001b[0m\u001b[37m\u001b[0m \u001b[1m0s\u001b[0m 2ms/step - accuracy: 0.8052 - loss: 0.5557 - val_accuracy: 0.9690 - val_loss: 0.2121\n",
      "Epoch 37/1000\n",
      "\u001b[1m179/191\u001b[0m \u001b[32m━━━━━━━━━━━━━━━━━━\u001b[0m\u001b[37m━━\u001b[0m \u001b[1m0s\u001b[0m 1ms/step - accuracy: 0.8064 - loss: 0.5430\n",
      "Epoch 37: saving model to model/keypoint_classifier/keypoint_classifier.keras\n",
      "\u001b[1m191/191\u001b[0m \u001b[32m━━━━━━━━━━━━━━━━━━━━\u001b[0m\u001b[37m\u001b[0m \u001b[1m0s\u001b[0m 2ms/step - accuracy: 0.8064 - loss: 0.5428 - val_accuracy: 0.9740 - val_loss: 0.2154\n",
      "Epoch 38/1000\n",
      "\u001b[1m165/191\u001b[0m \u001b[32m━━━━━━━━━━━━━━━━━\u001b[0m\u001b[37m━━━\u001b[0m \u001b[1m0s\u001b[0m 1ms/step - accuracy: 0.8101 - loss: 0.5328\n",
      "Epoch 38: saving model to model/keypoint_classifier/keypoint_classifier.keras\n",
      "\u001b[1m191/191\u001b[0m \u001b[32m━━━━━━━━━━━━━━━━━━━━\u001b[0m\u001b[37m\u001b[0m \u001b[1m0s\u001b[0m 2ms/step - accuracy: 0.8101 - loss: 0.5332 - val_accuracy: 0.9735 - val_loss: 0.1964\n",
      "Epoch 39/1000\n",
      "\u001b[1m164/191\u001b[0m \u001b[32m━━━━━━━━━━━━━━━━━\u001b[0m\u001b[37m━━━\u001b[0m \u001b[1m0s\u001b[0m 1ms/step - accuracy: 0.8113 - loss: 0.5335\n",
      "Epoch 39: saving model to model/keypoint_classifier/keypoint_classifier.keras\n",
      "\u001b[1m191/191\u001b[0m \u001b[32m━━━━━━━━━━━━━━━━━━━━\u001b[0m\u001b[37m\u001b[0m \u001b[1m0s\u001b[0m 2ms/step - accuracy: 0.8115 - loss: 0.5325 - val_accuracy: 0.9703 - val_loss: 0.2113\n",
      "Epoch 40/1000\n",
      "\u001b[1m175/191\u001b[0m \u001b[32m━━━━━━━━━━━━━━━━━━\u001b[0m\u001b[37m━━\u001b[0m \u001b[1m0s\u001b[0m 1ms/step - accuracy: 0.8131 - loss: 0.5329\n",
      "Epoch 40: saving model to model/keypoint_classifier/keypoint_classifier.keras\n",
      "\u001b[1m191/191\u001b[0m \u001b[32m━━━━━━━━━━━━━━━━━━━━\u001b[0m\u001b[37m\u001b[0m \u001b[1m0s\u001b[0m 2ms/step - accuracy: 0.8130 - loss: 0.5330 - val_accuracy: 0.9727 - val_loss: 0.1966\n",
      "Epoch 41/1000\n",
      "\u001b[1m177/191\u001b[0m \u001b[32m━━━━━━━━━━━━━━━━━━\u001b[0m\u001b[37m━━\u001b[0m \u001b[1m0s\u001b[0m 1ms/step - accuracy: 0.8121 - loss: 0.5251\n",
      "Epoch 41: saving model to model/keypoint_classifier/keypoint_classifier.keras\n",
      "\u001b[1m191/191\u001b[0m \u001b[32m━━━━━━━━━━━━━━━━━━━━\u001b[0m\u001b[37m\u001b[0m \u001b[1m0s\u001b[0m 2ms/step - accuracy: 0.8122 - loss: 0.5252 - val_accuracy: 0.9636 - val_loss: 0.2225\n",
      "Epoch 42/1000\n",
      "\u001b[1m169/191\u001b[0m \u001b[32m━━━━━━━━━━━━━━━━━\u001b[0m\u001b[37m━━━\u001b[0m \u001b[1m0s\u001b[0m 1ms/step - accuracy: 0.8126 - loss: 0.5246\n",
      "Epoch 42: saving model to model/keypoint_classifier/keypoint_classifier.keras\n",
      "\u001b[1m191/191\u001b[0m \u001b[32m━━━━━━━━━━━━━━━━━━━━\u001b[0m\u001b[37m\u001b[0m \u001b[1m0s\u001b[0m 2ms/step - accuracy: 0.8127 - loss: 0.5241 - val_accuracy: 0.9739 - val_loss: 0.1988\n",
      "Epoch 43/1000\n",
      "\u001b[1m157/191\u001b[0m \u001b[32m━━━━━━━━━━━━━━━━\u001b[0m\u001b[37m━━━━\u001b[0m \u001b[1m0s\u001b[0m 1ms/step - accuracy: 0.8079 - loss: 0.5252\n",
      "Epoch 43: saving model to model/keypoint_classifier/keypoint_classifier.keras\n",
      "\u001b[1m191/191\u001b[0m \u001b[32m━━━━━━━━━━━━━━━━━━━━\u001b[0m\u001b[37m\u001b[0m \u001b[1m0s\u001b[0m 2ms/step - accuracy: 0.8092 - loss: 0.5233 - val_accuracy: 0.9665 - val_loss: 0.2131\n",
      "Epoch 44/1000\n",
      "\u001b[1m160/191\u001b[0m \u001b[32m━━━━━━━━━━━━━━━━\u001b[0m\u001b[37m━━━━\u001b[0m \u001b[1m0s\u001b[0m 2ms/step - accuracy: 0.8171 - loss: 0.5115\n",
      "Epoch 44: saving model to model/keypoint_classifier/keypoint_classifier.keras\n",
      "\u001b[1m191/191\u001b[0m \u001b[32m━━━━━━━━━━━━━━━━━━━━\u001b[0m\u001b[37m\u001b[0m \u001b[1m0s\u001b[0m 2ms/step - accuracy: 0.8175 - loss: 0.5111 - val_accuracy: 0.9661 - val_loss: 0.2170\n",
      "Epoch 45/1000\n",
      "\u001b[1m172/191\u001b[0m \u001b[32m━━━━━━━━━━━━━━━━━━\u001b[0m\u001b[37m━━\u001b[0m \u001b[1m0s\u001b[0m 1ms/step - accuracy: 0.8173 - loss: 0.5088\n",
      "Epoch 45: saving model to model/keypoint_classifier/keypoint_classifier.keras\n",
      "\u001b[1m191/191\u001b[0m \u001b[32m━━━━━━━━━━━━━━━━━━━━\u001b[0m\u001b[37m\u001b[0m \u001b[1m0s\u001b[0m 2ms/step - accuracy: 0.8171 - loss: 0.5092 - val_accuracy: 0.9721 - val_loss: 0.1942\n",
      "Epoch 46/1000\n",
      "\u001b[1m181/191\u001b[0m \u001b[32m━━━━━━━━━━━━━━━━━━\u001b[0m\u001b[37m━━\u001b[0m \u001b[1m0s\u001b[0m 1ms/step - accuracy: 0.8188 - loss: 0.5117\n",
      "Epoch 46: saving model to model/keypoint_classifier/keypoint_classifier.keras\n",
      "\u001b[1m191/191\u001b[0m \u001b[32m━━━━━━━━━━━━━━━━━━━━\u001b[0m\u001b[37m\u001b[0m \u001b[1m0s\u001b[0m 2ms/step - accuracy: 0.8189 - loss: 0.5114 - val_accuracy: 0.9706 - val_loss: 0.2020\n",
      "Epoch 47/1000\n",
      "\u001b[1m180/191\u001b[0m \u001b[32m━━━━━━━━━━━━━━━━━━\u001b[0m\u001b[37m━━\u001b[0m \u001b[1m0s\u001b[0m 1ms/step - accuracy: 0.8163 - loss: 0.5129\n",
      "Epoch 47: saving model to model/keypoint_classifier/keypoint_classifier.keras\n",
      "\u001b[1m191/191\u001b[0m \u001b[32m━━━━━━━━━━━━━━━━━━━━\u001b[0m\u001b[37m\u001b[0m \u001b[1m0s\u001b[0m 2ms/step - accuracy: 0.8166 - loss: 0.5120 - val_accuracy: 0.9714 - val_loss: 0.2032\n",
      "Epoch 48/1000\n",
      "\u001b[1m183/191\u001b[0m \u001b[32m━━━━━━━━━━━━━━━━━━━\u001b[0m\u001b[37m━\u001b[0m \u001b[1m0s\u001b[0m 1ms/step - accuracy: 0.8212 - loss: 0.4929\n",
      "Epoch 48: saving model to model/keypoint_classifier/keypoint_classifier.keras\n",
      "\u001b[1m191/191\u001b[0m \u001b[32m━━━━━━━━━━━━━━━━━━━━\u001b[0m\u001b[37m\u001b[0m \u001b[1m0s\u001b[0m 2ms/step - accuracy: 0.8211 - loss: 0.4932 - val_accuracy: 0.9718 - val_loss: 0.2069\n",
      "Epoch 49/1000\n",
      "\u001b[1m173/191\u001b[0m \u001b[32m━━━━━━━━━━━━━━━━━━\u001b[0m\u001b[37m━━\u001b[0m \u001b[1m0s\u001b[0m 1ms/step - accuracy: 0.8260 - loss: 0.4912\n",
      "Epoch 49: saving model to model/keypoint_classifier/keypoint_classifier.keras\n",
      "\u001b[1m191/191\u001b[0m \u001b[32m━━━━━━━━━━━━━━━━━━━━\u001b[0m\u001b[37m\u001b[0m \u001b[1m0s\u001b[0m 2ms/step - accuracy: 0.8259 - loss: 0.4916 - val_accuracy: 0.9661 - val_loss: 0.2224\n",
      "Epoch 50/1000\n",
      "\u001b[1m175/191\u001b[0m \u001b[32m━━━━━━━━━━━━━━━━━━\u001b[0m\u001b[37m━━\u001b[0m \u001b[1m0s\u001b[0m 1ms/step - accuracy: 0.8196 - loss: 0.4878\n",
      "Epoch 50: saving model to model/keypoint_classifier/keypoint_classifier.keras\n",
      "\u001b[1m191/191\u001b[0m \u001b[32m━━━━━━━━━━━━━━━━━━━━\u001b[0m\u001b[37m\u001b[0m \u001b[1m0s\u001b[0m 2ms/step - accuracy: 0.8196 - loss: 0.4892 - val_accuracy: 0.9732 - val_loss: 0.2047\n",
      "Epoch 51/1000\n",
      "\u001b[1m188/191\u001b[0m \u001b[32m━━━━━━━━━━━━━━━━━━━\u001b[0m\u001b[37m━\u001b[0m \u001b[1m0s\u001b[0m 1ms/step - accuracy: 0.8276 - loss: 0.4882\n",
      "Epoch 51: saving model to model/keypoint_classifier/keypoint_classifier.keras\n",
      "\u001b[1m191/191\u001b[0m \u001b[32m━━━━━━━━━━━━━━━━━━━━\u001b[0m\u001b[37m\u001b[0m \u001b[1m0s\u001b[0m 2ms/step - accuracy: 0.8275 - loss: 0.4883 - val_accuracy: 0.9687 - val_loss: 0.2205\n",
      "Epoch 52/1000\n",
      "\u001b[1m180/191\u001b[0m \u001b[32m━━━━━━━━━━━━━━━━━━\u001b[0m\u001b[37m━━\u001b[0m \u001b[1m0s\u001b[0m 1ms/step - accuracy: 0.8188 - loss: 0.4964\n",
      "Epoch 52: saving model to model/keypoint_classifier/keypoint_classifier.keras\n",
      "\u001b[1m191/191\u001b[0m \u001b[32m━━━━━━━━━━━━━━━━━━━━\u001b[0m\u001b[37m\u001b[0m \u001b[1m0s\u001b[0m 2ms/step - accuracy: 0.8191 - loss: 0.4961 - val_accuracy: 0.9703 - val_loss: 0.2164\n",
      "Epoch 53/1000\n",
      "\u001b[1m169/191\u001b[0m \u001b[32m━━━━━━━━━━━━━━━━━\u001b[0m\u001b[37m━━━\u001b[0m \u001b[1m0s\u001b[0m 1ms/step - accuracy: 0.8223 - loss: 0.4987\n",
      "Epoch 53: saving model to model/keypoint_classifier/keypoint_classifier.keras\n",
      "\u001b[1m191/191\u001b[0m \u001b[32m━━━━━━━━━━━━━━━━━━━━\u001b[0m\u001b[37m\u001b[0m \u001b[1m0s\u001b[0m 2ms/step - accuracy: 0.8223 - loss: 0.4984 - val_accuracy: 0.9684 - val_loss: 0.2122\n",
      "Epoch 54/1000\n",
      "\u001b[1m179/191\u001b[0m \u001b[32m━━━━━━━━━━━━━━━━━━\u001b[0m\u001b[37m━━\u001b[0m \u001b[1m0s\u001b[0m 1ms/step - accuracy: 0.8226 - loss: 0.4906\n",
      "Epoch 54: saving model to model/keypoint_classifier/keypoint_classifier.keras\n",
      "\u001b[1m191/191\u001b[0m \u001b[32m━━━━━━━━━━━━━━━━━━━━\u001b[0m\u001b[37m\u001b[0m \u001b[1m0s\u001b[0m 2ms/step - accuracy: 0.8227 - loss: 0.4901 - val_accuracy: 0.9685 - val_loss: 0.2253\n",
      "Epoch 55/1000\n",
      "\u001b[1m180/191\u001b[0m \u001b[32m━━━━━━━━━━━━━━━━━━\u001b[0m\u001b[37m━━\u001b[0m \u001b[1m0s\u001b[0m 2ms/step - accuracy: 0.8298 - loss: 0.4751\n",
      "Epoch 55: saving model to model/keypoint_classifier/keypoint_classifier.keras\n",
      "\u001b[1m191/191\u001b[0m \u001b[32m━━━━━━━━━━━━━━━━━━━━\u001b[0m\u001b[37m\u001b[0m \u001b[1m0s\u001b[0m 2ms/step - accuracy: 0.8296 - loss: 0.4752 - val_accuracy: 0.9354 - val_loss: 0.2256\n",
      "Epoch 56/1000\n",
      "\u001b[1m177/191\u001b[0m \u001b[32m━━━━━━━━━━━━━━━━━━\u001b[0m\u001b[37m━━\u001b[0m \u001b[1m0s\u001b[0m 1ms/step - accuracy: 0.8272 - loss: 0.4911\n",
      "Epoch 56: saving model to model/keypoint_classifier/keypoint_classifier.keras\n",
      "\u001b[1m191/191\u001b[0m \u001b[32m━━━━━━━━━━━━━━━━━━━━\u001b[0m\u001b[37m\u001b[0m \u001b[1m0s\u001b[0m 2ms/step - accuracy: 0.8272 - loss: 0.4905 - val_accuracy: 0.9657 - val_loss: 0.2204\n",
      "Epoch 57/1000\n",
      "\u001b[1m179/191\u001b[0m \u001b[32m━━━━━━━━━━━━━━━━━━\u001b[0m\u001b[37m━━\u001b[0m \u001b[1m0s\u001b[0m 1ms/step - accuracy: 0.8279 - loss: 0.4781\n",
      "Epoch 57: saving model to model/keypoint_classifier/keypoint_classifier.keras\n",
      "\u001b[1m191/191\u001b[0m \u001b[32m━━━━━━━━━━━━━━━━━━━━\u001b[0m\u001b[37m\u001b[0m \u001b[1m0s\u001b[0m 2ms/step - accuracy: 0.8280 - loss: 0.4781 - val_accuracy: 0.9623 - val_loss: 0.2192\n",
      "Epoch 58/1000\n",
      "\u001b[1m170/191\u001b[0m \u001b[32m━━━━━━━━━━━━━━━━━\u001b[0m\u001b[37m━━━\u001b[0m \u001b[1m0s\u001b[0m 1ms/step - accuracy: 0.8312 - loss: 0.4718\n",
      "Epoch 58: saving model to model/keypoint_classifier/keypoint_classifier.keras\n",
      "\u001b[1m191/191\u001b[0m \u001b[32m━━━━━━━━━━━━━━━━━━━━\u001b[0m\u001b[37m\u001b[0m \u001b[1m0s\u001b[0m 2ms/step - accuracy: 0.8310 - loss: 0.4722 - val_accuracy: 0.9376 - val_loss: 0.2519\n",
      "Epoch 59/1000\n",
      "\u001b[1m188/191\u001b[0m \u001b[32m━━━━━━━━━━━━━━━━━━━\u001b[0m\u001b[37m━\u001b[0m \u001b[1m0s\u001b[0m 1ms/step - accuracy: 0.8338 - loss: 0.4685\n",
      "Epoch 59: saving model to model/keypoint_classifier/keypoint_classifier.keras\n",
      "\u001b[1m191/191\u001b[0m \u001b[32m━━━━━━━━━━━━━━━━━━━━\u001b[0m\u001b[37m\u001b[0m \u001b[1m0s\u001b[0m 2ms/step - accuracy: 0.8338 - loss: 0.4685 - val_accuracy: 0.9298 - val_loss: 0.2452\n",
      "Epoch 60/1000\n",
      "\u001b[1m184/191\u001b[0m \u001b[32m━━━━━━━━━━━━━━━━━━━\u001b[0m\u001b[37m━\u001b[0m \u001b[1m0s\u001b[0m 1ms/step - accuracy: 0.8315 - loss: 0.4657\n",
      "Epoch 60: saving model to model/keypoint_classifier/keypoint_classifier.keras\n",
      "\u001b[1m191/191\u001b[0m \u001b[32m━━━━━━━━━━━━━━━━━━━━\u001b[0m\u001b[37m\u001b[0m \u001b[1m0s\u001b[0m 2ms/step - accuracy: 0.8316 - loss: 0.4658 - val_accuracy: 0.9613 - val_loss: 0.2167\n",
      "Epoch 61/1000\n",
      "\u001b[1m139/191\u001b[0m \u001b[32m━━━━━━━━━━━━━━\u001b[0m\u001b[37m━━━━━━\u001b[0m \u001b[1m0s\u001b[0m 1ms/step - accuracy: 0.8289 - loss: 0.4618\n",
      "Epoch 61: saving model to model/keypoint_classifier/keypoint_classifier.keras\n",
      "\u001b[1m191/191\u001b[0m \u001b[32m━━━━━━━━━━━━━━━━━━━━\u001b[0m\u001b[37m\u001b[0m \u001b[1m1s\u001b[0m 2ms/step - accuracy: 0.8290 - loss: 0.4625 - val_accuracy: 0.9570 - val_loss: 0.2220\n",
      "Epoch 62/1000\n",
      "\u001b[1m147/191\u001b[0m \u001b[32m━━━━━━━━━━━━━━━\u001b[0m\u001b[37m━━━━━\u001b[0m \u001b[1m0s\u001b[0m 1ms/step - accuracy: 0.8329 - loss: 0.4597  \n",
      "Epoch 62: saving model to model/keypoint_classifier/keypoint_classifier.keras\n",
      "\u001b[1m191/191\u001b[0m \u001b[32m━━━━━━━━━━━━━━━━━━━━\u001b[0m\u001b[37m\u001b[0m \u001b[1m0s\u001b[0m 2ms/step - accuracy: 0.8326 - loss: 0.4609 - val_accuracy: 0.9156 - val_loss: 0.2659\n",
      "Epoch 63/1000\n",
      "\u001b[1m178/191\u001b[0m \u001b[32m━━━━━━━━━━━━━━━━━━\u001b[0m\u001b[37m━━\u001b[0m \u001b[1m0s\u001b[0m 1ms/step - accuracy: 0.8298 - loss: 0.4644\n",
      "Epoch 63: saving model to model/keypoint_classifier/keypoint_classifier.keras\n",
      "\u001b[1m191/191\u001b[0m \u001b[32m━━━━━━━━━━━━━━━━━━━━\u001b[0m\u001b[37m\u001b[0m \u001b[1m0s\u001b[0m 2ms/step - accuracy: 0.8299 - loss: 0.4649 - val_accuracy: 0.9401 - val_loss: 0.2432\n",
      "Epoch 64/1000\n",
      "\u001b[1m176/191\u001b[0m \u001b[32m━━━━━━━━━━━━━━━━━━\u001b[0m\u001b[37m━━\u001b[0m \u001b[1m0s\u001b[0m 1ms/step - accuracy: 0.8319 - loss: 0.4650\n",
      "Epoch 64: saving model to model/keypoint_classifier/keypoint_classifier.keras\n",
      "\u001b[1m191/191\u001b[0m \u001b[32m━━━━━━━━━━━━━━━━━━━━\u001b[0m\u001b[37m\u001b[0m \u001b[1m0s\u001b[0m 2ms/step - accuracy: 0.8321 - loss: 0.4646 - val_accuracy: 0.9350 - val_loss: 0.2395\n",
      "Epoch 65/1000\n",
      "\u001b[1m163/191\u001b[0m \u001b[32m━━━━━━━━━━━━━━━━━\u001b[0m\u001b[37m━━━\u001b[0m \u001b[1m0s\u001b[0m 2ms/step - accuracy: 0.8378 - loss: 0.4434\n",
      "Epoch 65: saving model to model/keypoint_classifier/keypoint_classifier.keras\n",
      "\u001b[1m191/191\u001b[0m \u001b[32m━━━━━━━━━━━━━━━━━━━━\u001b[0m\u001b[37m\u001b[0m \u001b[1m0s\u001b[0m 2ms/step - accuracy: 0.8375 - loss: 0.4447 - val_accuracy: 0.9558 - val_loss: 0.2473\n",
      "Epoch 65: early stopping\n"
>>>>>>> 485b231fcf8a566362e3b0cd7d8b6a522edf4f37
     ]
    },
    {
     "data": {
      "text/plain": [
<<<<<<< HEAD
       "<keras.src.callbacks.history.History at 0x16d9da760f0>"
      ]
     },
     "execution_count": 171,
=======
       "<keras.src.callbacks.history.History at 0x121749f33e0>"
      ]
     },
     "execution_count": 33,
>>>>>>> 485b231fcf8a566362e3b0cd7d8b6a522edf4f37
     "metadata": {},
     "output_type": "execute_result"
    }
   ],
   "source": [
    "model.fit(\n",
    "    X_train,\n",
    "    y_train,\n",
    "    epochs=1000,\n",
    "    batch_size=128,\n",
    "    validation_data=(X_test, y_test),\n",
    "    callbacks=[cp_callback, es_callback]\n",
    ")"
   ]
  },
  {
   "cell_type": "code",
<<<<<<< HEAD
   "execution_count": 172,
=======
   "execution_count": 34,
>>>>>>> 485b231fcf8a566362e3b0cd7d8b6a522edf4f37
   "metadata": {},
   "outputs": [
    {
     "name": "stdout",
     "output_type": "stream",
     "text": [
<<<<<<< HEAD
      "\u001b[1m30/30\u001b[0m \u001b[32m━━━━━━━━━━━━━━━━━━━━\u001b[0m\u001b[37m\u001b[0m \u001b[1m0s\u001b[0m 2ms/step - accuracy: 0.9769 - loss: 0.2055 \n"
=======
      "\u001b[1m64/64\u001b[0m \u001b[32m━━━━━━━━━━━━━━━━━━━━\u001b[0m\u001b[37m\u001b[0m \u001b[1m0s\u001b[0m 939us/step - accuracy: 0.9565 - loss: 0.2514\n"
>>>>>>> 485b231fcf8a566362e3b0cd7d8b6a522edf4f37
     ]
    }
   ],
   "source": [
    "# Avaliação do modelo\n",
    "val_loss, val_acc = model.evaluate(X_test, y_test, batch_size=256)"
   ]
  },
  {
   "cell_type": "code",
<<<<<<< HEAD
   "execution_count": 173,
=======
   "execution_count": 35,
>>>>>>> 485b231fcf8a566362e3b0cd7d8b6a522edf4f37
   "metadata": {},
   "outputs": [],
   "source": [
    "# Carregando um modelo salvo\n",
    "model = tf.keras.models.load_model(model_save_path)"
   ]
  },
  {
   "cell_type": "code",
<<<<<<< HEAD
   "execution_count": 174,
=======
   "execution_count": 36,
>>>>>>> 485b231fcf8a566362e3b0cd7d8b6a522edf4f37
   "metadata": {},
   "outputs": [
    {
     "name": "stdout",
     "output_type": "stream",
     "text": [
<<<<<<< HEAD
      "\u001b[1m1/1\u001b[0m \u001b[32m━━━━━━━━━━━━━━━━━━━━\u001b[0m\u001b[37m\u001b[0m \u001b[1m0s\u001b[0m 86ms/step\n",
      "[1.6007716e-02 8.2984730e-09 7.3039075e-08 9.7908711e-01 1.3455823e-04\n",
      " 6.7233159e-05 8.3458162e-04 3.8686933e-03]\n",
      "3\n"
=======
      "\u001b[1m1/1\u001b[0m \u001b[32m━━━━━━━━━━━━━━━━━━━━\u001b[0m\u001b[37m\u001b[0m \u001b[1m0s\u001b[0m 59ms/step\n",
      "[1.1188605e-02 2.1279247e-09 8.1570020e-12 1.7039099e-01 8.1834608e-01\n",
      " 7.8669209e-06 1.8067990e-07 2.3514032e-05 4.2727450e-05]\n",
      "4\n"
>>>>>>> 485b231fcf8a566362e3b0cd7d8b6a522edf4f37
     ]
    }
   ],
   "source": [
    "# Teste de raciocínio\n",
    "predict_result = model.predict(np.array([X_test[0]]))\n",
    "print(np.squeeze(predict_result))\n",
    "print(np.argmax(np.squeeze(predict_result)))"
   ]
  },
  {
   "cell_type": "markdown",
   "metadata": {},
   "source": [
    "# Matriz de confusão"
   ]
  },
  {
   "cell_type": "code",
<<<<<<< HEAD
   "execution_count": 175,
=======
   "execution_count": 37,
>>>>>>> 485b231fcf8a566362e3b0cd7d8b6a522edf4f37
   "metadata": {},
   "outputs": [
    {
     "name": "stdout",
     "output_type": "stream",
     "text": [
<<<<<<< HEAD
      "\u001b[1m235/235\u001b[0m \u001b[32m━━━━━━━━━━━━━━━━━━━━\u001b[0m\u001b[37m\u001b[0m \u001b[1m0s\u001b[0m 1ms/step\n"
=======
      "\u001b[1m254/254\u001b[0m \u001b[32m━━━━━━━━━━━━━━━━━━━━\u001b[0m\u001b[37m\u001b[0m \u001b[1m0s\u001b[0m 973us/step\n"
>>>>>>> 485b231fcf8a566362e3b0cd7d8b6a522edf4f37
     ]
    },
    {
     "data": {
<<<<<<< HEAD
      "image/png": "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",
=======
      "image/png": "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",
>>>>>>> 485b231fcf8a566362e3b0cd7d8b6a522edf4f37
      "text/plain": [
       "<Figure size 1200x1000 with 2 Axes>"
      ]
     },
     "metadata": {},
     "output_type": "display_data"
    },
    {
     "name": "stdout",
     "output_type": "stream",
     "text": [
      "Classification Report\n",
      "              precision    recall  f1-score   support\n",
      "\n",
<<<<<<< HEAD
      "      ABERTA       0.89      1.00      0.94       841\n",
      "      JOINHA       1.00      1.00      1.00       960\n",
      "   INDICADOR       0.98      1.00      0.99      1273\n",
      "         ILY       0.99      0.90      0.94       995\n",
      "   HANGLOOSE       0.99      0.99      0.99       963\n",
      "     PISCADA       0.99      1.00      1.00       777\n",
      "          OI       1.00      0.96      0.98       961\n",
      "  OI_DEDINHO       0.99      0.99      0.99       733\n",
      "\n",
      "    accuracy                           0.98      7503\n",
      "   macro avg       0.98      0.98      0.98      7503\n",
      "weighted avg       0.98      0.98      0.98      7503\n",
=======
      "           0       1.00      1.00      1.00       829\n",
      "           1       0.99      1.00      1.00       988\n",
      "           2       0.90      1.00      0.95      1272\n",
      "           3       0.89      0.91      0.90      1016\n",
      "           4       1.00      0.89      0.94       964\n",
      "           5       0.93      0.96      0.95       736\n",
      "           6       0.95      0.94      0.95       968\n",
      "           7       0.99      0.91      0.95       736\n",
      "           8       1.00      1.00      1.00       599\n",
      "\n",
      "    accuracy                           0.96      8108\n",
      "   macro avg       0.96      0.96      0.96      8108\n",
      "weighted avg       0.96      0.96      0.96      8108\n",
>>>>>>> 485b231fcf8a566362e3b0cd7d8b6a522edf4f37
      "\n"
     ]
    }
   ],
   "source": [
    "import pandas as pd\n",
    "import seaborn as sns\n",
    "import matplotlib.pyplot as plt\n",
    "from sklearn.metrics import confusion_matrix, classification_report\n",
    "\n",
    "def print_confusion_matrix(y_true, y_pred, report=True):\n",
    "    with open(f'model/{folder_name}/keypoint_classifier_label.csv',\n",
    "            encoding='utf-8-sig') as f:\n",
    "        keypoint_classifier_labels = csv.reader(f)\n",
    "        keypoint_classifier_labels = [\n",
    "            row[0] for row in keypoint_classifier_labels\n",
    "        ]\n",
    "    labels = sorted(list(set(y_true)))\n",
    "    cmx_data = confusion_matrix(y_true, y_pred, labels=labels)\n",
    "    \n",
    "    labels = [keypoint_classifier_labels[i] for i in sorted(list(set(y_true)))]\n",
    "    df_cmx = pd.DataFrame(cmx_data, index=labels, columns=labels)\n",
    " \n",
    "    fig, ax = plt.subplots(figsize=(12, 10))\n",
    "    sns.heatmap(df_cmx, annot=True, fmt='g' ,square=False)\n",
    "    ax.set_ylim(len(set(y_true)), 0)\n",
    "    plt.show()\n",
    "    \n",
    "    if report:\n",
    "        print('Classification Report')\n",
    "        print(classification_report(y_test, y_pred, target_names=labels))\n",
    "\n",
    "Y_pred = model.predict(X_test)\n",
    "y_pred = np.argmax(Y_pred, axis=1)\n",
    "\n",
    "print_confusion_matrix(y_test, y_pred)"
   ]
  },
  {
   "cell_type": "markdown",
   "metadata": {},
   "source": [
    "# Converter para tensorflow lite"
   ]
  },
  {
   "cell_type": "code",
<<<<<<< HEAD
   "execution_count": 176,
=======
   "execution_count": 38,
>>>>>>> 485b231fcf8a566362e3b0cd7d8b6a522edf4f37
   "metadata": {},
   "outputs": [],
   "source": [
    "# Salvar como modelo apenas para inferência\n",
    "model.save(model_save_path, include_optimizer=False)\n",
    "model = tf.keras.models.load_model(model_save_path)"
   ]
  },
  {
   "cell_type": "code",
<<<<<<< HEAD
   "execution_count": 177,
=======
   "execution_count": 39,
>>>>>>> 485b231fcf8a566362e3b0cd7d8b6a522edf4f37
   "metadata": {},
   "outputs": [
    {
     "name": "stdout",
     "output_type": "stream",
     "text": [
<<<<<<< HEAD
      "INFO:tensorflow:Assets written to: C:\\Users\\ARTHUR~1\\AppData\\Local\\Temp\\tmpqlomafvd\\assets\n"
=======
      "INFO:tensorflow:Assets written to: C:\\Users\\DIOGOL~1\\AppData\\Local\\Temp\\tmpfghfe92p\\assets\n"
>>>>>>> 485b231fcf8a566362e3b0cd7d8b6a522edf4f37
     ]
    },
    {
     "name": "stderr",
     "output_type": "stream",
     "text": [
<<<<<<< HEAD
      "INFO:tensorflow:Assets written to: C:\\Users\\ARTHUR~1\\AppData\\Local\\Temp\\tmpqlomafvd\\assets\n"
=======
      "INFO:tensorflow:Assets written to: C:\\Users\\DIOGOL~1\\AppData\\Local\\Temp\\tmpfghfe92p\\assets\n"
>>>>>>> 485b231fcf8a566362e3b0cd7d8b6a522edf4f37
     ]
    },
    {
     "name": "stdout",
     "output_type": "stream",
     "text": [
<<<<<<< HEAD
      "Saved artifact at 'C:\\Users\\ARTHUR~1\\AppData\\Local\\Temp\\tmpqlomafvd'. The following endpoints are available:\n",
      "\n",
      "* Endpoint 'serve'\n",
      "  args_0 (POSITIONAL_ONLY): TensorSpec(shape=(None, 42), dtype=tf.float32, name='input_layer_7')\n",
      "Output Type:\n",
      "  TensorSpec(shape=(None, 8), dtype=tf.float32, name=None)\n",
      "Captures:\n",
      "  1570045963600: TensorSpec(shape=(), dtype=tf.resource, name=None)\n",
      "  1570045967824: TensorSpec(shape=(), dtype=tf.resource, name=None)\n",
      "  1570045962640: TensorSpec(shape=(), dtype=tf.resource, name=None)\n",
      "  1570045965328: TensorSpec(shape=(), dtype=tf.resource, name=None)\n",
      "  1570045964368: TensorSpec(shape=(), dtype=tf.resource, name=None)\n",
      "  1570045968208: TensorSpec(shape=(), dtype=tf.resource, name=None)\n"
=======
      "Saved artifact at 'C:\\Users\\DIOGOL~1\\AppData\\Local\\Temp\\tmpfghfe92p'. The following endpoints are available:\n",
      "\n",
      "* Endpoint 'serve'\n",
      "  args_0 (POSITIONAL_ONLY): TensorSpec(shape=(None, 42), dtype=tf.float32, name='input_layer_1')\n",
      "Output Type:\n",
      "  TensorSpec(shape=(None, 9), dtype=tf.float32, name=None)\n",
      "Captures:\n",
      "  1243061216720: TensorSpec(shape=(), dtype=tf.resource, name=None)\n",
      "  1243061220560: TensorSpec(shape=(), dtype=tf.resource, name=None)\n",
      "  1243061219984: TensorSpec(shape=(), dtype=tf.resource, name=None)\n",
      "  1243061220752: TensorSpec(shape=(), dtype=tf.resource, name=None)\n",
      "  1243061221136: TensorSpec(shape=(), dtype=tf.resource, name=None)\n",
      "  1243061217296: TensorSpec(shape=(), dtype=tf.resource, name=None)\n"
>>>>>>> 485b231fcf8a566362e3b0cd7d8b6a522edf4f37
     ]
    },
    {
     "data": {
      "text/plain": [
<<<<<<< HEAD
       "6732"
      ]
     },
     "execution_count": 177,
=======
       "6760"
      ]
     },
     "execution_count": 39,
>>>>>>> 485b231fcf8a566362e3b0cd7d8b6a522edf4f37
     "metadata": {},
     "output_type": "execute_result"
    }
   ],
   "source": [
    "# Transforme o modelo (quantizar)\n",
    "tflite_save_path = f'model/{folder_name}/keypoint_classifier.tflite'\n",
    "\n",
    "converter = tf.lite.TFLiteConverter.from_keras_model(model)  # converter = tf.lite.TFLiteConverter.from_saved_model(saved_model_path)\n",
    "converter.optimizations = [tf.lite.Optimize.DEFAULT]\n",
    "tflite_quantized_model = converter.convert()\n",
    "\n",
    "open(tflite_save_path, 'wb').write(tflite_quantized_model)"
   ]
  },
  {
   "cell_type": "markdown",
   "metadata": {},
   "source": [
    "# Teste de raciocínio"
   ]
  },
  {
   "cell_type": "code",
<<<<<<< HEAD
   "execution_count": 178,
=======
   "execution_count": 40,
>>>>>>> 485b231fcf8a566362e3b0cd7d8b6a522edf4f37
   "metadata": {},
   "outputs": [],
   "source": [
    "interpreter = tf.lite.Interpreter(model_path=tflite_save_path)\n",
    "interpreter.allocate_tensors()"
   ]
  },
  {
   "cell_type": "code",
<<<<<<< HEAD
   "execution_count": 179,
=======
   "execution_count": 41,
>>>>>>> 485b231fcf8a566362e3b0cd7d8b6a522edf4f37
   "metadata": {},
   "outputs": [],
   "source": [
    "# Obtenha tensor de entrada/saída\n",
    "input_details = interpreter.get_input_details()\n",
    "output_details = interpreter.get_output_details()"
   ]
  },
  {
   "cell_type": "code",
<<<<<<< HEAD
   "execution_count": 180,
=======
   "execution_count": 42,
>>>>>>> 485b231fcf8a566362e3b0cd7d8b6a522edf4f37
   "metadata": {},
   "outputs": [],
   "source": [
    "interpreter.set_tensor(input_details[0]['index'], np.array([X_test[0]]))"
   ]
  },
  {
   "cell_type": "code",
<<<<<<< HEAD
   "execution_count": 181,
=======
   "execution_count": 43,
>>>>>>> 485b231fcf8a566362e3b0cd7d8b6a522edf4f37
   "metadata": {
    "scrolled": true
   },
   "outputs": [
    {
     "name": "stdout",
     "output_type": "stream",
     "text": [
      "CPU times: total: 0 ns\n",
      "Wall time: 0 ns\n"
     ]
    }
   ],
   "source": [
    "%%time\n",
    "# Implementação de inferência\n",
    "interpreter.invoke()\n",
    "tflite_results = interpreter.get_tensor(output_details[0]['index'])"
   ]
  },
  {
   "cell_type": "code",
<<<<<<< HEAD
   "execution_count": 182,
=======
   "execution_count": 44,
>>>>>>> 485b231fcf8a566362e3b0cd7d8b6a522edf4f37
   "metadata": {},
   "outputs": [
    {
     "name": "stdout",
     "output_type": "stream",
     "text": [
<<<<<<< HEAD
      "[1.6007723e-02 8.2985041e-09 7.3039210e-08 9.7908711e-01 1.3455836e-04\n",
      " 6.7233224e-05 8.3458284e-04 3.8686951e-03]\n",
      "3\n"
=======
      "[1.11885965e-02 2.12791296e-09 8.15698811e-12 1.70390859e-01\n",
      " 8.18346262e-01 7.86689998e-06 1.80679081e-07 2.35139487e-05\n",
      " 4.27273771e-05]\n",
      "4\n"
>>>>>>> 485b231fcf8a566362e3b0cd7d8b6a522edf4f37
     ]
    }
   ],
   "source": [
    "print(np.squeeze(tflite_results))\n",
    "print(np.argmax(np.squeeze(tflite_results)))"
   ]
  }
 ],
 "metadata": {
  "kernelspec": {
   "display_name": "Python 3",
   "language": "python",
   "name": "python3"
  },
  "language_info": {
   "codemirror_mode": {
    "name": "ipython",
    "version": 3
   },
   "file_extension": ".py",
   "mimetype": "text/x-python",
   "name": "python",
   "nbconvert_exporter": "python",
   "pygments_lexer": "ipython3",
   "version": "3.12.0"
  }
 },
 "nbformat": 4,
 "nbformat_minor": 4
}
