{
 "cells": [
  {
   "cell_type": "code",
<<<<<<< HEAD
   "execution_count": 3,
=======
   "execution_count": 137,
>>>>>>> a670b10a2d416f0045c8fcc87820154a5fd288e4
   "metadata": {},
   "outputs": [
    {
     "name": "stderr",
     "output_type": "stream",
     "text": [
      "2024-11-08 11:38:04.202296: I tensorflow/core/util/port.cc:153] oneDNN custom operations are on. You may see slightly different numerical results due to floating-point round-off errors from different computation orders. To turn them off, set the environment variable `TF_ENABLE_ONEDNN_OPTS=0`.\n",
      "2024-11-08 11:38:04.210867: I external/local_xla/xla/tsl/cuda/cudart_stub.cc:32] Could not find cuda drivers on your machine, GPU will not be used.\n",
      "2024-11-08 11:38:04.286229: I external/local_xla/xla/tsl/cuda/cudart_stub.cc:32] Could not find cuda drivers on your machine, GPU will not be used.\n",
      "2024-11-08 11:38:04.361944: E external/local_xla/xla/stream_executor/cuda/cuda_fft.cc:485] Unable to register cuFFT factory: Attempting to register factory for plugin cuFFT when one has already been registered\n",
      "2024-11-08 11:38:04.439981: E external/local_xla/xla/stream_executor/cuda/cuda_dnn.cc:8454] Unable to register cuDNN factory: Attempting to register factory for plugin cuDNN when one has already been registered\n",
      "2024-11-08 11:38:04.464495: E external/local_xla/xla/stream_executor/cuda/cuda_blas.cc:1452] Unable to register cuBLAS factory: Attempting to register factory for plugin cuBLAS when one has already been registered\n",
      "2024-11-08 11:38:04.582555: I tensorflow/core/platform/cpu_feature_guard.cc:210] This TensorFlow binary is optimized to use available CPU instructions in performance-critical operations.\n",
      "To enable the following instructions: AVX2 AVX512F AVX512_VNNI FMA, in other operations, rebuild TensorFlow with the appropriate compiler flags.\n",
      "2024-11-08 11:38:05.490499: W tensorflow/compiler/tf2tensorrt/utils/py_utils.cc:38] TF-TRT Warning: Could not find TensorRT\n"
     ]
    }
   ],
   "source": [
    "import csv\n",
    "\n",
    "import os\n",
    "import numpy as np\n",
    "import tensorflow as tf\n",
    "from sklearn.model_selection import train_test_split\n",
    "\n",
<<<<<<< HEAD
    "RANDOM_SEED = 0"
   ]
  },
  {
   "cell_type": "markdown",
   "metadata": {},
   "source": [
    "# 各パス指定"
=======
    "RANDOM_SEED = 42\n"
>>>>>>> a670b10a2d416f0045c8fcc87820154a5fd288e4
   ]
  },
  {
   "cell_type": "code",
<<<<<<< HEAD
   "execution_count": 4,
=======
   "execution_count": 138,
>>>>>>> a670b10a2d416f0045c8fcc87820154a5fd288e4
   "metadata": {},
   "outputs": [],
   "source": [
    "is_spelling_training = False"
   ]
  },
  {
   "cell_type": "markdown",
   "metadata": {},
   "source": [
    "# Especificando cada caminho"
   ]
  },
  {
   "cell_type": "code",
<<<<<<< HEAD
   "execution_count": 5,
   "metadata": {},
   "outputs": [],
   "source": [
    "NUM_CLASSES = 40"
=======
   "execution_count": 139,
   "metadata": {},
   "outputs": [],
   "source": [
    "folder_name = \"spelling_keypoint_classifier\" if is_spelling_training else \"sign_keypoint_classifier\"\n",
    "\n",
    "dataset = f'model/{folder_name}/keypoint.csv'\n",
    "model_save_path = f'model/{folder_name}/keypoint_classifier.keras'"
>>>>>>> a670b10a2d416f0045c8fcc87820154a5fd288e4
   ]
  },
  {
   "cell_type": "markdown",
   "metadata": {},
   "source": []
  },
  {
   "cell_type": "markdown",
   "metadata": {},
   "source": [
    "# Número de CM's Classificadas"
   ]
  },
  {
   "cell_type": "code",
<<<<<<< HEAD
   "execution_count": 6,
=======
   "execution_count": 140,
   "metadata": {},
   "outputs": [],
   "source": [
    "with open(f'model/{folder_name}/keypoint_classifier_label.csv',\n",
    "        encoding='utf-8-sig') as f:\n",
    "    NUM_CLASSES = sum(1 for row in csv.reader(f))"
   ]
  },
  {
   "cell_type": "markdown",
   "metadata": {},
   "source": [
    "# Carregar dados de aprendizagem"
   ]
  },
  {
   "cell_type": "code",
   "execution_count": 141,
>>>>>>> a670b10a2d416f0045c8fcc87820154a5fd288e4
   "metadata": {},
   "outputs": [],
   "source": [
    "X_dataset = np.loadtxt(\n",
    "    dataset, delimiter=',', dtype='float32', usecols=list(range(1, (21 * 2) + 1)))"
   ]
  },
  {
   "cell_type": "code",
<<<<<<< HEAD
   "execution_count": 7,
=======
   "execution_count": 142,
>>>>>>> a670b10a2d416f0045c8fcc87820154a5fd288e4
   "metadata": {},
   "outputs": [],
   "source": [
    "y_dataset = np.loadtxt(\n",
    "    dataset, delimiter=',', dtype='int32', usecols=(0))"
   ]
  },
  {
   "cell_type": "code",
<<<<<<< HEAD
   "execution_count": 8,
=======
   "execution_count": 143,
>>>>>>> a670b10a2d416f0045c8fcc87820154a5fd288e4
   "metadata": {},
   "outputs": [],
   "source": [
    "X_train, X_test, y_train, y_test = train_test_split(\n",
    "    X_dataset, y_dataset, train_size=0.2, random_state=RANDOM_SEED)"
   ]
  },
  {
   "cell_type": "markdown",
   "metadata": {},
   "source": [
    "# Construindo modelo"
   ]
  },
  {
   "cell_type": "code",
<<<<<<< HEAD
   "execution_count": 9,
=======
   "execution_count": 144,
>>>>>>> a670b10a2d416f0045c8fcc87820154a5fd288e4
   "metadata": {},
   "outputs": [],
   "source": [
    "model = tf.keras.models.Sequential([\n",
    "    tf.keras.layers.Input((21 * 2, )),\n",
    "    tf.keras.layers.Dropout(0.2),\n",
    "    tf.keras.layers.Dense(20, activation='relu'),\n",
    "    tf.keras.layers.Dropout(0.4),\n",
    "    tf.keras.layers.Dense(10, activation='relu'),\n",
    "    tf.keras.layers.Dense(NUM_CLASSES, activation='softmax')\n",
    "])"
   ]
  },
  {
   "cell_type": "code",
<<<<<<< HEAD
   "execution_count": 10,
=======
   "execution_count": 145,
>>>>>>> a670b10a2d416f0045c8fcc87820154a5fd288e4
   "metadata": {},
   "outputs": [
    {
     "data": {
      "text/html": [
<<<<<<< HEAD
       "<pre style=\"white-space:pre;overflow-x:auto;line-height:normal;font-family:Menlo,'DejaVu Sans Mono',consolas,'Courier New',monospace\"><span style=\"font-weight: bold\">Model: \"sequential\"</span>\n",
       "</pre>\n"
      ],
      "text/plain": [
       "\u001b[1mModel: \"sequential\"\u001b[0m\n"
=======
       "<pre style=\"white-space:pre;overflow-x:auto;line-height:normal;font-family:Menlo,'DejaVu Sans Mono',consolas,'Courier New',monospace\"><span style=\"font-weight: bold\">Model: \"sequential_6\"</span>\n",
       "</pre>\n"
      ],
      "text/plain": [
       "\u001b[1mModel: \"sequential_6\"\u001b[0m\n"
>>>>>>> a670b10a2d416f0045c8fcc87820154a5fd288e4
      ]
     },
     "metadata": {},
     "output_type": "display_data"
    },
    {
     "data": {
      "text/html": [
       "<pre style=\"white-space:pre;overflow-x:auto;line-height:normal;font-family:Menlo,'DejaVu Sans Mono',consolas,'Courier New',monospace\">┏━━━━━━━━━━━━━━━━━━━━━━━━━━━━━━━━━┳━━━━━━━━━━━━━━━━━━━━━━━━┳━━━━━━━━━━━━━━━┓\n",
       "┃<span style=\"font-weight: bold\"> Layer (type)                    </span>┃<span style=\"font-weight: bold\"> Output Shape           </span>┃<span style=\"font-weight: bold\">       Param # </span>┃\n",
       "┡━━━━━━━━━━━━━━━━━━━━━━━━━━━━━━━━━╇━━━━━━━━━━━━━━━━━━━━━━━━╇━━━━━━━━━━━━━━━┩\n",
<<<<<<< HEAD
       "│ dropout (<span style=\"color: #0087ff; text-decoration-color: #0087ff\">Dropout</span>)               │ (<span style=\"color: #00d7ff; text-decoration-color: #00d7ff\">None</span>, <span style=\"color: #00af00; text-decoration-color: #00af00\">42</span>)             │             <span style=\"color: #00af00; text-decoration-color: #00af00\">0</span> │\n",
       "├─────────────────────────────────┼────────────────────────┼───────────────┤\n",
       "│ dense (<span style=\"color: #0087ff; text-decoration-color: #0087ff\">Dense</span>)                   │ (<span style=\"color: #00d7ff; text-decoration-color: #00d7ff\">None</span>, <span style=\"color: #00af00; text-decoration-color: #00af00\">20</span>)             │           <span style=\"color: #00af00; text-decoration-color: #00af00\">860</span> │\n",
       "├─────────────────────────────────┼────────────────────────┼───────────────┤\n",
       "│ dropout_1 (<span style=\"color: #0087ff; text-decoration-color: #0087ff\">Dropout</span>)             │ (<span style=\"color: #00d7ff; text-decoration-color: #00d7ff\">None</span>, <span style=\"color: #00af00; text-decoration-color: #00af00\">20</span>)             │             <span style=\"color: #00af00; text-decoration-color: #00af00\">0</span> │\n",
       "├─────────────────────────────────┼────────────────────────┼───────────────┤\n",
       "│ dense_1 (<span style=\"color: #0087ff; text-decoration-color: #0087ff\">Dense</span>)                 │ (<span style=\"color: #00d7ff; text-decoration-color: #00d7ff\">None</span>, <span style=\"color: #00af00; text-decoration-color: #00af00\">10</span>)             │           <span style=\"color: #00af00; text-decoration-color: #00af00\">210</span> │\n",
       "├─────────────────────────────────┼────────────────────────┼───────────────┤\n",
       "│ dense_2 (<span style=\"color: #0087ff; text-decoration-color: #0087ff\">Dense</span>)                 │ (<span style=\"color: #00d7ff; text-decoration-color: #00d7ff\">None</span>, <span style=\"color: #00af00; text-decoration-color: #00af00\">40</span>)             │           <span style=\"color: #00af00; text-decoration-color: #00af00\">440</span> │\n",
=======
       "│ dropout_12 (<span style=\"color: #0087ff; text-decoration-color: #0087ff\">Dropout</span>)            │ (<span style=\"color: #00d7ff; text-decoration-color: #00d7ff\">None</span>, <span style=\"color: #00af00; text-decoration-color: #00af00\">42</span>)             │             <span style=\"color: #00af00; text-decoration-color: #00af00\">0</span> │\n",
       "├─────────────────────────────────┼────────────────────────┼───────────────┤\n",
       "│ dense_18 (<span style=\"color: #0087ff; text-decoration-color: #0087ff\">Dense</span>)                │ (<span style=\"color: #00d7ff; text-decoration-color: #00d7ff\">None</span>, <span style=\"color: #00af00; text-decoration-color: #00af00\">20</span>)             │           <span style=\"color: #00af00; text-decoration-color: #00af00\">860</span> │\n",
       "├─────────────────────────────────┼────────────────────────┼───────────────┤\n",
       "│ dropout_13 (<span style=\"color: #0087ff; text-decoration-color: #0087ff\">Dropout</span>)            │ (<span style=\"color: #00d7ff; text-decoration-color: #00d7ff\">None</span>, <span style=\"color: #00af00; text-decoration-color: #00af00\">20</span>)             │             <span style=\"color: #00af00; text-decoration-color: #00af00\">0</span> │\n",
       "├─────────────────────────────────┼────────────────────────┼───────────────┤\n",
       "│ dense_19 (<span style=\"color: #0087ff; text-decoration-color: #0087ff\">Dense</span>)                │ (<span style=\"color: #00d7ff; text-decoration-color: #00d7ff\">None</span>, <span style=\"color: #00af00; text-decoration-color: #00af00\">10</span>)             │           <span style=\"color: #00af00; text-decoration-color: #00af00\">210</span> │\n",
       "├─────────────────────────────────┼────────────────────────┼───────────────┤\n",
       "│ dense_20 (<span style=\"color: #0087ff; text-decoration-color: #0087ff\">Dense</span>)                │ (<span style=\"color: #00d7ff; text-decoration-color: #00d7ff\">None</span>, <span style=\"color: #00af00; text-decoration-color: #00af00\">8</span>)              │            <span style=\"color: #00af00; text-decoration-color: #00af00\">88</span> │\n",
>>>>>>> a670b10a2d416f0045c8fcc87820154a5fd288e4
       "└─────────────────────────────────┴────────────────────────┴───────────────┘\n",
       "</pre>\n"
      ],
      "text/plain": [
       "┏━━━━━━━━━━━━━━━━━━━━━━━━━━━━━━━━━┳━━━━━━━━━━━━━━━━━━━━━━━━┳━━━━━━━━━━━━━━━┓\n",
       "┃\u001b[1m \u001b[0m\u001b[1mLayer (type)                   \u001b[0m\u001b[1m \u001b[0m┃\u001b[1m \u001b[0m\u001b[1mOutput Shape          \u001b[0m\u001b[1m \u001b[0m┃\u001b[1m \u001b[0m\u001b[1m      Param #\u001b[0m\u001b[1m \u001b[0m┃\n",
       "┡━━━━━━━━━━━━━━━━━━━━━━━━━━━━━━━━━╇━━━━━━━━━━━━━━━━━━━━━━━━╇━━━━━━━━━━━━━━━┩\n",
<<<<<<< HEAD
       "│ dropout (\u001b[38;5;33mDropout\u001b[0m)               │ (\u001b[38;5;45mNone\u001b[0m, \u001b[38;5;34m42\u001b[0m)             │             \u001b[38;5;34m0\u001b[0m │\n",
       "├─────────────────────────────────┼────────────────────────┼───────────────┤\n",
       "│ dense (\u001b[38;5;33mDense\u001b[0m)                   │ (\u001b[38;5;45mNone\u001b[0m, \u001b[38;5;34m20\u001b[0m)             │           \u001b[38;5;34m860\u001b[0m │\n",
       "├─────────────────────────────────┼────────────────────────┼───────────────┤\n",
       "│ dropout_1 (\u001b[38;5;33mDropout\u001b[0m)             │ (\u001b[38;5;45mNone\u001b[0m, \u001b[38;5;34m20\u001b[0m)             │             \u001b[38;5;34m0\u001b[0m │\n",
       "├─────────────────────────────────┼────────────────────────┼───────────────┤\n",
       "│ dense_1 (\u001b[38;5;33mDense\u001b[0m)                 │ (\u001b[38;5;45mNone\u001b[0m, \u001b[38;5;34m10\u001b[0m)             │           \u001b[38;5;34m210\u001b[0m │\n",
       "├─────────────────────────────────┼────────────────────────┼───────────────┤\n",
       "│ dense_2 (\u001b[38;5;33mDense\u001b[0m)                 │ (\u001b[38;5;45mNone\u001b[0m, \u001b[38;5;34m40\u001b[0m)             │           \u001b[38;5;34m440\u001b[0m │\n",
=======
       "│ dropout_12 (\u001b[38;5;33mDropout\u001b[0m)            │ (\u001b[38;5;45mNone\u001b[0m, \u001b[38;5;34m42\u001b[0m)             │             \u001b[38;5;34m0\u001b[0m │\n",
       "├─────────────────────────────────┼────────────────────────┼───────────────┤\n",
       "│ dense_18 (\u001b[38;5;33mDense\u001b[0m)                │ (\u001b[38;5;45mNone\u001b[0m, \u001b[38;5;34m20\u001b[0m)             │           \u001b[38;5;34m860\u001b[0m │\n",
       "├─────────────────────────────────┼────────────────────────┼───────────────┤\n",
       "│ dropout_13 (\u001b[38;5;33mDropout\u001b[0m)            │ (\u001b[38;5;45mNone\u001b[0m, \u001b[38;5;34m20\u001b[0m)             │             \u001b[38;5;34m0\u001b[0m │\n",
       "├─────────────────────────────────┼────────────────────────┼───────────────┤\n",
       "│ dense_19 (\u001b[38;5;33mDense\u001b[0m)                │ (\u001b[38;5;45mNone\u001b[0m, \u001b[38;5;34m10\u001b[0m)             │           \u001b[38;5;34m210\u001b[0m │\n",
       "├─────────────────────────────────┼────────────────────────┼───────────────┤\n",
       "│ dense_20 (\u001b[38;5;33mDense\u001b[0m)                │ (\u001b[38;5;45mNone\u001b[0m, \u001b[38;5;34m8\u001b[0m)              │            \u001b[38;5;34m88\u001b[0m │\n",
>>>>>>> a670b10a2d416f0045c8fcc87820154a5fd288e4
       "└─────────────────────────────────┴────────────────────────┴───────────────┘\n"
      ]
     },
     "metadata": {},
     "output_type": "display_data"
    },
    {
     "data": {
      "text/html": [
<<<<<<< HEAD
       "<pre style=\"white-space:pre;overflow-x:auto;line-height:normal;font-family:Menlo,'DejaVu Sans Mono',consolas,'Courier New',monospace\"><span style=\"font-weight: bold\"> Total params: </span><span style=\"color: #00af00; text-decoration-color: #00af00\">1,510</span> (5.90 KB)\n",
       "</pre>\n"
      ],
      "text/plain": [
       "\u001b[1m Total params: \u001b[0m\u001b[38;5;34m1,510\u001b[0m (5.90 KB)\n"
=======
       "<pre style=\"white-space:pre;overflow-x:auto;line-height:normal;font-family:Menlo,'DejaVu Sans Mono',consolas,'Courier New',monospace\"><span style=\"font-weight: bold\"> Total params: </span><span style=\"color: #00af00; text-decoration-color: #00af00\">1,158</span> (4.52 KB)\n",
       "</pre>\n"
      ],
      "text/plain": [
       "\u001b[1m Total params: \u001b[0m\u001b[38;5;34m1,158\u001b[0m (4.52 KB)\n"
>>>>>>> a670b10a2d416f0045c8fcc87820154a5fd288e4
      ]
     },
     "metadata": {},
     "output_type": "display_data"
    },
    {
     "data": {
      "text/html": [
<<<<<<< HEAD
       "<pre style=\"white-space:pre;overflow-x:auto;line-height:normal;font-family:Menlo,'DejaVu Sans Mono',consolas,'Courier New',monospace\"><span style=\"font-weight: bold\"> Trainable params: </span><span style=\"color: #00af00; text-decoration-color: #00af00\">1,510</span> (5.90 KB)\n",
       "</pre>\n"
      ],
      "text/plain": [
       "\u001b[1m Trainable params: \u001b[0m\u001b[38;5;34m1,510\u001b[0m (5.90 KB)\n"
=======
       "<pre style=\"white-space:pre;overflow-x:auto;line-height:normal;font-family:Menlo,'DejaVu Sans Mono',consolas,'Courier New',monospace\"><span style=\"font-weight: bold\"> Trainable params: </span><span style=\"color: #00af00; text-decoration-color: #00af00\">1,158</span> (4.52 KB)\n",
       "</pre>\n"
      ],
      "text/plain": [
       "\u001b[1m Trainable params: \u001b[0m\u001b[38;5;34m1,158\u001b[0m (4.52 KB)\n"
>>>>>>> a670b10a2d416f0045c8fcc87820154a5fd288e4
      ]
     },
     "metadata": {},
     "output_type": "display_data"
    },
    {
     "data": {
      "text/html": [
       "<pre style=\"white-space:pre;overflow-x:auto;line-height:normal;font-family:Menlo,'DejaVu Sans Mono',consolas,'Courier New',monospace\"><span style=\"font-weight: bold\"> Non-trainable params: </span><span style=\"color: #00af00; text-decoration-color: #00af00\">0</span> (0.00 B)\n",
       "</pre>\n"
      ],
      "text/plain": [
       "\u001b[1m Non-trainable params: \u001b[0m\u001b[38;5;34m0\u001b[0m (0.00 B)\n"
      ]
     },
     "metadata": {},
     "output_type": "display_data"
    }
   ],
   "source": [
    "model.summary()  # tf.keras.utils.plot_model(model, show_shapes=True)"
   ]
  },
  {
   "cell_type": "code",
<<<<<<< HEAD
   "execution_count": 11,
=======
   "execution_count": 146,
>>>>>>> a670b10a2d416f0045c8fcc87820154a5fd288e4
   "metadata": {},
   "outputs": [],
   "source": [
    "# Callback de ponto de verificação do modelo\n",
    "cp_callback = tf.keras.callbacks.ModelCheckpoint(\n",
    "    model_save_path, verbose=1, save_weights_only=False)\n",
    "# Callback para interrupção antecipada\n",
    "es_callback = tf.keras.callbacks.EarlyStopping(patience=20, verbose=1)"
   ]
  },
  {
   "cell_type": "code",
<<<<<<< HEAD
   "execution_count": 12,
=======
   "execution_count": 147,
>>>>>>> a670b10a2d416f0045c8fcc87820154a5fd288e4
   "metadata": {},
   "outputs": [],
   "source": [
    "# Compilação do modelo\n",
    "model.compile(\n",
    "    optimizer='adam',\n",
    "    loss='sparse_categorical_crossentropy',\n",
    "    metrics=['accuracy']\n",
    ")"
   ]
  },
  {
   "cell_type": "markdown",
   "metadata": {},
   "source": [
    "# Treinamento do Modelo"
   ]
  },
  {
   "cell_type": "code",
<<<<<<< HEAD
   "execution_count": 13,
=======
   "execution_count": 148,
>>>>>>> a670b10a2d416f0045c8fcc87820154a5fd288e4
   "metadata": {
    "scrolled": true
   },
   "outputs": [
    {
     "name": "stdout",
     "output_type": "stream",
     "text": [
      "Epoch 1/1000\n",
<<<<<<< HEAD
      "\u001b[1m110/121\u001b[0m \u001b[32m━━━━━━━━━━━━━━━━━━\u001b[0m\u001b[37m━━\u001b[0m \u001b[1m0s\u001b[0m 920us/step - accuracy: 0.0470 - loss: 3.6021\n",
      "Epoch 1: saving model to model/keypoint_classifier/keypoint_classifier.keras\n",
      "\u001b[1m121/121\u001b[0m \u001b[32m━━━━━━━━━━━━━━━━━━━━\u001b[0m\u001b[37m\u001b[0m \u001b[1m1s\u001b[0m 4ms/step - accuracy: 0.0488 - loss: 3.5878 - val_accuracy: 0.1774 - val_loss: 3.0205\n",
      "Epoch 2/1000\n",
      "\u001b[1m 63/121\u001b[0m \u001b[32m━━━━━━━━━━\u001b[0m\u001b[37m━━━━━━━━━━\u001b[0m \u001b[1m0s\u001b[0m 808us/step - accuracy: 0.1208 - loss: 2.9958\n",
      "Epoch 2: saving model to model/keypoint_classifier/keypoint_classifier.keras\n",
      "\u001b[1m121/121\u001b[0m \u001b[32m━━━━━━━━━━━━━━━━━━━━\u001b[0m\u001b[37m\u001b[0m \u001b[1m0s\u001b[0m 3ms/step - accuracy: 0.1317 - loss: 2.9156 - val_accuracy: 0.1943 - val_loss: 2.4458\n",
      "Epoch 3/1000\n",
      "\u001b[1m115/121\u001b[0m \u001b[32m━━━━━━━━━━━━━━━━━━━\u001b[0m\u001b[37m━\u001b[0m \u001b[1m0s\u001b[0m 885us/step - accuracy: 0.1907 - loss: 2.5167\n",
      "Epoch 3: saving model to model/keypoint_classifier/keypoint_classifier.keras\n",
      "\u001b[1m121/121\u001b[0m \u001b[32m━━━━━━━━━━━━━━━━━━━━\u001b[0m\u001b[37m\u001b[0m \u001b[1m0s\u001b[0m 3ms/step - accuracy: 0.1910 - loss: 2.5144 - val_accuracy: 0.2468 - val_loss: 2.2175\n",
      "Epoch 4/1000\n",
      "\u001b[1m109/121\u001b[0m \u001b[32m━━━━━━━━━━━━━━━━━━\u001b[0m\u001b[37m━━\u001b[0m \u001b[1m0s\u001b[0m 936us/step - accuracy: 0.2210 - loss: 2.3513\n",
      "Epoch 4: saving model to model/keypoint_classifier/keypoint_classifier.keras\n",
      "\u001b[1m121/121\u001b[0m \u001b[32m━━━━━━━━━━━━━━━━━━━━\u001b[0m\u001b[37m\u001b[0m \u001b[1m0s\u001b[0m 3ms/step - accuracy: 0.2222 - loss: 2.3464 - val_accuracy: 0.3543 - val_loss: 2.0540\n",
      "Epoch 5/1000\n",
      "\u001b[1m 64/121\u001b[0m \u001b[32m━━━━━━━━━━\u001b[0m\u001b[37m━━━━━━━━━━\u001b[0m \u001b[1m0s\u001b[0m 801us/step - accuracy: 0.2564 - loss: 2.2338\n",
      "Epoch 5: saving model to model/keypoint_classifier/keypoint_classifier.keras\n",
      "\u001b[1m121/121\u001b[0m \u001b[32m━━━━━━━━━━━━━━━━━━━━\u001b[0m\u001b[37m\u001b[0m \u001b[1m0s\u001b[0m 3ms/step - accuracy: 0.2581 - loss: 2.2173 - val_accuracy: 0.4136 - val_loss: 1.9234\n",
      "Epoch 6/1000\n",
      "\u001b[1m116/121\u001b[0m \u001b[32m━━━━━━━━━━━━━━━━━━━\u001b[0m\u001b[37m━\u001b[0m \u001b[1m0s\u001b[0m 877us/step - accuracy: 0.2815 - loss: 2.1306\n",
      "Epoch 6: saving model to model/keypoint_classifier/keypoint_classifier.keras\n",
      "\u001b[1m121/121\u001b[0m \u001b[32m━━━━━━━━━━━━━━━━━━━━\u001b[0m\u001b[37m\u001b[0m \u001b[1m0s\u001b[0m 3ms/step - accuracy: 0.2818 - loss: 2.1288 - val_accuracy: 0.4373 - val_loss: 1.8016\n",
      "Epoch 7/1000\n",
      "\u001b[1m 71/121\u001b[0m \u001b[32m━━━━━━━━━━━\u001b[0m\u001b[37m━━━━━━━━━\u001b[0m \u001b[1m0s\u001b[0m 715us/step - accuracy: 0.2881 - loss: 2.0534\n",
      "Epoch 7: saving model to model/keypoint_classifier/keypoint_classifier.keras\n",
      "\u001b[1m121/121\u001b[0m \u001b[32m━━━━━━━━━━━━━━━━━━━━\u001b[0m\u001b[37m\u001b[0m \u001b[1m0s\u001b[0m 3ms/step - accuracy: 0.2937 - loss: 2.0436 - val_accuracy: 0.4586 - val_loss: 1.7068\n",
      "Epoch 8/1000\n",
      "\u001b[1m116/121\u001b[0m \u001b[32m━━━━━━━━━━━━━━━━━━━\u001b[0m\u001b[37m━\u001b[0m \u001b[1m0s\u001b[0m 876us/step - accuracy: 0.3110 - loss: 1.9712\n",
      "Epoch 8: saving model to model/keypoint_classifier/keypoint_classifier.keras\n",
      "\u001b[1m121/121\u001b[0m \u001b[32m━━━━━━━━━━━━━━━━━━━━\u001b[0m\u001b[37m\u001b[0m \u001b[1m0s\u001b[0m 3ms/step - accuracy: 0.3114 - loss: 1.9707 - val_accuracy: 0.4321 - val_loss: 1.6374\n",
      "Epoch 9/1000\n",
      "\u001b[1m111/121\u001b[0m \u001b[32m━━━━━━━━━━━━━━━━━━\u001b[0m\u001b[37m━━\u001b[0m \u001b[1m0s\u001b[0m 912us/step - accuracy: 0.3235 - loss: 1.9265\n",
      "Epoch 9: saving model to model/keypoint_classifier/keypoint_classifier.keras\n",
      "\u001b[1m121/121\u001b[0m \u001b[32m━━━━━━━━━━━━━━━━━━━━\u001b[0m\u001b[37m\u001b[0m \u001b[1m0s\u001b[0m 3ms/step - accuracy: 0.3245 - loss: 1.9254 - val_accuracy: 0.5240 - val_loss: 1.5796\n",
      "Epoch 10/1000\n",
      "\u001b[1m117/121\u001b[0m \u001b[32m━━━━━━━━━━━━━━━━━━━\u001b[0m\u001b[37m━\u001b[0m \u001b[1m0s\u001b[0m 867us/step - accuracy: 0.3371 - loss: 1.8828\n",
      "Epoch 10: saving model to model/keypoint_classifier/keypoint_classifier.keras\n",
      "\u001b[1m121/121\u001b[0m \u001b[32m━━━━━━━━━━━━━━━━━━━━\u001b[0m\u001b[37m\u001b[0m \u001b[1m0s\u001b[0m 3ms/step - accuracy: 0.3373 - loss: 1.8827 - val_accuracy: 0.5026 - val_loss: 1.5240\n",
      "Epoch 11/1000\n",
      "\u001b[1m113/121\u001b[0m \u001b[32m━━━━━━━━━━━━━━━━━━\u001b[0m\u001b[37m━━\u001b[0m \u001b[1m0s\u001b[0m 898us/step - accuracy: 0.3472 - loss: 1.8565\n",
      "Epoch 11: saving model to model/keypoint_classifier/keypoint_classifier.keras\n",
      "\u001b[1m121/121\u001b[0m \u001b[32m━━━━━━━━━━━━━━━━━━━━\u001b[0m\u001b[37m\u001b[0m \u001b[1m0s\u001b[0m 3ms/step - accuracy: 0.3479 - loss: 1.8558 - val_accuracy: 0.4973 - val_loss: 1.4862\n",
      "Epoch 12/1000\n",
      "\u001b[1m 54/121\u001b[0m \u001b[32m━━━━━━━━\u001b[0m\u001b[37m━━━━━━━━━━━━\u001b[0m \u001b[1m0s\u001b[0m 949us/step - accuracy: 0.3649 - loss: 1.8223\n",
      "Epoch 12: saving model to model/keypoint_classifier/keypoint_classifier.keras\n",
      "\u001b[1m121/121\u001b[0m \u001b[32m━━━━━━━━━━━━━━━━━━━━\u001b[0m\u001b[37m\u001b[0m \u001b[1m0s\u001b[0m 3ms/step - accuracy: 0.3665 - loss: 1.8171 - val_accuracy: 0.5048 - val_loss: 1.4443\n",
      "Epoch 13/1000\n",
      "\u001b[1m 76/121\u001b[0m \u001b[32m━━━━━━━━━━━━\u001b[0m\u001b[37m━━━━━━━━\u001b[0m \u001b[1m0s\u001b[0m 668us/step - accuracy: 0.3673 - loss: 1.8025\n",
      "Epoch 13: saving model to model/keypoint_classifier/keypoint_classifier.keras\n",
      "\u001b[1m121/121\u001b[0m \u001b[32m━━━━━━━━━━━━━━━━━━━━\u001b[0m\u001b[37m\u001b[0m \u001b[1m0s\u001b[0m 3ms/step - accuracy: 0.3664 - loss: 1.8005 - val_accuracy: 0.5035 - val_loss: 1.4200\n",
      "Epoch 14/1000\n",
      "\u001b[1m112/121\u001b[0m \u001b[32m━━━━━━━━━━━━━━━━━━\u001b[0m\u001b[37m━━\u001b[0m \u001b[1m0s\u001b[0m 915us/step - accuracy: 0.3839 - loss: 1.7690\n",
      "Epoch 14: saving model to model/keypoint_classifier/keypoint_classifier.keras\n",
      "\u001b[1m121/121\u001b[0m \u001b[32m━━━━━━━━━━━━━━━━━━━━\u001b[0m\u001b[37m\u001b[0m \u001b[1m0s\u001b[0m 3ms/step - accuracy: 0.3835 - loss: 1.7687 - val_accuracy: 0.5049 - val_loss: 1.3906\n",
      "Epoch 15/1000\n",
      "\u001b[1m 81/121\u001b[0m \u001b[32m━━━━━━━━━━━━━\u001b[0m\u001b[37m━━━━━━━\u001b[0m \u001b[1m0s\u001b[0m 629us/step - accuracy: 0.3778 - loss: 1.7798\n",
      "Epoch 15: saving model to model/keypoint_classifier/keypoint_classifier.keras\n",
      "\u001b[1m121/121\u001b[0m \u001b[32m━━━━━━━━━━━━━━━━━━━━\u001b[0m\u001b[37m\u001b[0m \u001b[1m0s\u001b[0m 2ms/step - accuracy: 0.3796 - loss: 1.7719 - val_accuracy: 0.5232 - val_loss: 1.3658\n",
      "Epoch 16/1000\n",
      "\u001b[1m 66/121\u001b[0m \u001b[32m━━━━━━━━━━\u001b[0m\u001b[37m━━━━━━━━━━\u001b[0m \u001b[1m0s\u001b[0m 776us/step - accuracy: 0.3866 - loss: 1.7479\n",
      "Epoch 16: saving model to model/keypoint_classifier/keypoint_classifier.keras\n",
      "\u001b[1m121/121\u001b[0m \u001b[32m━━━━━━━━━━━━━━━━━━━━\u001b[0m\u001b[37m\u001b[0m \u001b[1m0s\u001b[0m 3ms/step - accuracy: 0.3874 - loss: 1.7446 - val_accuracy: 0.5341 - val_loss: 1.3488\n",
      "Epoch 17/1000\n",
      "\u001b[1m 75/121\u001b[0m \u001b[32m━━━━━━━━━━━━\u001b[0m\u001b[37m━━━━━━━━\u001b[0m \u001b[1m0s\u001b[0m 676us/step - accuracy: 0.3751 - loss: 1.7443\n",
      "Epoch 17: saving model to model/keypoint_classifier/keypoint_classifier.keras\n",
      "\u001b[1m121/121\u001b[0m \u001b[32m━━━━━━━━━━━━━━━━━━━━\u001b[0m\u001b[37m\u001b[0m \u001b[1m0s\u001b[0m 3ms/step - accuracy: 0.3806 - loss: 1.7393 - val_accuracy: 0.5307 - val_loss: 1.3285\n",
      "Epoch 18/1000\n",
      "\u001b[1m 76/121\u001b[0m \u001b[32m━━━━━━━━━━━━\u001b[0m\u001b[37m━━━━━━━━\u001b[0m \u001b[1m0s\u001b[0m 672us/step - accuracy: 0.3970 - loss: 1.7262\n",
      "Epoch 18: saving model to model/keypoint_classifier/keypoint_classifier.keras\n",
      "\u001b[1m121/121\u001b[0m \u001b[32m━━━━━━━━━━━━━━━━━━━━\u001b[0m\u001b[37m\u001b[0m \u001b[1m0s\u001b[0m 3ms/step - accuracy: 0.3979 - loss: 1.7219 - val_accuracy: 0.5272 - val_loss: 1.3067\n",
      "Epoch 19/1000\n",
      "\u001b[1m 55/121\u001b[0m \u001b[32m━━━━━━━━━\u001b[0m\u001b[37m━━━━━━━━━━━\u001b[0m \u001b[1m0s\u001b[0m 2ms/step - accuracy: 0.3837 - loss: 1.7275\n",
      "Epoch 19: saving model to model/keypoint_classifier/keypoint_classifier.keras\n",
      "\u001b[1m121/121\u001b[0m \u001b[32m━━━━━━━━━━━━━━━━━━━━\u001b[0m\u001b[37m\u001b[0m \u001b[1m0s\u001b[0m 3ms/step - accuracy: 0.3896 - loss: 1.7167 - val_accuracy: 0.5597 - val_loss: 1.2911\n",
      "Epoch 20/1000\n",
      "\u001b[1m 66/121\u001b[0m \u001b[32m━━━━━━━━━━\u001b[0m\u001b[37m━━━━━━━━━━\u001b[0m \u001b[1m0s\u001b[0m 770us/step - accuracy: 0.3964 - loss: 1.6851\n",
      "Epoch 20: saving model to model/keypoint_classifier/keypoint_classifier.keras\n",
      "\u001b[1m121/121\u001b[0m \u001b[32m━━━━━━━━━━━━━━━━━━━━\u001b[0m\u001b[37m\u001b[0m \u001b[1m0s\u001b[0m 3ms/step - accuracy: 0.3954 - loss: 1.6841 - val_accuracy: 0.5405 - val_loss: 1.2876\n",
      "Epoch 21/1000\n",
      "\u001b[1m 66/121\u001b[0m \u001b[32m━━━━━━━━━━\u001b[0m\u001b[37m━━━━━━━━━━\u001b[0m \u001b[1m0s\u001b[0m 772us/step - accuracy: 0.4214 - loss: 1.6618\n",
      "Epoch 21: saving model to model/keypoint_classifier/keypoint_classifier.keras\n",
      "\u001b[1m121/121\u001b[0m \u001b[32m━━━━━━━━━━━━━━━━━━━━\u001b[0m\u001b[37m\u001b[0m \u001b[1m0s\u001b[0m 3ms/step - accuracy: 0.4146 - loss: 1.6706 - val_accuracy: 0.5748 - val_loss: 1.2739\n",
      "Epoch 22/1000\n",
      "\u001b[1m116/121\u001b[0m \u001b[32m━━━━━━━━━━━━━━━━━━━\u001b[0m\u001b[37m━\u001b[0m \u001b[1m0s\u001b[0m 894us/step - accuracy: 0.4004 - loss: 1.6789\n",
      "Epoch 22: saving model to model/keypoint_classifier/keypoint_classifier.keras\n",
      "\u001b[1m121/121\u001b[0m \u001b[32m━━━━━━━━━━━━━━━━━━━━\u001b[0m\u001b[37m\u001b[0m \u001b[1m0s\u001b[0m 3ms/step - accuracy: 0.4005 - loss: 1.6791 - val_accuracy: 0.5806 - val_loss: 1.2513\n",
      "Epoch 23/1000\n",
      "\u001b[1m 68/121\u001b[0m \u001b[32m━━━━━━━━━━━\u001b[0m\u001b[37m━━━━━━━━━\u001b[0m \u001b[1m0s\u001b[0m 756us/step - accuracy: 0.4053 - loss: 1.6785\n",
      "Epoch 23: saving model to model/keypoint_classifier/keypoint_classifier.keras\n",
      "\u001b[1m121/121\u001b[0m \u001b[32m━━━━━━━━━━━━━━━━━━━━\u001b[0m\u001b[37m\u001b[0m \u001b[1m0s\u001b[0m 4ms/step - accuracy: 0.4062 - loss: 1.6732 - val_accuracy: 0.5703 - val_loss: 1.2435\n",
      "Epoch 24/1000\n",
      "\u001b[1m106/121\u001b[0m \u001b[32m━━━━━━━━━━━━━━━━━\u001b[0m\u001b[37m━━━\u001b[0m \u001b[1m0s\u001b[0m 958us/step - accuracy: 0.4082 - loss: 1.6722\n",
      "Epoch 24: saving model to model/keypoint_classifier/keypoint_classifier.keras\n",
      "\u001b[1m121/121\u001b[0m \u001b[32m━━━━━━━━━━━━━━━━━━━━\u001b[0m\u001b[37m\u001b[0m \u001b[1m1s\u001b[0m 4ms/step - accuracy: 0.4083 - loss: 1.6705 - val_accuracy: 0.5662 - val_loss: 1.2295\n",
      "Epoch 25/1000\n",
      "\u001b[1m 89/121\u001b[0m \u001b[32m━━━━━━━━━━━━━━\u001b[0m\u001b[37m━━━━━━\u001b[0m \u001b[1m0s\u001b[0m 1ms/step - accuracy: 0.4164 - loss: 1.6394\n",
      "Epoch 25: saving model to model/keypoint_classifier/keypoint_classifier.keras\n",
      "\u001b[1m121/121\u001b[0m \u001b[32m━━━━━━━━━━━━━━━━━━━━\u001b[0m\u001b[37m\u001b[0m \u001b[1m1s\u001b[0m 4ms/step - accuracy: 0.4160 - loss: 1.6382 - val_accuracy: 0.5724 - val_loss: 1.2104\n",
      "Epoch 26/1000\n",
      "\u001b[1m 68/121\u001b[0m \u001b[32m━━━━━━━━━━━\u001b[0m\u001b[37m━━━━━━━━━\u001b[0m \u001b[1m0s\u001b[0m 747us/step - accuracy: 0.4143 - loss: 1.6479\n",
      "Epoch 26: saving model to model/keypoint_classifier/keypoint_classifier.keras\n",
      "\u001b[1m121/121\u001b[0m \u001b[32m━━━━━━━━━━━━━━━━━━━━\u001b[0m\u001b[37m\u001b[0m \u001b[1m0s\u001b[0m 3ms/step - accuracy: 0.4155 - loss: 1.6413 - val_accuracy: 0.5683 - val_loss: 1.2054\n",
      "Epoch 27/1000\n",
      "\u001b[1m106/121\u001b[0m \u001b[32m━━━━━━━━━━━━━━━━━\u001b[0m\u001b[37m━━━\u001b[0m \u001b[1m0s\u001b[0m 958us/step - accuracy: 0.4230 - loss: 1.6441\n",
      "Epoch 27: saving model to model/keypoint_classifier/keypoint_classifier.keras\n",
      "\u001b[1m121/121\u001b[0m \u001b[32m━━━━━━━━━━━━━━━━━━━━\u001b[0m\u001b[37m\u001b[0m \u001b[1m0s\u001b[0m 3ms/step - accuracy: 0.4231 - loss: 1.6426 - val_accuracy: 0.5659 - val_loss: 1.1934\n",
      "Epoch 28/1000\n",
      "\u001b[1m121/121\u001b[0m \u001b[32m━━━━━━━━━━━━━━━━━━━━\u001b[0m\u001b[37m\u001b[0m \u001b[1m0s\u001b[0m 1ms/step - accuracy: 0.4210 - loss: 1.6337\n",
      "Epoch 28: saving model to model/keypoint_classifier/keypoint_classifier.keras\n",
      "\u001b[1m121/121\u001b[0m \u001b[32m━━━━━━━━━━━━━━━━━━━━\u001b[0m\u001b[37m\u001b[0m \u001b[1m0s\u001b[0m 4ms/step - accuracy: 0.4210 - loss: 1.6338 - val_accuracy: 0.5745 - val_loss: 1.1976\n",
      "Epoch 29/1000\n",
      "\u001b[1m 90/121\u001b[0m \u001b[32m━━━━━━━━━━━━━━\u001b[0m\u001b[37m━━━━━━\u001b[0m \u001b[1m0s\u001b[0m 1ms/step - accuracy: 0.4151 - loss: 1.6261 \n",
      "Epoch 29: saving model to model/keypoint_classifier/keypoint_classifier.keras\n",
      "\u001b[1m121/121\u001b[0m \u001b[32m━━━━━━━━━━━━━━━━━━━━\u001b[0m\u001b[37m\u001b[0m \u001b[1m1s\u001b[0m 4ms/step - accuracy: 0.4178 - loss: 1.6229 - val_accuracy: 0.6011 - val_loss: 1.1857\n",
      "Epoch 30/1000\n",
      "\u001b[1m 96/121\u001b[0m \u001b[32m━━━━━━━━━━━━━━━\u001b[0m\u001b[37m━━━━━\u001b[0m \u001b[1m0s\u001b[0m 1ms/step - accuracy: 0.4239 - loss: 1.5963  \n",
      "Epoch 30: saving model to model/keypoint_classifier/keypoint_classifier.keras\n",
      "\u001b[1m121/121\u001b[0m \u001b[32m━━━━━━━━━━━━━━━━━━━━\u001b[0m\u001b[37m\u001b[0m \u001b[1m0s\u001b[0m 4ms/step - accuracy: 0.4235 - loss: 1.5989 - val_accuracy: 0.5916 - val_loss: 1.1731\n",
      "Epoch 31/1000\n",
      "\u001b[1m103/121\u001b[0m \u001b[32m━━━━━━━━━━━━━━━━━\u001b[0m\u001b[37m━━━\u001b[0m \u001b[1m0s\u001b[0m 984us/step - accuracy: 0.4222 - loss: 1.6284\n",
      "Epoch 31: saving model to model/keypoint_classifier/keypoint_classifier.keras\n",
      "\u001b[1m121/121\u001b[0m \u001b[32m━━━━━━━━━━━━━━━━━━━━\u001b[0m\u001b[37m\u001b[0m \u001b[1m0s\u001b[0m 4ms/step - accuracy: 0.4227 - loss: 1.6278 - val_accuracy: 0.5977 - val_loss: 1.1607\n",
      "Epoch 32/1000\n",
      "\u001b[1m102/121\u001b[0m \u001b[32m━━━━━━━━━━━━━━━━\u001b[0m\u001b[37m━━━━\u001b[0m \u001b[1m0s\u001b[0m 1ms/step - accuracy: 0.4281 - loss: 1.6192  \n",
      "Epoch 32: saving model to model/keypoint_classifier/keypoint_classifier.keras\n",
      "\u001b[1m121/121\u001b[0m \u001b[32m━━━━━━━━━━━━━━━━━━━━\u001b[0m\u001b[37m\u001b[0m \u001b[1m0s\u001b[0m 4ms/step - accuracy: 0.4280 - loss: 1.6172 - val_accuracy: 0.5872 - val_loss: 1.1558\n",
      "Epoch 33/1000\n",
      "\u001b[1m115/121\u001b[0m \u001b[32m━━━━━━━━━━━━━━━━━━━\u001b[0m\u001b[37m━\u001b[0m \u001b[1m0s\u001b[0m 889us/step - accuracy: 0.4287 - loss: 1.5984\n",
      "Epoch 33: saving model to model/keypoint_classifier/keypoint_classifier.keras\n",
      "\u001b[1m121/121\u001b[0m \u001b[32m━━━━━━━━━━━━━━━━━━━━\u001b[0m\u001b[37m\u001b[0m \u001b[1m0s\u001b[0m 4ms/step - accuracy: 0.4290 - loss: 1.5977 - val_accuracy: 0.5950 - val_loss: 1.1527\n",
      "Epoch 34/1000\n",
      "\u001b[1m 89/121\u001b[0m \u001b[32m━━━━━━━━━━━━━━\u001b[0m\u001b[37m━━━━━━\u001b[0m \u001b[1m0s\u001b[0m 2ms/step - accuracy: 0.4211 - loss: 1.6013\n",
      "Epoch 34: saving model to model/keypoint_classifier/keypoint_classifier.keras\n",
      "\u001b[1m121/121\u001b[0m \u001b[32m━━━━━━━━━━━━━━━━━━━━\u001b[0m\u001b[37m\u001b[0m \u001b[1m0s\u001b[0m 3ms/step - accuracy: 0.4232 - loss: 1.6014 - val_accuracy: 0.6187 - val_loss: 1.1441\n",
      "Epoch 35/1000\n",
      "\u001b[1m119/121\u001b[0m \u001b[32m━━━━━━━━━━━━━━━━━━━\u001b[0m\u001b[37m━\u001b[0m \u001b[1m0s\u001b[0m 851us/step - accuracy: 0.4381 - loss: 1.5941\n",
      "Epoch 35: saving model to model/keypoint_classifier/keypoint_classifier.keras\n",
      "\u001b[1m121/121\u001b[0m \u001b[32m━━━━━━━━━━━━━━━━━━━━\u001b[0m\u001b[37m\u001b[0m \u001b[1m0s\u001b[0m 3ms/step - accuracy: 0.4381 - loss: 1.5940 - val_accuracy: 0.6323 - val_loss: 1.1366\n",
      "Epoch 36/1000\n",
      "\u001b[1m 69/121\u001b[0m \u001b[32m━━━━━━━━━━━\u001b[0m\u001b[37m━━━━━━━━━\u001b[0m \u001b[1m0s\u001b[0m 738us/step - accuracy: 0.4348 - loss: 1.5700\n",
      "Epoch 36: saving model to model/keypoint_classifier/keypoint_classifier.keras\n",
      "\u001b[1m121/121\u001b[0m \u001b[32m━━━━━━━━━━━━━━━━━━━━\u001b[0m\u001b[37m\u001b[0m \u001b[1m0s\u001b[0m 3ms/step - accuracy: 0.4363 - loss: 1.5728 - val_accuracy: 0.6216 - val_loss: 1.1316\n",
      "Epoch 37/1000\n",
      "\u001b[1m 99/121\u001b[0m \u001b[32m━━━━━━━━━━━━━━━━\u001b[0m\u001b[37m━━━━\u001b[0m \u001b[1m0s\u001b[0m 1ms/step - accuracy: 0.4393 - loss: 1.5781  \n",
      "Epoch 37: saving model to model/keypoint_classifier/keypoint_classifier.keras\n",
      "\u001b[1m121/121\u001b[0m \u001b[32m━━━━━━━━━━━━━━━━━━━━\u001b[0m\u001b[37m\u001b[0m \u001b[1m0s\u001b[0m 3ms/step - accuracy: 0.4399 - loss: 1.5759 - val_accuracy: 0.6263 - val_loss: 1.1179\n",
      "Epoch 38/1000\n",
      "\u001b[1m106/121\u001b[0m \u001b[32m━━━━━━━━━━━━━━━━━\u001b[0m\u001b[37m━━━\u001b[0m \u001b[1m0s\u001b[0m 962us/step - accuracy: 0.4304 - loss: 1.5987\n",
      "Epoch 38: saving model to model/keypoint_classifier/keypoint_classifier.keras\n",
      "\u001b[1m121/121\u001b[0m \u001b[32m━━━━━━━━━━━━━━━━━━━━\u001b[0m\u001b[37m\u001b[0m \u001b[1m0s\u001b[0m 3ms/step - accuracy: 0.4313 - loss: 1.5961 - val_accuracy: 0.6194 - val_loss: 1.1195\n",
      "Epoch 39/1000\n",
      "\u001b[1m 76/121\u001b[0m \u001b[32m━━━━━━━━━━━━\u001b[0m\u001b[37m━━━━━━━━\u001b[0m \u001b[1m0s\u001b[0m 1ms/step - accuracy: 0.4391 - loss: 1.5998 \n",
      "Epoch 39: saving model to model/keypoint_classifier/keypoint_classifier.keras\n",
      "\u001b[1m121/121\u001b[0m \u001b[32m━━━━━━━━━━━━━━━━━━━━\u001b[0m\u001b[37m\u001b[0m \u001b[1m1s\u001b[0m 3ms/step - accuracy: 0.4407 - loss: 1.5933 - val_accuracy: 0.6672 - val_loss: 1.1228\n",
      "Epoch 40/1000\n",
      "\u001b[1m 64/121\u001b[0m \u001b[32m━━━━━━━━━━\u001b[0m\u001b[37m━━━━━━━━━━\u001b[0m \u001b[1m0s\u001b[0m 798us/step - accuracy: 0.4362 - loss: 1.5578\n",
      "Epoch 40: saving model to model/keypoint_classifier/keypoint_classifier.keras\n",
      "\u001b[1m121/121\u001b[0m \u001b[32m━━━━━━━━━━━━━━━━━━━━\u001b[0m\u001b[37m\u001b[0m \u001b[1m0s\u001b[0m 3ms/step - accuracy: 0.4368 - loss: 1.5606 - val_accuracy: 0.6554 - val_loss: 1.1099\n",
      "Epoch 41/1000\n",
      "\u001b[1m 59/121\u001b[0m \u001b[32m━━━━━━━━━\u001b[0m\u001b[37m━━━━━━━━━━━\u001b[0m \u001b[1m0s\u001b[0m 862us/step - accuracy: 0.4463 - loss: 1.5605\n",
      "Epoch 41: saving model to model/keypoint_classifier/keypoint_classifier.keras\n",
      "\u001b[1m121/121\u001b[0m \u001b[32m━━━━━━━━━━━━━━━━━━━━\u001b[0m\u001b[37m\u001b[0m \u001b[1m0s\u001b[0m 3ms/step - accuracy: 0.4478 - loss: 1.5522 - val_accuracy: 0.6361 - val_loss: 1.0981\n",
      "Epoch 42/1000\n",
      "\u001b[1m 77/121\u001b[0m \u001b[32m━━━━━━━━━━━━\u001b[0m\u001b[37m━━━━━━━━\u001b[0m \u001b[1m0s\u001b[0m 662us/step - accuracy: 0.4414 - loss: 1.5666\n",
      "Epoch 42: saving model to model/keypoint_classifier/keypoint_classifier.keras\n",
      "\u001b[1m121/121\u001b[0m \u001b[32m━━━━━━━━━━━━━━━━━━━━\u001b[0m\u001b[37m\u001b[0m \u001b[1m0s\u001b[0m 3ms/step - accuracy: 0.4414 - loss: 1.5641 - val_accuracy: 0.6514 - val_loss: 1.1010\n",
      "Epoch 43/1000\n",
      "\u001b[1m 70/121\u001b[0m \u001b[32m━━━━━━━━━━━\u001b[0m\u001b[37m━━━━━━━━━\u001b[0m \u001b[1m0s\u001b[0m 728us/step - accuracy: 0.4564 - loss: 1.5398\n",
      "Epoch 43: saving model to model/keypoint_classifier/keypoint_classifier.keras\n",
      "\u001b[1m121/121\u001b[0m \u001b[32m━━━━━━━━━━━━━━━━━━━━\u001b[0m\u001b[37m\u001b[0m \u001b[1m0s\u001b[0m 3ms/step - accuracy: 0.4529 - loss: 1.5468 - val_accuracy: 0.6822 - val_loss: 1.0965\n",
      "Epoch 44/1000\n",
      "\u001b[1m 67/121\u001b[0m \u001b[32m━━━━━━━━━━━\u001b[0m\u001b[37m━━━━━━━━━\u001b[0m \u001b[1m0s\u001b[0m 759us/step - accuracy: 0.4395 - loss: 1.5498\n",
      "Epoch 44: saving model to model/keypoint_classifier/keypoint_classifier.keras\n",
      "\u001b[1m121/121\u001b[0m \u001b[32m━━━━━━━━━━━━━━━━━━━━\u001b[0m\u001b[37m\u001b[0m \u001b[1m0s\u001b[0m 3ms/step - accuracy: 0.4439 - loss: 1.5447 - val_accuracy: 0.6911 - val_loss: 1.0899\n",
      "Epoch 45/1000\n",
      "\u001b[1m 98/121\u001b[0m \u001b[32m━━━━━━━━━━━━━━━━\u001b[0m\u001b[37m━━━━\u001b[0m \u001b[1m0s\u001b[0m 1ms/step - accuracy: 0.4546 - loss: 1.5474\n",
      "Epoch 45: saving model to model/keypoint_classifier/keypoint_classifier.keras\n",
      "\u001b[1m121/121\u001b[0m \u001b[32m━━━━━━━━━━━━━━━━━━━━\u001b[0m\u001b[37m\u001b[0m \u001b[1m0s\u001b[0m 3ms/step - accuracy: 0.4546 - loss: 1.5461 - val_accuracy: 0.6651 - val_loss: 1.0716\n",
      "Epoch 46/1000\n",
      "\u001b[1m 69/121\u001b[0m \u001b[32m━━━━━━━━━━━\u001b[0m\u001b[37m━━━━━━━━━\u001b[0m \u001b[1m0s\u001b[0m 742us/step - accuracy: 0.4428 - loss: 1.5572\n",
      "Epoch 46: saving model to model/keypoint_classifier/keypoint_classifier.keras\n",
      "\u001b[1m121/121\u001b[0m \u001b[32m━━━━━━━━━━━━━━━━━━━━\u001b[0m\u001b[37m\u001b[0m \u001b[1m0s\u001b[0m 3ms/step - accuracy: 0.4462 - loss: 1.5538 - val_accuracy: 0.6937 - val_loss: 1.0854\n",
      "Epoch 47/1000\n",
      "\u001b[1m 61/121\u001b[0m \u001b[32m━━━━━━━━━━\u001b[0m\u001b[37m━━━━━━━━━━\u001b[0m \u001b[1m0s\u001b[0m 842us/step - accuracy: 0.4644 - loss: 1.5252\n",
      "Epoch 47: saving model to model/keypoint_classifier/keypoint_classifier.keras\n",
      "\u001b[1m121/121\u001b[0m \u001b[32m━━━━━━━━━━━━━━━━━━━━\u001b[0m\u001b[37m\u001b[0m \u001b[1m0s\u001b[0m 3ms/step - accuracy: 0.4606 - loss: 1.5310 - val_accuracy: 0.6773 - val_loss: 1.0668\n",
      "Epoch 48/1000\n",
      "\u001b[1m 75/121\u001b[0m \u001b[32m━━━━━━━━━━━━\u001b[0m\u001b[37m━━━━━━━━\u001b[0m \u001b[1m0s\u001b[0m 682us/step - accuracy: 0.4475 - loss: 1.5296\n",
      "Epoch 48: saving model to model/keypoint_classifier/keypoint_classifier.keras\n",
      "\u001b[1m121/121\u001b[0m \u001b[32m━━━━━━━━━━━━━━━━━━━━\u001b[0m\u001b[37m\u001b[0m \u001b[1m0s\u001b[0m 3ms/step - accuracy: 0.4491 - loss: 1.5350 - val_accuracy: 0.6956 - val_loss: 1.0702\n",
      "Epoch 49/1000\n",
      "\u001b[1m 64/121\u001b[0m \u001b[32m━━━━━━━━━━\u001b[0m\u001b[37m━━━━━━━━━━\u001b[0m \u001b[1m0s\u001b[0m 801us/step - accuracy: 0.4719 - loss: 1.5128\n",
      "Epoch 49: saving model to model/keypoint_classifier/keypoint_classifier.keras\n",
      "\u001b[1m121/121\u001b[0m \u001b[32m━━━━━━━━━━━━━━━━━━━━\u001b[0m\u001b[37m\u001b[0m \u001b[1m0s\u001b[0m 3ms/step - accuracy: 0.4671 - loss: 1.5212 - val_accuracy: 0.7082 - val_loss: 1.0659\n",
      "Epoch 50/1000\n",
      "\u001b[1m117/121\u001b[0m \u001b[32m━━━━━━━━━━━━━━━━━━━\u001b[0m\u001b[37m━\u001b[0m \u001b[1m0s\u001b[0m 870us/step - accuracy: 0.4521 - loss: 1.5278\n",
      "Epoch 50: saving model to model/keypoint_classifier/keypoint_classifier.keras\n",
      "\u001b[1m121/121\u001b[0m \u001b[32m━━━━━━━━━━━━━━━━━━━━\u001b[0m\u001b[37m\u001b[0m \u001b[1m0s\u001b[0m 3ms/step - accuracy: 0.4524 - loss: 1.5279 - val_accuracy: 0.7002 - val_loss: 1.0590\n",
      "Epoch 51/1000\n",
      "\u001b[1m 78/121\u001b[0m \u001b[32m━━━━━━━━━━━━\u001b[0m\u001b[37m━━━━━━━━\u001b[0m \u001b[1m0s\u001b[0m 650us/step - accuracy: 0.4510 - loss: 1.5593\n",
      "Epoch 51: saving model to model/keypoint_classifier/keypoint_classifier.keras\n",
      "\u001b[1m121/121\u001b[0m \u001b[32m━━━━━━━━━━━━━━━━━━━━\u001b[0m\u001b[37m\u001b[0m \u001b[1m0s\u001b[0m 3ms/step - accuracy: 0.4514 - loss: 1.5524 - val_accuracy: 0.6933 - val_loss: 1.0565\n",
      "Epoch 52/1000\n",
      "\u001b[1m 81/121\u001b[0m \u001b[32m━━━━━━━━━━━━━\u001b[0m\u001b[37m━━━━━━━\u001b[0m \u001b[1m0s\u001b[0m 631us/step - accuracy: 0.4612 - loss: 1.5374\n",
      "Epoch 52: saving model to model/keypoint_classifier/keypoint_classifier.keras\n",
      "\u001b[1m121/121\u001b[0m \u001b[32m━━━━━━━━━━━━━━━━━━━━\u001b[0m\u001b[37m\u001b[0m \u001b[1m0s\u001b[0m 2ms/step - accuracy: 0.4615 - loss: 1.5325 - val_accuracy: 0.7047 - val_loss: 1.0514\n",
      "Epoch 53/1000\n",
      "\u001b[1m 77/121\u001b[0m \u001b[32m━━━━━━━━━━━━\u001b[0m\u001b[37m━━━━━━━━\u001b[0m \u001b[1m0s\u001b[0m 661us/step - accuracy: 0.4649 - loss: 1.5210\n",
      "Epoch 53: saving model to model/keypoint_classifier/keypoint_classifier.keras\n",
      "\u001b[1m121/121\u001b[0m \u001b[32m━━━━━━━━━━━━━━━━━━━━\u001b[0m\u001b[37m\u001b[0m \u001b[1m0s\u001b[0m 3ms/step - accuracy: 0.4647 - loss: 1.5224 - val_accuracy: 0.7257 - val_loss: 1.0511\n",
      "Epoch 54/1000\n",
      "\u001b[1m 71/121\u001b[0m \u001b[32m━━━━━━━━━━━\u001b[0m\u001b[37m━━━━━━━━━\u001b[0m \u001b[1m0s\u001b[0m 717us/step - accuracy: 0.4619 - loss: 1.5182\n",
      "Epoch 54: saving model to model/keypoint_classifier/keypoint_classifier.keras\n",
      "\u001b[1m121/121\u001b[0m \u001b[32m━━━━━━━━━━━━━━━━━━━━\u001b[0m\u001b[37m\u001b[0m \u001b[1m0s\u001b[0m 3ms/step - accuracy: 0.4599 - loss: 1.5239 - val_accuracy: 0.7087 - val_loss: 1.0430\n",
      "Epoch 55/1000\n",
      "\u001b[1m 76/121\u001b[0m \u001b[32m━━━━━━━━━━━━\u001b[0m\u001b[37m━━━━━━━━\u001b[0m \u001b[1m0s\u001b[0m 671us/step - accuracy: 0.4625 - loss: 1.5390\n",
      "Epoch 55: saving model to model/keypoint_classifier/keypoint_classifier.keras\n",
      "\u001b[1m121/121\u001b[0m \u001b[32m━━━━━━━━━━━━━━━━━━━━\u001b[0m\u001b[37m\u001b[0m \u001b[1m0s\u001b[0m 3ms/step - accuracy: 0.4629 - loss: 1.5323 - val_accuracy: 0.7024 - val_loss: 1.0534\n",
      "Epoch 56/1000\n",
      "\u001b[1m111/121\u001b[0m \u001b[32m━━━━━━━━━━━━━━━━━━\u001b[0m\u001b[37m━━\u001b[0m \u001b[1m0s\u001b[0m 910us/step - accuracy: 0.4540 - loss: 1.5253\n",
      "Epoch 56: saving model to model/keypoint_classifier/keypoint_classifier.keras\n",
      "\u001b[1m121/121\u001b[0m \u001b[32m━━━━━━━━━━━━━━━━━━━━\u001b[0m\u001b[37m\u001b[0m \u001b[1m0s\u001b[0m 3ms/step - accuracy: 0.4542 - loss: 1.5249 - val_accuracy: 0.6789 - val_loss: 1.0488\n",
      "Epoch 57/1000\n",
      "\u001b[1m 80/121\u001b[0m \u001b[32m━━━━━━━━━━━━━\u001b[0m\u001b[37m━━━━━━━\u001b[0m \u001b[1m0s\u001b[0m 640us/step - accuracy: 0.4545 - loss: 1.5190\n",
      "Epoch 57: saving model to model/keypoint_classifier/keypoint_classifier.keras\n",
      "\u001b[1m121/121\u001b[0m \u001b[32m━━━━━━━━━━━━━━━━━━━━\u001b[0m\u001b[37m\u001b[0m \u001b[1m0s\u001b[0m 3ms/step - accuracy: 0.4566 - loss: 1.5201 - val_accuracy: 0.6977 - val_loss: 1.0349\n",
      "Epoch 58/1000\n",
      "\u001b[1m 88/121\u001b[0m \u001b[32m━━━━━━━━━━━━━━\u001b[0m\u001b[37m━━━━━━\u001b[0m \u001b[1m0s\u001b[0m 1ms/step - accuracy: 0.4526 - loss: 1.5046\n",
      "Epoch 58: saving model to model/keypoint_classifier/keypoint_classifier.keras\n",
      "\u001b[1m121/121\u001b[0m \u001b[32m━━━━━━━━━━━━━━━━━━━━\u001b[0m\u001b[37m\u001b[0m \u001b[1m1s\u001b[0m 4ms/step - accuracy: 0.4540 - loss: 1.5064 - val_accuracy: 0.7148 - val_loss: 1.0363\n",
      "Epoch 59/1000\n",
      "\u001b[1m 93/121\u001b[0m \u001b[32m━━━━━━━━━━━━━━━\u001b[0m\u001b[37m━━━━━\u001b[0m \u001b[1m0s\u001b[0m 1ms/step - accuracy: 0.4563 - loss: 1.5272\n",
      "Epoch 59: saving model to model/keypoint_classifier/keypoint_classifier.keras\n",
      "\u001b[1m121/121\u001b[0m \u001b[32m━━━━━━━━━━━━━━━━━━━━\u001b[0m\u001b[37m\u001b[0m \u001b[1m0s\u001b[0m 4ms/step - accuracy: 0.4577 - loss: 1.5235 - val_accuracy: 0.7245 - val_loss: 1.0302\n",
      "Epoch 60/1000\n",
      "\u001b[1m109/121\u001b[0m \u001b[32m━━━━━━━━━━━━━━━━━━\u001b[0m\u001b[37m━━\u001b[0m \u001b[1m0s\u001b[0m 933us/step - accuracy: 0.4592 - loss: 1.5098\n",
      "Epoch 60: saving model to model/keypoint_classifier/keypoint_classifier.keras\n",
      "\u001b[1m121/121\u001b[0m \u001b[32m━━━━━━━━━━━━━━━━━━━━\u001b[0m\u001b[37m\u001b[0m \u001b[1m0s\u001b[0m 3ms/step - accuracy: 0.4590 - loss: 1.5099 - val_accuracy: 0.7107 - val_loss: 1.0312\n",
      "Epoch 61/1000\n",
      "\u001b[1m116/121\u001b[0m \u001b[32m━━━━━━━━━━━━━━━━━━━\u001b[0m\u001b[37m━\u001b[0m \u001b[1m0s\u001b[0m 2ms/step - accuracy: 0.4608 - loss: 1.5002\n",
      "Epoch 61: saving model to model/keypoint_classifier/keypoint_classifier.keras\n",
      "\u001b[1m121/121\u001b[0m \u001b[32m━━━━━━━━━━━━━━━━━━━━\u001b[0m\u001b[37m\u001b[0m \u001b[1m1s\u001b[0m 4ms/step - accuracy: 0.4609 - loss: 1.5005 - val_accuracy: 0.7031 - val_loss: 1.0258\n",
      "Epoch 62/1000\n",
      "\u001b[1m 84/121\u001b[0m \u001b[32m━━━━━━━━━━━━━\u001b[0m\u001b[37m━━━━━━━\u001b[0m \u001b[1m0s\u001b[0m 1ms/step - accuracy: 0.4557 - loss: 1.5218\n",
      "Epoch 62: saving model to model/keypoint_classifier/keypoint_classifier.keras\n",
      "\u001b[1m121/121\u001b[0m \u001b[32m━━━━━━━━━━━━━━━━━━━━\u001b[0m\u001b[37m\u001b[0m \u001b[1m1s\u001b[0m 5ms/step - accuracy: 0.4581 - loss: 1.5142 - val_accuracy: 0.6939 - val_loss: 1.0291\n",
      "Epoch 63/1000\n",
      "\u001b[1m 86/121\u001b[0m \u001b[32m━━━━━━━━━━━━━━\u001b[0m\u001b[37m━━━━━━\u001b[0m \u001b[1m0s\u001b[0m 1ms/step - accuracy: 0.4593 - loss: 1.5035\n",
      "Epoch 63: saving model to model/keypoint_classifier/keypoint_classifier.keras\n",
      "\u001b[1m121/121\u001b[0m \u001b[32m━━━━━━━━━━━━━━━━━━━━\u001b[0m\u001b[37m\u001b[0m \u001b[1m1s\u001b[0m 4ms/step - accuracy: 0.4620 - loss: 1.5022 - val_accuracy: 0.7242 - val_loss: 1.0248\n",
      "Epoch 64/1000\n",
      "\u001b[1m 98/121\u001b[0m \u001b[32m━━━━━━━━━━━━━━━━\u001b[0m\u001b[37m━━━━\u001b[0m \u001b[1m0s\u001b[0m 2ms/step - accuracy: 0.4595 - loss: 1.5171\n",
      "Epoch 64: saving model to model/keypoint_classifier/keypoint_classifier.keras\n",
      "\u001b[1m121/121\u001b[0m \u001b[32m━━━━━━━━━━━━━━━━━━━━\u001b[0m\u001b[37m\u001b[0m \u001b[1m1s\u001b[0m 5ms/step - accuracy: 0.4607 - loss: 1.5148 - val_accuracy: 0.7189 - val_loss: 1.0113\n",
      "Epoch 65/1000\n",
      "\u001b[1m 99/121\u001b[0m \u001b[32m━━━━━━━━━━━━━━━━\u001b[0m\u001b[37m━━━━\u001b[0m \u001b[1m0s\u001b[0m 1ms/step - accuracy: 0.4625 - loss: 1.5030\n",
      "Epoch 65: saving model to model/keypoint_classifier/keypoint_classifier.keras\n",
      "\u001b[1m121/121\u001b[0m \u001b[32m━━━━━━━━━━━━━━━━━━━━\u001b[0m\u001b[37m\u001b[0m \u001b[1m0s\u001b[0m 4ms/step - accuracy: 0.4626 - loss: 1.5012 - val_accuracy: 0.7365 - val_loss: 1.0149\n",
      "Epoch 66/1000\n",
      "\u001b[1m119/121\u001b[0m \u001b[32m━━━━━━━━━━━━━━━━━━━\u001b[0m\u001b[37m━\u001b[0m \u001b[1m0s\u001b[0m 857us/step - accuracy: 0.4645 - loss: 1.5028\n",
      "Epoch 66: saving model to model/keypoint_classifier/keypoint_classifier.keras\n",
      "\u001b[1m121/121\u001b[0m \u001b[32m━━━━━━━━━━━━━━━━━━━━\u001b[0m\u001b[37m\u001b[0m \u001b[1m0s\u001b[0m 3ms/step - accuracy: 0.4646 - loss: 1.5027 - val_accuracy: 0.7193 - val_loss: 1.0121\n",
      "Epoch 67/1000\n",
      "\u001b[1m121/121\u001b[0m \u001b[32m━━━━━━━━━━━━━━━━━━━━\u001b[0m\u001b[37m\u001b[0m \u001b[1m0s\u001b[0m 838us/step - accuracy: 0.4677 - loss: 1.4770\n",
      "Epoch 67: saving model to model/keypoint_classifier/keypoint_classifier.keras\n",
      "\u001b[1m121/121\u001b[0m \u001b[32m━━━━━━━━━━━━━━━━━━━━\u001b[0m\u001b[37m\u001b[0m \u001b[1m0s\u001b[0m 3ms/step - accuracy: 0.4677 - loss: 1.4771 - val_accuracy: 0.7335 - val_loss: 1.0109\n",
      "Epoch 68/1000\n",
      "\u001b[1m116/121\u001b[0m \u001b[32m━━━━━━━━━━━━━━━━━━━\u001b[0m\u001b[37m━\u001b[0m \u001b[1m0s\u001b[0m 2ms/step - accuracy: 0.4750 - loss: 1.4943\n",
      "Epoch 68: saving model to model/keypoint_classifier/keypoint_classifier.keras\n",
      "\u001b[1m121/121\u001b[0m \u001b[32m━━━━━━━━━━━━━━━━━━━━\u001b[0m\u001b[37m\u001b[0m \u001b[1m1s\u001b[0m 5ms/step - accuracy: 0.4750 - loss: 1.4945 - val_accuracy: 0.7263 - val_loss: 1.0122\n",
      "Epoch 69/1000\n",
      "\u001b[1m118/121\u001b[0m \u001b[32m━━━━━━━━━━━━━━━━━━━\u001b[0m\u001b[37m━\u001b[0m \u001b[1m0s\u001b[0m 863us/step - accuracy: 0.4634 - loss: 1.4860\n",
      "Epoch 69: saving model to model/keypoint_classifier/keypoint_classifier.keras\n",
      "\u001b[1m121/121\u001b[0m \u001b[32m━━━━━━━━━━━━━━━━━━━━\u001b[0m\u001b[37m\u001b[0m \u001b[1m0s\u001b[0m 4ms/step - accuracy: 0.4637 - loss: 1.4859 - val_accuracy: 0.7278 - val_loss: 1.0127\n",
      "Epoch 70/1000\n",
      "\u001b[1m 69/121\u001b[0m \u001b[32m━━━━━━━━━━━\u001b[0m\u001b[37m━━━━━━━━━\u001b[0m \u001b[1m0s\u001b[0m 749us/step - accuracy: 0.4772 - loss: 1.4715\n",
      "Epoch 70: saving model to model/keypoint_classifier/keypoint_classifier.keras\n",
      "\u001b[1m121/121\u001b[0m \u001b[32m━━━━━━━━━━━━━━━━━━━━\u001b[0m\u001b[37m\u001b[0m \u001b[1m0s\u001b[0m 3ms/step - accuracy: 0.4776 - loss: 1.4698 - val_accuracy: 0.7234 - val_loss: 0.9987\n",
      "Epoch 71/1000\n",
      "\u001b[1m 65/121\u001b[0m \u001b[32m━━━━━━━━━━\u001b[0m\u001b[37m━━━━━━━━━━\u001b[0m \u001b[1m0s\u001b[0m 784us/step - accuracy: 0.4772 - loss: 1.4755\n",
      "Epoch 71: saving model to model/keypoint_classifier/keypoint_classifier.keras\n",
      "\u001b[1m121/121\u001b[0m \u001b[32m━━━━━━━━━━━━━━━━━━━━\u001b[0m\u001b[37m\u001b[0m \u001b[1m0s\u001b[0m 3ms/step - accuracy: 0.4774 - loss: 1.4753 - val_accuracy: 0.7275 - val_loss: 1.0105\n",
      "Epoch 72/1000\n",
      "\u001b[1m 66/121\u001b[0m \u001b[32m━━━━━━━━━━\u001b[0m\u001b[37m━━━━━━━━━━\u001b[0m \u001b[1m0s\u001b[0m 775us/step - accuracy: 0.4791 - loss: 1.4609\n",
      "Epoch 72: saving model to model/keypoint_classifier/keypoint_classifier.keras\n",
      "\u001b[1m121/121\u001b[0m \u001b[32m━━━━━━━━━━━━━━━━━━━━\u001b[0m\u001b[37m\u001b[0m \u001b[1m0s\u001b[0m 3ms/step - accuracy: 0.4809 - loss: 1.4596 - val_accuracy: 0.7252 - val_loss: 0.9955\n",
      "Epoch 73/1000\n",
      "\u001b[1m 80/121\u001b[0m \u001b[32m━━━━━━━━━━━━━\u001b[0m\u001b[37m━━━━━━━\u001b[0m \u001b[1m0s\u001b[0m 1ms/step - accuracy: 0.4648 - loss: 1.4950 \n",
      "Epoch 73: saving model to model/keypoint_classifier/keypoint_classifier.keras\n",
      "\u001b[1m121/121\u001b[0m \u001b[32m━━━━━━━━━━━━━━━━━━━━\u001b[0m\u001b[37m\u001b[0m \u001b[1m1s\u001b[0m 4ms/step - accuracy: 0.4662 - loss: 1.4888 - val_accuracy: 0.7347 - val_loss: 1.0151\n",
      "Epoch 74/1000\n",
      "\u001b[1m106/121\u001b[0m \u001b[32m━━━━━━━━━━━━━━━━━\u001b[0m\u001b[37m━━━\u001b[0m \u001b[1m0s\u001b[0m 958us/step - accuracy: 0.4780 - loss: 1.4864\n",
      "Epoch 74: saving model to model/keypoint_classifier/keypoint_classifier.keras\n",
      "\u001b[1m121/121\u001b[0m \u001b[32m━━━━━━━━━━━━━━━━━━━━\u001b[0m\u001b[37m\u001b[0m \u001b[1m0s\u001b[0m 4ms/step - accuracy: 0.4784 - loss: 1.4841 - val_accuracy: 0.7326 - val_loss: 1.0001\n",
      "Epoch 75/1000\n",
      "\u001b[1m117/121\u001b[0m \u001b[32m━━━━━━━━━━━━━━━━━━━\u001b[0m\u001b[37m━\u001b[0m \u001b[1m0s\u001b[0m 869us/step - accuracy: 0.4875 - loss: 1.4531\n",
      "Epoch 75: saving model to model/keypoint_classifier/keypoint_classifier.keras\n",
      "\u001b[1m121/121\u001b[0m \u001b[32m━━━━━━━━━━━━━━━━━━━━\u001b[0m\u001b[37m\u001b[0m \u001b[1m0s\u001b[0m 3ms/step - accuracy: 0.4874 - loss: 1.4530 - val_accuracy: 0.7387 - val_loss: 1.0047\n",
      "Epoch 76/1000\n",
      "\u001b[1m110/121\u001b[0m \u001b[32m━━━━━━━━━━━━━━━━━━\u001b[0m\u001b[37m━━\u001b[0m \u001b[1m0s\u001b[0m 921us/step - accuracy: 0.4875 - loss: 1.4349\n",
      "Epoch 76: saving model to model/keypoint_classifier/keypoint_classifier.keras\n",
      "\u001b[1m121/121\u001b[0m \u001b[32m━━━━━━━━━━━━━━━━━━━━\u001b[0m\u001b[37m\u001b[0m \u001b[1m0s\u001b[0m 3ms/step - accuracy: 0.4872 - loss: 1.4361 - val_accuracy: 0.7263 - val_loss: 1.0077\n",
      "Epoch 77/1000\n",
      "\u001b[1m 97/121\u001b[0m \u001b[32m━━━━━━━━━━━━━━━━\u001b[0m\u001b[37m━━━━\u001b[0m \u001b[1m0s\u001b[0m 2ms/step - accuracy: 0.4823 - loss: 1.4624\n",
      "Epoch 77: saving model to model/keypoint_classifier/keypoint_classifier.keras\n",
      "\u001b[1m121/121\u001b[0m \u001b[32m━━━━━━━━━━━━━━━━━━━━\u001b[0m\u001b[37m\u001b[0m \u001b[1m1s\u001b[0m 4ms/step - accuracy: 0.4814 - loss: 1.4602 - val_accuracy: 0.7372 - val_loss: 0.9985\n",
      "Epoch 78/1000\n",
      "\u001b[1m102/121\u001b[0m \u001b[32m━━━━━━━━━━━━━━━━\u001b[0m\u001b[37m━━━━\u001b[0m \u001b[1m0s\u001b[0m 1000us/step - accuracy: 0.4921 - loss: 1.4335\n",
      "Epoch 78: saving model to model/keypoint_classifier/keypoint_classifier.keras\n",
      "\u001b[1m121/121\u001b[0m \u001b[32m━━━━━━━━━━━━━━━━━━━━\u001b[0m\u001b[37m\u001b[0m \u001b[1m0s\u001b[0m 3ms/step - accuracy: 0.4916 - loss: 1.4335 - val_accuracy: 0.7464 - val_loss: 0.9911\n",
      "Epoch 79/1000\n",
      "\u001b[1m 65/121\u001b[0m \u001b[32m━━━━━━━━━━\u001b[0m\u001b[37m━━━━━━━━━━\u001b[0m \u001b[1m0s\u001b[0m 783us/step - accuracy: 0.4810 - loss: 1.4585\n",
      "Epoch 79: saving model to model/keypoint_classifier/keypoint_classifier.keras\n",
      "\u001b[1m121/121\u001b[0m \u001b[32m━━━━━━━━━━━━━━━━━━━━\u001b[0m\u001b[37m\u001b[0m \u001b[1m0s\u001b[0m 3ms/step - accuracy: 0.4833 - loss: 1.4584 - val_accuracy: 0.7446 - val_loss: 0.9916\n",
      "Epoch 80/1000\n",
      "\u001b[1m 93/121\u001b[0m \u001b[32m━━━━━━━━━━━━━━━\u001b[0m\u001b[37m━━━━━\u001b[0m \u001b[1m0s\u001b[0m 1ms/step - accuracy: 0.4851 - loss: 1.4326\n",
      "Epoch 80: saving model to model/keypoint_classifier/keypoint_classifier.keras\n",
      "\u001b[1m121/121\u001b[0m \u001b[32m━━━━━━━━━━━━━━━━━━━━\u001b[0m\u001b[37m\u001b[0m \u001b[1m0s\u001b[0m 4ms/step - accuracy: 0.4864 - loss: 1.4348 - val_accuracy: 0.7392 - val_loss: 1.0014\n",
      "Epoch 81/1000\n",
      "\u001b[1m117/121\u001b[0m \u001b[32m━━━━━━━━━━━━━━━━━━━\u001b[0m\u001b[37m━\u001b[0m \u001b[1m0s\u001b[0m 882us/step - accuracy: 0.4807 - loss: 1.4447\n",
      "Epoch 81: saving model to model/keypoint_classifier/keypoint_classifier.keras\n",
      "\u001b[1m121/121\u001b[0m \u001b[32m━━━━━━━━━━━━━━━━━━━━\u001b[0m\u001b[37m\u001b[0m \u001b[1m0s\u001b[0m 4ms/step - accuracy: 0.4809 - loss: 1.4445 - val_accuracy: 0.7462 - val_loss: 0.9962\n",
      "Epoch 82/1000\n",
      "\u001b[1m 67/121\u001b[0m \u001b[32m━━━━━━━━━━━\u001b[0m\u001b[37m━━━━━━━━━\u001b[0m \u001b[1m0s\u001b[0m 763us/step - accuracy: 0.4922 - loss: 1.4428\n",
      "Epoch 82: saving model to model/keypoint_classifier/keypoint_classifier.keras\n",
      "\u001b[1m121/121\u001b[0m \u001b[32m━━━━━━━━━━━━━━━━━━━━\u001b[0m\u001b[37m\u001b[0m \u001b[1m0s\u001b[0m 3ms/step - accuracy: 0.4938 - loss: 1.4345 - val_accuracy: 0.7407 - val_loss: 0.9955\n",
      "Epoch 83/1000\n",
      "\u001b[1m108/121\u001b[0m \u001b[32m━━━━━━━━━━━━━━━━━\u001b[0m\u001b[37m━━━\u001b[0m \u001b[1m0s\u001b[0m 943us/step - accuracy: 0.4876 - loss: 1.4559\n",
      "Epoch 83: saving model to model/keypoint_classifier/keypoint_classifier.keras\n",
      "\u001b[1m121/121\u001b[0m \u001b[32m━━━━━━━━━━━━━━━━━━━━\u001b[0m\u001b[37m\u001b[0m \u001b[1m0s\u001b[0m 3ms/step - accuracy: 0.4879 - loss: 1.4547 - val_accuracy: 0.7346 - val_loss: 1.0015\n",
      "Epoch 84/1000\n",
      "\u001b[1m110/121\u001b[0m \u001b[32m━━━━━━━━━━━━━━━━━━\u001b[0m\u001b[37m━━\u001b[0m \u001b[1m0s\u001b[0m 930us/step - accuracy: 0.4882 - loss: 1.4384\n",
      "Epoch 84: saving model to model/keypoint_classifier/keypoint_classifier.keras\n",
      "\u001b[1m121/121\u001b[0m \u001b[32m━━━━━━━━━━━━━━━━━━━━\u001b[0m\u001b[37m\u001b[0m \u001b[1m0s\u001b[0m 3ms/step - accuracy: 0.4882 - loss: 1.4383 - val_accuracy: 0.7284 - val_loss: 1.0042\n",
      "Epoch 85/1000\n",
      "\u001b[1m120/121\u001b[0m \u001b[32m━━━━━━━━━━━━━━━━━━━\u001b[0m\u001b[37m━\u001b[0m \u001b[1m0s\u001b[0m 844us/step - accuracy: 0.4927 - loss: 1.4350\n",
      "Epoch 85: saving model to model/keypoint_classifier/keypoint_classifier.keras\n",
      "\u001b[1m121/121\u001b[0m \u001b[32m━━━━━━━━━━━━━━━━━━━━\u001b[0m\u001b[37m\u001b[0m \u001b[1m0s\u001b[0m 3ms/step - accuracy: 0.4927 - loss: 1.4349 - val_accuracy: 0.7334 - val_loss: 1.0088\n",
      "Epoch 86/1000\n",
      "\u001b[1m105/121\u001b[0m \u001b[32m━━━━━━━━━━━━━━━━━\u001b[0m\u001b[37m━━━\u001b[0m \u001b[1m0s\u001b[0m 1ms/step - accuracy: 0.4960 - loss: 1.4372\n",
      "Epoch 86: saving model to model/keypoint_classifier/keypoint_classifier.keras\n",
      "\u001b[1m121/121\u001b[0m \u001b[32m━━━━━━━━━━━━━━━━━━━━\u001b[0m\u001b[37m\u001b[0m \u001b[1m0s\u001b[0m 4ms/step - accuracy: 0.4956 - loss: 1.4374 - val_accuracy: 0.7346 - val_loss: 1.0053\n",
      "Epoch 87/1000\n",
      "\u001b[1m 62/121\u001b[0m \u001b[32m━━━━━━━━━━\u001b[0m\u001b[37m━━━━━━━━━━\u001b[0m \u001b[1m0s\u001b[0m 839us/step - accuracy: 0.4997 - loss: 1.3951\n",
      "Epoch 87: saving model to model/keypoint_classifier/keypoint_classifier.keras\n",
      "\u001b[1m121/121\u001b[0m \u001b[32m━━━━━━━━━━━━━━━━━━━━\u001b[0m\u001b[37m\u001b[0m \u001b[1m0s\u001b[0m 3ms/step - accuracy: 0.4994 - loss: 1.4021 - val_accuracy: 0.7028 - val_loss: 1.0077\n",
      "Epoch 88/1000\n",
      "\u001b[1m 68/121\u001b[0m \u001b[32m━━━━━━━━━━━\u001b[0m\u001b[37m━━━━━━━━━\u001b[0m \u001b[1m0s\u001b[0m 755us/step - accuracy: 0.5056 - loss: 1.4042\n",
      "Epoch 88: saving model to model/keypoint_classifier/keypoint_classifier.keras\n",
      "\u001b[1m121/121\u001b[0m \u001b[32m━━━━━━━━━━━━━━━━━━━━\u001b[0m\u001b[37m\u001b[0m \u001b[1m0s\u001b[0m 3ms/step - accuracy: 0.5031 - loss: 1.4140 - val_accuracy: 0.7299 - val_loss: 1.0050\n",
      "Epoch 89/1000\n",
      "\u001b[1m113/121\u001b[0m \u001b[32m━━━━━━━━━━━━━━━━━━\u001b[0m\u001b[37m━━\u001b[0m \u001b[1m0s\u001b[0m 901us/step - accuracy: 0.4925 - loss: 1.4156\n",
      "Epoch 89: saving model to model/keypoint_classifier/keypoint_classifier.keras\n",
      "\u001b[1m121/121\u001b[0m \u001b[32m━━━━━━━━━━━━━━━━━━━━\u001b[0m\u001b[37m\u001b[0m \u001b[1m0s\u001b[0m 3ms/step - accuracy: 0.4930 - loss: 1.4154 - val_accuracy: 0.7313 - val_loss: 1.0089\n",
      "Epoch 90/1000\n",
      "\u001b[1m 65/121\u001b[0m \u001b[32m━━━━━━━━━━\u001b[0m\u001b[37m━━━━━━━━━━\u001b[0m \u001b[1m0s\u001b[0m 781us/step - accuracy: 0.4805 - loss: 1.4651\n",
      "Epoch 90: saving model to model/keypoint_classifier/keypoint_classifier.keras\n",
      "\u001b[1m121/121\u001b[0m \u001b[32m━━━━━━━━━━━━━━━━━━━━\u001b[0m\u001b[37m\u001b[0m \u001b[1m0s\u001b[0m 3ms/step - accuracy: 0.4876 - loss: 1.4481 - val_accuracy: 0.7279 - val_loss: 1.0143\n",
      "Epoch 91/1000\n",
      "\u001b[1m 64/121\u001b[0m \u001b[32m━━━━━━━━━━\u001b[0m\u001b[37m━━━━━━━━━━\u001b[0m \u001b[1m0s\u001b[0m 795us/step - accuracy: 0.5044 - loss: 1.3950 \n",
      "Epoch 91: saving model to model/keypoint_classifier/keypoint_classifier.keras\n",
      "\u001b[1m121/121\u001b[0m \u001b[32m━━━━━━━━━━━━━━━━━━━━\u001b[0m\u001b[37m\u001b[0m \u001b[1m1s\u001b[0m 3ms/step - accuracy: 0.5038 - loss: 1.4046 - val_accuracy: 0.7369 - val_loss: 0.9878\n",
      "Epoch 92/1000\n",
      "\u001b[1m 96/121\u001b[0m \u001b[32m━━━━━━━━━━━━━━━\u001b[0m\u001b[37m━━━━━\u001b[0m \u001b[1m0s\u001b[0m 1ms/step - accuracy: 0.4985 - loss: 1.4112\n",
      "Epoch 92: saving model to model/keypoint_classifier/keypoint_classifier.keras\n",
      "\u001b[1m121/121\u001b[0m \u001b[32m━━━━━━━━━━━━━━━━━━━━\u001b[0m\u001b[37m\u001b[0m \u001b[1m1s\u001b[0m 4ms/step - accuracy: 0.4994 - loss: 1.4122 - val_accuracy: 0.7350 - val_loss: 1.0047\n",
      "Epoch 93/1000\n",
      "\u001b[1m 96/121\u001b[0m \u001b[32m━━━━━━━━━━━━━━━\u001b[0m\u001b[37m━━━━━\u001b[0m \u001b[1m0s\u001b[0m 1ms/step - accuracy: 0.5010 - loss: 1.3988\n",
      "Epoch 93: saving model to model/keypoint_classifier/keypoint_classifier.keras\n",
      "\u001b[1m121/121\u001b[0m \u001b[32m━━━━━━━━━━━━━━━━━━━━\u001b[0m\u001b[37m\u001b[0m \u001b[1m0s\u001b[0m 4ms/step - accuracy: 0.5004 - loss: 1.4003 - val_accuracy: 0.7332 - val_loss: 0.9971\n",
      "Epoch 94/1000\n",
      "\u001b[1m104/121\u001b[0m \u001b[32m━━━━━━━━━━━━━━━━━\u001b[0m\u001b[37m━━━\u001b[0m \u001b[1m0s\u001b[0m 992us/step - accuracy: 0.4999 - loss: 1.3902\n",
      "Epoch 94: saving model to model/keypoint_classifier/keypoint_classifier.keras\n",
      "\u001b[1m121/121\u001b[0m \u001b[32m━━━━━━━━━━━━━━━━━━━━\u001b[0m\u001b[37m\u001b[0m \u001b[1m0s\u001b[0m 4ms/step - accuracy: 0.5001 - loss: 1.3913 - val_accuracy: 0.7208 - val_loss: 0.9990\n",
      "Epoch 95/1000\n",
      "\u001b[1m108/121\u001b[0m \u001b[32m━━━━━━━━━━━━━━━━━\u001b[0m\u001b[37m━━━\u001b[0m \u001b[1m0s\u001b[0m 951us/step - accuracy: 0.5009 - loss: 1.4120\n",
      "Epoch 95: saving model to model/keypoint_classifier/keypoint_classifier.keras\n",
      "\u001b[1m121/121\u001b[0m \u001b[32m━━━━━━━━━━━━━━━━━━━━\u001b[0m\u001b[37m\u001b[0m \u001b[1m0s\u001b[0m 3ms/step - accuracy: 0.5015 - loss: 1.4114 - val_accuracy: 0.7180 - val_loss: 1.0061\n",
      "Epoch 96/1000\n",
      "\u001b[1m108/121\u001b[0m \u001b[32m━━━━━━━━━━━━━━━━━\u001b[0m\u001b[37m━━━\u001b[0m \u001b[1m0s\u001b[0m 937us/step - accuracy: 0.5085 - loss: 1.3897\n",
      "Epoch 96: saving model to model/keypoint_classifier/keypoint_classifier.keras\n",
      "\u001b[1m121/121\u001b[0m \u001b[32m━━━━━━━━━━━━━━━━━━━━\u001b[0m\u001b[37m\u001b[0m \u001b[1m1s\u001b[0m 4ms/step - accuracy: 0.5078 - loss: 1.3909 - val_accuracy: 0.7335 - val_loss: 0.9991\n",
      "Epoch 97/1000\n",
      "\u001b[1m113/121\u001b[0m \u001b[32m━━━━━━━━━━━━━━━━━━\u001b[0m\u001b[37m━━\u001b[0m \u001b[1m0s\u001b[0m 1ms/step - accuracy: 0.5090 - loss: 1.3933\n",
      "Epoch 97: saving model to model/keypoint_classifier/keypoint_classifier.keras\n",
      "\u001b[1m121/121\u001b[0m \u001b[32m━━━━━━━━━━━━━━━━━━━━\u001b[0m\u001b[37m\u001b[0m \u001b[1m1s\u001b[0m 4ms/step - accuracy: 0.5087 - loss: 1.3936 - val_accuracy: 0.7006 - val_loss: 1.0137\n",
      "Epoch 98/1000\n",
      "\u001b[1m115/121\u001b[0m \u001b[32m━━━━━━━━━━━━━━━━━━━\u001b[0m\u001b[37m━\u001b[0m \u001b[1m0s\u001b[0m 885us/step - accuracy: 0.5050 - loss: 1.4196\n",
      "Epoch 98: saving model to model/keypoint_classifier/keypoint_classifier.keras\n",
      "\u001b[1m121/121\u001b[0m \u001b[32m━━━━━━━━━━━━━━━━━━━━\u001b[0m\u001b[37m\u001b[0m \u001b[1m0s\u001b[0m 4ms/step - accuracy: 0.5050 - loss: 1.4192 - val_accuracy: 0.7102 - val_loss: 1.0251\n",
      "Epoch 99/1000\n",
      "\u001b[1m103/121\u001b[0m \u001b[32m━━━━━━━━━━━━━━━━━\u001b[0m\u001b[37m━━━\u001b[0m \u001b[1m0s\u001b[0m 992us/step - accuracy: 0.5088 - loss: 1.3904\n",
      "Epoch 99: saving model to model/keypoint_classifier/keypoint_classifier.keras\n",
      "\u001b[1m121/121\u001b[0m \u001b[32m━━━━━━━━━━━━━━━━━━━━\u001b[0m\u001b[37m\u001b[0m \u001b[1m1s\u001b[0m 5ms/step - accuracy: 0.5084 - loss: 1.3921 - val_accuracy: 0.7263 - val_loss: 1.0105\n",
      "Epoch 100/1000\n",
      "\u001b[1m 81/121\u001b[0m \u001b[32m━━━━━━━━━━━━━\u001b[0m\u001b[37m━━━━━━━\u001b[0m \u001b[1m0s\u001b[0m 2ms/step - accuracy: 0.5013 - loss: 1.4122\n",
      "Epoch 100: saving model to model/keypoint_classifier/keypoint_classifier.keras\n",
      "\u001b[1m121/121\u001b[0m \u001b[32m━━━━━━━━━━━━━━━━━━━━\u001b[0m\u001b[37m\u001b[0m \u001b[1m1s\u001b[0m 5ms/step - accuracy: 0.5028 - loss: 1.4063 - val_accuracy: 0.7059 - val_loss: 1.0250\n",
      "Epoch 101/1000\n",
      "\u001b[1m 92/121\u001b[0m \u001b[32m━━━━━━━━━━━━━━━\u001b[0m\u001b[37m━━━━━\u001b[0m \u001b[1m0s\u001b[0m 1ms/step - accuracy: 0.5109 - loss: 1.3864\n",
      "Epoch 101: saving model to model/keypoint_classifier/keypoint_classifier.keras\n",
      "\u001b[1m121/121\u001b[0m \u001b[32m━━━━━━━━━━━━━━━━━━━━\u001b[0m\u001b[37m\u001b[0m \u001b[1m0s\u001b[0m 4ms/step - accuracy: 0.5104 - loss: 1.3875 - val_accuracy: 0.7129 - val_loss: 1.0085\n",
      "Epoch 102/1000\n",
      "\u001b[1m 93/121\u001b[0m \u001b[32m━━━━━━━━━━━━━━━\u001b[0m\u001b[37m━━━━━\u001b[0m \u001b[1m0s\u001b[0m 1ms/step - accuracy: 0.5050 - loss: 1.4069\n",
      "Epoch 102: saving model to model/keypoint_classifier/keypoint_classifier.keras\n",
      "\u001b[1m121/121\u001b[0m \u001b[32m━━━━━━━━━━━━━━━━━━━━\u001b[0m\u001b[37m\u001b[0m \u001b[1m0s\u001b[0m 4ms/step - accuracy: 0.5068 - loss: 1.4015 - val_accuracy: 0.7150 - val_loss: 1.0221\n",
      "Epoch 103/1000\n",
      "\u001b[1m106/121\u001b[0m \u001b[32m━━━━━━━━━━━━━━━━━\u001b[0m\u001b[37m━━━\u001b[0m \u001b[1m0s\u001b[0m 960us/step - accuracy: 0.5183 - loss: 1.3641\n",
      "Epoch 103: saving model to model/keypoint_classifier/keypoint_classifier.keras\n",
      "\u001b[1m121/121\u001b[0m \u001b[32m━━━━━━━━━━━━━━━━━━━━\u001b[0m\u001b[37m\u001b[0m \u001b[1m0s\u001b[0m 3ms/step - accuracy: 0.5174 - loss: 1.3648 - val_accuracy: 0.7013 - val_loss: 1.0170\n",
      "Epoch 104/1000\n",
      "\u001b[1m105/121\u001b[0m \u001b[32m━━━━━━━━━━━━━━━━━\u001b[0m\u001b[37m━━━\u001b[0m \u001b[1m0s\u001b[0m 1ms/step - accuracy: 0.5136 - loss: 1.3885\n",
      "Epoch 104: saving model to model/keypoint_classifier/keypoint_classifier.keras\n",
      "\u001b[1m121/121\u001b[0m \u001b[32m━━━━━━━━━━━━━━━━━━━━\u001b[0m\u001b[37m\u001b[0m \u001b[1m1s\u001b[0m 5ms/step - accuracy: 0.5132 - loss: 1.3884 - val_accuracy: 0.7002 - val_loss: 1.0266\n",
      "Epoch 105/1000\n",
      "\u001b[1m 98/121\u001b[0m \u001b[32m━━━━━━━━━━━━━━━━\u001b[0m\u001b[37m━━━━\u001b[0m \u001b[1m0s\u001b[0m 1ms/step - accuracy: 0.5188 - loss: 1.3610\n",
      "Epoch 105: saving model to model/keypoint_classifier/keypoint_classifier.keras\n",
      "\u001b[1m121/121\u001b[0m \u001b[32m━━━━━━━━━━━━━━━━━━━━\u001b[0m\u001b[37m\u001b[0m \u001b[1m0s\u001b[0m 4ms/step - accuracy: 0.5192 - loss: 1.3630 - val_accuracy: 0.7147 - val_loss: 1.0046\n",
      "Epoch 106/1000\n",
      "\u001b[1m107/121\u001b[0m \u001b[32m━━━━━━━━━━━━━━━━━\u001b[0m\u001b[37m━━━\u001b[0m \u001b[1m0s\u001b[0m 950us/step - accuracy: 0.5066 - loss: 1.3914\n",
      "Epoch 106: saving model to model/keypoint_classifier/keypoint_classifier.keras\n",
      "\u001b[1m121/121\u001b[0m \u001b[32m━━━━━━━━━━━━━━━━━━━━\u001b[0m\u001b[37m\u001b[0m \u001b[1m1s\u001b[0m 4ms/step - accuracy: 0.5069 - loss: 1.3909 - val_accuracy: 0.7169 - val_loss: 1.0109\n",
      "Epoch 107/1000\n",
      "\u001b[1m111/121\u001b[0m \u001b[32m━━━━━━━━━━━━━━━━━━\u001b[0m\u001b[37m━━\u001b[0m \u001b[1m0s\u001b[0m 2ms/step - accuracy: 0.5083 - loss: 1.3829\n",
      "Epoch 107: saving model to model/keypoint_classifier/keypoint_classifier.keras\n",
      "\u001b[1m121/121\u001b[0m \u001b[32m━━━━━━━━━━━━━━━━━━━━\u001b[0m\u001b[37m\u001b[0m \u001b[1m1s\u001b[0m 6ms/step - accuracy: 0.5090 - loss: 1.3818 - val_accuracy: 0.7049 - val_loss: 1.0145\n",
      "Epoch 108/1000\n",
      "\u001b[1m 87/121\u001b[0m \u001b[32m━━━━━━━━━━━━━━\u001b[0m\u001b[37m━━━━━━\u001b[0m \u001b[1m0s\u001b[0m 1ms/step - accuracy: 0.5120 - loss: 1.3790\n",
      "Epoch 108: saving model to model/keypoint_classifier/keypoint_classifier.keras\n",
      "\u001b[1m121/121\u001b[0m \u001b[32m━━━━━━━━━━━━━━━━━━━━\u001b[0m\u001b[37m\u001b[0m \u001b[1m0s\u001b[0m 4ms/step - accuracy: 0.5126 - loss: 1.3783 - val_accuracy: 0.7059 - val_loss: 1.0096\n",
      "Epoch 109/1000\n",
      "\u001b[1m121/121\u001b[0m \u001b[32m━━━━━━━━━━━━━━━━━━━━\u001b[0m\u001b[37m\u001b[0m \u001b[1m0s\u001b[0m 1ms/step - accuracy: 0.5177 - loss: 1.3485\n",
      "Epoch 109: saving model to model/keypoint_classifier/keypoint_classifier.keras\n",
      "\u001b[1m121/121\u001b[0m \u001b[32m━━━━━━━━━━━━━━━━━━━━\u001b[0m\u001b[37m\u001b[0m \u001b[1m1s\u001b[0m 4ms/step - accuracy: 0.5177 - loss: 1.3485 - val_accuracy: 0.6945 - val_loss: 1.0134\n",
      "Epoch 110/1000\n",
      "\u001b[1m104/121\u001b[0m \u001b[32m━━━━━━━━━━━━━━━━━\u001b[0m\u001b[37m━━━\u001b[0m \u001b[1m0s\u001b[0m 1ms/step - accuracy: 0.5104 - loss: 1.3786\n",
      "Epoch 110: saving model to model/keypoint_classifier/keypoint_classifier.keras\n",
      "\u001b[1m121/121\u001b[0m \u001b[32m━━━━━━━━━━━━━━━━━━━━\u001b[0m\u001b[37m\u001b[0m \u001b[1m1s\u001b[0m 4ms/step - accuracy: 0.5108 - loss: 1.3781 - val_accuracy: 0.6851 - val_loss: 1.0396\n",
      "Epoch 111/1000\n",
      "\u001b[1m100/121\u001b[0m \u001b[32m━━━━━━━━━━━━━━━━\u001b[0m\u001b[37m━━━━\u001b[0m \u001b[1m0s\u001b[0m 2ms/step - accuracy: 0.5185 - loss: 1.3696\n",
      "Epoch 111: saving model to model/keypoint_classifier/keypoint_classifier.keras\n",
      "\u001b[1m121/121\u001b[0m \u001b[32m━━━━━━━━━━━━━━━━━━━━\u001b[0m\u001b[37m\u001b[0m \u001b[1m1s\u001b[0m 5ms/step - accuracy: 0.5181 - loss: 1.3670 - val_accuracy: 0.6780 - val_loss: 1.0326\n",
      "Epoch 111: early stopping\n"
=======
      "\u001b[1m166/176\u001b[0m \u001b[32m━━━━━━━━━━━━━━━━━━\u001b[0m\u001b[37m━━\u001b[0m \u001b[1m0s\u001b[0m 1ms/step - accuracy: 0.1996 - loss: 2.0536\n",
      "Epoch 1: saving model to model/sign_keypoint_classifier/keypoint_classifier.keras\n",
      "\u001b[1m176/176\u001b[0m \u001b[32m━━━━━━━━━━━━━━━━━━━━\u001b[0m\u001b[37m\u001b[0m \u001b[1m2s\u001b[0m 3ms/step - accuracy: 0.2046 - loss: 2.0436 - val_accuracy: 0.6467 - val_loss: 1.4263\n",
      "Epoch 2/1000\n",
      "\u001b[1m121/176\u001b[0m \u001b[32m━━━━━━━━━━━━━\u001b[0m\u001b[37m━━━━━━━\u001b[0m \u001b[1m0s\u001b[0m 842us/step - accuracy: 0.4376 - loss: 1.5254\n",
      "Epoch 2: saving model to model/sign_keypoint_classifier/keypoint_classifier.keras\n",
      "\u001b[1m176/176\u001b[0m \u001b[32m━━━━━━━━━━━━━━━━━━━━\u001b[0m\u001b[37m\u001b[0m \u001b[1m0s\u001b[0m 2ms/step - accuracy: 0.4486 - loss: 1.4945 - val_accuracy: 0.8593 - val_loss: 0.9050\n",
      "Epoch 3/1000\n",
      "\u001b[1m164/176\u001b[0m \u001b[32m━━━━━━━━━━━━━━━━━━\u001b[0m\u001b[37m━━\u001b[0m \u001b[1m0s\u001b[0m 1ms/step - accuracy: 0.5753 - loss: 1.1769\n",
      "Epoch 3: saving model to model/sign_keypoint_classifier/keypoint_classifier.keras\n",
      "\u001b[1m176/176\u001b[0m \u001b[32m━━━━━━━━━━━━━━━━━━━━\u001b[0m\u001b[37m\u001b[0m \u001b[1m0s\u001b[0m 2ms/step - accuracy: 0.5768 - loss: 1.1724 - val_accuracy: 0.9392 - val_loss: 0.6342\n",
      "Epoch 4/1000\n",
      "\u001b[1m163/176\u001b[0m \u001b[32m━━━━━━━━━━━━━━━━━━\u001b[0m\u001b[37m━━\u001b[0m \u001b[1m0s\u001b[0m 2ms/step - accuracy: 0.6503 - loss: 0.9848\n",
      "Epoch 4: saving model to model/sign_keypoint_classifier/keypoint_classifier.keras\n",
      "\u001b[1m176/176\u001b[0m \u001b[32m━━━━━━━━━━━━━━━━━━━━\u001b[0m\u001b[37m\u001b[0m \u001b[1m0s\u001b[0m 2ms/step - accuracy: 0.6508 - loss: 0.9834 - val_accuracy: 0.9338 - val_loss: 0.5161\n",
      "Epoch 5/1000\n",
      "\u001b[1m145/176\u001b[0m \u001b[32m━━━━━━━━━━━━━━━━\u001b[0m\u001b[37m━━━━\u001b[0m \u001b[1m0s\u001b[0m 1ms/step - accuracy: 0.6696 - loss: 0.9201\n",
      "Epoch 5: saving model to model/sign_keypoint_classifier/keypoint_classifier.keras\n",
      "\u001b[1m176/176\u001b[0m \u001b[32m━━━━━━━━━━━━━━━━━━━━\u001b[0m\u001b[37m\u001b[0m \u001b[1m0s\u001b[0m 2ms/step - accuracy: 0.6719 - loss: 0.9158 - val_accuracy: 0.9427 - val_loss: 0.4374\n",
      "Epoch 6/1000\n",
      "\u001b[1m131/176\u001b[0m \u001b[32m━━━━━━━━━━━━━━\u001b[0m\u001b[37m━━━━━━\u001b[0m \u001b[1m0s\u001b[0m 1ms/step - accuracy: 0.6951 - loss: 0.8565\n",
      "Epoch 6: saving model to model/sign_keypoint_classifier/keypoint_classifier.keras\n",
      "\u001b[1m176/176\u001b[0m \u001b[32m━━━━━━━━━━━━━━━━━━━━\u001b[0m\u001b[37m\u001b[0m \u001b[1m0s\u001b[0m 2ms/step - accuracy: 0.6964 - loss: 0.8524 - val_accuracy: 0.9624 - val_loss: 0.3893\n",
      "Epoch 7/1000\n",
      "\u001b[1m174/176\u001b[0m \u001b[32m━━━━━━━━━━━━━━━━━━━\u001b[0m\u001b[37m━\u001b[0m \u001b[1m0s\u001b[0m 2ms/step - accuracy: 0.7148 - loss: 0.8048\n",
      "Epoch 7: saving model to model/sign_keypoint_classifier/keypoint_classifier.keras\n",
      "\u001b[1m176/176\u001b[0m \u001b[32m━━━━━━━━━━━━━━━━━━━━\u001b[0m\u001b[37m\u001b[0m \u001b[1m1s\u001b[0m 3ms/step - accuracy: 0.7147 - loss: 0.8048 - val_accuracy: 0.9699 - val_loss: 0.3646\n",
      "Epoch 8/1000\n",
      "\u001b[1m156/176\u001b[0m \u001b[32m━━━━━━━━━━━━━━━━━\u001b[0m\u001b[37m━━━\u001b[0m \u001b[1m0s\u001b[0m 2ms/step - accuracy: 0.7243 - loss: 0.7732\n",
      "Epoch 8: saving model to model/sign_keypoint_classifier/keypoint_classifier.keras\n",
      "\u001b[1m176/176\u001b[0m \u001b[32m━━━━━━━━━━━━━━━━━━━━\u001b[0m\u001b[37m\u001b[0m \u001b[1m0s\u001b[0m 2ms/step - accuracy: 0.7246 - loss: 0.7731 - val_accuracy: 0.9729 - val_loss: 0.3324\n",
      "Epoch 9/1000\n",
      "\u001b[1m140/176\u001b[0m \u001b[32m━━━━━━━━━━━━━━━\u001b[0m\u001b[37m━━━━━\u001b[0m \u001b[1m0s\u001b[0m 1ms/step - accuracy: 0.7259 - loss: 0.7671  \n",
      "Epoch 9: saving model to model/sign_keypoint_classifier/keypoint_classifier.keras\n",
      "\u001b[1m176/176\u001b[0m \u001b[32m━━━━━━━━━━━━━━━━━━━━\u001b[0m\u001b[37m\u001b[0m \u001b[1m0s\u001b[0m 2ms/step - accuracy: 0.7272 - loss: 0.7644 - val_accuracy: 0.9733 - val_loss: 0.3257\n",
      "Epoch 10/1000\n",
      "\u001b[1m123/176\u001b[0m \u001b[32m━━━━━━━━━━━━━\u001b[0m\u001b[37m━━━━━━━\u001b[0m \u001b[1m0s\u001b[0m 829us/step - accuracy: 0.7344 - loss: 0.7553\n",
      "Epoch 10: saving model to model/sign_keypoint_classifier/keypoint_classifier.keras\n",
      "\u001b[1m176/176\u001b[0m \u001b[32m━━━━━━━━━━━━━━━━━━━━\u001b[0m\u001b[37m\u001b[0m \u001b[1m0s\u001b[0m 1ms/step - accuracy: 0.7350 - loss: 0.7491 - val_accuracy: 0.9744 - val_loss: 0.3078\n",
      "Epoch 11/1000\n",
      "\u001b[1m119/176\u001b[0m \u001b[32m━━━━━━━━━━━━━\u001b[0m\u001b[37m━━━━━━━\u001b[0m \u001b[1m0s\u001b[0m 853us/step - accuracy: 0.7437 - loss: 0.7294\n",
      "Epoch 11: saving model to model/sign_keypoint_classifier/keypoint_classifier.keras\n",
      "\u001b[1m176/176\u001b[0m \u001b[32m━━━━━━━━━━━━━━━━━━━━\u001b[0m\u001b[37m\u001b[0m \u001b[1m0s\u001b[0m 2ms/step - accuracy: 0.7439 - loss: 0.7269 - val_accuracy: 0.9768 - val_loss: 0.2952\n",
      "Epoch 12/1000\n",
      "\u001b[1m152/176\u001b[0m \u001b[32m━━━━━━━━━━━━━━━━━\u001b[0m\u001b[37m━━━\u001b[0m \u001b[1m0s\u001b[0m 1ms/step - accuracy: 0.7456 - loss: 0.7082\n",
      "Epoch 12: saving model to model/sign_keypoint_classifier/keypoint_classifier.keras\n",
      "\u001b[1m176/176\u001b[0m \u001b[32m━━━━━━━━━━━━━━━━━━━━\u001b[0m\u001b[37m\u001b[0m \u001b[1m0s\u001b[0m 2ms/step - accuracy: 0.7461 - loss: 0.7076 - val_accuracy: 0.9773 - val_loss: 0.2777\n",
      "Epoch 13/1000\n",
      "\u001b[1m149/176\u001b[0m \u001b[32m━━━━━━━━━━━━━━━━\u001b[0m\u001b[37m━━━━\u001b[0m \u001b[1m0s\u001b[0m 1ms/step - accuracy: 0.7541 - loss: 0.6914\n",
      "Epoch 13: saving model to model/sign_keypoint_classifier/keypoint_classifier.keras\n",
      "\u001b[1m176/176\u001b[0m \u001b[32m━━━━━━━━━━━━━━━━━━━━\u001b[0m\u001b[37m\u001b[0m \u001b[1m0s\u001b[0m 2ms/step - accuracy: 0.7548 - loss: 0.6903 - val_accuracy: 0.9749 - val_loss: 0.2748\n",
      "Epoch 14/1000\n",
      "\u001b[1m172/176\u001b[0m \u001b[32m━━━━━━━━━━━━━━━━━━━\u001b[0m\u001b[37m━\u001b[0m \u001b[1m0s\u001b[0m 1ms/step - accuracy: 0.7559 - loss: 0.6767\n",
      "Epoch 14: saving model to model/sign_keypoint_classifier/keypoint_classifier.keras\n",
      "\u001b[1m176/176\u001b[0m \u001b[32m━━━━━━━━━━━━━━━━━━━━\u001b[0m\u001b[37m\u001b[0m \u001b[1m0s\u001b[0m 2ms/step - accuracy: 0.7560 - loss: 0.6769 - val_accuracy: 0.9779 - val_loss: 0.2749\n",
      "Epoch 15/1000\n",
      "\u001b[1m151/176\u001b[0m \u001b[32m━━━━━━━━━━━━━━━━━\u001b[0m\u001b[37m━━━\u001b[0m \u001b[1m0s\u001b[0m 1ms/step - accuracy: 0.7641 - loss: 0.6647  \n",
      "Epoch 15: saving model to model/sign_keypoint_classifier/keypoint_classifier.keras\n",
      "\u001b[1m176/176\u001b[0m \u001b[32m━━━━━━━━━━━━━━━━━━━━\u001b[0m\u001b[37m\u001b[0m \u001b[1m0s\u001b[0m 2ms/step - accuracy: 0.7639 - loss: 0.6652 - val_accuracy: 0.9803 - val_loss: 0.2510\n",
      "Epoch 16/1000\n",
      "\u001b[1m126/176\u001b[0m \u001b[32m━━━━━━━━━━━━━━\u001b[0m\u001b[37m━━━━━━\u001b[0m \u001b[1m0s\u001b[0m 1ms/step - accuracy: 0.7722 - loss: 0.6336\n",
      "Epoch 16: saving model to model/sign_keypoint_classifier/keypoint_classifier.keras\n",
      "\u001b[1m176/176\u001b[0m \u001b[32m━━━━━━━━━━━━━━━━━━━━\u001b[0m\u001b[37m\u001b[0m \u001b[1m0s\u001b[0m 2ms/step - accuracy: 0.7723 - loss: 0.6360 - val_accuracy: 0.9811 - val_loss: 0.2560\n",
      "Epoch 17/1000\n",
      "\u001b[1m137/176\u001b[0m \u001b[32m━━━━━━━━━━━━━━━\u001b[0m\u001b[37m━━━━━\u001b[0m \u001b[1m0s\u001b[0m 1ms/step - accuracy: 0.7723 - loss: 0.6337\n",
      "Epoch 17: saving model to model/sign_keypoint_classifier/keypoint_classifier.keras\n",
      "\u001b[1m176/176\u001b[0m \u001b[32m━━━━━━━━━━━━━━━━━━━━\u001b[0m\u001b[37m\u001b[0m \u001b[1m0s\u001b[0m 2ms/step - accuracy: 0.7714 - loss: 0.6368 - val_accuracy: 0.9807 - val_loss: 0.2561\n",
      "Epoch 18/1000\n",
      "\u001b[1m155/176\u001b[0m \u001b[32m━━━━━━━━━━━━━━━━━\u001b[0m\u001b[37m━━━\u001b[0m \u001b[1m0s\u001b[0m 980us/step - accuracy: 0.7738 - loss: 0.6406\n",
      "Epoch 18: saving model to model/sign_keypoint_classifier/keypoint_classifier.keras\n",
      "\u001b[1m176/176\u001b[0m \u001b[32m━━━━━━━━━━━━━━━━━━━━\u001b[0m\u001b[37m\u001b[0m \u001b[1m0s\u001b[0m 2ms/step - accuracy: 0.7739 - loss: 0.6401 - val_accuracy: 0.9803 - val_loss: 0.2505\n",
      "Epoch 19/1000\n",
      "\u001b[1m138/176\u001b[0m \u001b[32m━━━━━━━━━━━━━━━\u001b[0m\u001b[37m━━━━━\u001b[0m \u001b[1m0s\u001b[0m 1ms/step - accuracy: 0.7742 - loss: 0.6334\n",
      "Epoch 19: saving model to model/sign_keypoint_classifier/keypoint_classifier.keras\n",
      "\u001b[1m176/176\u001b[0m \u001b[32m━━━━━━━━━━━━━━━━━━━━\u001b[0m\u001b[37m\u001b[0m \u001b[1m0s\u001b[0m 2ms/step - accuracy: 0.7758 - loss: 0.6308 - val_accuracy: 0.9832 - val_loss: 0.2350\n",
      "Epoch 20/1000\n",
      "\u001b[1m168/176\u001b[0m \u001b[32m━━━━━━━━━━━━━━━━━━━\u001b[0m\u001b[37m━\u001b[0m \u001b[1m0s\u001b[0m 908us/step - accuracy: 0.7828 - loss: 0.6090\n",
      "Epoch 20: saving model to model/sign_keypoint_classifier/keypoint_classifier.keras\n",
      "\u001b[1m176/176\u001b[0m \u001b[32m━━━━━━━━━━━━━━━━━━━━\u001b[0m\u001b[37m\u001b[0m \u001b[1m0s\u001b[0m 2ms/step - accuracy: 0.7829 - loss: 0.6091 - val_accuracy: 0.9813 - val_loss: 0.2474\n",
      "Epoch 21/1000\n",
      "\u001b[1m174/176\u001b[0m \u001b[32m━━━━━━━━━━━━━━━━━━━\u001b[0m\u001b[37m━\u001b[0m \u001b[1m0s\u001b[0m 1ms/step - accuracy: 0.7783 - loss: 0.6160\n",
      "Epoch 21: saving model to model/sign_keypoint_classifier/keypoint_classifier.keras\n",
      "\u001b[1m176/176\u001b[0m \u001b[32m━━━━━━━━━━━━━━━━━━━━\u001b[0m\u001b[37m\u001b[0m \u001b[1m0s\u001b[0m 2ms/step - accuracy: 0.7784 - loss: 0.6159 - val_accuracy: 0.9804 - val_loss: 0.2549\n",
      "Epoch 22/1000\n",
      "\u001b[1m163/176\u001b[0m \u001b[32m━━━━━━━━━━━━━━━━━━\u001b[0m\u001b[37m━━\u001b[0m \u001b[1m0s\u001b[0m 937us/step - accuracy: 0.7953 - loss: 0.5918\n",
      "Epoch 22: saving model to model/sign_keypoint_classifier/keypoint_classifier.keras\n",
      "\u001b[1m176/176\u001b[0m \u001b[32m━━━━━━━━━━━━━━━━━━━━\u001b[0m\u001b[37m\u001b[0m \u001b[1m0s\u001b[0m 2ms/step - accuracy: 0.7952 - loss: 0.5917 - val_accuracy: 0.9801 - val_loss: 0.2425\n",
      "Epoch 23/1000\n",
      "\u001b[1m167/176\u001b[0m \u001b[32m━━━━━━━━━━━━━━━━━━\u001b[0m\u001b[37m━━\u001b[0m \u001b[1m0s\u001b[0m 913us/step - accuracy: 0.7927 - loss: 0.5836\n",
      "Epoch 23: saving model to model/sign_keypoint_classifier/keypoint_classifier.keras\n",
      "\u001b[1m176/176\u001b[0m \u001b[32m━━━━━━━━━━━━━━━━━━━━\u001b[0m\u001b[37m\u001b[0m \u001b[1m0s\u001b[0m 2ms/step - accuracy: 0.7929 - loss: 0.5833 - val_accuracy: 0.9824 - val_loss: 0.2377\n",
      "Epoch 24/1000\n",
      "\u001b[1m150/176\u001b[0m \u001b[32m━━━━━━━━━━━━━━━━━\u001b[0m\u001b[37m━━━\u001b[0m \u001b[1m0s\u001b[0m 1ms/step - accuracy: 0.7939 - loss: 0.5997\n",
      "Epoch 24: saving model to model/sign_keypoint_classifier/keypoint_classifier.keras\n",
      "\u001b[1m176/176\u001b[0m \u001b[32m━━━━━━━━━━━━━━━━━━━━\u001b[0m\u001b[37m\u001b[0m \u001b[1m0s\u001b[0m 2ms/step - accuracy: 0.7946 - loss: 0.5964 - val_accuracy: 0.9829 - val_loss: 0.2358\n",
      "Epoch 25/1000\n",
      "\u001b[1m164/176\u001b[0m \u001b[32m━━━━━━━━━━━━━━━━━━\u001b[0m\u001b[37m━━\u001b[0m \u001b[1m0s\u001b[0m 925us/step - accuracy: 0.7936 - loss: 0.5809\n",
      "Epoch 25: saving model to model/sign_keypoint_classifier/keypoint_classifier.keras\n",
      "\u001b[1m176/176\u001b[0m \u001b[32m━━━━━━━━━━━━━━━━━━━━\u001b[0m\u001b[37m\u001b[0m \u001b[1m0s\u001b[0m 2ms/step - accuracy: 0.7941 - loss: 0.5800 - val_accuracy: 0.9844 - val_loss: 0.2252\n",
      "Epoch 26/1000\n",
      "\u001b[1m124/176\u001b[0m \u001b[32m━━━━━━━━━━━━━━\u001b[0m\u001b[37m━━━━━━\u001b[0m \u001b[1m0s\u001b[0m 1ms/step - accuracy: 0.7997 - loss: 0.5664\n",
      "Epoch 26: saving model to model/sign_keypoint_classifier/keypoint_classifier.keras\n",
      "\u001b[1m176/176\u001b[0m \u001b[32m━━━━━━━━━━━━━━━━━━━━\u001b[0m\u001b[37m\u001b[0m \u001b[1m0s\u001b[0m 2ms/step - accuracy: 0.8010 - loss: 0.5647 - val_accuracy: 0.9841 - val_loss: 0.2176\n",
      "Epoch 27/1000\n",
      "\u001b[1m170/176\u001b[0m \u001b[32m━━━━━━━━━━━━━━━━━━━\u001b[0m\u001b[37m━\u001b[0m \u001b[1m0s\u001b[0m 896us/step - accuracy: 0.8024 - loss: 0.5565\n",
      "Epoch 27: saving model to model/sign_keypoint_classifier/keypoint_classifier.keras\n",
      "\u001b[1m176/176\u001b[0m \u001b[32m━━━━━━━━━━━━━━━━━━━━\u001b[0m\u001b[37m\u001b[0m \u001b[1m0s\u001b[0m 2ms/step - accuracy: 0.8026 - loss: 0.5560 - val_accuracy: 0.9849 - val_loss: 0.2319\n",
      "Epoch 28/1000\n",
      "\u001b[1m147/176\u001b[0m \u001b[32m━━━━━━━━━━━━━━━━\u001b[0m\u001b[37m━━━━\u001b[0m \u001b[1m0s\u001b[0m 1ms/step - accuracy: 0.8060 - loss: 0.5505\n",
      "Epoch 28: saving model to model/sign_keypoint_classifier/keypoint_classifier.keras\n",
      "\u001b[1m176/176\u001b[0m \u001b[32m━━━━━━━━━━━━━━━━━━━━\u001b[0m\u001b[37m\u001b[0m \u001b[1m0s\u001b[0m 2ms/step - accuracy: 0.8070 - loss: 0.5487 - val_accuracy: 0.9812 - val_loss: 0.2366\n",
      "Epoch 29/1000\n",
      "\u001b[1m139/176\u001b[0m \u001b[32m━━━━━━━━━━━━━━━\u001b[0m\u001b[37m━━━━━\u001b[0m \u001b[1m0s\u001b[0m 1ms/step - accuracy: 0.8152 - loss: 0.5318\n",
      "Epoch 29: saving model to model/sign_keypoint_classifier/keypoint_classifier.keras\n",
      "\u001b[1m176/176\u001b[0m \u001b[32m━━━━━━━━━━━━━━━━━━━━\u001b[0m\u001b[37m\u001b[0m \u001b[1m0s\u001b[0m 2ms/step - accuracy: 0.8161 - loss: 0.5296 - val_accuracy: 0.9772 - val_loss: 0.2484\n",
      "Epoch 30/1000\n",
      "\u001b[1m167/176\u001b[0m \u001b[32m━━━━━━━━━━━━━━━━━━\u001b[0m\u001b[37m━━\u001b[0m \u001b[1m0s\u001b[0m 917us/step - accuracy: 0.8192 - loss: 0.5290\n",
      "Epoch 30: saving model to model/sign_keypoint_classifier/keypoint_classifier.keras\n",
      "\u001b[1m176/176\u001b[0m \u001b[32m━━━━━━━━━━━━━━━━━━━━\u001b[0m\u001b[37m\u001b[0m \u001b[1m0s\u001b[0m 2ms/step - accuracy: 0.8193 - loss: 0.5287 - val_accuracy: 0.9764 - val_loss: 0.2545\n",
      "Epoch 31/1000\n",
      "\u001b[1m167/176\u001b[0m \u001b[32m━━━━━━━━━━━━━━━━━━\u001b[0m\u001b[37m━━\u001b[0m \u001b[1m0s\u001b[0m 1ms/step - accuracy: 0.8225 - loss: 0.5161\n",
      "Epoch 31: saving model to model/sign_keypoint_classifier/keypoint_classifier.keras\n",
      "\u001b[1m176/176\u001b[0m \u001b[32m━━━━━━━━━━━━━━━━━━━━\u001b[0m\u001b[37m\u001b[0m \u001b[1m0s\u001b[0m 2ms/step - accuracy: 0.8227 - loss: 0.5157 - val_accuracy: 0.9664 - val_loss: 0.2648\n",
      "Epoch 32/1000\n",
      "\u001b[1m140/176\u001b[0m \u001b[32m━━━━━━━━━━━━━━━\u001b[0m\u001b[37m━━━━━\u001b[0m \u001b[1m0s\u001b[0m 1ms/step - accuracy: 0.8261 - loss: 0.5075\n",
      "Epoch 32: saving model to model/sign_keypoint_classifier/keypoint_classifier.keras\n",
      "\u001b[1m176/176\u001b[0m \u001b[32m━━━━━━━━━━━━━━━━━━━━\u001b[0m\u001b[37m\u001b[0m \u001b[1m0s\u001b[0m 2ms/step - accuracy: 0.8261 - loss: 0.5082 - val_accuracy: 0.9649 - val_loss: 0.2818\n",
      "Epoch 33/1000\n",
      "\u001b[1m136/176\u001b[0m \u001b[32m━━━━━━━━━━━━━━━\u001b[0m\u001b[37m━━━━━\u001b[0m \u001b[1m0s\u001b[0m 1ms/step - accuracy: 0.8304 - loss: 0.4957\n",
      "Epoch 33: saving model to model/sign_keypoint_classifier/keypoint_classifier.keras\n",
      "\u001b[1m176/176\u001b[0m \u001b[32m━━━━━━━━━━━━━━━━━━━━\u001b[0m\u001b[37m\u001b[0m \u001b[1m0s\u001b[0m 2ms/step - accuracy: 0.8313 - loss: 0.4939 - val_accuracy: 0.9667 - val_loss: 0.2678\n",
      "Epoch 34/1000\n",
      "\u001b[1m157/176\u001b[0m \u001b[32m━━━━━━━━━━━━━━━━━\u001b[0m\u001b[37m━━━\u001b[0m \u001b[1m0s\u001b[0m 979us/step - accuracy: 0.8363 - loss: 0.4908\n",
      "Epoch 34: saving model to model/sign_keypoint_classifier/keypoint_classifier.keras\n",
      "\u001b[1m176/176\u001b[0m \u001b[32m━━━━━━━━━━━━━━━━━━━━\u001b[0m\u001b[37m\u001b[0m \u001b[1m0s\u001b[0m 2ms/step - accuracy: 0.8359 - loss: 0.4909 - val_accuracy: 0.9468 - val_loss: 0.2985\n",
      "Epoch 35/1000\n",
      "\u001b[1m170/176\u001b[0m \u001b[32m━━━━━━━━━━━━━━━━━━━\u001b[0m\u001b[37m━\u001b[0m \u001b[1m0s\u001b[0m 895us/step - accuracy: 0.8336 - loss: 0.4908\n",
      "Epoch 35: saving model to model/sign_keypoint_classifier/keypoint_classifier.keras\n",
      "\u001b[1m176/176\u001b[0m \u001b[32m━━━━━━━━━━━━━━━━━━━━\u001b[0m\u001b[37m\u001b[0m \u001b[1m0s\u001b[0m 2ms/step - accuracy: 0.8338 - loss: 0.4904 - val_accuracy: 0.9534 - val_loss: 0.2896\n",
      "Epoch 36/1000\n",
      "\u001b[1m158/176\u001b[0m \u001b[32m━━━━━━━━━━━━━━━━━\u001b[0m\u001b[37m━━━\u001b[0m \u001b[1m0s\u001b[0m 1ms/step - accuracy: 0.8409 - loss: 0.4742\n",
      "Epoch 36: saving model to model/sign_keypoint_classifier/keypoint_classifier.keras\n",
      "\u001b[1m176/176\u001b[0m \u001b[32m━━━━━━━━━━━━━━━━━━━━\u001b[0m\u001b[37m\u001b[0m \u001b[1m0s\u001b[0m 2ms/step - accuracy: 0.8410 - loss: 0.4739 - val_accuracy: 0.9514 - val_loss: 0.2848\n",
      "Epoch 37/1000\n",
      "\u001b[1m170/176\u001b[0m \u001b[32m━━━━━━━━━━━━━━━━━━━\u001b[0m\u001b[37m━\u001b[0m \u001b[1m0s\u001b[0m 898us/step - accuracy: 0.8420 - loss: 0.4672\n",
      "Epoch 37: saving model to model/sign_keypoint_classifier/keypoint_classifier.keras\n",
      "\u001b[1m176/176\u001b[0m \u001b[32m━━━━━━━━━━━━━━━━━━━━\u001b[0m\u001b[37m\u001b[0m \u001b[1m0s\u001b[0m 2ms/step - accuracy: 0.8421 - loss: 0.4672 - val_accuracy: 0.9443 - val_loss: 0.2941\n",
      "Epoch 38/1000\n",
      "\u001b[1m158/176\u001b[0m \u001b[32m━━━━━━━━━━━━━━━━━\u001b[0m\u001b[37m━━━\u001b[0m \u001b[1m0s\u001b[0m 1ms/step - accuracy: 0.8414 - loss: 0.4653\n",
      "Epoch 38: saving model to model/sign_keypoint_classifier/keypoint_classifier.keras\n",
      "\u001b[1m176/176\u001b[0m \u001b[32m━━━━━━━━━━━━━━━━━━━━\u001b[0m\u001b[37m\u001b[0m \u001b[1m0s\u001b[0m 2ms/step - accuracy: 0.8419 - loss: 0.4645 - val_accuracy: 0.9347 - val_loss: 0.3048\n",
      "Epoch 39/1000\n",
      "\u001b[1m160/176\u001b[0m \u001b[32m━━━━━━━━━━━━━━━━━━\u001b[0m\u001b[37m━━\u001b[0m \u001b[1m0s\u001b[0m 947us/step - accuracy: 0.8465 - loss: 0.4560\n",
      "Epoch 39: saving model to model/sign_keypoint_classifier/keypoint_classifier.keras\n",
      "\u001b[1m176/176\u001b[0m \u001b[32m━━━━━━━━━━━━━━━━━━━━\u001b[0m\u001b[37m\u001b[0m \u001b[1m0s\u001b[0m 2ms/step - accuracy: 0.8467 - loss: 0.4558 - val_accuracy: 0.9252 - val_loss: 0.3144\n",
      "Epoch 40/1000\n",
      "\u001b[1m149/176\u001b[0m \u001b[32m━━━━━━━━━━━━━━━━\u001b[0m\u001b[37m━━━━\u001b[0m \u001b[1m0s\u001b[0m 1ms/step - accuracy: 0.8563 - loss: 0.4386\n",
      "Epoch 40: saving model to model/sign_keypoint_classifier/keypoint_classifier.keras\n",
      "\u001b[1m176/176\u001b[0m \u001b[32m━━━━━━━━━━━━━━━━━━━━\u001b[0m\u001b[37m\u001b[0m \u001b[1m0s\u001b[0m 2ms/step - accuracy: 0.8557 - loss: 0.4395 - val_accuracy: 0.9292 - val_loss: 0.3056\n",
      "Epoch 41/1000\n",
      "\u001b[1m139/176\u001b[0m \u001b[32m━━━━━━━━━━━━━━━\u001b[0m\u001b[37m━━━━━\u001b[0m \u001b[1m0s\u001b[0m 1ms/step - accuracy: 0.8516 - loss: 0.4582\n",
      "Epoch 41: saving model to model/sign_keypoint_classifier/keypoint_classifier.keras\n",
      "\u001b[1m176/176\u001b[0m \u001b[32m━━━━━━━━━━━━━━━━━━━━\u001b[0m\u001b[37m\u001b[0m \u001b[1m0s\u001b[0m 2ms/step - accuracy: 0.8525 - loss: 0.4551 - val_accuracy: 0.9270 - val_loss: 0.3228\n",
      "Epoch 42/1000\n",
      "\u001b[1m161/176\u001b[0m \u001b[32m━━━━━━━━━━━━━━━━━━\u001b[0m\u001b[37m━━\u001b[0m \u001b[1m0s\u001b[0m 949us/step - accuracy: 0.8589 - loss: 0.4341\n",
      "Epoch 42: saving model to model/sign_keypoint_classifier/keypoint_classifier.keras\n",
      "\u001b[1m176/176\u001b[0m \u001b[32m━━━━━━━━━━━━━━━━━━━━\u001b[0m\u001b[37m\u001b[0m \u001b[1m0s\u001b[0m 2ms/step - accuracy: 0.8588 - loss: 0.4341 - val_accuracy: 0.9415 - val_loss: 0.2960\n",
      "Epoch 43/1000\n",
      "\u001b[1m154/176\u001b[0m \u001b[32m━━━━━━━━━━━━━━━━━\u001b[0m\u001b[37m━━━\u001b[0m \u001b[1m0s\u001b[0m 990us/step - accuracy: 0.8512 - loss: 0.4466\n",
      "Epoch 43: saving model to model/sign_keypoint_classifier/keypoint_classifier.keras\n",
      "\u001b[1m176/176\u001b[0m \u001b[32m━━━━━━━━━━━━━━━━━━━━\u001b[0m\u001b[37m\u001b[0m \u001b[1m0s\u001b[0m 2ms/step - accuracy: 0.8519 - loss: 0.4449 - val_accuracy: 0.9192 - val_loss: 0.3242\n",
      "Epoch 44/1000\n",
      "\u001b[1m161/176\u001b[0m \u001b[32m━━━━━━━━━━━━━━━━━━\u001b[0m\u001b[37m━━\u001b[0m \u001b[1m0s\u001b[0m 953us/step - accuracy: 0.8597 - loss: 0.4201\n",
      "Epoch 44: saving model to model/sign_keypoint_classifier/keypoint_classifier.keras\n",
      "\u001b[1m176/176\u001b[0m \u001b[32m━━━━━━━━━━━━━━━━━━━━\u001b[0m\u001b[37m\u001b[0m \u001b[1m0s\u001b[0m 2ms/step - accuracy: 0.8599 - loss: 0.4202 - val_accuracy: 0.9206 - val_loss: 0.3168\n",
      "Epoch 45/1000\n",
      "\u001b[1m174/176\u001b[0m \u001b[32m━━━━━━━━━━━━━━━━━━━\u001b[0m\u001b[37m━\u001b[0m \u001b[1m0s\u001b[0m 1ms/step - accuracy: 0.8592 - loss: 0.4273\n",
      "Epoch 45: saving model to model/sign_keypoint_classifier/keypoint_classifier.keras\n",
      "\u001b[1m176/176\u001b[0m \u001b[32m━━━━━━━━━━━━━━━━━━━━\u001b[0m\u001b[37m\u001b[0m \u001b[1m0s\u001b[0m 2ms/step - accuracy: 0.8592 - loss: 0.4272 - val_accuracy: 0.9127 - val_loss: 0.3609\n",
      "Epoch 46/1000\n",
      "\u001b[1m173/176\u001b[0m \u001b[32m━━━━━━━━━━━━━━━━━━━\u001b[0m\u001b[37m━\u001b[0m \u001b[1m0s\u001b[0m 1ms/step - accuracy: 0.8667 - loss: 0.4083\n",
      "Epoch 46: saving model to model/sign_keypoint_classifier/keypoint_classifier.keras\n",
      "\u001b[1m176/176\u001b[0m \u001b[32m━━━━━━━━━━━━━━━━━━━━\u001b[0m\u001b[37m\u001b[0m \u001b[1m1s\u001b[0m 2ms/step - accuracy: 0.8667 - loss: 0.4083 - val_accuracy: 0.9174 - val_loss: 0.3265\n",
      "Epoch 46: early stopping\n"
>>>>>>> a670b10a2d416f0045c8fcc87820154a5fd288e4
     ]
    },
    {
     "data": {
      "text/plain": [
<<<<<<< HEAD
       "<keras.src.callbacks.history.History at 0x7fc4337f6380>"
      ]
     },
     "execution_count": 13,
=======
       "<keras.src.callbacks.history.History at 0x16d985e91f0>"
      ]
     },
     "execution_count": 148,
>>>>>>> a670b10a2d416f0045c8fcc87820154a5fd288e4
     "metadata": {},
     "output_type": "execute_result"
    }
   ],
   "source": [
    "model.fit(\n",
    "    X_train,\n",
    "    y_train,\n",
    "    epochs=1000,\n",
    "    batch_size=128,\n",
    "    validation_data=(X_test, y_test),\n",
    "    callbacks=[cp_callback, es_callback]\n",
    ")"
   ]
  },
  {
   "cell_type": "code",
<<<<<<< HEAD
   "execution_count": 14,
=======
   "execution_count": 149,
>>>>>>> a670b10a2d416f0045c8fcc87820154a5fd288e4
   "metadata": {},
   "outputs": [
    {
     "name": "stdout",
     "output_type": "stream",
     "text": [
<<<<<<< HEAD
      "\u001b[1m481/481\u001b[0m \u001b[32m━━━━━━━━━━━━━━━━━━━━\u001b[0m\u001b[37m\u001b[0m \u001b[1m0s\u001b[0m 660us/step - accuracy: 0.6790 - loss: 1.0360\n"
=======
      "\u001b[1m30/30\u001b[0m \u001b[32m━━━━━━━━━━━━━━━━━━━━\u001b[0m\u001b[37m\u001b[0m \u001b[1m0s\u001b[0m 1ms/step - accuracy: 0.9124 - loss: 0.3336 \n"
>>>>>>> a670b10a2d416f0045c8fcc87820154a5fd288e4
     ]
    }
   ],
   "source": [
    "# Avaliação do modelo\n",
    "val_loss, val_acc = model.evaluate(X_test, y_test, batch_size=256)"
   ]
  },
  {
   "cell_type": "code",
<<<<<<< HEAD
   "execution_count": 15,
=======
   "execution_count": 150,
>>>>>>> a670b10a2d416f0045c8fcc87820154a5fd288e4
   "metadata": {},
   "outputs": [],
   "source": [
    "# Carregando um modelo salvo\n",
    "model = tf.keras.models.load_model(model_save_path)"
   ]
  },
  {
   "cell_type": "code",
<<<<<<< HEAD
   "execution_count": 16,
=======
   "execution_count": 151,
>>>>>>> a670b10a2d416f0045c8fcc87820154a5fd288e4
   "metadata": {},
   "outputs": [
    {
     "name": "stdout",
     "output_type": "stream",
     "text": [
<<<<<<< HEAD
      "\u001b[1m1/1\u001b[0m \u001b[32m━━━━━━━━━━━━━━━━━━━━\u001b[0m\u001b[37m\u001b[0m \u001b[1m0s\u001b[0m 91ms/step\n",
      "[4.86065485e-02 2.47405897e-05 9.13964771e-03 1.37699872e-01\n",
      " 2.28543300e-02 1.27616426e-04 2.20731087e-02 2.75542075e-03\n",
      " 5.29127158e-02 7.52101243e-02 3.10611562e-03 3.68332025e-04\n",
      " 1.05103385e-02 4.46482688e-01 2.06984460e-05 3.47130606e-03\n",
      " 6.89900806e-03 2.42088572e-05 4.42180088e-08 3.63875597e-06\n",
      " 1.19456135e-01 1.66008063e-02 2.16524899e-02 9.92502858e-10\n",
      " 3.89594523e-10 7.87561483e-09 2.10016715e-09 4.60397831e-10\n",
      " 4.57266847e-09 2.72971368e-10 1.11393650e-08 1.43861847e-08\n",
      " 3.10944515e-09 1.69397485e-09 1.92779503e-09 9.12225762e-09\n",
      " 1.36776779e-09 1.21397981e-09 1.22755264e-08 5.11955034e-10]\n",
      "13\n"
=======
      "\u001b[1m1/1\u001b[0m \u001b[32m━━━━━━━━━━━━━━━━━━━━\u001b[0m\u001b[37m\u001b[0m \u001b[1m0s\u001b[0m 77ms/step\n",
      "[1.0461518e-01 7.4925337e-09 9.6280068e-08 8.6605155e-01 1.3996083e-02\n",
      " 3.8474272e-03 5.1659363e-04 1.0973097e-02]\n",
      "3\n"
>>>>>>> a670b10a2d416f0045c8fcc87820154a5fd288e4
     ]
    }
   ],
   "source": [
    "# Teste de raciocínio\n",
    "predict_result = model.predict(np.array([X_test[0]]))\n",
    "print(np.squeeze(predict_result))\n",
    "print(np.argmax(np.squeeze(predict_result)))"
   ]
  },
  {
   "cell_type": "markdown",
   "metadata": {},
   "source": [
    "# Matriz de confusão"
   ]
  },
  {
   "cell_type": "code",
<<<<<<< HEAD
   "execution_count": 17,
=======
   "execution_count": 152,
>>>>>>> a670b10a2d416f0045c8fcc87820154a5fd288e4
   "metadata": {},
   "outputs": [
    {
     "name": "stdout",
     "output_type": "stream",
     "text": [
<<<<<<< HEAD
      "\u001b[1m1921/1921\u001b[0m \u001b[32m━━━━━━━━━━━━━━━━━━━━\u001b[0m\u001b[37m\u001b[0m \u001b[1m2s\u001b[0m 779us/step\n"
=======
      "\u001b[1m235/235\u001b[0m \u001b[32m━━━━━━━━━━━━━━━━━━━━\u001b[0m\u001b[37m\u001b[0m \u001b[1m0s\u001b[0m 638us/step\n"
>>>>>>> a670b10a2d416f0045c8fcc87820154a5fd288e4
     ]
    },
    {
     "data": {
<<<<<<< HEAD
      "image/png": "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",
      "text/plain": [
       "<Figure size 1200x800 with 2 Axes>"
=======
      "image/png": "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",
      "text/plain": [
       "<Figure size 1200x1000 with 2 Axes>"
>>>>>>> a670b10a2d416f0045c8fcc87820154a5fd288e4
      ]
     },
     "metadata": {},
     "output_type": "display_data"
    },
    {
     "name": "stdout",
     "output_type": "stream",
     "text": [
      "Classification Report\n",
      "              precision    recall  f1-score   support\n",
      "\n",
<<<<<<< HEAD
      "           0       0.96      0.57      0.72      3770\n",
      "           1       0.83      0.94      0.88      2701\n",
      "           2       0.68      1.00      0.81      3898\n",
      "           3       0.86      0.99      0.92      1781\n",
      "           4       0.89      0.83      0.86      3377\n",
      "           5       0.83      0.94      0.88      5256\n",
      "           6       0.61      0.40      0.48      3223\n",
      "           7       0.57      0.78      0.66      4476\n",
      "           8       0.72      0.90      0.80      3674\n",
      "           9       0.77      0.91      0.83      2020\n",
      "          10       0.89      0.35      0.50      2385\n",
      "          11       0.16      0.07      0.10      2654\n",
      "          12       0.89      0.40      0.55      3441\n",
      "          13       0.72      1.00      0.84      1621\n",
      "          14       0.44      0.99      0.61      2453\n",
      "          15       0.79      0.12      0.21      2523\n",
      "          16       0.55      0.49      0.52      2717\n",
      "          17       0.18      0.11      0.13      1943\n",
      "          18       0.45      0.95      0.61      1666\n",
      "          19       1.00      0.69      0.82      1500\n",
      "          20       0.93      0.61      0.73      1491\n",
      "          21       0.99      0.47      0.64      1489\n",
      "          22       0.48      0.82      0.61      1393\n",
      "\n",
      "    accuracy                           0.68     61452\n",
      "   macro avg       0.70      0.67      0.64     61452\n",
      "weighted avg       0.71      0.68      0.65     61452\n",
=======
      "      ABERTA       0.71      1.00      0.83       841\n",
      "      JOINHA       0.99      1.00      1.00       960\n",
      "   INDICADOR       0.96      1.00      0.98      1273\n",
      "         ILY       0.98      0.60      0.74       995\n",
      "   HANGLOOSE       0.96      0.97      0.97       963\n",
      "     PISCADA       0.84      1.00      0.91       777\n",
      "          OI       1.00      0.83      0.90       961\n",
      "  OI_DEDINHO       0.98      0.97      0.98       733\n",
      "\n",
      "    accuracy                           0.92      7503\n",
      "   macro avg       0.93      0.92      0.91      7503\n",
      "weighted avg       0.93      0.92      0.91      7503\n",
>>>>>>> a670b10a2d416f0045c8fcc87820154a5fd288e4
      "\n"
     ]
    }
   ],
   "source": [
    "import pandas as pd\n",
    "import seaborn as sns\n",
    "import matplotlib.pyplot as plt\n",
    "from sklearn.metrics import confusion_matrix, classification_report\n",
    "\n",
    "def print_confusion_matrix(y_true, y_pred, report=True):\n",
    "    with open(f'model/{folder_name}/keypoint_classifier_label.csv',\n",
    "            encoding='utf-8-sig') as f:\n",
    "        keypoint_classifier_labels = csv.reader(f)\n",
    "        keypoint_classifier_labels = [\n",
    "            row[0] for row in keypoint_classifier_labels\n",
    "        ]\n",
    "    labels = sorted(list(set(y_true)))\n",
    "    cmx_data = confusion_matrix(y_true, y_pred, labels=labels)\n",
    "    \n",
    "    labels = [keypoint_classifier_labels[i] for i in sorted(list(set(y_true)))]\n",
    "    df_cmx = pd.DataFrame(cmx_data, index=labels, columns=labels)\n",
    " \n",
<<<<<<< HEAD
    "    fig, ax = plt.subplots(figsize=(12, 8))\n",
=======
    "    fig, ax = plt.subplots(figsize=(12, 10))\n",
>>>>>>> a670b10a2d416f0045c8fcc87820154a5fd288e4
    "    sns.heatmap(df_cmx, annot=True, fmt='g' ,square=False)\n",
    "    ax.set_ylim(len(set(y_true)), 0)\n",
    "    plt.show()\n",
    "    \n",
    "    if report:\n",
    "        print('Classification Report')\n",
    "        print(classification_report(y_test, y_pred, target_names=labels))\n",
    "\n",
    "Y_pred = model.predict(X_test)\n",
    "y_pred = np.argmax(Y_pred, axis=1)\n",
    "\n",
    "print_confusion_matrix(y_test, y_pred)"
   ]
  },
  {
   "cell_type": "markdown",
   "metadata": {},
   "source": [
    "# Converter para tensorflow lite"
   ]
  },
  {
   "cell_type": "code",
<<<<<<< HEAD
   "execution_count": 18,
=======
   "execution_count": 153,
>>>>>>> a670b10a2d416f0045c8fcc87820154a5fd288e4
   "metadata": {},
   "outputs": [],
   "source": [
    "# Salvar como modelo apenas para inferência\n",
    "model.save(model_save_path, include_optimizer=False)\n",
    "model = tf.keras.models.load_model(model_save_path)"
   ]
  },
  {
   "cell_type": "code",
<<<<<<< HEAD
   "execution_count": 19,
=======
   "execution_count": 154,
>>>>>>> a670b10a2d416f0045c8fcc87820154a5fd288e4
   "metadata": {},
   "outputs": [
    {
     "name": "stdout",
     "output_type": "stream",
     "text": [
<<<<<<< HEAD
      "INFO:tensorflow:Assets written to: /tmp/tmp37zyacj8/assets\n"
=======
      "INFO:tensorflow:Assets written to: C:\\Users\\ARTHUR~1\\AppData\\Local\\Temp\\tmppn8skz5l\\assets\n"
>>>>>>> a670b10a2d416f0045c8fcc87820154a5fd288e4
     ]
    },
    {
     "name": "stderr",
     "output_type": "stream",
     "text": [
<<<<<<< HEAD
      "INFO:tensorflow:Assets written to: /tmp/tmp37zyacj8/assets\n"
=======
      "INFO:tensorflow:Assets written to: C:\\Users\\ARTHUR~1\\AppData\\Local\\Temp\\tmppn8skz5l\\assets\n"
>>>>>>> a670b10a2d416f0045c8fcc87820154a5fd288e4
     ]
    },
    {
     "name": "stdout",
     "output_type": "stream",
     "text": [
<<<<<<< HEAD
      "Saved artifact at '/tmp/tmp37zyacj8'. The following endpoints are available:\n",
      "\n",
      "* Endpoint 'serve'\n",
      "  args_0 (POSITIONAL_ONLY): TensorSpec(shape=(None, 42), dtype=tf.float32, name='input_layer')\n",
      "Output Type:\n",
      "  TensorSpec(shape=(None, 40), dtype=tf.float32, name=None)\n",
      "Captures:\n",
      "  140479308173856: TensorSpec(shape=(), dtype=tf.resource, name=None)\n",
      "  140479308177728: TensorSpec(shape=(), dtype=tf.resource, name=None)\n",
      "  140479308184768: TensorSpec(shape=(), dtype=tf.resource, name=None)\n",
      "  140479308184592: TensorSpec(shape=(), dtype=tf.resource, name=None)\n",
      "  140479308369936: TensorSpec(shape=(), dtype=tf.resource, name=None)\n",
      "  140479308372224: TensorSpec(shape=(), dtype=tf.resource, name=None)\n"
     ]
    },
    {
     "name": "stderr",
     "output_type": "stream",
     "text": [
      "WARNING: All log messages before absl::InitializeLog() is called are written to STDERR\n",
      "W0000 00:00:1731076743.590418  181165 tf_tfl_flatbuffer_helpers.cc:392] Ignored output_format.\n",
      "W0000 00:00:1731076743.590452  181165 tf_tfl_flatbuffer_helpers.cc:395] Ignored drop_control_dependency.\n",
      "2024-11-08 11:39:03.591087: I tensorflow/cc/saved_model/reader.cc:83] Reading SavedModel from: /tmp/tmp37zyacj8\n",
      "2024-11-08 11:39:03.591669: I tensorflow/cc/saved_model/reader.cc:52] Reading meta graph with tags { serve }\n",
      "2024-11-08 11:39:03.591694: I tensorflow/cc/saved_model/reader.cc:147] Reading SavedModel debug info (if present) from: /tmp/tmp37zyacj8\n",
      "2024-11-08 11:39:03.596434: I tensorflow/compiler/mlir/mlir_graph_optimization_pass.cc:388] MLIR V1 optimization pass is not enabled\n",
      "2024-11-08 11:39:03.597323: I tensorflow/cc/saved_model/loader.cc:236] Restoring SavedModel bundle.\n",
      "2024-11-08 11:39:03.628153: I tensorflow/cc/saved_model/loader.cc:220] Running initialization op on SavedModel bundle at path: /tmp/tmp37zyacj8\n",
      "2024-11-08 11:39:03.635262: I tensorflow/cc/saved_model/loader.cc:462] SavedModel load for tags { serve }; Status: success: OK. Took 44191 microseconds.\n",
      "2024-11-08 11:39:03.656268: I tensorflow/compiler/mlir/tensorflow/utils/dump_mlir_util.cc:268] disabling MLIR crash reproducer, set env var `MLIR_CRASH_REPRODUCER_DIRECTORY` to enable.\n"
=======
      "Saved artifact at 'C:\\Users\\ARTHUR~1\\AppData\\Local\\Temp\\tmppn8skz5l'. The following endpoints are available:\n",
      "\n",
      "* Endpoint 'serve'\n",
      "  args_0 (POSITIONAL_ONLY): TensorSpec(shape=(None, 42), dtype=tf.float32, name='input_layer_6')\n",
      "Output Type:\n",
      "  TensorSpec(shape=(None, 8), dtype=tf.float32, name=None)\n",
      "Captures:\n",
      "  1570384125136: TensorSpec(shape=(), dtype=tf.resource, name=None)\n",
      "  1570384124560: TensorSpec(shape=(), dtype=tf.resource, name=None)\n",
      "  1570384125328: TensorSpec(shape=(), dtype=tf.resource, name=None)\n",
      "  1570384126672: TensorSpec(shape=(), dtype=tf.resource, name=None)\n",
      "  1570384126480: TensorSpec(shape=(), dtype=tf.resource, name=None)\n",
      "  1570384127440: TensorSpec(shape=(), dtype=tf.resource, name=None)\n"
>>>>>>> a670b10a2d416f0045c8fcc87820154a5fd288e4
     ]
    },
    {
     "data": {
      "text/plain": [
<<<<<<< HEAD
       "8120"
      ]
     },
     "execution_count": 19,
=======
       "6732"
      ]
     },
     "execution_count": 154,
>>>>>>> a670b10a2d416f0045c8fcc87820154a5fd288e4
     "metadata": {},
     "output_type": "execute_result"
    }
   ],
   "source": [
    "# Transforme o modelo (quantizar)\n",
    "tflite_save_path = f'model/{folder_name}/keypoint_classifier.tflite'\n",
    "\n",
    "converter = tf.lite.TFLiteConverter.from_keras_model(model)  # converter = tf.lite.TFLiteConverter.from_saved_model(saved_model_path)\n",
    "converter.optimizations = [tf.lite.Optimize.DEFAULT]\n",
    "tflite_quantized_model = converter.convert()\n",
    "\n",
    "open(tflite_save_path, 'wb').write(tflite_quantized_model)"
   ]
  },
  {
   "cell_type": "markdown",
   "metadata": {},
   "source": [
    "# Teste de raciocínio"
   ]
  },
  {
   "cell_type": "code",
<<<<<<< HEAD
   "execution_count": 20,
=======
   "execution_count": 155,
>>>>>>> a670b10a2d416f0045c8fcc87820154a5fd288e4
   "metadata": {},
   "outputs": [
    {
     "name": "stderr",
     "output_type": "stream",
     "text": [
      "INFO: Created TensorFlow Lite XNNPACK delegate for CPU.\n"
     ]
    }
   ],
   "source": [
    "interpreter = tf.lite.Interpreter(model_path=tflite_save_path)\n",
    "interpreter.allocate_tensors()"
   ]
  },
  {
   "cell_type": "code",
<<<<<<< HEAD
   "execution_count": 21,
=======
   "execution_count": 156,
>>>>>>> a670b10a2d416f0045c8fcc87820154a5fd288e4
   "metadata": {},
   "outputs": [],
   "source": [
    "# Obtenha tensor de entrada/saída\n",
    "input_details = interpreter.get_input_details()\n",
    "output_details = interpreter.get_output_details()"
   ]
  },
  {
   "cell_type": "code",
<<<<<<< HEAD
   "execution_count": 22,
=======
   "execution_count": 157,
>>>>>>> a670b10a2d416f0045c8fcc87820154a5fd288e4
   "metadata": {},
   "outputs": [],
   "source": [
    "interpreter.set_tensor(input_details[0]['index'], np.array([X_test[0]]))"
   ]
  },
  {
   "cell_type": "code",
<<<<<<< HEAD
   "execution_count": 23,
   "metadata": {
    "scrolled": true
   },
   "outputs": [],
   "source": [
    "# 推論実施\n",
=======
   "execution_count": 158,
   "metadata": {
    "scrolled": true
   },
   "outputs": [
    {
     "name": "stdout",
     "output_type": "stream",
     "text": [
      "CPU times: total: 0 ns\n",
      "Wall time: 4.06 ms\n"
     ]
    }
   ],
   "source": [
    "%%time\n",
    "# Implementação de inferência\n",
>>>>>>> a670b10a2d416f0045c8fcc87820154a5fd288e4
    "interpreter.invoke()\n",
    "tflite_results = interpreter.get_tensor(output_details[0]['index'])"
   ]
  },
  {
   "cell_type": "code",
<<<<<<< HEAD
   "execution_count": 24,
=======
   "execution_count": 159,
>>>>>>> a670b10a2d416f0045c8fcc87820154a5fd288e4
   "metadata": {},
   "outputs": [
    {
     "name": "stdout",
     "output_type": "stream",
     "text": [
<<<<<<< HEAD
      "[4.86065522e-02 2.47406733e-05 9.13964771e-03 1.37699813e-01\n",
      " 2.28543468e-02 1.27616629e-04 2.20731422e-02 2.75542331e-03\n",
      " 5.29127307e-02 7.52102286e-02 3.10611888e-03 3.68332927e-04\n",
      " 1.05103394e-02 4.46482509e-01 2.06984769e-05 3.47131141e-03\n",
      " 6.89901877e-03 2.42089627e-05 4.42182433e-08 3.63877166e-06\n",
      " 1.19456202e-01 1.66008007e-02 2.16525272e-02 9.92504301e-10\n",
      " 3.89595078e-10 7.87561127e-09 2.10017026e-09 4.60398497e-10\n",
      " 4.57267513e-09 2.72971784e-10 1.11393605e-08 1.43862344e-08\n",
      " 3.10944981e-09 1.69397729e-09 1.92779415e-09 9.12225318e-09\n",
      " 1.36776968e-09 1.21398169e-09 1.22755441e-08 5.11955867e-10]\n",
      "13\n"
=======
      "[1.0461525e-01 7.4925186e-09 9.6279884e-08 8.6605155e-01 1.3996090e-02\n",
      " 3.8474272e-03 5.1659328e-04 1.0973097e-02]\n",
      "3\n"
>>>>>>> a670b10a2d416f0045c8fcc87820154a5fd288e4
     ]
    }
   ],
   "source": [
    "print(np.squeeze(tflite_results))\n",
    "print(np.argmax(np.squeeze(tflite_results)))"
   ]
  }
 ],
 "metadata": {
  "kernelspec": {
   "display_name": "Python 3",
   "language": "python",
   "name": "python3"
  },
  "language_info": {
   "codemirror_mode": {
    "name": "ipython",
    "version": 3
   },
   "file_extension": ".py",
   "mimetype": "text/x-python",
   "name": "python",
   "nbconvert_exporter": "python",
   "pygments_lexer": "ipython3",
<<<<<<< HEAD
   "version": "3.10.12"
=======
   "version": "3.12.0"
>>>>>>> a670b10a2d416f0045c8fcc87820154a5fd288e4
  }
 },
 "nbformat": 4,
 "nbformat_minor": 4
}
