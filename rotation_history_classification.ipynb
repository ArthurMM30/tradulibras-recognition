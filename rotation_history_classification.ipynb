{
 "cells": [
  {
   "cell_type": "code",
   "execution_count": 1,
   "metadata": {},
   "outputs": [],
   "source": [
    "import csv\n",
    "\n",
    "import numpy as np\n",
    "import tensorflow as tf\n",
    "from sklearn.model_selection import train_test_split\n",
    "\n",
    "RANDOM_SEED = 42"
   ]
  },
  {
   "cell_type": "markdown",
   "metadata": {},
   "source": [
    "# 各パス指定"
   ]
  },
  {
   "cell_type": "code",
   "execution_count": 2,
   "metadata": {},
   "outputs": [],
   "source": [
    "dataset = 'model/rotation_history_classifier/rotation_history.csv'\n",
    "model_save_path = 'model/rotation_history_classifier/rotation_history_classifier.keras'"
   ]
  },
  {
   "cell_type": "markdown",
   "metadata": {},
   "source": [
    "# 分類数設定"
   ]
  },
  {
   "cell_type": "code",
   "execution_count": 3,
   "metadata": {},
   "outputs": [],
   "source": [
    "NUM_CLASSES = 3"
   ]
  },
  {
   "cell_type": "markdown",
   "metadata": {},
   "source": [
    "# 入力長"
   ]
  },
  {
   "cell_type": "code",
   "execution_count": 4,
   "metadata": {},
   "outputs": [],
   "source": [
    "TIME_STEPS = 16\n",
    "DIMENSION = 2"
   ]
  },
  {
   "cell_type": "markdown",
   "metadata": {},
   "source": [
    "# 学習データ読み込み"
   ]
  },
  {
   "cell_type": "code",
   "execution_count": 5,
   "metadata": {},
   "outputs": [],
   "source": [
    "X_dataset = np.loadtxt(dataset, delimiter=',', dtype='float32', usecols=list(range(1, (TIME_STEPS * DIMENSION) + 1)))"
   ]
  },
  {
   "cell_type": "code",
   "execution_count": 6,
   "metadata": {},
   "outputs": [],
   "source": [
    "y_dataset = np.loadtxt(dataset, delimiter=',', dtype='int32', usecols=(0))"
   ]
  },
  {
   "cell_type": "code",
   "execution_count": 7,
   "metadata": {},
   "outputs": [],
   "source": [
    "X_train, X_test, y_train, y_test = train_test_split(X_dataset, y_dataset, train_size=0.75, random_state=RANDOM_SEED)"
   ]
  },
  {
   "cell_type": "markdown",
   "metadata": {},
   "source": [
    "# モデル構築"
   ]
  },
  {
   "cell_type": "code",
   "execution_count": 8,
   "metadata": {},
   "outputs": [
    {
     "name": "stderr",
     "output_type": "stream",
     "text": [
      "c:\\Users\\diogolima-ieg\\AppData\\Local\\Programs\\Python\\Python312\\Lib\\site-packages\\keras\\src\\layers\\core\\input_layer.py:26: UserWarning: Argument `input_shape` is deprecated. Use `shape` instead.\n",
      "  warnings.warn(\n"
     ]
    }
   ],
   "source": [
    "use_lstm = False\n",
    "model = None\n",
    "\n",
    "if use_lstm:\n",
    "    model = tf.keras.models.Sequential([\n",
    "        tf.keras.layers.InputLayer(input_shape=(TIME_STEPS * DIMENSION, )),\n",
    "        tf.keras.layers.Reshape((TIME_STEPS, DIMENSION), input_shape=(TIME_STEPS * DIMENSION, )), \n",
    "        tf.keras.layers.Dropout(0.2),\n",
    "        tf.keras.layers.LSTM(16, input_shape=[TIME_STEPS, DIMENSION]),\n",
    "        tf.keras.layers.Dropout(0.5),\n",
    "        tf.keras.layers.Dense(10, activation='relu'),\n",
    "        tf.keras.layers.Dense(NUM_CLASSES, activation='softmax')\n",
    "    ])\n",
    "else:\n",
    "    model = tf.keras.models.Sequential([\n",
    "        tf.keras.layers.InputLayer(input_shape=(TIME_STEPS * DIMENSION, )),\n",
    "        tf.keras.layers.Dropout(0.2),\n",
    "        tf.keras.layers.Dense(24, activation='relu'),\n",
    "        tf.keras.layers.Dropout(0.5),\n",
    "        tf.keras.layers.Dense(10, activation='relu'),\n",
    "        tf.keras.layers.Dense(NUM_CLASSES, activation='softmax')\n",
    "    ])"
   ]
  },
  {
   "cell_type": "code",
   "execution_count": 9,
   "metadata": {},
   "outputs": [
    {
     "data": {
      "text/html": [
       "<pre style=\"white-space:pre;overflow-x:auto;line-height:normal;font-family:Menlo,'DejaVu Sans Mono',consolas,'Courier New',monospace\"><span style=\"font-weight: bold\">Model: \"sequential\"</span>\n",
       "</pre>\n"
      ],
      "text/plain": [
       "\u001b[1mModel: \"sequential\"\u001b[0m\n"
      ]
     },
     "metadata": {},
     "output_type": "display_data"
    },
    {
     "data": {
      "text/html": [
       "<pre style=\"white-space:pre;overflow-x:auto;line-height:normal;font-family:Menlo,'DejaVu Sans Mono',consolas,'Courier New',monospace\">┏━━━━━━━━━━━━━━━━━━━━━━━━━━━━━━━━━┳━━━━━━━━━━━━━━━━━━━━━━━━┳━━━━━━━━━━━━━━━┓\n",
       "┃<span style=\"font-weight: bold\"> Layer (type)                    </span>┃<span style=\"font-weight: bold\"> Output Shape           </span>┃<span style=\"font-weight: bold\">       Param # </span>┃\n",
       "┡━━━━━━━━━━━━━━━━━━━━━━━━━━━━━━━━━╇━━━━━━━━━━━━━━━━━━━━━━━━╇━━━━━━━━━━━━━━━┩\n",
       "│ dropout (<span style=\"color: #0087ff; text-decoration-color: #0087ff\">Dropout</span>)               │ (<span style=\"color: #00d7ff; text-decoration-color: #00d7ff\">None</span>, <span style=\"color: #00af00; text-decoration-color: #00af00\">32</span>)             │             <span style=\"color: #00af00; text-decoration-color: #00af00\">0</span> │\n",
       "├─────────────────────────────────┼────────────────────────┼───────────────┤\n",
       "│ dense (<span style=\"color: #0087ff; text-decoration-color: #0087ff\">Dense</span>)                   │ (<span style=\"color: #00d7ff; text-decoration-color: #00d7ff\">None</span>, <span style=\"color: #00af00; text-decoration-color: #00af00\">24</span>)             │           <span style=\"color: #00af00; text-decoration-color: #00af00\">792</span> │\n",
       "├─────────────────────────────────┼────────────────────────┼───────────────┤\n",
       "│ dropout_1 (<span style=\"color: #0087ff; text-decoration-color: #0087ff\">Dropout</span>)             │ (<span style=\"color: #00d7ff; text-decoration-color: #00d7ff\">None</span>, <span style=\"color: #00af00; text-decoration-color: #00af00\">24</span>)             │             <span style=\"color: #00af00; text-decoration-color: #00af00\">0</span> │\n",
       "├─────────────────────────────────┼────────────────────────┼───────────────┤\n",
       "│ dense_1 (<span style=\"color: #0087ff; text-decoration-color: #0087ff\">Dense</span>)                 │ (<span style=\"color: #00d7ff; text-decoration-color: #00d7ff\">None</span>, <span style=\"color: #00af00; text-decoration-color: #00af00\">10</span>)             │           <span style=\"color: #00af00; text-decoration-color: #00af00\">250</span> │\n",
       "├─────────────────────────────────┼────────────────────────┼───────────────┤\n",
       "│ dense_2 (<span style=\"color: #0087ff; text-decoration-color: #0087ff\">Dense</span>)                 │ (<span style=\"color: #00d7ff; text-decoration-color: #00d7ff\">None</span>, <span style=\"color: #00af00; text-decoration-color: #00af00\">3</span>)              │            <span style=\"color: #00af00; text-decoration-color: #00af00\">33</span> │\n",
       "└─────────────────────────────────┴────────────────────────┴───────────────┘\n",
       "</pre>\n"
      ],
      "text/plain": [
       "┏━━━━━━━━━━━━━━━━━━━━━━━━━━━━━━━━━┳━━━━━━━━━━━━━━━━━━━━━━━━┳━━━━━━━━━━━━━━━┓\n",
       "┃\u001b[1m \u001b[0m\u001b[1mLayer (type)                   \u001b[0m\u001b[1m \u001b[0m┃\u001b[1m \u001b[0m\u001b[1mOutput Shape          \u001b[0m\u001b[1m \u001b[0m┃\u001b[1m \u001b[0m\u001b[1m      Param #\u001b[0m\u001b[1m \u001b[0m┃\n",
       "┡━━━━━━━━━━━━━━━━━━━━━━━━━━━━━━━━━╇━━━━━━━━━━━━━━━━━━━━━━━━╇━━━━━━━━━━━━━━━┩\n",
       "│ dropout (\u001b[38;5;33mDropout\u001b[0m)               │ (\u001b[38;5;45mNone\u001b[0m, \u001b[38;5;34m32\u001b[0m)             │             \u001b[38;5;34m0\u001b[0m │\n",
       "├─────────────────────────────────┼────────────────────────┼───────────────┤\n",
       "│ dense (\u001b[38;5;33mDense\u001b[0m)                   │ (\u001b[38;5;45mNone\u001b[0m, \u001b[38;5;34m24\u001b[0m)             │           \u001b[38;5;34m792\u001b[0m │\n",
       "├─────────────────────────────────┼────────────────────────┼───────────────┤\n",
       "│ dropout_1 (\u001b[38;5;33mDropout\u001b[0m)             │ (\u001b[38;5;45mNone\u001b[0m, \u001b[38;5;34m24\u001b[0m)             │             \u001b[38;5;34m0\u001b[0m │\n",
       "├─────────────────────────────────┼────────────────────────┼───────────────┤\n",
       "│ dense_1 (\u001b[38;5;33mDense\u001b[0m)                 │ (\u001b[38;5;45mNone\u001b[0m, \u001b[38;5;34m10\u001b[0m)             │           \u001b[38;5;34m250\u001b[0m │\n",
       "├─────────────────────────────────┼────────────────────────┼───────────────┤\n",
       "│ dense_2 (\u001b[38;5;33mDense\u001b[0m)                 │ (\u001b[38;5;45mNone\u001b[0m, \u001b[38;5;34m3\u001b[0m)              │            \u001b[38;5;34m33\u001b[0m │\n",
       "└─────────────────────────────────┴────────────────────────┴───────────────┘\n"
      ]
     },
     "metadata": {},
     "output_type": "display_data"
    },
    {
     "data": {
      "text/html": [
       "<pre style=\"white-space:pre;overflow-x:auto;line-height:normal;font-family:Menlo,'DejaVu Sans Mono',consolas,'Courier New',monospace\"><span style=\"font-weight: bold\"> Total params: </span><span style=\"color: #00af00; text-decoration-color: #00af00\">1,075</span> (4.20 KB)\n",
       "</pre>\n"
      ],
      "text/plain": [
       "\u001b[1m Total params: \u001b[0m\u001b[38;5;34m1,075\u001b[0m (4.20 KB)\n"
      ]
     },
     "metadata": {},
     "output_type": "display_data"
    },
    {
     "data": {
      "text/html": [
       "<pre style=\"white-space:pre;overflow-x:auto;line-height:normal;font-family:Menlo,'DejaVu Sans Mono',consolas,'Courier New',monospace\"><span style=\"font-weight: bold\"> Trainable params: </span><span style=\"color: #00af00; text-decoration-color: #00af00\">1,075</span> (4.20 KB)\n",
       "</pre>\n"
      ],
      "text/plain": [
       "\u001b[1m Trainable params: \u001b[0m\u001b[38;5;34m1,075\u001b[0m (4.20 KB)\n"
      ]
     },
     "metadata": {},
     "output_type": "display_data"
    },
    {
     "data": {
      "text/html": [
       "<pre style=\"white-space:pre;overflow-x:auto;line-height:normal;font-family:Menlo,'DejaVu Sans Mono',consolas,'Courier New',monospace\"><span style=\"font-weight: bold\"> Non-trainable params: </span><span style=\"color: #00af00; text-decoration-color: #00af00\">0</span> (0.00 B)\n",
       "</pre>\n"
      ],
      "text/plain": [
       "\u001b[1m Non-trainable params: \u001b[0m\u001b[38;5;34m0\u001b[0m (0.00 B)\n"
      ]
     },
     "metadata": {},
     "output_type": "display_data"
    }
   ],
   "source": [
    "model.summary()  # tf.keras.utils.plot_model(model, show_shapes=True)"
   ]
  },
  {
   "cell_type": "code",
   "execution_count": 10,
   "metadata": {},
   "outputs": [],
   "source": [
    "# モデルチェックポイントのコールバック\n",
    "cp_callback = tf.keras.callbacks.ModelCheckpoint(\n",
    "    model_save_path, verbose=1, save_weights_only=False)\n",
    "# 早期打ち切り用コールバック\n",
    "es_callback = tf.keras.callbacks.EarlyStopping(patience=20, verbose=1)"
   ]
  },
  {
   "cell_type": "code",
   "execution_count": 11,
   "metadata": {},
   "outputs": [],
   "source": [
    "# モデルコンパイル\n",
    "model.compile(\n",
    "    optimizer='adam',\n",
    "    loss='sparse_categorical_crossentropy',\n",
    "    metrics=['accuracy']\n",
    ")"
   ]
  },
  {
   "cell_type": "markdown",
   "metadata": {},
   "source": [
    "# モデル訓練"
   ]
  },
  {
   "cell_type": "code",
   "execution_count": 12,
   "metadata": {
    "scrolled": true
   },
   "outputs": [
    {
     "name": "stdout",
     "output_type": "stream",
     "text": [
      "Epoch 1/1000\n",
      "\u001b[1m47/72\u001b[0m \u001b[32m━━━━━━━━━━━━━\u001b[0m\u001b[37m━━━━━━━\u001b[0m \u001b[1m0s\u001b[0m 1ms/step - accuracy: 0.3792 - loss: 1.0948   \n",
      "Epoch 1: saving model to model/rotation_history_classifier/rotation_history_classifier.keras\n",
      "\u001b[1m72/72\u001b[0m \u001b[32m━━━━━━━━━━━━━━━━━━━━\u001b[0m\u001b[37m\u001b[0m \u001b[1m1s\u001b[0m 4ms/step - accuracy: 0.3840 - loss: 1.0918 - val_accuracy: 0.3816 - val_loss: 1.0704\n",
      "Epoch 2/1000\n",
      "\u001b[1m65/72\u001b[0m \u001b[32m━━━━━━━━━━━━━━━━━━\u001b[0m\u001b[37m━━\u001b[0m \u001b[1m0s\u001b[0m 798us/step - accuracy: 0.3975 - loss: 1.0702\n",
      "Epoch 2: saving model to model/rotation_history_classifier/rotation_history_classifier.keras\n",
      "\u001b[1m72/72\u001b[0m \u001b[32m━━━━━━━━━━━━━━━━━━━━\u001b[0m\u001b[37m\u001b[0m \u001b[1m0s\u001b[0m 2ms/step - accuracy: 0.3985 - loss: 1.0697 - val_accuracy: 0.4527 - val_loss: 1.0543\n",
      "Epoch 3/1000\n",
      "\u001b[1m61/72\u001b[0m \u001b[32m━━━━━━━━━━━━━━━━\u001b[0m\u001b[37m━━━━\u001b[0m \u001b[1m0s\u001b[0m 834us/step - accuracy: 0.4505 - loss: 1.0525\n",
      "Epoch 3: saving model to model/rotation_history_classifier/rotation_history_classifier.keras\n",
      "\u001b[1m72/72\u001b[0m \u001b[32m━━━━━━━━━━━━━━━━━━━━\u001b[0m\u001b[37m\u001b[0m \u001b[1m0s\u001b[0m 2ms/step - accuracy: 0.4505 - loss: 1.0523 - val_accuracy: 0.5078 - val_loss: 1.0345\n",
      "Epoch 4/1000\n",
      "\u001b[1m61/72\u001b[0m \u001b[32m━━━━━━━━━━━━━━━━\u001b[0m\u001b[37m━━━━\u001b[0m \u001b[1m0s\u001b[0m 842us/step - accuracy: 0.4988 - loss: 1.0347\n",
      "Epoch 4: saving model to model/rotation_history_classifier/rotation_history_classifier.keras\n",
      "\u001b[1m72/72\u001b[0m \u001b[32m━━━━━━━━━━━━━━━━━━━━\u001b[0m\u001b[37m\u001b[0m \u001b[1m0s\u001b[0m 2ms/step - accuracy: 0.4980 - loss: 1.0338 - val_accuracy: 0.5160 - val_loss: 1.0091\n",
      "Epoch 5/1000\n",
      "\u001b[1m64/72\u001b[0m \u001b[32m━━━━━━━━━━━━━━━━━\u001b[0m\u001b[37m━━━\u001b[0m \u001b[1m0s\u001b[0m 800us/step - accuracy: 0.4959 - loss: 1.0223\n",
      "Epoch 5: saving model to model/rotation_history_classifier/rotation_history_classifier.keras\n",
      "\u001b[1m72/72\u001b[0m \u001b[32m━━━━━━━━━━━━━━━━━━━━\u001b[0m\u001b[37m\u001b[0m \u001b[1m0s\u001b[0m 2ms/step - accuracy: 0.4969 - loss: 1.0210 - val_accuracy: 0.5241 - val_loss: 0.9876\n",
      "Epoch 6/1000\n",
      "\u001b[1m60/72\u001b[0m \u001b[32m━━━━━━━━━━━━━━━━\u001b[0m\u001b[37m━━━━\u001b[0m \u001b[1m0s\u001b[0m 858us/step - accuracy: 0.5257 - loss: 0.9983\n",
      "Epoch 6: saving model to model/rotation_history_classifier/rotation_history_classifier.keras\n",
      "\u001b[1m72/72\u001b[0m \u001b[32m━━━━━━━━━━━━━━━━━━━━\u001b[0m\u001b[37m\u001b[0m \u001b[1m0s\u001b[0m 2ms/step - accuracy: 0.5248 - loss: 0.9974 - val_accuracy: 0.5365 - val_loss: 0.9679\n",
      "Epoch 7/1000\n",
      "\u001b[1m63/72\u001b[0m \u001b[32m━━━━━━━━━━━━━━━━━\u001b[0m\u001b[37m━━━\u001b[0m \u001b[1m0s\u001b[0m 811us/step - accuracy: 0.5206 - loss: 0.9831\n",
      "Epoch 7: saving model to model/rotation_history_classifier/rotation_history_classifier.keras\n",
      "\u001b[1m72/72\u001b[0m \u001b[32m━━━━━━━━━━━━━━━━━━━━\u001b[0m\u001b[37m\u001b[0m \u001b[1m0s\u001b[0m 2ms/step - accuracy: 0.5206 - loss: 0.9833 - val_accuracy: 0.5626 - val_loss: 0.9538\n",
      "Epoch 8/1000\n",
      "\u001b[1m59/72\u001b[0m \u001b[32m━━━━━━━━━━━━━━━━\u001b[0m\u001b[37m━━━━\u001b[0m \u001b[1m0s\u001b[0m 866us/step - accuracy: 0.5402 - loss: 0.9796\n",
      "Epoch 8: saving model to model/rotation_history_classifier/rotation_history_classifier.keras\n",
      "\u001b[1m72/72\u001b[0m \u001b[32m━━━━━━━━━━━━━━━━━━━━\u001b[0m\u001b[37m\u001b[0m \u001b[1m0s\u001b[0m 2ms/step - accuracy: 0.5400 - loss: 0.9784 - val_accuracy: 0.5789 - val_loss: 0.9416\n",
      "Epoch 9/1000\n",
      "\u001b[1m58/72\u001b[0m \u001b[32m━━━━━━━━━━━━━━━━\u001b[0m\u001b[37m━━━━\u001b[0m \u001b[1m0s\u001b[0m 890us/step - accuracy: 0.5425 - loss: 0.9705\n",
      "Epoch 9: saving model to model/rotation_history_classifier/rotation_history_classifier.keras\n",
      "\u001b[1m72/72\u001b[0m \u001b[32m━━━━━━━━━━━━━━━━━━━━\u001b[0m\u001b[37m\u001b[0m \u001b[1m0s\u001b[0m 2ms/step - accuracy: 0.5424 - loss: 0.9697 - val_accuracy: 0.5864 - val_loss: 0.9314\n",
      "Epoch 10/1000\n",
      "\u001b[1m56/72\u001b[0m \u001b[32m━━━━━━━━━━━━━━━\u001b[0m\u001b[37m━━━━━\u001b[0m \u001b[1m0s\u001b[0m 921us/step - accuracy: 0.5460 - loss: 0.9651\n",
      "Epoch 10: saving model to model/rotation_history_classifier/rotation_history_classifier.keras\n",
      "\u001b[1m72/72\u001b[0m \u001b[32m━━━━━━━━━━━━━━━━━━━━\u001b[0m\u001b[37m\u001b[0m \u001b[1m0s\u001b[0m 2ms/step - accuracy: 0.5472 - loss: 0.9643 - val_accuracy: 0.5894 - val_loss: 0.9242\n",
      "Epoch 11/1000\n",
      "\u001b[1m61/72\u001b[0m \u001b[32m━━━━━━━━━━━━━━━━\u001b[0m\u001b[37m━━━━\u001b[0m \u001b[1m0s\u001b[0m 845us/step - accuracy: 0.5426 - loss: 0.9583\n",
      "Epoch 11: saving model to model/rotation_history_classifier/rotation_history_classifier.keras\n",
      "\u001b[1m72/72\u001b[0m \u001b[32m━━━━━━━━━━━━━━━━━━━━\u001b[0m\u001b[37m\u001b[0m \u001b[1m0s\u001b[0m 2ms/step - accuracy: 0.5434 - loss: 0.9581 - val_accuracy: 0.5943 - val_loss: 0.9163\n",
      "Epoch 12/1000\n",
      "\u001b[1m55/72\u001b[0m \u001b[32m━━━━━━━━━━━━━━━\u001b[0m\u001b[37m━━━━━\u001b[0m \u001b[1m0s\u001b[0m 944us/step - accuracy: 0.5568 - loss: 0.9485\n",
      "Epoch 12: saving model to model/rotation_history_classifier/rotation_history_classifier.keras\n",
      "\u001b[1m72/72\u001b[0m \u001b[32m━━━━━━━━━━━━━━━━━━━━\u001b[0m\u001b[37m\u001b[0m \u001b[1m0s\u001b[0m 2ms/step - accuracy: 0.5583 - loss: 0.9479 - val_accuracy: 0.5910 - val_loss: 0.9083\n",
      "Epoch 13/1000\n",
      "\u001b[1m60/72\u001b[0m \u001b[32m━━━━━━━━━━━━━━━━\u001b[0m\u001b[37m━━━━\u001b[0m \u001b[1m0s\u001b[0m 858us/step - accuracy: 0.5500 - loss: 0.9533\n",
      "Epoch 13: saving model to model/rotation_history_classifier/rotation_history_classifier.keras\n",
      "\u001b[1m72/72\u001b[0m \u001b[32m━━━━━━━━━━━━━━━━━━━━\u001b[0m\u001b[37m\u001b[0m \u001b[1m0s\u001b[0m 2ms/step - accuracy: 0.5506 - loss: 0.9522 - val_accuracy: 0.6018 - val_loss: 0.9036\n",
      "Epoch 14/1000\n",
      "\u001b[1m61/72\u001b[0m \u001b[32m━━━━━━━━━━━━━━━━\u001b[0m\u001b[37m━━━━\u001b[0m \u001b[1m0s\u001b[0m 848us/step - accuracy: 0.5661 - loss: 0.9425\n",
      "Epoch 14: saving model to model/rotation_history_classifier/rotation_history_classifier.keras\n",
      "\u001b[1m72/72\u001b[0m \u001b[32m━━━━━━━━━━━━━━━━━━━━\u001b[0m\u001b[37m\u001b[0m \u001b[1m0s\u001b[0m 2ms/step - accuracy: 0.5654 - loss: 0.9423 - val_accuracy: 0.6024 - val_loss: 0.8973\n",
      "Epoch 15/1000\n",
      "\u001b[1m59/72\u001b[0m \u001b[32m━━━━━━━━━━━━━━━━\u001b[0m\u001b[37m━━━━\u001b[0m \u001b[1m0s\u001b[0m 873us/step - accuracy: 0.5632 - loss: 0.9412\n",
      "Epoch 15: saving model to model/rotation_history_classifier/rotation_history_classifier.keras\n",
      "\u001b[1m72/72\u001b[0m \u001b[32m━━━━━━━━━━━━━━━━━━━━\u001b[0m\u001b[37m\u001b[0m \u001b[1m0s\u001b[0m 2ms/step - accuracy: 0.5627 - loss: 0.9411 - val_accuracy: 0.6060 - val_loss: 0.8931\n",
      "Epoch 16/1000\n",
      "\u001b[1m59/72\u001b[0m \u001b[32m━━━━━━━━━━━━━━━━\u001b[0m\u001b[37m━━━━\u001b[0m \u001b[1m0s\u001b[0m 880us/step - accuracy: 0.5662 - loss: 0.9268\n",
      "Epoch 16: saving model to model/rotation_history_classifier/rotation_history_classifier.keras\n",
      "\u001b[1m72/72\u001b[0m \u001b[32m━━━━━━━━━━━━━━━━━━━━\u001b[0m\u001b[37m\u001b[0m \u001b[1m0s\u001b[0m 2ms/step - accuracy: 0.5667 - loss: 0.9266 - val_accuracy: 0.6063 - val_loss: 0.8872\n",
      "Epoch 17/1000\n",
      "\u001b[1m57/72\u001b[0m \u001b[32m━━━━━━━━━━━━━━━\u001b[0m\u001b[37m━━━━━\u001b[0m \u001b[1m0s\u001b[0m 896us/step - accuracy: 0.5706 - loss: 0.9284\n",
      "Epoch 17: saving model to model/rotation_history_classifier/rotation_history_classifier.keras\n",
      "\u001b[1m72/72\u001b[0m \u001b[32m━━━━━━━━━━━━━━━━━━━━\u001b[0m\u001b[37m\u001b[0m \u001b[1m0s\u001b[0m 2ms/step - accuracy: 0.5694 - loss: 0.9293 - val_accuracy: 0.6063 - val_loss: 0.8849\n",
      "Epoch 18/1000\n",
      "\u001b[1m58/72\u001b[0m \u001b[32m━━━━━━━━━━━━━━━━\u001b[0m\u001b[37m━━━━\u001b[0m \u001b[1m0s\u001b[0m 887us/step - accuracy: 0.5706 - loss: 0.9296\n",
      "Epoch 18: saving model to model/rotation_history_classifier/rotation_history_classifier.keras\n",
      "\u001b[1m72/72\u001b[0m \u001b[32m━━━━━━━━━━━━━━━━━━━━\u001b[0m\u001b[37m\u001b[0m \u001b[1m0s\u001b[0m 2ms/step - accuracy: 0.5706 - loss: 0.9294 - val_accuracy: 0.6073 - val_loss: 0.8810\n",
      "Epoch 19/1000\n",
      "\u001b[1m62/72\u001b[0m \u001b[32m━━━━━━━━━━━━━━━━━\u001b[0m\u001b[37m━━━\u001b[0m \u001b[1m0s\u001b[0m 823us/step - accuracy: 0.5762 - loss: 0.9250\n",
      "Epoch 19: saving model to model/rotation_history_classifier/rotation_history_classifier.keras\n",
      "\u001b[1m72/72\u001b[0m \u001b[32m━━━━━━━━━━━━━━━━━━━━\u001b[0m\u001b[37m\u001b[0m \u001b[1m0s\u001b[0m 2ms/step - accuracy: 0.5761 - loss: 0.9250 - val_accuracy: 0.6093 - val_loss: 0.8769\n",
      "Epoch 20/1000\n",
      "\u001b[1m58/72\u001b[0m \u001b[32m━━━━━━━━━━━━━━━━\u001b[0m\u001b[37m━━━━\u001b[0m \u001b[1m0s\u001b[0m 884us/step - accuracy: 0.5641 - loss: 0.9208\n",
      "Epoch 20: saving model to model/rotation_history_classifier/rotation_history_classifier.keras\n",
      "\u001b[1m72/72\u001b[0m \u001b[32m━━━━━━━━━━━━━━━━━━━━\u001b[0m\u001b[37m\u001b[0m \u001b[1m0s\u001b[0m 2ms/step - accuracy: 0.5654 - loss: 0.9212 - val_accuracy: 0.6083 - val_loss: 0.8741\n",
      "Epoch 21/1000\n",
      "\u001b[1m59/72\u001b[0m \u001b[32m━━━━━━━━━━━━━━━━\u001b[0m\u001b[37m━━━━\u001b[0m \u001b[1m0s\u001b[0m 877us/step - accuracy: 0.5775 - loss: 0.9182\n",
      "Epoch 21: saving model to model/rotation_history_classifier/rotation_history_classifier.keras\n",
      "\u001b[1m72/72\u001b[0m \u001b[32m━━━━━━━━━━━━━━━━━━━━\u001b[0m\u001b[37m\u001b[0m \u001b[1m0s\u001b[0m 2ms/step - accuracy: 0.5770 - loss: 0.9187 - val_accuracy: 0.6086 - val_loss: 0.8717\n",
      "Epoch 22/1000\n",
      "\u001b[1m59/72\u001b[0m \u001b[32m━━━━━━━━━━━━━━━━\u001b[0m\u001b[37m━━━━\u001b[0m \u001b[1m0s\u001b[0m 863us/step - accuracy: 0.5690 - loss: 0.9176\n",
      "Epoch 22: saving model to model/rotation_history_classifier/rotation_history_classifier.keras\n",
      "\u001b[1m72/72\u001b[0m \u001b[32m━━━━━━━━━━━━━━━━━━━━\u001b[0m\u001b[37m\u001b[0m \u001b[1m0s\u001b[0m 2ms/step - accuracy: 0.5699 - loss: 0.9176 - val_accuracy: 0.6115 - val_loss: 0.8704\n",
      "Epoch 23/1000\n",
      "\u001b[1m59/72\u001b[0m \u001b[32m━━━━━━━━━━━━━━━━\u001b[0m\u001b[37m━━━━\u001b[0m \u001b[1m0s\u001b[0m 869us/step - accuracy: 0.5744 - loss: 0.9213\n",
      "Epoch 23: saving model to model/rotation_history_classifier/rotation_history_classifier.keras\n",
      "\u001b[1m72/72\u001b[0m \u001b[32m━━━━━━━━━━━━━━━━━━━━\u001b[0m\u001b[37m\u001b[0m \u001b[1m0s\u001b[0m 2ms/step - accuracy: 0.5746 - loss: 0.9207 - val_accuracy: 0.6086 - val_loss: 0.8674\n",
      "Epoch 24/1000\n",
      "\u001b[1m57/72\u001b[0m \u001b[32m━━━━━━━━━━━━━━━\u001b[0m\u001b[37m━━━━━\u001b[0m \u001b[1m0s\u001b[0m 893us/step - accuracy: 0.5753 - loss: 0.9213\n",
      "Epoch 24: saving model to model/rotation_history_classifier/rotation_history_classifier.keras\n",
      "\u001b[1m72/72\u001b[0m \u001b[32m━━━━━━━━━━━━━━━━━━━━\u001b[0m\u001b[37m\u001b[0m \u001b[1m0s\u001b[0m 2ms/step - accuracy: 0.5753 - loss: 0.9207 - val_accuracy: 0.6158 - val_loss: 0.8653\n",
      "Epoch 25/1000\n",
      "\u001b[1m58/72\u001b[0m \u001b[32m━━━━━━━━━━━━━━━━\u001b[0m\u001b[37m━━━━\u001b[0m \u001b[1m0s\u001b[0m 878us/step - accuracy: 0.5754 - loss: 0.9182\n",
      "Epoch 25: saving model to model/rotation_history_classifier/rotation_history_classifier.keras\n",
      "\u001b[1m72/72\u001b[0m \u001b[32m━━━━━━━━━━━━━━━━━━━━\u001b[0m\u001b[37m\u001b[0m \u001b[1m0s\u001b[0m 2ms/step - accuracy: 0.5767 - loss: 0.9160 - val_accuracy: 0.6145 - val_loss: 0.8619\n",
      "Epoch 26/1000\n",
      "\u001b[1m60/72\u001b[0m \u001b[32m━━━━━━━━━━━━━━━━\u001b[0m\u001b[37m━━━━\u001b[0m \u001b[1m0s\u001b[0m 856us/step - accuracy: 0.5716 - loss: 0.9244\n",
      "Epoch 26: saving model to model/rotation_history_classifier/rotation_history_classifier.keras\n",
      "\u001b[1m72/72\u001b[0m \u001b[32m━━━━━━━━━━━━━━━━━━━━\u001b[0m\u001b[37m\u001b[0m \u001b[1m0s\u001b[0m 2ms/step - accuracy: 0.5723 - loss: 0.9226 - val_accuracy: 0.6129 - val_loss: 0.8615\n",
      "Epoch 27/1000\n",
      "\u001b[1m58/72\u001b[0m \u001b[32m━━━━━━━━━━━━━━━━\u001b[0m\u001b[37m━━━━\u001b[0m \u001b[1m0s\u001b[0m 881us/step - accuracy: 0.5765 - loss: 0.9100\n",
      "Epoch 27: saving model to model/rotation_history_classifier/rotation_history_classifier.keras\n",
      "\u001b[1m72/72\u001b[0m \u001b[32m━━━━━━━━━━━━━━━━━━━━\u001b[0m\u001b[37m\u001b[0m \u001b[1m0s\u001b[0m 2ms/step - accuracy: 0.5775 - loss: 0.9097 - val_accuracy: 0.6158 - val_loss: 0.8601\n",
      "Epoch 28/1000\n",
      "\u001b[1m56/72\u001b[0m \u001b[32m━━━━━━━━━━━━━━━\u001b[0m\u001b[37m━━━━━\u001b[0m \u001b[1m0s\u001b[0m 923us/step - accuracy: 0.5792 - loss: 0.9016\n",
      "Epoch 28: saving model to model/rotation_history_classifier/rotation_history_classifier.keras\n",
      "\u001b[1m72/72\u001b[0m \u001b[32m━━━━━━━━━━━━━━━━━━━━\u001b[0m\u001b[37m\u001b[0m \u001b[1m0s\u001b[0m 2ms/step - accuracy: 0.5792 - loss: 0.9030 - val_accuracy: 0.6168 - val_loss: 0.8592\n",
      "Epoch 29/1000\n",
      "\u001b[1m58/72\u001b[0m \u001b[32m━━━━━━━━━━━━━━━━\u001b[0m\u001b[37m━━━━\u001b[0m \u001b[1m0s\u001b[0m 2ms/step - accuracy: 0.5797 - loss: 0.9097\n",
      "Epoch 29: saving model to model/rotation_history_classifier/rotation_history_classifier.keras\n",
      "\u001b[1m72/72\u001b[0m \u001b[32m━━━━━━━━━━━━━━━━━━━━\u001b[0m\u001b[37m\u001b[0m \u001b[1m0s\u001b[0m 3ms/step - accuracy: 0.5804 - loss: 0.9097 - val_accuracy: 0.6210 - val_loss: 0.8567\n",
      "Epoch 30/1000\n",
      "\u001b[1m60/72\u001b[0m \u001b[32m━━━━━━━━━━━━━━━━\u001b[0m\u001b[37m━━━━\u001b[0m \u001b[1m0s\u001b[0m 864us/step - accuracy: 0.5791 - loss: 0.9072\n",
      "Epoch 30: saving model to model/rotation_history_classifier/rotation_history_classifier.keras\n",
      "\u001b[1m72/72\u001b[0m \u001b[32m━━━━━━━━━━━━━━━━━━━━\u001b[0m\u001b[37m\u001b[0m \u001b[1m0s\u001b[0m 2ms/step - accuracy: 0.5796 - loss: 0.9072 - val_accuracy: 0.6187 - val_loss: 0.8552\n",
      "Epoch 31/1000\n",
      "\u001b[1m57/72\u001b[0m \u001b[32m━━━━━━━━━━━━━━━\u001b[0m\u001b[37m━━━━━\u001b[0m \u001b[1m0s\u001b[0m 902us/step - accuracy: 0.5751 - loss: 0.9120\n",
      "Epoch 31: saving model to model/rotation_history_classifier/rotation_history_classifier.keras\n",
      "\u001b[1m72/72\u001b[0m \u001b[32m━━━━━━━━━━━━━━━━━━━━\u001b[0m\u001b[37m\u001b[0m \u001b[1m0s\u001b[0m 2ms/step - accuracy: 0.5766 - loss: 0.9102 - val_accuracy: 0.6210 - val_loss: 0.8526\n",
      "Epoch 32/1000\n",
      "\u001b[1m57/72\u001b[0m \u001b[32m━━━━━━━━━━━━━━━\u001b[0m\u001b[37m━━━━━\u001b[0m \u001b[1m0s\u001b[0m 911us/step - accuracy: 0.5852 - loss: 0.9040\n",
      "Epoch 32: saving model to model/rotation_history_classifier/rotation_history_classifier.keras\n",
      "\u001b[1m72/72\u001b[0m \u001b[32m━━━━━━━━━━━━━━━━━━━━\u001b[0m\u001b[37m\u001b[0m \u001b[1m0s\u001b[0m 2ms/step - accuracy: 0.5858 - loss: 0.9044 - val_accuracy: 0.6200 - val_loss: 0.8528\n",
      "Epoch 33/1000\n",
      "\u001b[1m59/72\u001b[0m \u001b[32m━━━━━━━━━━━━━━━━\u001b[0m\u001b[37m━━━━\u001b[0m \u001b[1m0s\u001b[0m 864us/step - accuracy: 0.5797 - loss: 0.9128\n",
      "Epoch 33: saving model to model/rotation_history_classifier/rotation_history_classifier.keras\n",
      "\u001b[1m72/72\u001b[0m \u001b[32m━━━━━━━━━━━━━━━━━━━━\u001b[0m\u001b[37m\u001b[0m \u001b[1m0s\u001b[0m 2ms/step - accuracy: 0.5808 - loss: 0.9112 - val_accuracy: 0.6194 - val_loss: 0.8520\n",
      "Epoch 34/1000\n",
      "\u001b[1m58/72\u001b[0m \u001b[32m━━━━━━━━━━━━━━━━\u001b[0m\u001b[37m━━━━\u001b[0m \u001b[1m0s\u001b[0m 886us/step - accuracy: 0.5904 - loss: 0.8935\n",
      "Epoch 34: saving model to model/rotation_history_classifier/rotation_history_classifier.keras\n",
      "\u001b[1m72/72\u001b[0m \u001b[32m━━━━━━━━━━━━━━━━━━━━\u001b[0m\u001b[37m\u001b[0m \u001b[1m0s\u001b[0m 2ms/step - accuracy: 0.5896 - loss: 0.8943 - val_accuracy: 0.6256 - val_loss: 0.8499\n",
      "Epoch 35/1000\n",
      "\u001b[1m61/72\u001b[0m \u001b[32m━━━━━━━━━━━━━━━━\u001b[0m\u001b[37m━━━━\u001b[0m \u001b[1m0s\u001b[0m 840us/step - accuracy: 0.5746 - loss: 0.9037\n",
      "Epoch 35: saving model to model/rotation_history_classifier/rotation_history_classifier.keras\n",
      "\u001b[1m72/72\u001b[0m \u001b[32m━━━━━━━━━━━━━━━━━━━━\u001b[0m\u001b[37m\u001b[0m \u001b[1m0s\u001b[0m 2ms/step - accuracy: 0.5763 - loss: 0.9037 - val_accuracy: 0.6223 - val_loss: 0.8489\n",
      "Epoch 36/1000\n",
      "\u001b[1m60/72\u001b[0m \u001b[32m━━━━━━━━━━━━━━━━\u001b[0m\u001b[37m━━━━\u001b[0m \u001b[1m0s\u001b[0m 850us/step - accuracy: 0.5790 - loss: 0.9014\n",
      "Epoch 36: saving model to model/rotation_history_classifier/rotation_history_classifier.keras\n",
      "\u001b[1m72/72\u001b[0m \u001b[32m━━━━━━━━━━━━━━━━━━━━\u001b[0m\u001b[37m\u001b[0m \u001b[1m0s\u001b[0m 2ms/step - accuracy: 0.5797 - loss: 0.9012 - val_accuracy: 0.6246 - val_loss: 0.8465\n",
      "Epoch 37/1000\n",
      "\u001b[1m59/72\u001b[0m \u001b[32m━━━━━━━━━━━━━━━━\u001b[0m\u001b[37m━━━━\u001b[0m \u001b[1m0s\u001b[0m 870us/step - accuracy: 0.5805 - loss: 0.9002\n",
      "Epoch 37: saving model to model/rotation_history_classifier/rotation_history_classifier.keras\n",
      "\u001b[1m72/72\u001b[0m \u001b[32m━━━━━━━━━━━━━━━━━━━━\u001b[0m\u001b[37m\u001b[0m \u001b[1m0s\u001b[0m 2ms/step - accuracy: 0.5810 - loss: 0.9001 - val_accuracy: 0.6256 - val_loss: 0.8462\n",
      "Epoch 38/1000\n",
      "\u001b[1m61/72\u001b[0m \u001b[32m━━━━━━━━━━━━━━━━\u001b[0m\u001b[37m━━━━\u001b[0m \u001b[1m0s\u001b[0m 840us/step - accuracy: 0.5832 - loss: 0.8910\n",
      "Epoch 38: saving model to model/rotation_history_classifier/rotation_history_classifier.keras\n",
      "\u001b[1m72/72\u001b[0m \u001b[32m━━━━━━━━━━━━━━━━━━━━\u001b[0m\u001b[37m\u001b[0m \u001b[1m0s\u001b[0m 2ms/step - accuracy: 0.5838 - loss: 0.8917 - val_accuracy: 0.6279 - val_loss: 0.8439\n",
      "Epoch 39/1000\n",
      "\u001b[1m61/72\u001b[0m \u001b[32m━━━━━━━━━━━━━━━━\u001b[0m\u001b[37m━━━━\u001b[0m \u001b[1m0s\u001b[0m 846us/step - accuracy: 0.5902 - loss: 0.8847\n",
      "Epoch 39: saving model to model/rotation_history_classifier/rotation_history_classifier.keras\n",
      "\u001b[1m72/72\u001b[0m \u001b[32m━━━━━━━━━━━━━━━━━━━━\u001b[0m\u001b[37m\u001b[0m \u001b[1m0s\u001b[0m 2ms/step - accuracy: 0.5893 - loss: 0.8866 - val_accuracy: 0.6288 - val_loss: 0.8429\n",
      "Epoch 40/1000\n",
      "\u001b[1m63/72\u001b[0m \u001b[32m━━━━━━━━━━━━━━━━━\u001b[0m\u001b[37m━━━\u001b[0m \u001b[1m0s\u001b[0m 821us/step - accuracy: 0.5979 - loss: 0.8886\n",
      "Epoch 40: saving model to model/rotation_history_classifier/rotation_history_classifier.keras\n",
      "\u001b[1m72/72\u001b[0m \u001b[32m━━━━━━━━━━━━━━━━━━━━\u001b[0m\u001b[37m\u001b[0m \u001b[1m0s\u001b[0m 2ms/step - accuracy: 0.5972 - loss: 0.8896 - val_accuracy: 0.6334 - val_loss: 0.8424\n",
      "Epoch 41/1000\n",
      "\u001b[1m59/72\u001b[0m \u001b[32m━━━━━━━━━━━━━━━━\u001b[0m\u001b[37m━━━━\u001b[0m \u001b[1m0s\u001b[0m 864us/step - accuracy: 0.5956 - loss: 0.8938\n",
      "Epoch 41: saving model to model/rotation_history_classifier/rotation_history_classifier.keras\n",
      "\u001b[1m72/72\u001b[0m \u001b[32m━━━━━━━━━━━━━━━━━━━━\u001b[0m\u001b[37m\u001b[0m \u001b[1m0s\u001b[0m 2ms/step - accuracy: 0.5943 - loss: 0.8951 - val_accuracy: 0.6314 - val_loss: 0.8410\n",
      "Epoch 42/1000\n",
      "\u001b[1m61/72\u001b[0m \u001b[32m━━━━━━━━━━━━━━━━\u001b[0m\u001b[37m━━━━\u001b[0m \u001b[1m0s\u001b[0m 836us/step - accuracy: 0.5777 - loss: 0.8913\n",
      "Epoch 42: saving model to model/rotation_history_classifier/rotation_history_classifier.keras\n",
      "\u001b[1m72/72\u001b[0m \u001b[32m━━━━━━━━━━━━━━━━━━━━\u001b[0m\u001b[37m\u001b[0m \u001b[1m0s\u001b[0m 2ms/step - accuracy: 0.5794 - loss: 0.8921 - val_accuracy: 0.6298 - val_loss: 0.8397\n",
      "Epoch 43/1000\n",
      "\u001b[1m60/72\u001b[0m \u001b[32m━━━━━━━━━━━━━━━━\u001b[0m\u001b[37m━━━━\u001b[0m \u001b[1m0s\u001b[0m 857us/step - accuracy: 0.5779 - loss: 0.9086\n",
      "Epoch 43: saving model to model/rotation_history_classifier/rotation_history_classifier.keras\n",
      "\u001b[1m72/72\u001b[0m \u001b[32m━━━━━━━━━━━━━━━━━━━━\u001b[0m\u001b[37m\u001b[0m \u001b[1m0s\u001b[0m 2ms/step - accuracy: 0.5807 - loss: 0.9046 - val_accuracy: 0.6262 - val_loss: 0.8398\n",
      "Epoch 44/1000\n",
      "\u001b[1m60/72\u001b[0m \u001b[32m━━━━━━━━━━━━━━━━\u001b[0m\u001b[37m━━━━\u001b[0m \u001b[1m0s\u001b[0m 863us/step - accuracy: 0.5873 - loss: 0.9006\n",
      "Epoch 44: saving model to model/rotation_history_classifier/rotation_history_classifier.keras\n",
      "\u001b[1m72/72\u001b[0m \u001b[32m━━━━━━━━━━━━━━━━━━━━\u001b[0m\u001b[37m\u001b[0m \u001b[1m0s\u001b[0m 2ms/step - accuracy: 0.5884 - loss: 0.8985 - val_accuracy: 0.6337 - val_loss: 0.8369\n",
      "Epoch 45/1000\n",
      "\u001b[1m60/72\u001b[0m \u001b[32m━━━━━━━━━━━━━━━━\u001b[0m\u001b[37m━━━━\u001b[0m \u001b[1m0s\u001b[0m 862us/step - accuracy: 0.5821 - loss: 0.9038\n",
      "Epoch 45: saving model to model/rotation_history_classifier/rotation_history_classifier.keras\n",
      "\u001b[1m72/72\u001b[0m \u001b[32m━━━━━━━━━━━━━━━━━━━━\u001b[0m\u001b[37m\u001b[0m \u001b[1m0s\u001b[0m 2ms/step - accuracy: 0.5830 - loss: 0.9025 - val_accuracy: 0.6318 - val_loss: 0.8369\n",
      "Epoch 46/1000\n",
      "\u001b[1m62/72\u001b[0m \u001b[32m━━━━━━━━━━━━━━━━━\u001b[0m\u001b[37m━━━\u001b[0m \u001b[1m0s\u001b[0m 834us/step - accuracy: 0.5942 - loss: 0.8820\n",
      "Epoch 46: saving model to model/rotation_history_classifier/rotation_history_classifier.keras\n",
      "\u001b[1m72/72\u001b[0m \u001b[32m━━━━━━━━━━━━━━━━━━━━\u001b[0m\u001b[37m\u001b[0m \u001b[1m0s\u001b[0m 2ms/step - accuracy: 0.5938 - loss: 0.8828 - val_accuracy: 0.6321 - val_loss: 0.8364\n",
      "Epoch 47/1000\n",
      "\u001b[1m56/72\u001b[0m \u001b[32m━━━━━━━━━━━━━━━\u001b[0m\u001b[37m━━━━━\u001b[0m \u001b[1m0s\u001b[0m 927us/step - accuracy: 0.5969 - loss: 0.8869\n",
      "Epoch 47: saving model to model/rotation_history_classifier/rotation_history_classifier.keras\n",
      "\u001b[1m72/72\u001b[0m \u001b[32m━━━━━━━━━━━━━━━━━━━━\u001b[0m\u001b[37m\u001b[0m \u001b[1m0s\u001b[0m 2ms/step - accuracy: 0.5955 - loss: 0.8874 - val_accuracy: 0.6363 - val_loss: 0.8346\n",
      "Epoch 48/1000\n",
      "\u001b[1m60/72\u001b[0m \u001b[32m━━━━━━━━━━━━━━━━\u001b[0m\u001b[37m━━━━\u001b[0m \u001b[1m0s\u001b[0m 847us/step - accuracy: 0.6022 - loss: 0.8896\n",
      "Epoch 48: saving model to model/rotation_history_classifier/rotation_history_classifier.keras\n",
      "\u001b[1m72/72\u001b[0m \u001b[32m━━━━━━━━━━━━━━━━━━━━\u001b[0m\u001b[37m\u001b[0m \u001b[1m0s\u001b[0m 2ms/step - accuracy: 0.6008 - loss: 0.8899 - val_accuracy: 0.6292 - val_loss: 0.8347\n",
      "Epoch 49/1000\n",
      "\u001b[1m59/72\u001b[0m \u001b[32m━━━━━━━━━━━━━━━━\u001b[0m\u001b[37m━━━━\u001b[0m \u001b[1m0s\u001b[0m 873us/step - accuracy: 0.5823 - loss: 0.8983\n",
      "Epoch 49: saving model to model/rotation_history_classifier/rotation_history_classifier.keras\n",
      "\u001b[1m72/72\u001b[0m \u001b[32m━━━━━━━━━━━━━━━━━━━━\u001b[0m\u001b[37m\u001b[0m \u001b[1m0s\u001b[0m 2ms/step - accuracy: 0.5852 - loss: 0.8960 - val_accuracy: 0.6324 - val_loss: 0.8309\n",
      "Epoch 50/1000\n",
      "\u001b[1m62/72\u001b[0m \u001b[32m━━━━━━━━━━━━━━━━━\u001b[0m\u001b[37m━━━\u001b[0m \u001b[1m0s\u001b[0m 828us/step - accuracy: 0.6013 - loss: 0.8717\n",
      "Epoch 50: saving model to model/rotation_history_classifier/rotation_history_classifier.keras\n",
      "\u001b[1m72/72\u001b[0m \u001b[32m━━━━━━━━━━━━━━━━━━━━\u001b[0m\u001b[37m\u001b[0m \u001b[1m0s\u001b[0m 2ms/step - accuracy: 0.6001 - loss: 0.8738 - val_accuracy: 0.6373 - val_loss: 0.8318\n",
      "Epoch 51/1000\n",
      "\u001b[1m55/72\u001b[0m \u001b[32m━━━━━━━━━━━━━━━\u001b[0m\u001b[37m━━━━━\u001b[0m \u001b[1m0s\u001b[0m 929us/step - accuracy: 0.5893 - loss: 0.8854\n",
      "Epoch 51: saving model to model/rotation_history_classifier/rotation_history_classifier.keras\n",
      "\u001b[1m72/72\u001b[0m \u001b[32m━━━━━━━━━━━━━━━━━━━━\u001b[0m\u001b[37m\u001b[0m \u001b[1m0s\u001b[0m 2ms/step - accuracy: 0.5904 - loss: 0.8855 - val_accuracy: 0.6275 - val_loss: 0.8318\n",
      "Epoch 52/1000\n",
      "\u001b[1m59/72\u001b[0m \u001b[32m━━━━━━━━━━━━━━━━\u001b[0m\u001b[37m━━━━\u001b[0m \u001b[1m0s\u001b[0m 864us/step - accuracy: 0.5901 - loss: 0.8873\n",
      "Epoch 52: saving model to model/rotation_history_classifier/rotation_history_classifier.keras\n",
      "\u001b[1m72/72\u001b[0m \u001b[32m━━━━━━━━━━━━━━━━━━━━\u001b[0m\u001b[37m\u001b[0m \u001b[1m0s\u001b[0m 2ms/step - accuracy: 0.5911 - loss: 0.8859 - val_accuracy: 0.6337 - val_loss: 0.8293\n",
      "Epoch 53/1000\n",
      "\u001b[1m58/72\u001b[0m \u001b[32m━━━━━━━━━━━━━━━━\u001b[0m\u001b[37m━━━━\u001b[0m \u001b[1m0s\u001b[0m 886us/step - accuracy: 0.5905 - loss: 0.8915\n",
      "Epoch 53: saving model to model/rotation_history_classifier/rotation_history_classifier.keras\n",
      "\u001b[1m72/72\u001b[0m \u001b[32m━━━━━━━━━━━━━━━━━━━━\u001b[0m\u001b[37m\u001b[0m \u001b[1m0s\u001b[0m 2ms/step - accuracy: 0.5916 - loss: 0.8902 - val_accuracy: 0.6318 - val_loss: 0.8299\n",
      "Epoch 54/1000\n",
      "\u001b[1m59/72\u001b[0m \u001b[32m━━━━━━━━━━━━━━━━\u001b[0m\u001b[37m━━━━\u001b[0m \u001b[1m0s\u001b[0m 866us/step - accuracy: 0.5924 - loss: 0.8923\n",
      "Epoch 54: saving model to model/rotation_history_classifier/rotation_history_classifier.keras\n",
      "\u001b[1m72/72\u001b[0m \u001b[32m━━━━━━━━━━━━━━━━━━━━\u001b[0m\u001b[37m\u001b[0m \u001b[1m0s\u001b[0m 2ms/step - accuracy: 0.5933 - loss: 0.8903 - val_accuracy: 0.6334 - val_loss: 0.8281\n",
      "Epoch 55/1000\n",
      "\u001b[1m61/72\u001b[0m \u001b[32m━━━━━━━━━━━━━━━━\u001b[0m\u001b[37m━━━━\u001b[0m \u001b[1m0s\u001b[0m 841us/step - accuracy: 0.6000 - loss: 0.8749\n",
      "Epoch 55: saving model to model/rotation_history_classifier/rotation_history_classifier.keras\n",
      "\u001b[1m72/72\u001b[0m \u001b[32m━━━━━━━━━━━━━━━━━━━━\u001b[0m\u001b[37m\u001b[0m \u001b[1m0s\u001b[0m 2ms/step - accuracy: 0.5991 - loss: 0.8757 - val_accuracy: 0.6363 - val_loss: 0.8241\n",
      "Epoch 56/1000\n",
      "\u001b[1m62/72\u001b[0m \u001b[32m━━━━━━━━━━━━━━━━━\u001b[0m\u001b[37m━━━\u001b[0m \u001b[1m0s\u001b[0m 834us/step - accuracy: 0.5995 - loss: 0.8900\n",
      "Epoch 56: saving model to model/rotation_history_classifier/rotation_history_classifier.keras\n",
      "\u001b[1m72/72\u001b[0m \u001b[32m━━━━━━━━━━━━━━━━━━━━\u001b[0m\u001b[37m\u001b[0m \u001b[1m0s\u001b[0m 2ms/step - accuracy: 0.5991 - loss: 0.8893 - val_accuracy: 0.6347 - val_loss: 0.8242\n",
      "Epoch 57/1000\n",
      "\u001b[1m58/72\u001b[0m \u001b[32m━━━━━━━━━━━━━━━━\u001b[0m\u001b[37m━━━━\u001b[0m \u001b[1m0s\u001b[0m 894us/step - accuracy: 0.6043 - loss: 0.8874\n",
      "Epoch 57: saving model to model/rotation_history_classifier/rotation_history_classifier.keras\n",
      "\u001b[1m72/72\u001b[0m \u001b[32m━━━━━━━━━━━━━━━━━━━━\u001b[0m\u001b[37m\u001b[0m \u001b[1m0s\u001b[0m 2ms/step - accuracy: 0.6035 - loss: 0.8874 - val_accuracy: 0.6347 - val_loss: 0.8241\n",
      "Epoch 58/1000\n",
      "\u001b[1m58/72\u001b[0m \u001b[32m━━━━━━━━━━━━━━━━\u001b[0m\u001b[37m━━━━\u001b[0m \u001b[1m0s\u001b[0m 880us/step - accuracy: 0.6043 - loss: 0.8724\n",
      "Epoch 58: saving model to model/rotation_history_classifier/rotation_history_classifier.keras\n",
      "\u001b[1m72/72\u001b[0m \u001b[32m━━━━━━━━━━━━━━━━━━━━\u001b[0m\u001b[37m\u001b[0m \u001b[1m0s\u001b[0m 2ms/step - accuracy: 0.6032 - loss: 0.8738 - val_accuracy: 0.6367 - val_loss: 0.8237\n",
      "Epoch 59/1000\n",
      "\u001b[1m60/72\u001b[0m \u001b[32m━━━━━━━━━━━━━━━━\u001b[0m\u001b[37m━━━━\u001b[0m \u001b[1m0s\u001b[0m 862us/step - accuracy: 0.5936 - loss: 0.8748\n",
      "Epoch 59: saving model to model/rotation_history_classifier/rotation_history_classifier.keras\n",
      "\u001b[1m72/72\u001b[0m \u001b[32m━━━━━━━━━━━━━━━━━━━━\u001b[0m\u001b[37m\u001b[0m \u001b[1m0s\u001b[0m 2ms/step - accuracy: 0.5944 - loss: 0.8756 - val_accuracy: 0.6350 - val_loss: 0.8230\n",
      "Epoch 60/1000\n",
      "\u001b[1m57/72\u001b[0m \u001b[32m━━━━━━━━━━━━━━━\u001b[0m\u001b[37m━━━━━\u001b[0m \u001b[1m0s\u001b[0m 894us/step - accuracy: 0.5957 - loss: 0.8885\n",
      "Epoch 60: saving model to model/rotation_history_classifier/rotation_history_classifier.keras\n",
      "\u001b[1m72/72\u001b[0m \u001b[32m━━━━━━━━━━━━━━━━━━━━\u001b[0m\u001b[37m\u001b[0m \u001b[1m0s\u001b[0m 2ms/step - accuracy: 0.5963 - loss: 0.8873 - val_accuracy: 0.6350 - val_loss: 0.8236\n",
      "Epoch 61/1000\n",
      "\u001b[1m64/72\u001b[0m \u001b[32m━━━━━━━━━━━━━━━━━\u001b[0m\u001b[37m━━━\u001b[0m \u001b[1m0s\u001b[0m 800us/step - accuracy: 0.5895 - loss: 0.8806\n",
      "Epoch 61: saving model to model/rotation_history_classifier/rotation_history_classifier.keras\n",
      "\u001b[1m72/72\u001b[0m \u001b[32m━━━━━━━━━━━━━━━━━━━━\u001b[0m\u001b[37m\u001b[0m \u001b[1m0s\u001b[0m 2ms/step - accuracy: 0.5902 - loss: 0.8801 - val_accuracy: 0.6389 - val_loss: 0.8225\n",
      "Epoch 62/1000\n",
      "\u001b[1m53/72\u001b[0m \u001b[32m━━━━━━━━━━━━━━\u001b[0m\u001b[37m━━━━━━\u001b[0m \u001b[1m0s\u001b[0m 966us/step - accuracy: 0.6078 - loss: 0.8641\n",
      "Epoch 62: saving model to model/rotation_history_classifier/rotation_history_classifier.keras\n",
      "\u001b[1m72/72\u001b[0m \u001b[32m━━━━━━━━━━━━━━━━━━━━\u001b[0m\u001b[37m\u001b[0m \u001b[1m0s\u001b[0m 2ms/step - accuracy: 0.6052 - loss: 0.8663 - val_accuracy: 0.6409 - val_loss: 0.8199\n",
      "Epoch 63/1000\n",
      "\u001b[1m61/72\u001b[0m \u001b[32m━━━━━━━━━━━━━━━━\u001b[0m\u001b[37m━━━━\u001b[0m \u001b[1m0s\u001b[0m 839us/step - accuracy: 0.5906 - loss: 0.8895\n",
      "Epoch 63: saving model to model/rotation_history_classifier/rotation_history_classifier.keras\n",
      "\u001b[1m72/72\u001b[0m \u001b[32m━━━━━━━━━━━━━━━━━━━━\u001b[0m\u001b[37m\u001b[0m \u001b[1m0s\u001b[0m 2ms/step - accuracy: 0.5917 - loss: 0.8885 - val_accuracy: 0.6380 - val_loss: 0.8194\n",
      "Epoch 64/1000\n",
      "\u001b[1m60/72\u001b[0m \u001b[32m━━━━━━━━━━━━━━━━\u001b[0m\u001b[37m━━━━\u001b[0m \u001b[1m0s\u001b[0m 852us/step - accuracy: 0.6079 - loss: 0.8765\n",
      "Epoch 64: saving model to model/rotation_history_classifier/rotation_history_classifier.keras\n",
      "\u001b[1m72/72\u001b[0m \u001b[32m━━━━━━━━━━━━━━━━━━━━\u001b[0m\u001b[37m\u001b[0m \u001b[1m0s\u001b[0m 2ms/step - accuracy: 0.6071 - loss: 0.8766 - val_accuracy: 0.6383 - val_loss: 0.8190\n",
      "Epoch 65/1000\n",
      "\u001b[1m56/72\u001b[0m \u001b[32m━━━━━━━━━━━━━━━\u001b[0m\u001b[37m━━━━━\u001b[0m \u001b[1m0s\u001b[0m 916us/step - accuracy: 0.6111 - loss: 0.8651\n",
      "Epoch 65: saving model to model/rotation_history_classifier/rotation_history_classifier.keras\n",
      "\u001b[1m72/72\u001b[0m \u001b[32m━━━━━━━━━━━━━━━━━━━━\u001b[0m\u001b[37m\u001b[0m \u001b[1m0s\u001b[0m 2ms/step - accuracy: 0.6099 - loss: 0.8655 - val_accuracy: 0.6370 - val_loss: 0.8154\n",
      "Epoch 66/1000\n",
      "\u001b[1m59/72\u001b[0m \u001b[32m━━━━━━━━━━━━━━━━\u001b[0m\u001b[37m━━━━\u001b[0m \u001b[1m0s\u001b[0m 869us/step - accuracy: 0.6039 - loss: 0.8900\n",
      "Epoch 66: saving model to model/rotation_history_classifier/rotation_history_classifier.keras\n",
      "\u001b[1m72/72\u001b[0m \u001b[32m━━━━━━━━━━━━━━━━━━━━\u001b[0m\u001b[37m\u001b[0m \u001b[1m0s\u001b[0m 2ms/step - accuracy: 0.6042 - loss: 0.8877 - val_accuracy: 0.6389 - val_loss: 0.8170\n",
      "Epoch 67/1000\n",
      "\u001b[1m62/72\u001b[0m \u001b[32m━━━━━━━━━━━━━━━━━\u001b[0m\u001b[37m━━━\u001b[0m \u001b[1m0s\u001b[0m 829us/step - accuracy: 0.5976 - loss: 0.8747\n",
      "Epoch 67: saving model to model/rotation_history_classifier/rotation_history_classifier.keras\n",
      "\u001b[1m72/72\u001b[0m \u001b[32m━━━━━━━━━━━━━━━━━━━━\u001b[0m\u001b[37m\u001b[0m \u001b[1m0s\u001b[0m 2ms/step - accuracy: 0.5973 - loss: 0.8746 - val_accuracy: 0.6380 - val_loss: 0.8156\n",
      "Epoch 68/1000\n",
      "\u001b[1m62/72\u001b[0m \u001b[32m━━━━━━━━━━━━━━━━━\u001b[0m\u001b[37m━━━\u001b[0m \u001b[1m0s\u001b[0m 832us/step - accuracy: 0.5899 - loss: 0.8784\n",
      "Epoch 68: saving model to model/rotation_history_classifier/rotation_history_classifier.keras\n",
      "\u001b[1m72/72\u001b[0m \u001b[32m━━━━━━━━━━━━━━━━━━━━\u001b[0m\u001b[37m\u001b[0m \u001b[1m0s\u001b[0m 2ms/step - accuracy: 0.5909 - loss: 0.8781 - val_accuracy: 0.6370 - val_loss: 0.8153\n",
      "Epoch 69/1000\n",
      "\u001b[1m60/72\u001b[0m \u001b[32m━━━━━━━━━━━━━━━━\u001b[0m\u001b[37m━━━━\u001b[0m \u001b[1m0s\u001b[0m 860us/step - accuracy: 0.5914 - loss: 0.8895\n",
      "Epoch 69: saving model to model/rotation_history_classifier/rotation_history_classifier.keras\n",
      "\u001b[1m72/72\u001b[0m \u001b[32m━━━━━━━━━━━━━━━━━━━━\u001b[0m\u001b[37m\u001b[0m \u001b[1m0s\u001b[0m 2ms/step - accuracy: 0.5920 - loss: 0.8884 - val_accuracy: 0.6383 - val_loss: 0.8167\n",
      "Epoch 70/1000\n",
      "\u001b[1m59/72\u001b[0m \u001b[32m━━━━━━━━━━━━━━━━\u001b[0m\u001b[37m━━━━\u001b[0m \u001b[1m0s\u001b[0m 879us/step - accuracy: 0.6177 - loss: 0.8561\n",
      "Epoch 70: saving model to model/rotation_history_classifier/rotation_history_classifier.keras\n",
      "\u001b[1m72/72\u001b[0m \u001b[32m━━━━━━━━━━━━━━━━━━━━\u001b[0m\u001b[37m\u001b[0m \u001b[1m0s\u001b[0m 2ms/step - accuracy: 0.6161 - loss: 0.8581 - val_accuracy: 0.6406 - val_loss: 0.8137\n",
      "Epoch 71/1000\n",
      "\u001b[1m61/72\u001b[0m \u001b[32m━━━━━━━━━━━━━━━━\u001b[0m\u001b[37m━━━━\u001b[0m \u001b[1m0s\u001b[0m 846us/step - accuracy: 0.6012 - loss: 0.8707\n",
      "Epoch 71: saving model to model/rotation_history_classifier/rotation_history_classifier.keras\n",
      "\u001b[1m72/72\u001b[0m \u001b[32m━━━━━━━━━━━━━━━━━━━━\u001b[0m\u001b[37m\u001b[0m \u001b[1m0s\u001b[0m 2ms/step - accuracy: 0.6016 - loss: 0.8702 - val_accuracy: 0.6429 - val_loss: 0.8146\n",
      "Epoch 72/1000\n",
      "\u001b[1m60/72\u001b[0m \u001b[32m━━━━━━━━━━━━━━━━\u001b[0m\u001b[37m━━━━\u001b[0m \u001b[1m0s\u001b[0m 862us/step - accuracy: 0.6089 - loss: 0.8759\n",
      "Epoch 72: saving model to model/rotation_history_classifier/rotation_history_classifier.keras\n",
      "\u001b[1m72/72\u001b[0m \u001b[32m━━━━━━━━━━━━━━━━━━━━\u001b[0m\u001b[37m\u001b[0m \u001b[1m0s\u001b[0m 2ms/step - accuracy: 0.6077 - loss: 0.8773 - val_accuracy: 0.6354 - val_loss: 0.8151\n",
      "Epoch 73/1000\n",
      "\u001b[1m63/72\u001b[0m \u001b[32m━━━━━━━━━━━━━━━━━\u001b[0m\u001b[37m━━━\u001b[0m \u001b[1m0s\u001b[0m 822us/step - accuracy: 0.6114 - loss: 0.8684\n",
      "Epoch 73: saving model to model/rotation_history_classifier/rotation_history_classifier.keras\n",
      "\u001b[1m72/72\u001b[0m \u001b[32m━━━━━━━━━━━━━━━━━━━━\u001b[0m\u001b[37m\u001b[0m \u001b[1m0s\u001b[0m 2ms/step - accuracy: 0.6101 - loss: 0.8693 - val_accuracy: 0.6416 - val_loss: 0.8128\n",
      "Epoch 74/1000\n",
      "\u001b[1m57/72\u001b[0m \u001b[32m━━━━━━━━━━━━━━━\u001b[0m\u001b[37m━━━━━\u001b[0m \u001b[1m0s\u001b[0m 906us/step - accuracy: 0.6024 - loss: 0.8678\n",
      "Epoch 74: saving model to model/rotation_history_classifier/rotation_history_classifier.keras\n",
      "\u001b[1m72/72\u001b[0m \u001b[32m━━━━━━━━━━━━━━━━━━━━\u001b[0m\u001b[37m\u001b[0m \u001b[1m0s\u001b[0m 2ms/step - accuracy: 0.6018 - loss: 0.8694 - val_accuracy: 0.6367 - val_loss: 0.8133\n",
      "Epoch 75/1000\n",
      "\u001b[1m61/72\u001b[0m \u001b[32m━━━━━━━━━━━━━━━━\u001b[0m\u001b[37m━━━━\u001b[0m \u001b[1m0s\u001b[0m 843us/step - accuracy: 0.6065 - loss: 0.8679\n",
      "Epoch 75: saving model to model/rotation_history_classifier/rotation_history_classifier.keras\n",
      "\u001b[1m72/72\u001b[0m \u001b[32m━━━━━━━━━━━━━━━━━━━━\u001b[0m\u001b[37m\u001b[0m \u001b[1m0s\u001b[0m 2ms/step - accuracy: 0.6059 - loss: 0.8687 - val_accuracy: 0.6393 - val_loss: 0.8132\n",
      "Epoch 76/1000\n",
      "\u001b[1m63/72\u001b[0m \u001b[32m━━━━━━━━━━━━━━━━━\u001b[0m\u001b[37m━━━\u001b[0m \u001b[1m0s\u001b[0m 821us/step - accuracy: 0.6112 - loss: 0.8628\n",
      "Epoch 76: saving model to model/rotation_history_classifier/rotation_history_classifier.keras\n",
      "\u001b[1m72/72\u001b[0m \u001b[32m━━━━━━━━━━━━━━━━━━━━\u001b[0m\u001b[37m\u001b[0m \u001b[1m0s\u001b[0m 2ms/step - accuracy: 0.6107 - loss: 0.8636 - val_accuracy: 0.6396 - val_loss: 0.8127\n",
      "Epoch 77/1000\n",
      "\u001b[1m61/72\u001b[0m \u001b[32m━━━━━━━━━━━━━━━━\u001b[0m\u001b[37m━━━━\u001b[0m \u001b[1m0s\u001b[0m 842us/step - accuracy: 0.5985 - loss: 0.8725\n",
      "Epoch 77: saving model to model/rotation_history_classifier/rotation_history_classifier.keras\n",
      "\u001b[1m72/72\u001b[0m \u001b[32m━━━━━━━━━━━━━━━━━━━━\u001b[0m\u001b[37m\u001b[0m \u001b[1m0s\u001b[0m 2ms/step - accuracy: 0.5986 - loss: 0.8723 - val_accuracy: 0.6429 - val_loss: 0.8116\n",
      "Epoch 78/1000\n",
      "\u001b[1m58/72\u001b[0m \u001b[32m━━━━━━━━━━━━━━━━\u001b[0m\u001b[37m━━━━\u001b[0m \u001b[1m0s\u001b[0m 894us/step - accuracy: 0.6113 - loss: 0.8493\n",
      "Epoch 78: saving model to model/rotation_history_classifier/rotation_history_classifier.keras\n",
      "\u001b[1m72/72\u001b[0m \u001b[32m━━━━━━━━━━━━━━━━━━━━\u001b[0m\u001b[37m\u001b[0m \u001b[1m0s\u001b[0m 2ms/step - accuracy: 0.6097 - loss: 0.8522 - val_accuracy: 0.6399 - val_loss: 0.8103\n",
      "Epoch 79/1000\n",
      "\u001b[1m60/72\u001b[0m \u001b[32m━━━━━━━━━━━━━━━━\u001b[0m\u001b[37m━━━━\u001b[0m \u001b[1m0s\u001b[0m 860us/step - accuracy: 0.6113 - loss: 0.8564\n",
      "Epoch 79: saving model to model/rotation_history_classifier/rotation_history_classifier.keras\n",
      "\u001b[1m72/72\u001b[0m \u001b[32m━━━━━━━━━━━━━━━━━━━━\u001b[0m\u001b[37m\u001b[0m \u001b[1m0s\u001b[0m 2ms/step - accuracy: 0.6103 - loss: 0.8586 - val_accuracy: 0.6448 - val_loss: 0.8082\n",
      "Epoch 80/1000\n",
      "\u001b[1m60/72\u001b[0m \u001b[32m━━━━━━━━━━━━━━━━\u001b[0m\u001b[37m━━━━\u001b[0m \u001b[1m0s\u001b[0m 855us/step - accuracy: 0.6016 - loss: 0.8641\n",
      "Epoch 80: saving model to model/rotation_history_classifier/rotation_history_classifier.keras\n",
      "\u001b[1m72/72\u001b[0m \u001b[32m━━━━━━━━━━━━━━━━━━━━\u001b[0m\u001b[37m\u001b[0m \u001b[1m0s\u001b[0m 2ms/step - accuracy: 0.6025 - loss: 0.8645 - val_accuracy: 0.6406 - val_loss: 0.8087\n",
      "Epoch 81/1000\n",
      "\u001b[1m59/72\u001b[0m \u001b[32m━━━━━━━━━━━━━━━━\u001b[0m\u001b[37m━━━━\u001b[0m \u001b[1m0s\u001b[0m 880us/step - accuracy: 0.6035 - loss: 0.8747\n",
      "Epoch 81: saving model to model/rotation_history_classifier/rotation_history_classifier.keras\n",
      "\u001b[1m72/72\u001b[0m \u001b[32m━━━━━━━━━━━━━━━━━━━━\u001b[0m\u001b[37m\u001b[0m \u001b[1m0s\u001b[0m 2ms/step - accuracy: 0.6035 - loss: 0.8747 - val_accuracy: 0.6393 - val_loss: 0.8081\n",
      "Epoch 82/1000\n",
      "\u001b[1m54/72\u001b[0m \u001b[32m━━━━━━━━━━━━━━━\u001b[0m\u001b[37m━━━━━\u001b[0m \u001b[1m0s\u001b[0m 944us/step - accuracy: 0.6212 - loss: 0.8460\n",
      "Epoch 82: saving model to model/rotation_history_classifier/rotation_history_classifier.keras\n",
      "\u001b[1m72/72\u001b[0m \u001b[32m━━━━━━━━━━━━━━━━━━━━\u001b[0m\u001b[37m\u001b[0m \u001b[1m0s\u001b[0m 2ms/step - accuracy: 0.6185 - loss: 0.8491 - val_accuracy: 0.6451 - val_loss: 0.8070\n",
      "Epoch 83/1000\n",
      "\u001b[1m55/72\u001b[0m \u001b[32m━━━━━━━━━━━━━━━\u001b[0m\u001b[37m━━━━━\u001b[0m \u001b[1m0s\u001b[0m 936us/step - accuracy: 0.6193 - loss: 0.8532\n",
      "Epoch 83: saving model to model/rotation_history_classifier/rotation_history_classifier.keras\n",
      "\u001b[1m72/72\u001b[0m \u001b[32m━━━━━━━━━━━━━━━━━━━━\u001b[0m\u001b[37m\u001b[0m \u001b[1m0s\u001b[0m 2ms/step - accuracy: 0.6167 - loss: 0.8572 - val_accuracy: 0.6386 - val_loss: 0.8084\n",
      "Epoch 84/1000\n",
      "\u001b[1m58/72\u001b[0m \u001b[32m━━━━━━━━━━━━━━━━\u001b[0m\u001b[37m━━━━\u001b[0m \u001b[1m0s\u001b[0m 880us/step - accuracy: 0.5966 - loss: 0.8825\n",
      "Epoch 84: saving model to model/rotation_history_classifier/rotation_history_classifier.keras\n",
      "\u001b[1m72/72\u001b[0m \u001b[32m━━━━━━━━━━━━━━━━━━━━\u001b[0m\u001b[37m\u001b[0m \u001b[1m0s\u001b[0m 2ms/step - accuracy: 0.5986 - loss: 0.8790 - val_accuracy: 0.6432 - val_loss: 0.8074\n",
      "Epoch 85/1000\n",
      "\u001b[1m58/72\u001b[0m \u001b[32m━━━━━━━━━━━━━━━━\u001b[0m\u001b[37m━━━━\u001b[0m \u001b[1m0s\u001b[0m 887us/step - accuracy: 0.6248 - loss: 0.8543\n",
      "Epoch 85: saving model to model/rotation_history_classifier/rotation_history_classifier.keras\n",
      "\u001b[1m72/72\u001b[0m \u001b[32m━━━━━━━━━━━━━━━━━━━━\u001b[0m\u001b[37m\u001b[0m \u001b[1m0s\u001b[0m 2ms/step - accuracy: 0.6229 - loss: 0.8561 - val_accuracy: 0.6445 - val_loss: 0.8055\n",
      "Epoch 86/1000\n",
      "\u001b[1m57/72\u001b[0m \u001b[32m━━━━━━━━━━━━━━━\u001b[0m\u001b[37m━━━━━\u001b[0m \u001b[1m0s\u001b[0m 901us/step - accuracy: 0.6053 - loss: 0.8703\n",
      "Epoch 86: saving model to model/rotation_history_classifier/rotation_history_classifier.keras\n",
      "\u001b[1m72/72\u001b[0m \u001b[32m━━━━━━━━━━━━━━━━━━━━\u001b[0m\u001b[37m\u001b[0m \u001b[1m0s\u001b[0m 2ms/step - accuracy: 0.6051 - loss: 0.8694 - val_accuracy: 0.6416 - val_loss: 0.8079\n",
      "Epoch 87/1000\n",
      "\u001b[1m45/72\u001b[0m \u001b[32m━━━━━━━━━━━━\u001b[0m\u001b[37m━━━━━━━━\u001b[0m \u001b[1m0s\u001b[0m 1ms/step - accuracy: 0.6088 - loss: 0.8502 \n",
      "Epoch 87: saving model to model/rotation_history_classifier/rotation_history_classifier.keras\n",
      "\u001b[1m72/72\u001b[0m \u001b[32m━━━━━━━━━━━━━━━━━━━━\u001b[0m\u001b[37m\u001b[0m \u001b[1m0s\u001b[0m 2ms/step - accuracy: 0.6079 - loss: 0.8532 - val_accuracy: 0.6380 - val_loss: 0.8076\n",
      "Epoch 88/1000\n",
      "\u001b[1m56/72\u001b[0m \u001b[32m━━━━━━━━━━━━━━━\u001b[0m\u001b[37m━━━━━\u001b[0m \u001b[1m0s\u001b[0m 921us/step - accuracy: 0.6035 - loss: 0.8768\n",
      "Epoch 88: saving model to model/rotation_history_classifier/rotation_history_classifier.keras\n",
      "\u001b[1m72/72\u001b[0m \u001b[32m━━━━━━━━━━━━━━━━━━━━\u001b[0m\u001b[37m\u001b[0m \u001b[1m0s\u001b[0m 2ms/step - accuracy: 0.6044 - loss: 0.8731 - val_accuracy: 0.6468 - val_loss: 0.8059\n",
      "Epoch 89/1000\n",
      "\u001b[1m54/72\u001b[0m \u001b[32m━━━━━━━━━━━━━━━\u001b[0m\u001b[37m━━━━━\u001b[0m \u001b[1m0s\u001b[0m 949us/step - accuracy: 0.5982 - loss: 0.8716\n",
      "Epoch 89: saving model to model/rotation_history_classifier/rotation_history_classifier.keras\n",
      "\u001b[1m72/72\u001b[0m \u001b[32m━━━━━━━━━━━━━━━━━━━━\u001b[0m\u001b[37m\u001b[0m \u001b[1m0s\u001b[0m 2ms/step - accuracy: 0.6005 - loss: 0.8706 - val_accuracy: 0.6442 - val_loss: 0.8066\n",
      "Epoch 90/1000\n",
      "\u001b[1m56/72\u001b[0m \u001b[32m━━━━━━━━━━━━━━━\u001b[0m\u001b[37m━━━━━\u001b[0m \u001b[1m0s\u001b[0m 920us/step - accuracy: 0.6174 - loss: 0.8519\n",
      "Epoch 90: saving model to model/rotation_history_classifier/rotation_history_classifier.keras\n",
      "\u001b[1m72/72\u001b[0m \u001b[32m━━━━━━━━━━━━━━━━━━━━\u001b[0m\u001b[37m\u001b[0m \u001b[1m0s\u001b[0m 2ms/step - accuracy: 0.6167 - loss: 0.8531 - val_accuracy: 0.6455 - val_loss: 0.8043\n",
      "Epoch 91/1000\n",
      "\u001b[1m59/72\u001b[0m \u001b[32m━━━━━━━━━━━━━━━━\u001b[0m\u001b[37m━━━━\u001b[0m \u001b[1m0s\u001b[0m 871us/step - accuracy: 0.6053 - loss: 0.8615\n",
      "Epoch 91: saving model to model/rotation_history_classifier/rotation_history_classifier.keras\n",
      "\u001b[1m72/72\u001b[0m \u001b[32m━━━━━━━━━━━━━━━━━━━━\u001b[0m\u001b[37m\u001b[0m \u001b[1m0s\u001b[0m 2ms/step - accuracy: 0.6050 - loss: 0.8622 - val_accuracy: 0.6438 - val_loss: 0.8060\n",
      "Epoch 92/1000\n",
      "\u001b[1m58/72\u001b[0m \u001b[32m━━━━━━━━━━━━━━━━\u001b[0m\u001b[37m━━━━\u001b[0m \u001b[1m0s\u001b[0m 887us/step - accuracy: 0.6041 - loss: 0.8640\n",
      "Epoch 92: saving model to model/rotation_history_classifier/rotation_history_classifier.keras\n",
      "\u001b[1m72/72\u001b[0m \u001b[32m━━━━━━━━━━━━━━━━━━━━\u001b[0m\u001b[37m\u001b[0m \u001b[1m0s\u001b[0m 2ms/step - accuracy: 0.6039 - loss: 0.8642 - val_accuracy: 0.6458 - val_loss: 0.8039\n",
      "Epoch 93/1000\n",
      "\u001b[1m57/72\u001b[0m \u001b[32m━━━━━━━━━━━━━━━\u001b[0m\u001b[37m━━━━━\u001b[0m \u001b[1m0s\u001b[0m 900us/step - accuracy: 0.5938 - loss: 0.8822\n",
      "Epoch 93: saving model to model/rotation_history_classifier/rotation_history_classifier.keras\n",
      "\u001b[1m72/72\u001b[0m \u001b[32m━━━━━━━━━━━━━━━━━━━━\u001b[0m\u001b[37m\u001b[0m \u001b[1m0s\u001b[0m 2ms/step - accuracy: 0.5952 - loss: 0.8800 - val_accuracy: 0.6419 - val_loss: 0.8056\n",
      "Epoch 94/1000\n",
      "\u001b[1m61/72\u001b[0m \u001b[32m━━━━━━━━━━━━━━━━\u001b[0m\u001b[37m━━━━\u001b[0m \u001b[1m0s\u001b[0m 847us/step - accuracy: 0.5948 - loss: 0.8700\n",
      "Epoch 94: saving model to model/rotation_history_classifier/rotation_history_classifier.keras\n",
      "\u001b[1m72/72\u001b[0m \u001b[32m━━━━━━━━━━━━━━━━━━━━\u001b[0m\u001b[37m\u001b[0m \u001b[1m0s\u001b[0m 2ms/step - accuracy: 0.5960 - loss: 0.8692 - val_accuracy: 0.6380 - val_loss: 0.8067\n",
      "Epoch 95/1000\n",
      "\u001b[1m57/72\u001b[0m \u001b[32m━━━━━━━━━━━━━━━\u001b[0m\u001b[37m━━━━━\u001b[0m \u001b[1m0s\u001b[0m 902us/step - accuracy: 0.6034 - loss: 0.8638\n",
      "Epoch 95: saving model to model/rotation_history_classifier/rotation_history_classifier.keras\n",
      "\u001b[1m72/72\u001b[0m \u001b[32m━━━━━━━━━━━━━━━━━━━━\u001b[0m\u001b[37m\u001b[0m \u001b[1m0s\u001b[0m 2ms/step - accuracy: 0.6044 - loss: 0.8631 - val_accuracy: 0.6429 - val_loss: 0.8032\n",
      "Epoch 96/1000\n",
      "\u001b[1m59/72\u001b[0m \u001b[32m━━━━━━━━━━━━━━━━\u001b[0m\u001b[37m━━━━\u001b[0m \u001b[1m0s\u001b[0m 876us/step - accuracy: 0.6090 - loss: 0.8589\n",
      "Epoch 96: saving model to model/rotation_history_classifier/rotation_history_classifier.keras\n",
      "\u001b[1m72/72\u001b[0m \u001b[32m━━━━━━━━━━━━━━━━━━━━\u001b[0m\u001b[37m\u001b[0m \u001b[1m0s\u001b[0m 2ms/step - accuracy: 0.6085 - loss: 0.8599 - val_accuracy: 0.6471 - val_loss: 0.8023\n",
      "Epoch 97/1000\n",
      "\u001b[1m58/72\u001b[0m \u001b[32m━━━━━━━━━━━━━━━━\u001b[0m\u001b[37m━━━━\u001b[0m \u001b[1m0s\u001b[0m 885us/step - accuracy: 0.6143 - loss: 0.8697\n",
      "Epoch 97: saving model to model/rotation_history_classifier/rotation_history_classifier.keras\n",
      "\u001b[1m72/72\u001b[0m \u001b[32m━━━━━━━━━━━━━━━━━━━━\u001b[0m\u001b[37m\u001b[0m \u001b[1m0s\u001b[0m 2ms/step - accuracy: 0.6136 - loss: 0.8690 - val_accuracy: 0.6445 - val_loss: 0.8043\n",
      "Epoch 98/1000\n",
      "\u001b[1m58/72\u001b[0m \u001b[32m━━━━━━━━━━━━━━━━\u001b[0m\u001b[37m━━━━\u001b[0m \u001b[1m0s\u001b[0m 887us/step - accuracy: 0.6114 - loss: 0.8673\n",
      "Epoch 98: saving model to model/rotation_history_classifier/rotation_history_classifier.keras\n",
      "\u001b[1m72/72\u001b[0m \u001b[32m━━━━━━━━━━━━━━━━━━━━\u001b[0m\u001b[37m\u001b[0m \u001b[1m0s\u001b[0m 2ms/step - accuracy: 0.6107 - loss: 0.8666 - val_accuracy: 0.6445 - val_loss: 0.8039\n",
      "Epoch 99/1000\n",
      "\u001b[1m59/72\u001b[0m \u001b[32m━━━━━━━━━━━━━━━━\u001b[0m\u001b[37m━━━━\u001b[0m \u001b[1m0s\u001b[0m 871us/step - accuracy: 0.6133 - loss: 0.8547\n",
      "Epoch 99: saving model to model/rotation_history_classifier/rotation_history_classifier.keras\n",
      "\u001b[1m72/72\u001b[0m \u001b[32m━━━━━━━━━━━━━━━━━━━━\u001b[0m\u001b[37m\u001b[0m \u001b[1m0s\u001b[0m 2ms/step - accuracy: 0.6126 - loss: 0.8562 - val_accuracy: 0.6429 - val_loss: 0.8038\n",
      "Epoch 100/1000\n",
      "\u001b[1m57/72\u001b[0m \u001b[32m━━━━━━━━━━━━━━━\u001b[0m\u001b[37m━━━━━\u001b[0m \u001b[1m0s\u001b[0m 908us/step - accuracy: 0.6181 - loss: 0.8483\n",
      "Epoch 100: saving model to model/rotation_history_classifier/rotation_history_classifier.keras\n",
      "\u001b[1m72/72\u001b[0m \u001b[32m━━━━━━━━━━━━━━━━━━━━\u001b[0m\u001b[37m\u001b[0m \u001b[1m0s\u001b[0m 2ms/step - accuracy: 0.6163 - loss: 0.8512 - val_accuracy: 0.6487 - val_loss: 0.8024\n",
      "Epoch 101/1000\n",
      "\u001b[1m59/72\u001b[0m \u001b[32m━━━━━━━━━━━━━━━━\u001b[0m\u001b[37m━━━━\u001b[0m \u001b[1m0s\u001b[0m 873us/step - accuracy: 0.6055 - loss: 0.8603\n",
      "Epoch 101: saving model to model/rotation_history_classifier/rotation_history_classifier.keras\n",
      "\u001b[1m72/72\u001b[0m \u001b[32m━━━━━━━━━━━━━━━━━━━━\u001b[0m\u001b[37m\u001b[0m \u001b[1m0s\u001b[0m 2ms/step - accuracy: 0.6056 - loss: 0.8605 - val_accuracy: 0.6432 - val_loss: 0.8024\n",
      "Epoch 102/1000\n",
      "\u001b[1m58/72\u001b[0m \u001b[32m━━━━━━━━━━━━━━━━\u001b[0m\u001b[37m━━━━\u001b[0m \u001b[1m0s\u001b[0m 891us/step - accuracy: 0.6171 - loss: 0.8533\n",
      "Epoch 102: saving model to model/rotation_history_classifier/rotation_history_classifier.keras\n",
      "\u001b[1m72/72\u001b[0m \u001b[32m━━━━━━━━━━━━━━━━━━━━\u001b[0m\u001b[37m\u001b[0m \u001b[1m0s\u001b[0m 2ms/step - accuracy: 0.6152 - loss: 0.8555 - val_accuracy: 0.6445 - val_loss: 0.8026\n",
      "Epoch 103/1000\n",
      "\u001b[1m50/72\u001b[0m \u001b[32m━━━━━━━━━━━━━\u001b[0m\u001b[37m━━━━━━━\u001b[0m \u001b[1m0s\u001b[0m 1ms/step - accuracy: 0.6189 - loss: 0.8457 \n",
      "Epoch 103: saving model to model/rotation_history_classifier/rotation_history_classifier.keras\n",
      "\u001b[1m72/72\u001b[0m \u001b[32m━━━━━━━━━━━━━━━━━━━━\u001b[0m\u001b[37m\u001b[0m \u001b[1m0s\u001b[0m 2ms/step - accuracy: 0.6174 - loss: 0.8492 - val_accuracy: 0.6458 - val_loss: 0.8010\n",
      "Epoch 104/1000\n",
      "\u001b[1m57/72\u001b[0m \u001b[32m━━━━━━━━━━━━━━━\u001b[0m\u001b[37m━━━━━\u001b[0m \u001b[1m0s\u001b[0m 910us/step - accuracy: 0.6168 - loss: 0.8521\n",
      "Epoch 104: saving model to model/rotation_history_classifier/rotation_history_classifier.keras\n",
      "\u001b[1m72/72\u001b[0m \u001b[32m━━━━━━━━━━━━━━━━━━━━\u001b[0m\u001b[37m\u001b[0m \u001b[1m0s\u001b[0m 2ms/step - accuracy: 0.6152 - loss: 0.8537 - val_accuracy: 0.6458 - val_loss: 0.8017\n",
      "Epoch 105/1000\n",
      "\u001b[1m57/72\u001b[0m \u001b[32m━━━━━━━━━━━━━━━\u001b[0m\u001b[37m━━━━━\u001b[0m \u001b[1m0s\u001b[0m 893us/step - accuracy: 0.6196 - loss: 0.8450\n",
      "Epoch 105: saving model to model/rotation_history_classifier/rotation_history_classifier.keras\n",
      "\u001b[1m72/72\u001b[0m \u001b[32m━━━━━━━━━━━━━━━━━━━━\u001b[0m\u001b[37m\u001b[0m \u001b[1m0s\u001b[0m 2ms/step - accuracy: 0.6180 - loss: 0.8482 - val_accuracy: 0.6468 - val_loss: 0.8013\n",
      "Epoch 106/1000\n",
      "\u001b[1m56/72\u001b[0m \u001b[32m━━━━━━━━━━━━━━━\u001b[0m\u001b[37m━━━━━\u001b[0m \u001b[1m0s\u001b[0m 915us/step - accuracy: 0.6041 - loss: 0.8671\n",
      "Epoch 106: saving model to model/rotation_history_classifier/rotation_history_classifier.keras\n",
      "\u001b[1m72/72\u001b[0m \u001b[32m━━━━━━━━━━━━━━━━━━━━\u001b[0m\u001b[37m\u001b[0m \u001b[1m0s\u001b[0m 2ms/step - accuracy: 0.6045 - loss: 0.8664 - val_accuracy: 0.6461 - val_loss: 0.8027\n",
      "Epoch 107/1000\n",
      "\u001b[1m53/72\u001b[0m \u001b[32m━━━━━━━━━━━━━━\u001b[0m\u001b[37m━━━━━━\u001b[0m \u001b[1m0s\u001b[0m 964us/step - accuracy: 0.6053 - loss: 0.8629\n",
      "Epoch 107: saving model to model/rotation_history_classifier/rotation_history_classifier.keras\n",
      "\u001b[1m72/72\u001b[0m \u001b[32m━━━━━━━━━━━━━━━━━━━━\u001b[0m\u001b[37m\u001b[0m \u001b[1m0s\u001b[0m 2ms/step - accuracy: 0.6051 - loss: 0.8618 - val_accuracy: 0.6448 - val_loss: 0.8018\n",
      "Epoch 108/1000\n",
      "\u001b[1m56/72\u001b[0m \u001b[32m━━━━━━━━━━━━━━━\u001b[0m\u001b[37m━━━━━\u001b[0m \u001b[1m0s\u001b[0m 927us/step - accuracy: 0.5974 - loss: 0.8745\n",
      "Epoch 108: saving model to model/rotation_history_classifier/rotation_history_classifier.keras\n",
      "\u001b[1m72/72\u001b[0m \u001b[32m━━━━━━━━━━━━━━━━━━━━\u001b[0m\u001b[37m\u001b[0m \u001b[1m0s\u001b[0m 2ms/step - accuracy: 0.5996 - loss: 0.8722 - val_accuracy: 0.6432 - val_loss: 0.8023\n",
      "Epoch 109/1000\n",
      "\u001b[1m60/72\u001b[0m \u001b[32m━━━━━━━━━━━━━━━━\u001b[0m\u001b[37m━━━━\u001b[0m \u001b[1m0s\u001b[0m 864us/step - accuracy: 0.6082 - loss: 0.8658\n",
      "Epoch 109: saving model to model/rotation_history_classifier/rotation_history_classifier.keras\n",
      "\u001b[1m72/72\u001b[0m \u001b[32m━━━━━━━━━━━━━━━━━━━━\u001b[0m\u001b[37m\u001b[0m \u001b[1m0s\u001b[0m 2ms/step - accuracy: 0.6082 - loss: 0.8648 - val_accuracy: 0.6477 - val_loss: 0.8015\n",
      "Epoch 110/1000\n",
      "\u001b[1m59/72\u001b[0m \u001b[32m━━━━━━━━━━━━━━━━\u001b[0m\u001b[37m━━━━\u001b[0m \u001b[1m0s\u001b[0m 874us/step - accuracy: 0.6102 - loss: 0.8544\n",
      "Epoch 110: saving model to model/rotation_history_classifier/rotation_history_classifier.keras\n",
      "\u001b[1m72/72\u001b[0m \u001b[32m━━━━━━━━━━━━━━━━━━━━\u001b[0m\u001b[37m\u001b[0m \u001b[1m0s\u001b[0m 2ms/step - accuracy: 0.6099 - loss: 0.8548 - val_accuracy: 0.6494 - val_loss: 0.7982\n",
      "Epoch 111/1000\n",
      "\u001b[1m60/72\u001b[0m \u001b[32m━━━━━━━━━━━━━━━━\u001b[0m\u001b[37m━━━━\u001b[0m \u001b[1m0s\u001b[0m 857us/step - accuracy: 0.5993 - loss: 0.8648\n",
      "Epoch 111: saving model to model/rotation_history_classifier/rotation_history_classifier.keras\n",
      "\u001b[1m72/72\u001b[0m \u001b[32m━━━━━━━━━━━━━━━━━━━━\u001b[0m\u001b[37m\u001b[0m \u001b[1m0s\u001b[0m 2ms/step - accuracy: 0.6002 - loss: 0.8635 - val_accuracy: 0.6442 - val_loss: 0.7998\n",
      "Epoch 112/1000\n",
      "\u001b[1m57/72\u001b[0m \u001b[32m━━━━━━━━━━━━━━━\u001b[0m\u001b[37m━━━━━\u001b[0m \u001b[1m0s\u001b[0m 909us/step - accuracy: 0.6033 - loss: 0.8717\n",
      "Epoch 112: saving model to model/rotation_history_classifier/rotation_history_classifier.keras\n",
      "\u001b[1m72/72\u001b[0m \u001b[32m━━━━━━━━━━━━━━━━━━━━\u001b[0m\u001b[37m\u001b[0m \u001b[1m0s\u001b[0m 2ms/step - accuracy: 0.6043 - loss: 0.8706 - val_accuracy: 0.6429 - val_loss: 0.8011\n",
      "Epoch 113/1000\n",
      "\u001b[1m60/72\u001b[0m \u001b[32m━━━━━━━━━━━━━━━━\u001b[0m\u001b[37m━━━━\u001b[0m \u001b[1m0s\u001b[0m 848us/step - accuracy: 0.6045 - loss: 0.8594\n",
      "Epoch 113: saving model to model/rotation_history_classifier/rotation_history_classifier.keras\n",
      "\u001b[1m72/72\u001b[0m \u001b[32m━━━━━━━━━━━━━━━━━━━━\u001b[0m\u001b[37m\u001b[0m \u001b[1m0s\u001b[0m 2ms/step - accuracy: 0.6046 - loss: 0.8600 - val_accuracy: 0.6468 - val_loss: 0.7999\n",
      "Epoch 114/1000\n",
      "\u001b[1m57/72\u001b[0m \u001b[32m━━━━━━━━━━━━━━━\u001b[0m\u001b[37m━━━━━\u001b[0m \u001b[1m0s\u001b[0m 894us/step - accuracy: 0.6041 - loss: 0.8649\n",
      "Epoch 114: saving model to model/rotation_history_classifier/rotation_history_classifier.keras\n",
      "\u001b[1m72/72\u001b[0m \u001b[32m━━━━━━━━━━━━━━━━━━━━\u001b[0m\u001b[37m\u001b[0m \u001b[1m0s\u001b[0m 2ms/step - accuracy: 0.6045 - loss: 0.8645 - val_accuracy: 0.6445 - val_loss: 0.7995\n",
      "Epoch 115/1000\n",
      "\u001b[1m59/72\u001b[0m \u001b[32m━━━━━━━━━━━━━━━━\u001b[0m\u001b[37m━━━━\u001b[0m \u001b[1m0s\u001b[0m 865us/step - accuracy: 0.5932 - loss: 0.8667\n",
      "Epoch 115: saving model to model/rotation_history_classifier/rotation_history_classifier.keras\n",
      "\u001b[1m72/72\u001b[0m \u001b[32m━━━━━━━━━━━━━━━━━━━━\u001b[0m\u001b[37m\u001b[0m \u001b[1m0s\u001b[0m 2ms/step - accuracy: 0.5964 - loss: 0.8651 - val_accuracy: 0.6455 - val_loss: 0.7990\n",
      "Epoch 116/1000\n",
      "\u001b[1m59/72\u001b[0m \u001b[32m━━━━━━━━━━━━━━━━\u001b[0m\u001b[37m━━━━\u001b[0m \u001b[1m0s\u001b[0m 872us/step - accuracy: 0.6119 - loss: 0.8580\n",
      "Epoch 116: saving model to model/rotation_history_classifier/rotation_history_classifier.keras\n",
      "\u001b[1m72/72\u001b[0m \u001b[32m━━━━━━━━━━━━━━━━━━━━\u001b[0m\u001b[37m\u001b[0m \u001b[1m0s\u001b[0m 2ms/step - accuracy: 0.6110 - loss: 0.8590 - val_accuracy: 0.6458 - val_loss: 0.7978\n",
      "Epoch 117/1000\n",
      "\u001b[1m59/72\u001b[0m \u001b[32m━━━━━━━━━━━━━━━━\u001b[0m\u001b[37m━━━━\u001b[0m \u001b[1m0s\u001b[0m 878us/step - accuracy: 0.6174 - loss: 0.8401\n",
      "Epoch 117: saving model to model/rotation_history_classifier/rotation_history_classifier.keras\n",
      "\u001b[1m72/72\u001b[0m \u001b[32m━━━━━━━━━━━━━━━━━━━━\u001b[0m\u001b[37m\u001b[0m \u001b[1m0s\u001b[0m 2ms/step - accuracy: 0.6162 - loss: 0.8428 - val_accuracy: 0.6451 - val_loss: 0.7982\n",
      "Epoch 118/1000\n",
      "\u001b[1m49/72\u001b[0m \u001b[32m━━━━━━━━━━━━━\u001b[0m\u001b[37m━━━━━━━\u001b[0m \u001b[1m0s\u001b[0m 1ms/step - accuracy: 0.6163 - loss: 0.8519 \n",
      "Epoch 118: saving model to model/rotation_history_classifier/rotation_history_classifier.keras\n",
      "\u001b[1m72/72\u001b[0m \u001b[32m━━━━━━━━━━━━━━━━━━━━\u001b[0m\u001b[37m\u001b[0m \u001b[1m0s\u001b[0m 2ms/step - accuracy: 0.6163 - loss: 0.8520 - val_accuracy: 0.6464 - val_loss: 0.7966\n",
      "Epoch 119/1000\n",
      "\u001b[1m49/72\u001b[0m \u001b[32m━━━━━━━━━━━━━\u001b[0m\u001b[37m━━━━━━━\u001b[0m \u001b[1m0s\u001b[0m 1ms/step - accuracy: 0.5973 - loss: 0.8643 \n",
      "Epoch 119: saving model to model/rotation_history_classifier/rotation_history_classifier.keras\n",
      "\u001b[1m72/72\u001b[0m \u001b[32m━━━━━━━━━━━━━━━━━━━━\u001b[0m\u001b[37m\u001b[0m \u001b[1m0s\u001b[0m 2ms/step - accuracy: 0.6016 - loss: 0.8621 - val_accuracy: 0.6432 - val_loss: 0.7973\n",
      "Epoch 120/1000\n",
      "\u001b[1m54/72\u001b[0m \u001b[32m━━━━━━━━━━━━━━━\u001b[0m\u001b[37m━━━━━\u001b[0m \u001b[1m0s\u001b[0m 962us/step - accuracy: 0.5974 - loss: 0.8679\n",
      "Epoch 120: saving model to model/rotation_history_classifier/rotation_history_classifier.keras\n",
      "\u001b[1m72/72\u001b[0m \u001b[32m━━━━━━━━━━━━━━━━━━━━\u001b[0m\u001b[37m\u001b[0m \u001b[1m0s\u001b[0m 2ms/step - accuracy: 0.5998 - loss: 0.8657 - val_accuracy: 0.6442 - val_loss: 0.7976\n",
      "Epoch 121/1000\n",
      "\u001b[1m49/72\u001b[0m \u001b[32m━━━━━━━━━━━━━\u001b[0m\u001b[37m━━━━━━━\u001b[0m \u001b[1m0s\u001b[0m 1ms/step - accuracy: 0.6124 - loss: 0.8594 \n",
      "Epoch 121: saving model to model/rotation_history_classifier/rotation_history_classifier.keras\n",
      "\u001b[1m72/72\u001b[0m \u001b[32m━━━━━━━━━━━━━━━━━━━━\u001b[0m\u001b[37m\u001b[0m \u001b[1m0s\u001b[0m 2ms/step - accuracy: 0.6146 - loss: 0.8573 - val_accuracy: 0.6451 - val_loss: 0.7967\n",
      "Epoch 122/1000\n",
      "\u001b[1m58/72\u001b[0m \u001b[32m━━━━━━━━━━━━━━━━\u001b[0m\u001b[37m━━━━\u001b[0m \u001b[1m0s\u001b[0m 883us/step - accuracy: 0.6097 - loss: 0.8623\n",
      "Epoch 122: saving model to model/rotation_history_classifier/rotation_history_classifier.keras\n",
      "\u001b[1m72/72\u001b[0m \u001b[32m━━━━━━━━━━━━━━━━━━━━\u001b[0m\u001b[37m\u001b[0m \u001b[1m0s\u001b[0m 2ms/step - accuracy: 0.6098 - loss: 0.8618 - val_accuracy: 0.6484 - val_loss: 0.7966\n",
      "Epoch 123/1000\n",
      "\u001b[1m47/72\u001b[0m \u001b[32m━━━━━━━━━━━━━\u001b[0m\u001b[37m━━━━━━━\u001b[0m \u001b[1m0s\u001b[0m 1ms/step - accuracy: 0.6163 - loss: 0.8619 \n",
      "Epoch 123: saving model to model/rotation_history_classifier/rotation_history_classifier.keras\n",
      "\u001b[1m72/72\u001b[0m \u001b[32m━━━━━━━━━━━━━━━━━━━━\u001b[0m\u001b[37m\u001b[0m \u001b[1m0s\u001b[0m 2ms/step - accuracy: 0.6151 - loss: 0.8603 - val_accuracy: 0.6468 - val_loss: 0.7983\n",
      "Epoch 124/1000\n",
      "\u001b[1m57/72\u001b[0m \u001b[32m━━━━━━━━━━━━━━━\u001b[0m\u001b[37m━━━━━\u001b[0m \u001b[1m0s\u001b[0m 900us/step - accuracy: 0.6127 - loss: 0.8511\n",
      "Epoch 124: saving model to model/rotation_history_classifier/rotation_history_classifier.keras\n",
      "\u001b[1m72/72\u001b[0m \u001b[32m━━━━━━━━━━━━━━━━━━━━\u001b[0m\u001b[37m\u001b[0m \u001b[1m0s\u001b[0m 2ms/step - accuracy: 0.6120 - loss: 0.8517 - val_accuracy: 0.6458 - val_loss: 0.7968\n",
      "Epoch 125/1000\n",
      "\u001b[1m51/72\u001b[0m \u001b[32m━━━━━━━━━━━━━━\u001b[0m\u001b[37m━━━━━━\u001b[0m \u001b[1m0s\u001b[0m 1ms/step - accuracy: 0.6121 - loss: 0.8534 \n",
      "Epoch 125: saving model to model/rotation_history_classifier/rotation_history_classifier.keras\n",
      "\u001b[1m72/72\u001b[0m \u001b[32m━━━━━━━━━━━━━━━━━━━━\u001b[0m\u001b[37m\u001b[0m \u001b[1m0s\u001b[0m 2ms/step - accuracy: 0.6122 - loss: 0.8539 - val_accuracy: 0.6451 - val_loss: 0.7957\n",
      "Epoch 126/1000\n",
      "\u001b[1m58/72\u001b[0m \u001b[32m━━━━━━━━━━━━━━━━\u001b[0m\u001b[37m━━━━\u001b[0m \u001b[1m0s\u001b[0m 884us/step - accuracy: 0.6134 - loss: 0.8690\n",
      "Epoch 126: saving model to model/rotation_history_classifier/rotation_history_classifier.keras\n",
      "\u001b[1m72/72\u001b[0m \u001b[32m━━━━━━━━━━━━━━━━━━━━\u001b[0m\u001b[37m\u001b[0m \u001b[1m0s\u001b[0m 2ms/step - accuracy: 0.6138 - loss: 0.8659 - val_accuracy: 0.6474 - val_loss: 0.7965\n",
      "Epoch 127/1000\n",
      "\u001b[1m60/72\u001b[0m \u001b[32m━━━━━━━━━━━━━━━━\u001b[0m\u001b[37m━━━━\u001b[0m \u001b[1m0s\u001b[0m 857us/step - accuracy: 0.6131 - loss: 0.8429\n",
      "Epoch 127: saving model to model/rotation_history_classifier/rotation_history_classifier.keras\n",
      "\u001b[1m72/72\u001b[0m \u001b[32m━━━━━━━━━━━━━━━━━━━━\u001b[0m\u001b[37m\u001b[0m \u001b[1m0s\u001b[0m 2ms/step - accuracy: 0.6120 - loss: 0.8450 - val_accuracy: 0.6491 - val_loss: 0.7967\n",
      "Epoch 128/1000\n",
      "\u001b[1m47/72\u001b[0m \u001b[32m━━━━━━━━━━━━━\u001b[0m\u001b[37m━━━━━━━\u001b[0m \u001b[1m0s\u001b[0m 1ms/step - accuracy: 0.6101 - loss: 0.8622 \n",
      "Epoch 128: saving model to model/rotation_history_classifier/rotation_history_classifier.keras\n",
      "\u001b[1m72/72\u001b[0m \u001b[32m━━━━━━━━━━━━━━━━━━━━\u001b[0m\u001b[37m\u001b[0m \u001b[1m0s\u001b[0m 2ms/step - accuracy: 0.6101 - loss: 0.8596 - val_accuracy: 0.6458 - val_loss: 0.7979\n",
      "Epoch 129/1000\n",
      "\u001b[1m49/72\u001b[0m \u001b[32m━━━━━━━━━━━━━\u001b[0m\u001b[37m━━━━━━━\u001b[0m \u001b[1m0s\u001b[0m 1ms/step - accuracy: 0.6180 - loss: 0.8423 \n",
      "Epoch 129: saving model to model/rotation_history_classifier/rotation_history_classifier.keras\n",
      "\u001b[1m72/72\u001b[0m \u001b[32m━━━━━━━━━━━━━━━━━━━━\u001b[0m\u001b[37m\u001b[0m \u001b[1m0s\u001b[0m 2ms/step - accuracy: 0.6184 - loss: 0.8437 - val_accuracy: 0.6435 - val_loss: 0.7953\n",
      "Epoch 130/1000\n",
      "\u001b[1m59/72\u001b[0m \u001b[32m━━━━━━━━━━━━━━━━\u001b[0m\u001b[37m━━━━\u001b[0m \u001b[1m0s\u001b[0m 2ms/step - accuracy: 0.6121 - loss: 0.8671\n",
      "Epoch 130: saving model to model/rotation_history_classifier/rotation_history_classifier.keras\n",
      "\u001b[1m72/72\u001b[0m \u001b[32m━━━━━━━━━━━━━━━━━━━━\u001b[0m\u001b[37m\u001b[0m \u001b[1m0s\u001b[0m 3ms/step - accuracy: 0.6121 - loss: 0.8638 - val_accuracy: 0.6477 - val_loss: 0.7938\n",
      "Epoch 131/1000\n",
      "\u001b[1m47/72\u001b[0m \u001b[32m━━━━━━━━━━━━━\u001b[0m\u001b[37m━━━━━━━\u001b[0m \u001b[1m0s\u001b[0m 1ms/step - accuracy: 0.6049 - loss: 0.8628 \n",
      "Epoch 131: saving model to model/rotation_history_classifier/rotation_history_classifier.keras\n",
      "\u001b[1m72/72\u001b[0m \u001b[32m━━━━━━━━━━━━━━━━━━━━\u001b[0m\u001b[37m\u001b[0m \u001b[1m0s\u001b[0m 2ms/step - accuracy: 0.6076 - loss: 0.8615 - val_accuracy: 0.6491 - val_loss: 0.7937\n",
      "Epoch 132/1000\n",
      "\u001b[1m56/72\u001b[0m \u001b[32m━━━━━━━━━━━━━━━\u001b[0m\u001b[37m━━━━━\u001b[0m \u001b[1m0s\u001b[0m 915us/step - accuracy: 0.6068 - loss: 0.8595\n",
      "Epoch 132: saving model to model/rotation_history_classifier/rotation_history_classifier.keras\n",
      "\u001b[1m72/72\u001b[0m \u001b[32m━━━━━━━━━━━━━━━━━━━━\u001b[0m\u001b[37m\u001b[0m \u001b[1m0s\u001b[0m 2ms/step - accuracy: 0.6075 - loss: 0.8593 - val_accuracy: 0.6429 - val_loss: 0.7967\n",
      "Epoch 133/1000\n",
      "\u001b[1m57/72\u001b[0m \u001b[32m━━━━━━━━━━━━━━━\u001b[0m\u001b[37m━━━━━\u001b[0m \u001b[1m0s\u001b[0m 900us/step - accuracy: 0.6138 - loss: 0.8551\n",
      "Epoch 133: saving model to model/rotation_history_classifier/rotation_history_classifier.keras\n",
      "\u001b[1m72/72\u001b[0m \u001b[32m━━━━━━━━━━━━━━━━━━━━\u001b[0m\u001b[37m\u001b[0m \u001b[1m0s\u001b[0m 2ms/step - accuracy: 0.6138 - loss: 0.8550 - val_accuracy: 0.6458 - val_loss: 0.7970\n",
      "Epoch 134/1000\n",
      "\u001b[1m53/72\u001b[0m \u001b[32m━━━━━━━━━━━━━━\u001b[0m\u001b[37m━━━━━━\u001b[0m \u001b[1m0s\u001b[0m 966us/step - accuracy: 0.6108 - loss: 0.8569\n",
      "Epoch 134: saving model to model/rotation_history_classifier/rotation_history_classifier.keras\n",
      "\u001b[1m72/72\u001b[0m \u001b[32m━━━━━━━━━━━━━━━━━━━━\u001b[0m\u001b[37m\u001b[0m \u001b[1m0s\u001b[0m 2ms/step - accuracy: 0.6100 - loss: 0.8577 - val_accuracy: 0.6494 - val_loss: 0.7956\n",
      "Epoch 135/1000\n",
      "\u001b[1m42/72\u001b[0m \u001b[32m━━━━━━━━━━━\u001b[0m\u001b[37m━━━━━━━━━\u001b[0m \u001b[1m0s\u001b[0m 1ms/step - accuracy: 0.6105 - loss: 0.8489 \n",
      "Epoch 135: saving model to model/rotation_history_classifier/rotation_history_classifier.keras\n",
      "\u001b[1m72/72\u001b[0m \u001b[32m━━━━━━━━━━━━━━━━━━━━\u001b[0m\u001b[37m\u001b[0m \u001b[1m0s\u001b[0m 2ms/step - accuracy: 0.6096 - loss: 0.8509 - val_accuracy: 0.6491 - val_loss: 0.7954\n",
      "Epoch 136/1000\n",
      "\u001b[1m46/72\u001b[0m \u001b[32m━━━━━━━━━━━━\u001b[0m\u001b[37m━━━━━━━━\u001b[0m \u001b[1m0s\u001b[0m 1ms/step - accuracy: 0.6045 - loss: 0.8534 \n",
      "Epoch 136: saving model to model/rotation_history_classifier/rotation_history_classifier.keras\n",
      "\u001b[1m72/72\u001b[0m \u001b[32m━━━━━━━━━━━━━━━━━━━━\u001b[0m\u001b[37m\u001b[0m \u001b[1m0s\u001b[0m 2ms/step - accuracy: 0.6060 - loss: 0.8540 - val_accuracy: 0.6455 - val_loss: 0.7957\n",
      "Epoch 137/1000\n",
      "\u001b[1m50/72\u001b[0m \u001b[32m━━━━━━━━━━━━━\u001b[0m\u001b[37m━━━━━━━\u001b[0m \u001b[1m0s\u001b[0m 1ms/step - accuracy: 0.6149 - loss: 0.8453 \n",
      "Epoch 137: saving model to model/rotation_history_classifier/rotation_history_classifier.keras\n",
      "\u001b[1m72/72\u001b[0m \u001b[32m━━━━━━━━━━━━━━━━━━━━\u001b[0m\u001b[37m\u001b[0m \u001b[1m0s\u001b[0m 2ms/step - accuracy: 0.6160 - loss: 0.8448 - val_accuracy: 0.6442 - val_loss: 0.7939\n",
      "Epoch 138/1000\n",
      "\u001b[1m51/72\u001b[0m \u001b[32m━━━━━━━━━━━━━━\u001b[0m\u001b[37m━━━━━━\u001b[0m \u001b[1m0s\u001b[0m 1ms/step - accuracy: 0.6125 - loss: 0.8550 \n",
      "Epoch 138: saving model to model/rotation_history_classifier/rotation_history_classifier.keras\n",
      "\u001b[1m72/72\u001b[0m \u001b[32m━━━━━━━━━━━━━━━━━━━━\u001b[0m\u001b[37m\u001b[0m \u001b[1m0s\u001b[0m 2ms/step - accuracy: 0.6126 - loss: 0.8553 - val_accuracy: 0.6458 - val_loss: 0.7962\n",
      "Epoch 139/1000\n",
      "\u001b[1m41/72\u001b[0m \u001b[32m━━━━━━━━━━━\u001b[0m\u001b[37m━━━━━━━━━\u001b[0m \u001b[1m0s\u001b[0m 1ms/step - accuracy: 0.6170 - loss: 0.8513 \n",
      "Epoch 139: saving model to model/rotation_history_classifier/rotation_history_classifier.keras\n",
      "\u001b[1m72/72\u001b[0m \u001b[32m━━━━━━━━━━━━━━━━━━━━\u001b[0m\u001b[37m\u001b[0m \u001b[1m0s\u001b[0m 2ms/step - accuracy: 0.6122 - loss: 0.8554 - val_accuracy: 0.6474 - val_loss: 0.7949\n",
      "Epoch 140/1000\n",
      "\u001b[1m46/72\u001b[0m \u001b[32m━━━━━━━━━━━━\u001b[0m\u001b[37m━━━━━━━━\u001b[0m \u001b[1m0s\u001b[0m 1ms/step - accuracy: 0.6065 - loss: 0.8651 \n",
      "Epoch 140: saving model to model/rotation_history_classifier/rotation_history_classifier.keras\n",
      "\u001b[1m72/72\u001b[0m \u001b[32m━━━━━━━━━━━━━━━━━━━━\u001b[0m\u001b[37m\u001b[0m \u001b[1m0s\u001b[0m 2ms/step - accuracy: 0.6080 - loss: 0.8642 - val_accuracy: 0.6477 - val_loss: 0.7951\n",
      "Epoch 141/1000\n",
      "\u001b[1m70/72\u001b[0m \u001b[32m━━━━━━━━━━━━━━━━━━━\u001b[0m\u001b[37m━\u001b[0m \u001b[1m0s\u001b[0m 2ms/step - accuracy: 0.6171 - loss: 0.8528\n",
      "Epoch 141: saving model to model/rotation_history_classifier/rotation_history_classifier.keras\n",
      "\u001b[1m72/72\u001b[0m \u001b[32m━━━━━━━━━━━━━━━━━━━━\u001b[0m\u001b[37m\u001b[0m \u001b[1m0s\u001b[0m 3ms/step - accuracy: 0.6170 - loss: 0.8529 - val_accuracy: 0.6451 - val_loss: 0.7967\n",
      "Epoch 142/1000\n",
      "\u001b[1m54/72\u001b[0m \u001b[32m━━━━━━━━━━━━━━━\u001b[0m\u001b[37m━━━━━\u001b[0m \u001b[1m0s\u001b[0m 944us/step - accuracy: 0.6006 - loss: 0.8635\n",
      "Epoch 142: saving model to model/rotation_history_classifier/rotation_history_classifier.keras\n",
      "\u001b[1m72/72\u001b[0m \u001b[32m━━━━━━━━━━━━━━━━━━━━\u001b[0m\u001b[37m\u001b[0m \u001b[1m0s\u001b[0m 2ms/step - accuracy: 0.6023 - loss: 0.8622 - val_accuracy: 0.6468 - val_loss: 0.7943\n",
      "Epoch 143/1000\n",
      "\u001b[1m52/72\u001b[0m \u001b[32m━━━━━━━━━━━━━━\u001b[0m\u001b[37m━━━━━━\u001b[0m \u001b[1m0s\u001b[0m 996us/step - accuracy: 0.6089 - loss: 0.8494\n",
      "Epoch 143: saving model to model/rotation_history_classifier/rotation_history_classifier.keras\n",
      "\u001b[1m72/72\u001b[0m \u001b[32m━━━━━━━━━━━━━━━━━━━━\u001b[0m\u001b[37m\u001b[0m \u001b[1m0s\u001b[0m 2ms/step - accuracy: 0.6095 - loss: 0.8498 - val_accuracy: 0.6526 - val_loss: 0.7946\n",
      "Epoch 144/1000\n",
      "\u001b[1m57/72\u001b[0m \u001b[32m━━━━━━━━━━━━━━━\u001b[0m\u001b[37m━━━━━\u001b[0m \u001b[1m0s\u001b[0m 900us/step - accuracy: 0.6245 - loss: 0.8496\n",
      "Epoch 144: saving model to model/rotation_history_classifier/rotation_history_classifier.keras\n",
      "\u001b[1m72/72\u001b[0m \u001b[32m━━━━━━━━━━━━━━━━━━━━\u001b[0m\u001b[37m\u001b[0m \u001b[1m0s\u001b[0m 2ms/step - accuracy: 0.6225 - loss: 0.8520 - val_accuracy: 0.6477 - val_loss: 0.7956\n",
      "Epoch 145/1000\n",
      "\u001b[1m59/72\u001b[0m \u001b[32m━━━━━━━━━━━━━━━━\u001b[0m\u001b[37m━━━━\u001b[0m \u001b[1m0s\u001b[0m 871us/step - accuracy: 0.6153 - loss: 0.8574\n",
      "Epoch 145: saving model to model/rotation_history_classifier/rotation_history_classifier.keras\n",
      "\u001b[1m72/72\u001b[0m \u001b[32m━━━━━━━━━━━━━━━━━━━━\u001b[0m\u001b[37m\u001b[0m \u001b[1m0s\u001b[0m 2ms/step - accuracy: 0.6151 - loss: 0.8567 - val_accuracy: 0.6474 - val_loss: 0.7947\n",
      "Epoch 146/1000\n",
      "\u001b[1m57/72\u001b[0m \u001b[32m━━━━━━━━━━━━━━━\u001b[0m\u001b[37m━━━━━\u001b[0m \u001b[1m0s\u001b[0m 906us/step - accuracy: 0.6077 - loss: 0.8480\n",
      "Epoch 146: saving model to model/rotation_history_classifier/rotation_history_classifier.keras\n",
      "\u001b[1m72/72\u001b[0m \u001b[32m━━━━━━━━━━━━━━━━━━━━\u001b[0m\u001b[37m\u001b[0m \u001b[1m0s\u001b[0m 2ms/step - accuracy: 0.6079 - loss: 0.8494 - val_accuracy: 0.6491 - val_loss: 0.7949\n",
      "Epoch 147/1000\n",
      "\u001b[1m61/72\u001b[0m \u001b[32m━━━━━━━━━━━━━━━━\u001b[0m\u001b[37m━━━━\u001b[0m \u001b[1m0s\u001b[0m 849us/step - accuracy: 0.6190 - loss: 0.8501\n",
      "Epoch 147: saving model to model/rotation_history_classifier/rotation_history_classifier.keras\n",
      "\u001b[1m72/72\u001b[0m \u001b[32m━━━━━━━━━━━━━━━━━━━━\u001b[0m\u001b[37m\u001b[0m \u001b[1m0s\u001b[0m 2ms/step - accuracy: 0.6176 - loss: 0.8510 - val_accuracy: 0.6491 - val_loss: 0.7944\n",
      "Epoch 148/1000\n",
      "\u001b[1m56/72\u001b[0m \u001b[32m━━━━━━━━━━━━━━━\u001b[0m\u001b[37m━━━━━\u001b[0m \u001b[1m0s\u001b[0m 910us/step - accuracy: 0.6078 - loss: 0.8624\n",
      "Epoch 148: saving model to model/rotation_history_classifier/rotation_history_classifier.keras\n",
      "\u001b[1m72/72\u001b[0m \u001b[32m━━━━━━━━━━━━━━━━━━━━\u001b[0m\u001b[37m\u001b[0m \u001b[1m0s\u001b[0m 2ms/step - accuracy: 0.6098 - loss: 0.8592 - val_accuracy: 0.6451 - val_loss: 0.7937\n",
      "Epoch 149/1000\n",
      "\u001b[1m58/72\u001b[0m \u001b[32m━━━━━━━━━━━━━━━━\u001b[0m\u001b[37m━━━━\u001b[0m \u001b[1m0s\u001b[0m 890us/step - accuracy: 0.6163 - loss: 0.8539\n",
      "Epoch 149: saving model to model/rotation_history_classifier/rotation_history_classifier.keras\n",
      "\u001b[1m72/72\u001b[0m \u001b[32m━━━━━━━━━━━━━━━━━━━━\u001b[0m\u001b[37m\u001b[0m \u001b[1m0s\u001b[0m 2ms/step - accuracy: 0.6150 - loss: 0.8538 - val_accuracy: 0.6487 - val_loss: 0.7941\n",
      "Epoch 150/1000\n",
      "\u001b[1m55/72\u001b[0m \u001b[32m━━━━━━━━━━━━━━━\u001b[0m\u001b[37m━━━━━\u001b[0m \u001b[1m0s\u001b[0m 936us/step - accuracy: 0.6179 - loss: 0.8509\n",
      "Epoch 150: saving model to model/rotation_history_classifier/rotation_history_classifier.keras\n",
      "\u001b[1m72/72\u001b[0m \u001b[32m━━━━━━━━━━━━━━━━━━━━\u001b[0m\u001b[37m\u001b[0m \u001b[1m0s\u001b[0m 2ms/step - accuracy: 0.6163 - loss: 0.8517 - val_accuracy: 0.6500 - val_loss: 0.7940\n",
      "Epoch 151/1000\n",
      "\u001b[1m59/72\u001b[0m \u001b[32m━━━━━━━━━━━━━━━━\u001b[0m\u001b[37m━━━━\u001b[0m \u001b[1m0s\u001b[0m 878us/step - accuracy: 0.6164 - loss: 0.8622\n",
      "Epoch 151: saving model to model/rotation_history_classifier/rotation_history_classifier.keras\n",
      "\u001b[1m72/72\u001b[0m \u001b[32m━━━━━━━━━━━━━━━━━━━━\u001b[0m\u001b[37m\u001b[0m \u001b[1m0s\u001b[0m 2ms/step - accuracy: 0.6180 - loss: 0.8594 - val_accuracy: 0.6445 - val_loss: 0.7937\n",
      "Epoch 152/1000\n",
      "\u001b[1m58/72\u001b[0m \u001b[32m━━━━━━━━━━━━━━━━\u001b[0m\u001b[37m━━━━\u001b[0m \u001b[1m0s\u001b[0m 878us/step - accuracy: 0.6173 - loss: 0.8514\n",
      "Epoch 152: saving model to model/rotation_history_classifier/rotation_history_classifier.keras\n",
      "\u001b[1m72/72\u001b[0m \u001b[32m━━━━━━━━━━━━━━━━━━━━\u001b[0m\u001b[37m\u001b[0m \u001b[1m0s\u001b[0m 2ms/step - accuracy: 0.6169 - loss: 0.8514 - val_accuracy: 0.6461 - val_loss: 0.7922\n",
      "Epoch 153/1000\n",
      "\u001b[1m49/72\u001b[0m \u001b[32m━━━━━━━━━━━━━\u001b[0m\u001b[37m━━━━━━━\u001b[0m \u001b[1m0s\u001b[0m 1ms/step - accuracy: 0.6190 - loss: 0.8551 \n",
      "Epoch 153: saving model to model/rotation_history_classifier/rotation_history_classifier.keras\n",
      "\u001b[1m72/72\u001b[0m \u001b[32m━━━━━━━━━━━━━━━━━━━━\u001b[0m\u001b[37m\u001b[0m \u001b[1m0s\u001b[0m 2ms/step - accuracy: 0.6180 - loss: 0.8531 - val_accuracy: 0.6500 - val_loss: 0.7910\n",
      "Epoch 154/1000\n",
      "\u001b[1m57/72\u001b[0m \u001b[32m━━━━━━━━━━━━━━━\u001b[0m\u001b[37m━━━━━\u001b[0m \u001b[1m0s\u001b[0m 894us/step - accuracy: 0.6100 - loss: 0.8621\n",
      "Epoch 154: saving model to model/rotation_history_classifier/rotation_history_classifier.keras\n",
      "\u001b[1m72/72\u001b[0m \u001b[32m━━━━━━━━━━━━━━━━━━━━\u001b[0m\u001b[37m\u001b[0m \u001b[1m0s\u001b[0m 2ms/step - accuracy: 0.6103 - loss: 0.8614 - val_accuracy: 0.6497 - val_loss: 0.7911\n",
      "Epoch 155/1000\n",
      "\u001b[1m57/72\u001b[0m \u001b[32m━━━━━━━━━━━━━━━\u001b[0m\u001b[37m━━━━━\u001b[0m \u001b[1m0s\u001b[0m 900us/step - accuracy: 0.6200 - loss: 0.8311\n",
      "Epoch 155: saving model to model/rotation_history_classifier/rotation_history_classifier.keras\n",
      "\u001b[1m72/72\u001b[0m \u001b[32m━━━━━━━━━━━━━━━━━━━━\u001b[0m\u001b[37m\u001b[0m \u001b[1m0s\u001b[0m 2ms/step - accuracy: 0.6187 - loss: 0.8345 - val_accuracy: 0.6491 - val_loss: 0.7922\n",
      "Epoch 156/1000\n",
      "\u001b[1m55/72\u001b[0m \u001b[32m━━━━━━━━━━━━━━━\u001b[0m\u001b[37m━━━━━\u001b[0m \u001b[1m0s\u001b[0m 931us/step - accuracy: 0.6084 - loss: 0.8585\n",
      "Epoch 156: saving model to model/rotation_history_classifier/rotation_history_classifier.keras\n",
      "\u001b[1m72/72\u001b[0m \u001b[32m━━━━━━━━━━━━━━━━━━━━\u001b[0m\u001b[37m\u001b[0m \u001b[1m0s\u001b[0m 2ms/step - accuracy: 0.6092 - loss: 0.8574 - val_accuracy: 0.6458 - val_loss: 0.7950\n",
      "Epoch 157/1000\n",
      "\u001b[1m55/72\u001b[0m \u001b[32m━━━━━━━━━━━━━━━\u001b[0m\u001b[37m━━━━━\u001b[0m \u001b[1m0s\u001b[0m 935us/step - accuracy: 0.6063 - loss: 0.8671\n",
      "Epoch 157: saving model to model/rotation_history_classifier/rotation_history_classifier.keras\n",
      "\u001b[1m72/72\u001b[0m \u001b[32m━━━━━━━━━━━━━━━━━━━━\u001b[0m\u001b[37m\u001b[0m \u001b[1m0s\u001b[0m 2ms/step - accuracy: 0.6081 - loss: 0.8645 - val_accuracy: 0.6445 - val_loss: 0.7950\n",
      "Epoch 158/1000\n",
      "\u001b[1m55/72\u001b[0m \u001b[32m━━━━━━━━━━━━━━━\u001b[0m\u001b[37m━━━━━\u001b[0m \u001b[1m0s\u001b[0m 928us/step - accuracy: 0.6122 - loss: 0.8452\n",
      "Epoch 158: saving model to model/rotation_history_classifier/rotation_history_classifier.keras\n",
      "\u001b[1m72/72\u001b[0m \u001b[32m━━━━━━━━━━━━━━━━━━━━\u001b[0m\u001b[37m\u001b[0m \u001b[1m0s\u001b[0m 2ms/step - accuracy: 0.6115 - loss: 0.8473 - val_accuracy: 0.6510 - val_loss: 0.7943\n",
      "Epoch 159/1000\n",
      "\u001b[1m52/72\u001b[0m \u001b[32m━━━━━━━━━━━━━━\u001b[0m\u001b[37m━━━━━━\u001b[0m \u001b[1m0s\u001b[0m 986us/step - accuracy: 0.6188 - loss: 0.8561\n",
      "Epoch 159: saving model to model/rotation_history_classifier/rotation_history_classifier.keras\n",
      "\u001b[1m72/72\u001b[0m \u001b[32m━━━━━━━━━━━━━━━━━━━━\u001b[0m\u001b[37m\u001b[0m \u001b[1m0s\u001b[0m 2ms/step - accuracy: 0.6171 - loss: 0.8563 - val_accuracy: 0.6484 - val_loss: 0.7936\n",
      "Epoch 160/1000\n",
      "\u001b[1m55/72\u001b[0m \u001b[32m━━━━━━━━━━━━━━━\u001b[0m\u001b[37m━━━━━\u001b[0m \u001b[1m0s\u001b[0m 932us/step - accuracy: 0.6105 - loss: 0.8495\n",
      "Epoch 160: saving model to model/rotation_history_classifier/rotation_history_classifier.keras\n",
      "\u001b[1m72/72\u001b[0m \u001b[32m━━━━━━━━━━━━━━━━━━━━\u001b[0m\u001b[37m\u001b[0m \u001b[1m0s\u001b[0m 2ms/step - accuracy: 0.6097 - loss: 0.8514 - val_accuracy: 0.6494 - val_loss: 0.7938\n",
      "Epoch 161/1000\n",
      "\u001b[1m59/72\u001b[0m \u001b[32m━━━━━━━━━━━━━━━━\u001b[0m\u001b[37m━━━━\u001b[0m \u001b[1m0s\u001b[0m 872us/step - accuracy: 0.6174 - loss: 0.8462\n",
      "Epoch 161: saving model to model/rotation_history_classifier/rotation_history_classifier.keras\n",
      "\u001b[1m72/72\u001b[0m \u001b[32m━━━━━━━━━━━━━━━━━━━━\u001b[0m\u001b[37m\u001b[0m \u001b[1m0s\u001b[0m 2ms/step - accuracy: 0.6162 - loss: 0.8472 - val_accuracy: 0.6474 - val_loss: 0.7935\n",
      "Epoch 162/1000\n",
      "\u001b[1m55/72\u001b[0m \u001b[32m━━━━━━━━━━━━━━━\u001b[0m\u001b[37m━━━━━\u001b[0m \u001b[1m0s\u001b[0m 936us/step - accuracy: 0.6028 - loss: 0.8614\n",
      "Epoch 162: saving model to model/rotation_history_classifier/rotation_history_classifier.keras\n",
      "\u001b[1m72/72\u001b[0m \u001b[32m━━━━━━━━━━━━━━━━━━━━\u001b[0m\u001b[37m\u001b[0m \u001b[1m0s\u001b[0m 3ms/step - accuracy: 0.6043 - loss: 0.8602 - val_accuracy: 0.6461 - val_loss: 0.7967\n",
      "Epoch 163/1000\n",
      "\u001b[1m54/72\u001b[0m \u001b[32m━━━━━━━━━━━━━━━\u001b[0m\u001b[37m━━━━━\u001b[0m \u001b[1m0s\u001b[0m 948us/step - accuracy: 0.6048 - loss: 0.8579\n",
      "Epoch 163: saving model to model/rotation_history_classifier/rotation_history_classifier.keras\n",
      "\u001b[1m72/72\u001b[0m \u001b[32m━━━━━━━━━━━━━━━━━━━━\u001b[0m\u001b[37m\u001b[0m \u001b[1m0s\u001b[0m 2ms/step - accuracy: 0.6060 - loss: 0.8570 - val_accuracy: 0.6484 - val_loss: 0.7953\n",
      "Epoch 164/1000\n",
      "\u001b[1m57/72\u001b[0m \u001b[32m━━━━━━━━━━━━━━━\u001b[0m\u001b[37m━━━━━\u001b[0m \u001b[1m0s\u001b[0m 893us/step - accuracy: 0.6127 - loss: 0.8521\n",
      "Epoch 164: saving model to model/rotation_history_classifier/rotation_history_classifier.keras\n",
      "\u001b[1m72/72\u001b[0m \u001b[32m━━━━━━━━━━━━━━━━━━━━\u001b[0m\u001b[37m\u001b[0m \u001b[1m0s\u001b[0m 2ms/step - accuracy: 0.6124 - loss: 0.8526 - val_accuracy: 0.6471 - val_loss: 0.7938\n",
      "Epoch 165/1000\n",
      "\u001b[1m69/72\u001b[0m \u001b[32m━━━━━━━━━━━━━━━━━━━\u001b[0m\u001b[37m━\u001b[0m \u001b[1m0s\u001b[0m 2ms/step - accuracy: 0.6078 - loss: 0.8615\n",
      "Epoch 165: saving model to model/rotation_history_classifier/rotation_history_classifier.keras\n",
      "\u001b[1m72/72\u001b[0m \u001b[32m━━━━━━━━━━━━━━━━━━━━\u001b[0m\u001b[37m\u001b[0m \u001b[1m0s\u001b[0m 3ms/step - accuracy: 0.6079 - loss: 0.8610 - val_accuracy: 0.6461 - val_loss: 0.7921\n",
      "Epoch 166/1000\n",
      "\u001b[1m55/72\u001b[0m \u001b[32m━━━━━━━━━━━━━━━\u001b[0m\u001b[37m━━━━━\u001b[0m \u001b[1m0s\u001b[0m 3ms/step - accuracy: 0.6169 - loss: 0.8618\n",
      "Epoch 166: saving model to model/rotation_history_classifier/rotation_history_classifier.keras\n",
      "\u001b[1m72/72\u001b[0m \u001b[32m━━━━━━━━━━━━━━━━━━━━\u001b[0m\u001b[37m\u001b[0m \u001b[1m0s\u001b[0m 4ms/step - accuracy: 0.6167 - loss: 0.8596 - val_accuracy: 0.6500 - val_loss: 0.7917\n",
      "Epoch 167/1000\n",
      "\u001b[1m68/72\u001b[0m \u001b[32m━━━━━━━━━━━━━━━━━━\u001b[0m\u001b[37m━━\u001b[0m \u001b[1m0s\u001b[0m 2ms/step - accuracy: 0.6295 - loss: 0.8346\n",
      "Epoch 167: saving model to model/rotation_history_classifier/rotation_history_classifier.keras\n",
      "\u001b[1m72/72\u001b[0m \u001b[32m━━━━━━━━━━━━━━━━━━━━\u001b[0m\u001b[37m\u001b[0m \u001b[1m0s\u001b[0m 3ms/step - accuracy: 0.6284 - loss: 0.8356 - val_accuracy: 0.6477 - val_loss: 0.7939\n",
      "Epoch 168/1000\n",
      "\u001b[1m35/72\u001b[0m \u001b[32m━━━━━━━━━\u001b[0m\u001b[37m━━━━━━━━━━━\u001b[0m \u001b[1m0s\u001b[0m 1ms/step - accuracy: 0.6001 - loss: 0.8636 \n",
      "Epoch 168: saving model to model/rotation_history_classifier/rotation_history_classifier.keras\n",
      "\u001b[1m72/72\u001b[0m \u001b[32m━━━━━━━━━━━━━━━━━━━━\u001b[0m\u001b[37m\u001b[0m \u001b[1m0s\u001b[0m 3ms/step - accuracy: 0.6103 - loss: 0.8546 - val_accuracy: 0.6468 - val_loss: 0.7930\n",
      "Epoch 169/1000\n",
      "\u001b[1m43/72\u001b[0m \u001b[32m━━━━━━━━━━━\u001b[0m\u001b[37m━━━━━━━━━\u001b[0m \u001b[1m0s\u001b[0m 1ms/step - accuracy: 0.6208 - loss: 0.8402 \n",
      "Epoch 169: saving model to model/rotation_history_classifier/rotation_history_classifier.keras\n",
      "\u001b[1m72/72\u001b[0m \u001b[32m━━━━━━━━━━━━━━━━━━━━\u001b[0m\u001b[37m\u001b[0m \u001b[1m0s\u001b[0m 3ms/step - accuracy: 0.6170 - loss: 0.8450 - val_accuracy: 0.6526 - val_loss: 0.7928\n",
      "Epoch 170/1000\n",
      "\u001b[1m48/72\u001b[0m \u001b[32m━━━━━━━━━━━━━\u001b[0m\u001b[37m━━━━━━━\u001b[0m \u001b[1m0s\u001b[0m 1ms/step - accuracy: 0.6226 - loss: 0.8398 \n",
      "Epoch 170: saving model to model/rotation_history_classifier/rotation_history_classifier.keras\n",
      "\u001b[1m72/72\u001b[0m \u001b[32m━━━━━━━━━━━━━━━━━━━━\u001b[0m\u001b[37m\u001b[0m \u001b[1m0s\u001b[0m 3ms/step - accuracy: 0.6207 - loss: 0.8428 - val_accuracy: 0.6497 - val_loss: 0.7913\n",
      "Epoch 171/1000\n",
      "\u001b[1m44/72\u001b[0m \u001b[32m━━━━━━━━━━━━\u001b[0m\u001b[37m━━━━━━━━\u001b[0m \u001b[1m0s\u001b[0m 1ms/step - accuracy: 0.6231 - loss: 0.8421 \n",
      "Epoch 171: saving model to model/rotation_history_classifier/rotation_history_classifier.keras\n",
      "\u001b[1m72/72\u001b[0m \u001b[32m━━━━━━━━━━━━━━━━━━━━\u001b[0m\u001b[37m\u001b[0m \u001b[1m0s\u001b[0m 3ms/step - accuracy: 0.6235 - loss: 0.8429 - val_accuracy: 0.6526 - val_loss: 0.7913\n",
      "Epoch 172/1000\n",
      "\u001b[1m39/72\u001b[0m \u001b[32m━━━━━━━━━━\u001b[0m\u001b[37m━━━━━━━━━━\u001b[0m \u001b[1m0s\u001b[0m 1ms/step - accuracy: 0.6169 - loss: 0.8342 \n",
      "Epoch 172: saving model to model/rotation_history_classifier/rotation_history_classifier.keras\n",
      "\u001b[1m72/72\u001b[0m \u001b[32m━━━━━━━━━━━━━━━━━━━━\u001b[0m\u001b[37m\u001b[0m \u001b[1m0s\u001b[0m 3ms/step - accuracy: 0.6182 - loss: 0.8392 - val_accuracy: 0.6507 - val_loss: 0.7920\n",
      "Epoch 173/1000\n",
      "\u001b[1m45/72\u001b[0m \u001b[32m━━━━━━━━━━━━\u001b[0m\u001b[37m━━━━━━━━\u001b[0m \u001b[1m0s\u001b[0m 1ms/step - accuracy: 0.6191 - loss: 0.8397 \n",
      "Epoch 173: saving model to model/rotation_history_classifier/rotation_history_classifier.keras\n",
      "\u001b[1m72/72\u001b[0m \u001b[32m━━━━━━━━━━━━━━━━━━━━\u001b[0m\u001b[37m\u001b[0m \u001b[1m0s\u001b[0m 3ms/step - accuracy: 0.6186 - loss: 0.8405 - val_accuracy: 0.6497 - val_loss: 0.7916\n",
      "Epoch 173: early stopping\n"
     ]
    },
    {
     "data": {
      "text/plain": [
       "<keras.src.callbacks.history.History at 0x1fda43882c0>"
      ]
     },
     "execution_count": 12,
     "metadata": {},
     "output_type": "execute_result"
    }
   ],
   "source": [
    "model.fit(\n",
    "    X_train,\n",
    "    y_train,\n",
    "    epochs=1000,\n",
    "    batch_size=128,\n",
    "    validation_data=(X_test, y_test),\n",
    "    callbacks=[cp_callback, es_callback]\n",
    ")"
   ]
  },
  {
   "cell_type": "code",
   "execution_count": 13,
   "metadata": {},
   "outputs": [],
   "source": [
    "# 保存したモデルのロード\n",
    "model = tf.keras.models.load_model(model_save_path)"
   ]
  },
  {
   "cell_type": "code",
   "execution_count": 14,
   "metadata": {},
   "outputs": [
    {
     "name": "stdout",
     "output_type": "stream",
     "text": [
      "\u001b[1m1/1\u001b[0m \u001b[32m━━━━━━━━━━━━━━━━━━━━\u001b[0m\u001b[37m\u001b[0m \u001b[1m0s\u001b[0m 56ms/step\n",
      "[0.15422256 0.5750316  0.2707458 ]\n",
      "1\n"
     ]
    }
   ],
   "source": [
    "# 推論テスト\n",
    "predict_result = model.predict(np.array([X_test[0]]))\n",
    "print(np.squeeze(predict_result))\n",
    "print(np.argmax(np.squeeze(predict_result)))"
   ]
  },
  {
   "cell_type": "markdown",
   "metadata": {},
   "source": [
    "# 混同行列"
   ]
  },
  {
   "cell_type": "code",
   "execution_count": 15,
   "metadata": {},
   "outputs": [
    {
     "name": "stdout",
     "output_type": "stream",
     "text": [
      "\u001b[1m96/96\u001b[0m \u001b[32m━━━━━━━━━━━━━━━━━━━━\u001b[0m\u001b[37m\u001b[0m \u001b[1m0s\u001b[0m 605us/step\n"
     ]
    },
    {
     "data": {
      "image/png": "[encoded data removed]",
      "text/plain": [
       "<Figure size 700x600 with 2 Axes>"
      ]
     },
     "metadata": {},
     "output_type": "display_data"
    },
    {
     "name": "stdout",
     "output_type": "stream",
     "text": [
      "Classification Report\n",
      "              precision    recall  f1-score   support\n",
      "\n",
      "           0       0.74      0.47      0.58       767\n",
      "           1       0.56      0.73      0.64      1155\n",
      "           2       0.73      0.69      0.71      1144\n",
      "\n",
      "    accuracy                           0.65      3066\n",
      "   macro avg       0.68      0.63      0.64      3066\n",
      "weighted avg       0.67      0.65      0.65      3066\n",
      "\n"
     ]
    }
   ],
   "source": [
    "import pandas as pd\n",
    "import seaborn as sns\n",
    "import matplotlib.pyplot as plt\n",
    "from sklearn.metrics import confusion_matrix, classification_report\n",
    "\n",
    "def print_confusion_matrix(y_true, y_pred, report=True):\n",
    "    labels = sorted(list(set(y_true)))\n",
    "    cmx_data = confusion_matrix(y_true, y_pred, labels=labels)\n",
    "    \n",
    "    df_cmx = pd.DataFrame(cmx_data, index=labels, columns=labels)\n",
    " \n",
    "    fig, ax = plt.subplots(figsize=(7, 6))\n",
    "    sns.heatmap(df_cmx, annot=True, fmt='g' ,square=False)\n",
    "    ax.set_ylim(len(set(y_true)), 0)\n",
    "    plt.show()\n",
    "    \n",
    "    if report:\n",
    "        print('Classification Report')\n",
    "        print(classification_report(y_test, y_pred))\n",
    "\n",
    "Y_pred = model.predict(X_test)\n",
    "y_pred = np.argmax(Y_pred, axis=1)\n",
    "\n",
    "print_confusion_matrix(y_test, y_pred)"
   ]
  },
  {
   "cell_type": "markdown",
   "metadata": {},
   "source": [
    "# Tensorflow-Lite用のモデルへ変換"
   ]
  },
  {
   "cell_type": "code",
   "execution_count": 16,
   "metadata": {},
   "outputs": [],
   "source": [
    "# 推論専用のモデルとして保存\n",
    "model.save(model_save_path, include_optimizer=False)\n",
    "model = tf.keras.models.load_model(model_save_path)"
   ]
  },
  {
   "cell_type": "code",
   "execution_count": 17,
   "metadata": {},
   "outputs": [],
   "source": [
    "tflite_save_path = 'model/rotation_history_classifier/rotation_history_classifier.tflite'"
   ]
  },
  {
   "cell_type": "code",
   "execution_count": 18,
   "metadata": {},
   "outputs": [
    {
     "name": "stdout",
     "output_type": "stream",
     "text": [
      "INFO:tensorflow:Assets written to: C:\\Users\\DIOGOL~1\\AppData\\Local\\Temp\\tmpldsnc6b_\\assets\n"
     ]
    },
    {
     "name": "stderr",
     "output_type": "stream",
     "text": [
      "INFO:tensorflow:Assets written to: C:\\Users\\DIOGOL~1\\AppData\\Local\\Temp\\tmpldsnc6b_\\assets\n"
     ]
    },
    {
     "name": "stdout",
     "output_type": "stream",
     "text": [
      "Saved artifact at 'C:\\Users\\DIOGOL~1\\AppData\\Local\\Temp\\tmpldsnc6b_'. The following endpoints are available:\n",
      "\n",
      "* Endpoint 'serve'\n",
      "  args_0 (POSITIONAL_ONLY): TensorSpec(shape=(None, 32), dtype=tf.float32, name='input_layer')\n",
      "Output Type:\n",
      "  TensorSpec(shape=(None, 3), dtype=tf.float32, name=None)\n",
      "Captures:\n",
      "  2188970482512: TensorSpec(shape=(), dtype=tf.resource, name=None)\n",
      "  2188970485200: TensorSpec(shape=(), dtype=tf.resource, name=None)\n",
      "  2188970485392: TensorSpec(shape=(), dtype=tf.resource, name=None)\n",
      "  2188970486352: TensorSpec(shape=(), dtype=tf.resource, name=None)\n",
      "  2188970486544: TensorSpec(shape=(), dtype=tf.resource, name=None)\n",
      "  2188970487312: TensorSpec(shape=(), dtype=tf.resource, name=None)\n"
     ]
    },
    {
     "data": {
      "text/plain": [
       "6380"
      ]
     },
     "execution_count": 18,
     "metadata": {},
     "output_type": "execute_result"
    }
   ],
   "source": [
    "# モデルを変換(量子化\n",
    "converter = tf.lite.TFLiteConverter.from_keras_model(model)  # converter = tf.lite.TFLiteConverter.from_saved_model(saved_model_path)\n",
    "converter.optimizations = [tf.lite.Optimize.DEFAULT]\n",
    "tflite_quantized_model = converter.convert()\n",
    "\n",
    "open(tflite_save_path, 'wb').write(tflite_quantized_model)"
   ]
  },
  {
   "cell_type": "markdown",
   "metadata": {},
   "source": [
    "# 推論テスト"
   ]
  },
  {
   "cell_type": "code",
   "execution_count": 19,
   "metadata": {},
   "outputs": [],
   "source": [
    "interpreter = tf.lite.Interpreter(model_path=tflite_save_path)\n",
    "interpreter.allocate_tensors()"
   ]
  },
  {
   "cell_type": "code",
   "execution_count": 20,
   "metadata": {},
   "outputs": [
    {
     "name": "stdout",
     "output_type": "stream",
     "text": [
      "[{'name': 'serving_default_input_layer:0', 'index': 0, 'shape': array([ 1, 32]), 'shape_signature': array([-1, 32]), 'dtype': <class 'numpy.float32'>, 'quantization': (0.0, 0), 'quantization_parameters': {'scales': array([], dtype=float32), 'zero_points': array([], dtype=int32), 'quantized_dimension': 0}, 'sparsity_parameters': {}}]\n"
     ]
    }
   ],
   "source": [
    "# 入出力テンソルを取得\n",
    "input_details = interpreter.get_input_details()\n",
    "output_details = interpreter.get_output_details()\n",
    "print(input_details)"
   ]
  },
  {
   "cell_type": "code",
   "execution_count": 21,
   "metadata": {},
   "outputs": [],
   "source": [
    "interpreter.set_tensor(input_details[0]['index'], np.array([X_test[0]]))"
   ]
  },
  {
   "cell_type": "code",
   "execution_count": 22,
   "metadata": {},
   "outputs": [
    {
     "name": "stdout",
     "output_type": "stream",
     "text": [
      "CPU times: total: 0 ns\n",
      "Wall time: 0 ns\n"
     ]
    }
   ],
   "source": [
    "%%time\n",
    "# 推論実施\n",
    "interpreter.invoke()\n",
    "tflite_results = interpreter.get_tensor(output_details[0]['index'])"
   ]
  },
  {
   "cell_type": "code",
   "execution_count": 23,
   "metadata": {},
   "outputs": [
    {
     "name": "stdout",
     "output_type": "stream",
     "text": [
      "[0.15422258 0.57503164 0.2707458 ]\n",
      "1\n"
     ]
    }
   ],
   "source": [
    "print(np.squeeze(tflite_results))\n",
    "print(np.argmax(np.squeeze(tflite_results)))"
   ]
  }
 ],
 "metadata": {
  "kernelspec": {
   "display_name": "Python 3",
   "language": "python",
   "name": "python3"
  },
  "language_info": {
   "codemirror_mode": {
    "name": "ipython",
    "version": 3
   },
   "file_extension": ".py",
   "mimetype": "text/x-python",
   "name": "python",
   "nbconvert_exporter": "python",
   "pygments_lexer": "ipython3",
   "version": "3.12.3"
  }
 },
 "nbformat": 4,
 "nbformat_minor": 4
}
